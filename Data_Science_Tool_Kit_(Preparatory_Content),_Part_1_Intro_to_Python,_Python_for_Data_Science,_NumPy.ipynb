{
  "nbformat": 4,
  "nbformat_minor": 0,
  "metadata": {
    "colab": {
      "provenance": []
    },
    "kernelspec": {
      "name": "python3",
      "display_name": "Python 3"
    },
    "language_info": {
      "name": "python"
    }
  },
  "cells": [
    {
      "cell_type": "markdown",
      "source": [
        "# **Introduction to Python**"
      ],
      "metadata": {
        "id": "3DkOLWc0cTIv"
      }
    },
    {
      "cell_type": "markdown",
      "metadata": {
        "id": "4m6jXdbhieFE"
      },
      "source": [
        "# **List Comprehension**"
      ]
    },
    {
      "cell_type": "markdown",
      "metadata": {
        "id": "pIuui3V6Y-cv"
      },
      "source": [
        "**Objective**: Create a list of squares for numbers from 1 to 5."
      ]
    },
    {
      "cell_type": "code",
      "execution_count": null,
      "metadata": {
        "colab": {
          "base_uri": "https://localhost:8080/"
        },
        "id": "fDUbSfzCidKK",
        "outputId": "1ff56494-e682-46fc-9dfa-6eaf19d211e2"
      },
      "outputs": [
        {
          "name": "stdout",
          "output_type": "stream",
          "text": [
            "[1, 4, 9, 16, 25]\n"
          ]
        }
      ],
      "source": [
        "squares = [x**2 for x in range(1, 6)]\n",
        "print(squares)  # Output: [1, 4, 9, 16, 25]"
      ]
    },
    {
      "cell_type": "markdown",
      "metadata": {
        "id": "tcU5DgY6ZDNx"
      },
      "source": [
        "**Objective**: Create a list of squares for numbers from 1 to 10, but only for even numbers."
      ]
    },
    {
      "cell_type": "code",
      "execution_count": null,
      "metadata": {
        "id": "eYG0CjzbZGTA"
      },
      "outputs": [],
      "source": [
        "even_squares = [x**2 for x in range(1, 11) if x % 2 == 0]\n",
        "print(even_squares)  # Output: [4, 16, 36, 64, 100]"
      ]
    },
    {
      "cell_type": "markdown",
      "metadata": {
        "id": "ERSmKUTjZN2f"
      },
      "source": [
        "**Objective:** Create a list of numbers from 1 to 20 that are divisible by 2 and 3."
      ]
    },
    {
      "cell_type": "code",
      "execution_count": null,
      "metadata": {
        "id": "PijdTUltZSLs"
      },
      "outputs": [],
      "source": [
        "divisible_by_2_and_3 = [x for x in range(1, 21) if x % 2 == 0 if x % 3 == 0]\n",
        "print(divisible_by_2_and_3)  # Output: [6, 12, 18]"
      ]
    },
    {
      "cell_type": "markdown",
      "metadata": {
        "id": "K0G3xRz2Fgej"
      },
      "source": []
    },
    {
      "cell_type": "markdown",
      "metadata": {
        "id": "NE1L2kt-ZfQ4"
      },
      "source": [
        "**Objective:** Create a flattened list from a matrix (list of lists)."
      ]
    },
    {
      "cell_type": "code",
      "execution_count": null,
      "metadata": {
        "colab": {
          "base_uri": "https://localhost:8080/"
        },
        "id": "VBnAZmECZckN",
        "outputId": "405317b3-bba5-473d-c92d-52c1e69bb8ca"
      },
      "outputs": [
        {
          "name": "stdout",
          "output_type": "stream",
          "text": [
            "[[1, 2, 3], [4, 5, 6], [7, 8, 9]]\n",
            "[1, 2, 3, 4, 5, 6, 7, 8, 9]\n"
          ]
        }
      ],
      "source": [
        "matrix = [\n",
        "    [1, 2, 3],\n",
        "    [4, 5, 6],\n",
        "    [7, 8, 9]\n",
        "]\n",
        "print(matrix)\n",
        "flat_list = [num for row in matrix for num in row]\n",
        "print(flat_list)  # Output: [1, 2, 3, 4, 5, 6, 7, 8, 9]\n"
      ]
    },
    {
      "cell_type": "markdown",
      "metadata": {
        "id": "rbRBen5QaLKj"
      },
      "source": [
        "**Objective:** Create a list of strings based on whether the number is even or odd."
      ]
    },
    {
      "cell_type": "code",
      "execution_count": null,
      "metadata": {
        "colab": {
          "base_uri": "https://localhost:8080/"
        },
        "id": "OM3beQYfaKIB",
        "outputId": "4dddb3d1-ae1a-41c0-e5c0-5539bf0f800d"
      },
      "outputs": [
        {
          "name": "stdout",
          "output_type": "stream",
          "text": [
            "['Number 1 is Odd', 'Number 2 is Even', 'Number 3 is Odd', 'Number 4 is Even', 'Number 5 is Odd', 'Number 6 is Even', 'Number 7 is Odd', 'Number 8 is Even', 'Number 9 is Odd', 'Number 10 is Even']\n"
          ]
        }
      ],
      "source": [
        "def check_even_odd(n):\n",
        "    return \"Even\" if n % 2 == 0 else \"Odd\"\n",
        "\n",
        "status_list = [f\"Number {x} is {check_even_odd(x)}\" for x in range(1, 11)]\n",
        "print(status_list)\n",
        "# Output: ['Number 1 is Odd', 'Number 2 is Even', 'Number 3 is Odd', ..., 'Number 10 is Even']"
      ]
    },
    {
      "cell_type": "markdown",
      "metadata": {
        "id": "F779ao9IdlEI"
      },
      "source": [
        "**Objective:** Create pairs (as tuples) of numbers from two lists if their sum is less than 5.\n",
        "\n"
      ]
    },
    {
      "cell_type": "code",
      "execution_count": null,
      "metadata": {
        "id": "gZDH-sPWdko6"
      },
      "outputs": [],
      "source": [
        "list1 = [1, 2, 3, 4]\n",
        "list2 = [1, 2, 3, 4]\n",
        "pairs = [(x, y) for x in list1 for y in list2 if x + y < 5]\n",
        "print(pairs)\n",
        "# Output: [(1, 1), (1, 2), (1, 3), (2, 1), (2, 2), (3, 1)]"
      ]
    },
    {
      "cell_type": "markdown",
      "metadata": {
        "id": "BM3MkrGfkZGM"
      },
      "source": [
        "Practice questions"
      ]
    },
    {
      "cell_type": "code",
      "execution_count": null,
      "metadata": {
        "colab": {
          "background_save": true,
          "base_uri": "https://localhost:8080/",
          "height": 233
        },
        "id": "fDCyuK91kO-o",
        "outputId": "dbbb249e-410b-41e7-b32e-4bb61480e69f"
      },
      "outputs": [
        {
          "name": "stdout",
          "output_type": "stream",
          "text": [
            "[1, 4, 9, 16, 25]\n"
          ]
        }
      ],
      "source": [
        "q1 = [x**2 for i in range(1, 6)]\n",
        "print(q1)"
      ]
    },
    {
      "cell_type": "code",
      "execution_count": null,
      "metadata": {
        "colab": {
          "base_uri": "https://localhost:8080/"
        },
        "id": "8ls6KTEUktdu",
        "outputId": "dfcc3320-81fa-48a6-9460-e25d32a75e94"
      },
      "outputs": [
        {
          "name": "stdout",
          "output_type": "stream",
          "text": [
            "[2, 4, 6, 8, 10]\n"
          ]
        }
      ],
      "source": [
        "q2 = [x for x in range(1, 11) if x%2 == 0]\n",
        "print(q2)"
      ]
    },
    {
      "cell_type": "code",
      "execution_count": null,
      "metadata": {
        "colab": {
          "base_uri": "https://localhost:8080/"
        },
        "id": "c6TCcEMFk-Va",
        "outputId": "f9b4c195-58c6-44d0-f3a6-dd0422e019e8"
      },
      "outputs": [
        {
          "name": "stdout",
          "output_type": "stream",
          "text": [
            "[4, 16, 36, 64, 100]\n"
          ]
        }
      ],
      "source": [
        "q3 = [x**2 for x in range(1, 11) if x%2 == 0]\n",
        "print(q3)"
      ]
    },
    {
      "cell_type": "code",
      "execution_count": null,
      "metadata": {
        "colab": {
          "base_uri": "https://localhost:8080/"
        },
        "id": "loYBfT_HmCV9",
        "outputId": "28da29be-b83a-4afc-ba35-af24fde29ed7"
      },
      "outputs": [
        {
          "name": "stdout",
          "output_type": "stream",
          "text": [
            "[2, 3, 4, 6, 8, 9, 10]\n"
          ]
        }
      ],
      "source": [
        "listy = [1, 2, 3, 4, 5, 6, 7, 8, 9, 10]\n",
        "q4 = [x for x in listy if x%2==0 or x%3==0]\n",
        "print(q4)"
      ]
    },
    {
      "cell_type": "code",
      "execution_count": null,
      "metadata": {
        "colab": {
          "base_uri": "https://localhost:8080/"
        },
        "id": "canthNyYmzLH",
        "outputId": "41133867-1fb2-4d12-e230-14cfb30de196"
      },
      "outputs": [
        {
          "name": "stdout",
          "output_type": "stream",
          "text": [
            "[1, 2, 3, 4, 5, 6, 7, 8, 9]\n"
          ]
        }
      ],
      "source": [
        "matrix = [[1, 2, 3], [4, 5, 6], [7, 8, 9]]\n",
        "q5 = [num for row in matrix for num in row]\n",
        "print(q5)"
      ]
    },
    {
      "cell_type": "code",
      "execution_count": null,
      "metadata": {
        "colab": {
          "base_uri": "https://localhost:8080/"
        },
        "id": "sfI70Lyam_7L",
        "outputId": "50ce660d-fa79-4522-918a-d956243ae90d"
      },
      "outputs": [
        {
          "name": "stdout",
          "output_type": "stream",
          "text": [
            "['H', 'W']\n"
          ]
        }
      ],
      "source": [
        "string = \"Hello World\"\n",
        "q6 = [char for char in string if char.isupper()]\n",
        "print(q6)"
      ]
    },
    {
      "cell_type": "code",
      "execution_count": null,
      "metadata": {
        "colab": {
          "base_uri": "https://localhost:8080/"
        },
        "id": "sHMSJD6gnzAU",
        "outputId": "c5366668-4975-464c-d0ca-05804751d3cb"
      },
      "outputs": [
        {
          "name": "stdout",
          "output_type": "stream",
          "text": [
            "[10, 8, 6]\n"
          ]
        }
      ],
      "source": [
        "listy = [-10, -8, -6, 0, 1, 2, 3, 5, 8, 13, 21]\n",
        "q7 = [abs(x) for x in listy if x < 0]\n",
        "print(q7)"
      ]
    },
    {
      "cell_type": "code",
      "execution_count": null,
      "metadata": {
        "colab": {
          "base_uri": "https://localhost:8080/"
        },
        "id": "Du1EglhUoUNP",
        "outputId": "08a0bb59-48a7-49db-846b-1d484ca0d4c1"
      },
      "outputs": [
        {
          "name": "stdout",
          "output_type": "stream",
          "text": [
            "[32.0, 50.0, 68.0, 212.0]\n"
          ]
        }
      ],
      "source": [
        "listy = [0, 10, 20, 100]\n",
        "q8 = [(x * 9/5) + 32 for x in listy]\n",
        "print(q8)"
      ]
    },
    {
      "cell_type": "code",
      "execution_count": null,
      "metadata": {
        "colab": {
          "base_uri": "https://localhost:8080/"
        },
        "id": "LrwqXW8xowB9",
        "outputId": "cbae811f-cc7b-4d09-f13f-c32d2782cd6a"
      },
      "outputs": [
        {
          "name": "stdout",
          "output_type": "stream",
          "text": [
            "['apple', 'cherry']\n"
          ]
        }
      ],
      "source": [
        "listy = [{\"name\": \"apple\", \"count\": 10}, {\"name\": \"banana\", \"count\": 5}, {\"name\": \"cherry\", \"count\": 15}]\n",
        "q9 = [x[\"name\"] for x in listy if x[\"count\"] > 5]\n",
        "print(q9)"
      ]
    },
    {
      "cell_type": "code",
      "execution_count": null,
      "metadata": {
        "colab": {
          "base_uri": "https://localhost:8080/"
        },
        "id": "3OlTItpno0SK",
        "outputId": "6f440028-2029-49ed-ff91-c351f2dc81aa"
      },
      "outputs": [
        {
          "name": "stdout",
          "output_type": "stream",
          "text": [
            "[(1, 5), (1, 6), (2, 4), (2, 5), (2, 6), (3, 4), (3, 5), (3, 6)]\n"
          ]
        }
      ],
      "source": [
        "list1 = [1, 2, 3]\n",
        "list2 = [4, 5, 6]\n",
        "q10 = [(x, y) for x in list1 for y in list2 if x + y > 5]\n",
        "print(q10)"
      ]
    },
    {
      "cell_type": "code",
      "execution_count": null,
      "metadata": {
        "colab": {
          "base_uri": "https://localhost:8080/"
        },
        "id": "huJ6ieoNE-GK",
        "outputId": "e9cbe7d2-4b33-476d-aaa4-3f4ae1e70e4e"
      },
      "outputs": [
        {
          "name": "stdout",
          "output_type": "stream",
          "text": [
            "6\n"
          ]
        }
      ],
      "source": [
        "x = 5\n",
        "y = 6\n",
        "greater = lambda x, y: x if x > y else y\n",
        "print(greater(x, y))"
      ]
    },
    {
      "cell_type": "code",
      "execution_count": null,
      "metadata": {
        "colab": {
          "base_uri": "https://localhost:8080/"
        },
        "id": "QbFhD3wuGQ59",
        "outputId": "d999ab12-2db8-4b3f-9838-c369407df9b0"
      },
      "outputs": [
        {
          "name": "stdout",
          "output_type": "stream",
          "text": [
            "Hello\n",
            "WorldWorldWorldWorldWorld\n"
          ]
        }
      ],
      "source": [
        "def say(message, times = 1):\n",
        "    print(message * times)\n",
        "\n",
        "say('Hello')\n",
        "say('World', 5)"
      ]
    },
    {
      "cell_type": "code",
      "execution_count": null,
      "metadata": {
        "colab": {
          "base_uri": "https://localhost:8080/",
          "height": 108
        },
        "id": "Csk4wiydIBBa",
        "outputId": "702c9396-c7d2-4743-e6a3-56b0cc3917ae"
      },
      "outputs": [
        {
          "ename": "SyntaxError",
          "evalue": "invalid syntax (<ipython-input-31-56a92b43b8a5>, line 2)",
          "output_type": "error",
          "traceback": [
            "\u001b[0;36m  File \u001b[0;32m\"<ipython-input-31-56a92b43b8a5>\"\u001b[0;36m, line \u001b[0;32m2\u001b[0m\n\u001b[0;31m    square = lambda x: x**2 for x in listy\u001b[0m\n\u001b[0m                            ^\u001b[0m\n\u001b[0;31mSyntaxError\u001b[0m\u001b[0;31m:\u001b[0m invalid syntax\n"
          ]
        }
      ],
      "source": [
        "listy = [1, 2, 3]\n",
        "square = lambda x: x**2 for x in listy\n",
        "print(square)"
      ]
    },
    {
      "cell_type": "markdown",
      "metadata": {
        "id": "3sahIhx-HA8X"
      },
      "source": [
        "**Map, Filter, and Reduce**"
      ]
    },
    {
      "cell_type": "code",
      "execution_count": null,
      "metadata": {
        "colab": {
          "base_uri": "https://localhost:8080/"
        },
        "id": "g5nB9l_MHCM4",
        "outputId": "d827e07c-ebc6-4e42-c4cd-8cd63a0c9919"
      },
      "outputs": [
        {
          "name": "stdout",
          "output_type": "stream",
          "text": [
            "[1, 4, 9, 16, 25]\n"
          ]
        }
      ],
      "source": [
        "numbers = [1, 2, 3, 4, 5]\n",
        "squared_numbers = list(map(lambda x: x**2, numbers))\n",
        "print(squared_numbers)  # Output: [1, 4, 9, 16, 25]"
      ]
    },
    {
      "cell_type": "code",
      "execution_count": null,
      "metadata": {
        "colab": {
          "base_uri": "https://localhost:8080/"
        },
        "id": "uECWSdOrLUDR",
        "outputId": "1d2f547d-d8a8-46aa-cb81-b05b58f01ac9"
      },
      "outputs": [
        {
          "name": "stdout",
          "output_type": "stream",
          "text": [
            "[1, 2, 3, 4, 5]\n"
          ]
        }
      ],
      "source": [
        "string_numbers = [\"1\", \"2\", \"3\", \"4\", \"5\"]\n",
        "int_numbers = list(map(int, string_numbers))\n",
        "print(int_numbers)  # Output: [1, 2, 3, 4, 5]"
      ]
    },
    {
      "cell_type": "code",
      "execution_count": null,
      "metadata": {
        "colab": {
          "base_uri": "https://localhost:8080/"
        },
        "id": "8xFCAYTNLdSB",
        "outputId": "53485c78-5a4d-41b9-99cf-22d154537a0d"
      },
      "outputs": [
        {
          "name": "stdout",
          "output_type": "stream",
          "text": [
            "[5, 6, 6]\n"
          ]
        }
      ],
      "source": [
        "words = [\"apple\", \"banana\", \"cherry\"]\n",
        "lengths = list(map(len, words))\n",
        "print(lengths)  # Output: [5, 6, 6]"
      ]
    },
    {
      "cell_type": "code",
      "execution_count": null,
      "metadata": {
        "colab": {
          "base_uri": "https://localhost:8080/"
        },
        "id": "uaTqSf6jLhTn",
        "outputId": "8cda0268-9e67-495e-8d47-03add7dbeeec"
      },
      "outputs": [
        {
          "name": "stdout",
          "output_type": "stream",
          "text": [
            "['ALICE', 'BOB', 'CHARLIE']\n"
          ]
        }
      ],
      "source": [
        "names = [\"alice\", \"bob\", \"charlie\"]\n",
        "upper_names = list(map(str.upper, names))\n",
        "print(upper_names)  # Output: [\"ALICE\", \"BOB\", \"CHARLIE\"]"
      ]
    },
    {
      "cell_type": "code",
      "execution_count": null,
      "metadata": {
        "colab": {
          "base_uri": "https://localhost:8080/"
        },
        "id": "DFD8GaQCLmQM",
        "outputId": "802f8c0d-2fe2-4743-bdb8-2eb8eca5d6d2"
      },
      "outputs": [
        {
          "name": "stdout",
          "output_type": "stream",
          "text": [
            "[5, 7, 9]\n"
          ]
        }
      ],
      "source": [
        "list1 = [1, 2, 3]\n",
        "list2 = [4, 5, 6]\n",
        "sum_list = list(map(lambda x, y: x + y, list1, list2))\n",
        "print(sum_list)  # Output: [5, 7, 9]\n"
      ]
    },
    {
      "cell_type": "code",
      "execution_count": null,
      "metadata": {
        "colab": {
          "base_uri": "https://localhost:8080/"
        },
        "id": "tZNEpDYyMGoG",
        "outputId": "1c92fe03-9087-43d4-aaea-5ea6abfb048c"
      },
      "outputs": [
        {
          "name": "stdout",
          "output_type": "stream",
          "text": [
            "[1, 2, 3, 4, 5]\n"
          ]
        }
      ],
      "source": [
        "\n",
        "strings = [\"1\", \"2\", \"3\", \"4\", \"5\"]\n",
        "strtoint = list(map(int, strings))\n",
        "print(strtoint)"
      ]
    },
    {
      "cell_type": "code",
      "execution_count": null,
      "metadata": {
        "colab": {
          "base_uri": "https://localhost:8080/"
        },
        "id": "2OVHSXbOMPcl",
        "outputId": "bdbdb57a-acae-400d-f1fc-eae90eeef04a"
      },
      "outputs": [
        {
          "name": "stdout",
          "output_type": "stream",
          "text": [
            "['HELLO', 'WORLD', 'PYTHON', 'IS', 'AWESOME']\n"
          ]
        }
      ],
      "source": [
        "words = [\"hello\", \"world\", \"python\", \"is\", \"awesome\"]\n",
        "wordsToUpper = list(map(str.upper, words))\n",
        "print(wordsToUpper)"
      ]
    },
    {
      "cell_type": "code",
      "execution_count": null,
      "metadata": {
        "colab": {
          "base_uri": "https://localhost:8080/"
        },
        "id": "zPVkb4-gMQ6a",
        "outputId": "021d9644-c2c3-4383-c1ba-c17b55ba5ba4"
      },
      "outputs": [
        {
          "name": "stdout",
          "output_type": "stream",
          "text": [
            "[3.14159, 12.56636, 28.27431, 50.26544, 78.53975]\n"
          ]
        }
      ],
      "source": [
        "radii = [1, 2, 3, 4, 5]\n",
        "areas = list(map(lambda x: 3.14159 * x**2, radii))\n",
        "print(areas)"
      ]
    },
    {
      "cell_type": "code",
      "execution_count": null,
      "metadata": {
        "colab": {
          "base_uri": "https://localhost:8080/"
        },
        "id": "Ebiy4KqNNuvn",
        "outputId": "5499a76a-263f-470e-b62f-1ae2612c32c3"
      },
      "outputs": [
        {
          "name": "stdout",
          "output_type": "stream",
          "text": [
            "[5, 7, 9]\n"
          ]
        }
      ],
      "source": [
        "list1 = [1, 2, 3]\n",
        "list2 = [4, 5, 6]\n",
        "sum = list(map(lambda x, y: x + y, list1, list2))\n",
        "print(sum)"
      ]
    },
    {
      "cell_type": "code",
      "execution_count": null,
      "metadata": {
        "id": "MHU07MFJkKCR"
      },
      "outputs": [],
      "source": [
        "# Given list\n",
        "numbers = [1, 2, 3, 4, 5, 6, 7, 8, 9, 10]\n",
        "\n",
        "# Using filter to remove odd numbers\n",
        "even_numbers = list(filter(lambda x: x % 2 == 0, numbers))\n",
        "\n",
        "# Using map to square the filtered even numbers\n",
        "squared_even_numbers = list(map(lambda x: x**2, even_numbers))\n",
        "\n",
        "# Printing the result\n",
        "print(squared_even_numbers)  # Output: [4, 16, 36, 64, 100]"
      ]
    },
    {
      "cell_type": "code",
      "execution_count": null,
      "metadata": {
        "colab": {
          "base_uri": "https://localhost:8080/"
        },
        "id": "Nl4qWptOl3kc",
        "outputId": "4a188f2d-792c-4c25-891d-c6bd133e4097"
      },
      "outputs": [
        {
          "name": "stdout",
          "output_type": "stream",
          "text": [
            "[True, False]\n",
            "1\n"
          ]
        }
      ],
      "source": [
        "input_list = [\"sandy\", \"apple\"]\n",
        "\n",
        "# Define a function that checks if a word starts with 'S' or 's'\n",
        "def starts_with_s(word):\n",
        "    return word.lower().startswith('s')\n",
        "\n",
        "# Use map to apply this function to each word in the input list\n",
        "results = list(map(starts_with_s, input_list))\n",
        "print(results)\n",
        "\n",
        "\n",
        "# Manually sum up the True values in the results_list\n",
        "count = 0\n",
        "for result in results:\n",
        "    if result:  # result is True for words starting with 's' or 'S'\n",
        "        count += 1\n",
        "\n",
        "print(count)"
      ]
    },
    {
      "cell_type": "code",
      "execution_count": null,
      "metadata": {
        "colab": {
          "base_uri": "https://localhost:8080/"
        },
        "id": "4oklMnrkrTZg",
        "outputId": "4cd99d13-3d9d-4bc1-c537-b6f388b9936f"
      },
      "outputs": [
        {
          "name": "stdout",
          "output_type": "stream",
          "text": [
            "['Ankur Narang', 'Avik Sarkar', 'Kiran R', 'Nitin Sareen']\n"
          ]
        }
      ],
      "source": [
        "input_list = [['Ankur', 'Avik', 'Kiran', 'Nitin'], ['Narang', 'Sarkar', 'R', 'Sareen']]\n",
        "first_names = input_list[0]\n",
        "last_names = input_list[1]\n",
        "\n",
        "name = list(map(lambda f, l: f + \" \" + l, first_names, last_names))\n",
        "print(name)"
      ]
    },
    {
      "cell_type": "code",
      "execution_count": null,
      "metadata": {
        "colab": {
          "base_uri": "https://localhost:8080/"
        },
        "id": "XicXH1shHXqe",
        "outputId": "beeea594-3335-4359-e357-4854384fe82e"
      },
      "outputs": [
        {
          "name": "stdout",
          "output_type": "stream",
          "text": [
            "[2, 4, 6, 8, 10]\n"
          ]
        }
      ],
      "source": [
        "# Function that checks if a number is even\n",
        "def is_even(num):\n",
        "    return num % 2 == 0\n",
        "\n",
        "# List of numbers\n",
        "numbers = [1, 2, 3, 4, 5, 6, 7, 8, 9, 10]\n",
        "\n",
        "# Use filter to get only even numbers\n",
        "even_numbers = list(filter(is_even, numbers))\n",
        "\n",
        "# Print the list of even numbers\n",
        "print(even_numbers)  # Output: [2, 4, 6, 8, 10]\n"
      ]
    },
    {
      "cell_type": "code",
      "execution_count": null,
      "metadata": {
        "colab": {
          "base_uri": "https://localhost:8080/"
        },
        "id": "dX_hE-ynC5ay",
        "outputId": "ef9ac56a-62d4-4e20-a3b8-bcd0a0ebb7b9"
      },
      "outputs": [
        {
          "name": "stdout",
          "output_type": "stream",
          "text": [
            "15\n"
          ]
        }
      ],
      "source": [
        "from functools import reduce\n",
        "\n",
        "# Define a simple addition function\n",
        "def add(x, y):\n",
        "    return x + y\n",
        "\n",
        "# List of numbers\n",
        "numbers = [1, 2, 3, 4, 5]\n",
        "\n",
        "# Use reduce to sum up all the elements in the list\n",
        "result = reduce(add, numbers)\n",
        "\n",
        "# Print the result\n",
        "print(result)  # Output: 15\n"
      ]
    },
    {
      "cell_type": "code",
      "execution_count": null,
      "metadata": {
        "colab": {
          "base_uri": "https://localhost:8080/"
        },
        "id": "pNMdF8e7F3Ra",
        "outputId": "d90b6c65-cc5d-461c-8e8c-f88d78fdd178"
      },
      "outputs": [
        {
          "name": "stdout",
          "output_type": "stream",
          "text": [
            "9\n"
          ]
        }
      ],
      "source": [
        "from functools import reduce\n",
        "\n",
        "# Function to find maximum of two numbers\n",
        "def max(x, y):\n",
        "    return x if x > y else y\n",
        "\n",
        "# List of numbers\n",
        "numbers = [5, 2, 8, 3, 9, 4]\n",
        "\n",
        "# Use reduce to find the maximum element\n",
        "maximum = reduce(max, numbers)\n",
        "\n",
        "# Print the maximum element\n",
        "print(maximum)  # Output: 9\n"
      ]
    },
    {
      "cell_type": "code",
      "execution_count": null,
      "metadata": {
        "colab": {
          "base_uri": "https://localhost:8080/"
        },
        "id": "cO787FCgGE2o",
        "outputId": "0940da58-c271-4e80-f5b0-a958a15ee40f"
      },
      "outputs": [
        {
          "name": "stdout",
          "output_type": "stream",
          "text": [
            "120\n"
          ]
        }
      ],
      "source": [
        "from functools import reduce\n",
        "\n",
        "# Function to multiply two numbers\n",
        "def multiply(x, y):\n",
        "    return x * y\n",
        "\n",
        "# List of numbers\n",
        "numbers = [1, 2, 3, 4, 5]\n",
        "\n",
        "# Use reduce to calculate the product of all elements\n",
        "product = reduce(multiply, numbers)\n",
        "\n",
        "# Print the product\n",
        "print(product)  # Output: 120\n"
      ]
    },
    {
      "cell_type": "code",
      "execution_count": null,
      "metadata": {
        "colab": {
          "base_uri": "https://localhost:8080/"
        },
        "id": "y5Sf1ggQG8MD",
        "outputId": "71e00a16-a5d3-42c0-95f0-7f7cacacae4b"
      },
      "outputs": [
        {
          "name": "stdout",
          "output_type": "stream",
          "text": [
            "[5, 10, 15]\n"
          ]
        }
      ],
      "source": [
        "input_list = [2, 5, 8, 10, 13, 14, 15]\n",
        "def multiples_of_5(num):\n",
        "  return num % 5 == 0\n",
        "\n",
        "list_answer = list(filter(multiples_of_5, input_list))\n",
        "print(list_answer)"
      ]
    },
    {
      "cell_type": "code",
      "execution_count": null,
      "metadata": {
        "colab": {
          "base_uri": "https://localhost:8080/"
        },
        "id": "_wOIs9sXIvWY",
        "outputId": "6c61bced-a918-4333-9caf-45ec0420a3c4"
      },
      "outputs": [
        {
          "name": "stdout",
          "output_type": "stream",
          "text": [
            "['salsap']\n"
          ]
        }
      ],
      "source": [
        "input_list =  ['hdjk', 'salsap', 'sherpa']\n",
        "def starts_s_ends_p(name):\n",
        "    return name.startswith('s') and name.endswith('p')\n",
        "\n",
        "# Use filter to apply the function to the input list\n",
        "sp = list(filter(starts_s_ends_p, input_list))\n",
        "\n",
        "# Print the filtered list\n",
        "print(sp)"
      ]
    },
    {
      "cell_type": "code",
      "execution_count": null,
      "metadata": {
        "colab": {
          "base_uri": "https://localhost:8080/"
        },
        "id": "k-4GWJGNUPuc",
        "outputId": "16f57c63-f073-414a-b3e9-5b9451362978"
      },
      "outputs": [
        {
          "name": "stdout",
          "output_type": "stream",
          "text": [
            "I Love Python\n"
          ]
        }
      ],
      "source": [
        "from functools import reduce\n",
        "input_list = ['I','Love','Python']\n",
        "\n",
        "def concatenate(a, b):\n",
        "    return a + \" \" + b\n",
        "\n",
        "result = reduce(concatenate, input_list)\n",
        "print(result)"
      ]
    },
    {
      "cell_type": "code",
      "execution_count": null,
      "metadata": {
        "colab": {
          "background_save": true
        },
        "id": "Jzk83jwhVa1z",
        "outputId": "af3639b7-b762-458d-f398-5c951c15edd8"
      },
      "outputs": [
        {
          "name": "stdout",
          "output_type": "stream",
          "text": [
            "89\n"
          ]
        }
      ],
      "source": [
        "from functools import reduce\n",
        "\n",
        "input_list = [31, 63, 76, 89]\n",
        "def find_max(a, b):\n",
        "  return a if a > b else b\n",
        "\n",
        "max = reduce(find_max, input_list)\n",
        "\n",
        "print(max)"
      ]
    },
    {
      "cell_type": "markdown",
      "source": [
        "# **Python for Data Science**"
      ],
      "metadata": {
        "id": "RvIE5EqFcfuL"
      }
    },
    {
      "cell_type": "code",
      "source": [
        "heights = [74, 75, 72, 72, 71] # list of heights of swimmers, you want to convert this from inches to m"
      ],
      "metadata": {
        "id": "crQ6Truuditn"
      },
      "execution_count": null,
      "outputs": []
    },
    {
      "cell_type": "code",
      "source": [
        "# if you want to convers each value in heights to m, u must multiply each value in heights by 2.54, which is ineffective (takes long), and is a lot of code\n",
        "output = []\n",
        "for height in heights:\n",
        "  output.append(height * 2.54)\n",
        "\n",
        "print(output)\n",
        "\n",
        "output2 = [height*2.54 for height in heights]\n",
        "print(output2)"
      ],
      "metadata": {
        "colab": {
          "base_uri": "https://localhost:8080/"
        },
        "id": "drEIbkjudt_y",
        "outputId": "1cf9ff84-d30a-417f-a367-91da40d9b7e3"
      },
      "execution_count": null,
      "outputs": [
        {
          "output_type": "stream",
          "name": "stdout",
          "text": [
            "[187.96, 190.5, 182.88, 182.88, 180.34]\n",
            "[187.96, 190.5, 182.88, 182.88, 180.34]\n"
          ]
        }
      ]
    },
    {
      "cell_type": "markdown",
      "source": [
        "**Numpy**"
      ],
      "metadata": {
        "id": "jC0ZFFibdULm"
      }
    },
    {
      "cell_type": "code",
      "source": [
        "# to solve this inefficiency, we use numpy (which is more efficient and less code needed)\n",
        "import numpy as np"
      ],
      "metadata": {
        "id": "8LT8o1g8dSQ5"
      },
      "execution_count": null,
      "outputs": []
    },
    {
      "cell_type": "code",
      "source": [
        "np_heights = np.array([74, 75, 72, 72, 71])\n",
        "type(np_heights)"
      ],
      "metadata": {
        "colab": {
          "base_uri": "https://localhost:8080/"
        },
        "id": "da1S-ZUyeqoS",
        "outputId": "f87c265c-34f8-4dd0-d87b-2cada3f8eb15"
      },
      "execution_count": null,
      "outputs": [
        {
          "output_type": "execute_result",
          "data": {
            "text/plain": [
              "numpy.ndarray"
            ]
          },
          "metadata": {},
          "execution_count": 5
        }
      ]
    },
    {
      "cell_type": "code",
      "source": [
        "np_heights * 2.54"
      ],
      "metadata": {
        "colab": {
          "base_uri": "https://localhost:8080/"
        },
        "id": "eMNrB8uwe1z2",
        "outputId": "048a373d-74b4-426f-bd62-f16c76cb2c7d"
      },
      "execution_count": null,
      "outputs": [
        {
          "output_type": "execute_result",
          "data": {
            "text/plain": [
              "array([187.96, 190.5 , 182.88, 182.88, 180.34])"
            ]
          },
          "metadata": {},
          "execution_count": 6
        }
      ]
    },
    {
      "cell_type": "code",
      "source": [
        "# add lists without numpy:\n",
        "list_1 = [1, 2, 3]\n",
        "list_2 = [4, 5, 6]\n",
        "list_1 + list_2"
      ],
      "metadata": {
        "colab": {
          "base_uri": "https://localhost:8080/"
        },
        "id": "gtG1igYPfs1H",
        "outputId": "8cbd97e3-7640-4c93-d8bb-946401d5cfa7"
      },
      "execution_count": null,
      "outputs": [
        {
          "output_type": "execute_result",
          "data": {
            "text/plain": [
              "[1, 2, 3, 4, 5, 6]"
            ]
          },
          "metadata": {},
          "execution_count": 8
        }
      ]
    },
    {
      "cell_type": "code",
      "source": [
        "# add lists with numpy\n",
        "list1 = np.array([1, 2, 3])\n",
        "list2 = np.array([4, 5, 6])\n",
        "list1 + list2"
      ],
      "metadata": {
        "colab": {
          "base_uri": "https://localhost:8080/"
        },
        "id": "N1s513J6f7GF",
        "outputId": "c2d79889-d7cb-4d12-dcaf-8c5122bee77b"
      },
      "execution_count": null,
      "outputs": [
        {
          "output_type": "execute_result",
          "data": {
            "text/plain": [
              "array([5, 7, 9])"
            ]
          },
          "metadata": {},
          "execution_count": 9
        }
      ]
    },
    {
      "cell_type": "markdown",
      "source": [
        "# **Operations Over 1-D Arrays**"
      ],
      "metadata": {
        "id": "szs1EVapafWP"
      }
    },
    {
      "cell_type": "markdown",
      "source": [
        "<h2 style = \"color : Brown\"> Case Study - Cricket Tournament </h2>\n",
        "\n",
        "A panel wants to select players for an upcoming league match based on their fitness. Players from all significant cricket clubs have participated in a practice match, and their data is collected. Let us now explore NumPy features using the player's data.</font>\n",
        "\n",
        "<h4 style = \"color : Sky blue\"> Example - 1</h4>  \n",
        "\n",
        "#### Heights of the players is stored as a regular Python list: height_in. The height is expressed in inches. Can you make a numpy array out of it ?"
      ],
      "metadata": {
        "id": "EgGaQSvZfDgW"
      }
    },
    {
      "cell_type": "code",
      "source": [
        "# Define list\n",
        "heights = [74, 74, 72, 72, 73, 69, 69, 71, 76, 71, 73, 73, 74, 74, 69, 70, 73, 75, 78, 79, 76, 74, 76, 72, 71, 75, 77, 74, 73, 74, 78, 73, 75, 73, 75, 75, 74, 69, 71, 74, 73, 73, 76, 74, 74, 70, 72, 77, 74, 70, 73, 75, 76, 76, 78, 74, 74, 76, 77, 81, 78, 75, 77, 75, 76, 74, 72, 72, 75, 73, 73, 73, 70, 70, 70, 76, 68, 71, 72, 75, 75, 75, 75, 68, 74, 78, 71, 73, 76, 74, 74, 79, 75, 73, 76, 74, 74, 73, 72, 74, 73, 74, 72, 73, 69, 72, 73, 75, 75, 73, 72, 72, 76, 74, 72, 77, 74, 77, 75, 76, 80, 74, 74, 75, 78, 73, 73, 74, 75, 76, 71, 73, 74, 76, 76, 74, 73, 74, 70, 72, 73, 73, 73, 73, 71, 74, 74, 72, 74, 71, 74, 73, 75, 75, 79, 73, 75, 76, 74, 76, 78, 74, 76, 72, 74, 76, 74, 75, 78, 75, 72, 74, 72, 74, 70, 71, 70, 75, 71, 71, 73, 72, 71, 73, 72, 75, 74, 74, 75, 73, 77, 73, 76, 75, 74, 76, 75, 73, 71, 76, 75, 72, 71, 77, 73, 74, 71, 72, 74, 75, 73, 72, 75, 75, 74, 72, 74, 71, 70, 74, 77, 77, 75, 75, 78, 75, 76, 73, 75, 75, 79, 77, 76, 71, 75, 74, 69, 71, 76, 72, 72, 70, 72, 73, 71, 72, 71, 73, 72, 73, 74, 74, 72, 75, 74, 74, 77, 75, 73, 72, 71, 74, 77, 75, 75, 75, 78, 78, 74, 76, 78, 76, 70, 72, 80, 74, 74, 71, 70, 72, 71, 74, 71, 72, 71, 74, 69, 76, 75, 75, 76, 73, 76, 73, 77, 73, 72, 72, 77, 77, 71, 74, 74, 73, 78, 75, 73, 70, 74, 72, 73, 73, 75, 75, 74, 76, 73, 74, 75, 75, 72, 73, 73, 72, 74, 78, 76, 73, 74, 75, 70, 75, 71, 72, 78, 75, 73, 73, 71, 75, 77, 72, 69, 73, 74, 72, 70, 75, 70, 72, 72, 74, 73, 74, 76, 75, 80, 72, 75, 73, 74, 74, 73, 75, 75, 71, 73, 75, 74, 74, 72, 74, 74, 74, 73, 76, 75, 72, 73, 73, 73, 72, 72, 72, 72, 71, 75, 75, 74, 73, 75, 79, 74, 76, 73, 74, 74, 72, 74, 74, 75, 78, 74, 74, 74, 77, 70, 73, 74, 73, 71, 75, 71, 72, 77, 74, 70, 77, 73, 72, 76, 71, 76, 78, 75, 73, 78, 74, 79, 75, 76, 72, 75, 75, 70, 72, 70, 74, 71, 76, 73, 76, 71, 69, 72, 72, 69, 73, 69, 73, 74, 74, 72, 71, 72, 72, 76, 76, 76, 74, 76, 75, 71, 72, 71, 73, 75, 76, 75, 71, 75, 74, 72, 73, 73, 73, 73, 76, 72, 76, 73, 73, 73, 75, 75, 77, 73, 72, 75, 70, 74, 72, 80, 71, 71, 74, 74, 73, 75, 76, 73, 77, 72, 73, 77, 76, 71, 75, 73, 74, 77, 71, 72, 73, 69, 73, 70, 74, 76, 73, 73, 75, 73, 79, 74, 73, 74, 77, 75, 74, 73, 77, 73, 77, 74, 74, 73, 77, 74, 77, 75, 77, 75, 71, 74, 70, 79, 72, 72, 70, 74, 74, 72, 73, 72, 74, 74, 76, 82, 74, 74, 70, 73, 73, 74, 77, 72, 76, 73, 73, 72, 74, 74, 71, 72, 75, 74, 74, 77, 70, 71, 73, 76, 71, 75, 74, 72, 76, 79, 76, 73, 76, 78, 75, 76, 72, 72, 73, 73, 75, 71, 76, 70, 75, 74, 75, 73, 71, 71, 72, 73, 73, 72, 69, 73, 78, 71, 73, 75, 76, 70, 74, 77, 75, 79, 72, 77, 73, 75, 75, 75, 73, 73, 76, 77, 75, 70, 71, 71, 75, 74, 69, 70, 75, 72, 75, 73, 72, 72, 72, 76, 75, 74, 69, 73, 72, 72, 75, 77, 76, 80, 77, 76, 79, 71, 75, 73, 76, 77, 73, 76, 70, 75, 73, 75, 70, 69, 71, 72, 72, 73, 70, 70, 73, 76, 75, 72, 73, 79, 71, 72, 74, 74, 74, 72, 76, 76, 72, 72, 71, 72, 72, 70, 77, 74, 72, 76, 71, 76, 71, 73, 70, 73, 73, 72, 71, 71, 71, 72, 72, 74, 74, 74, 71, 72, 75, 72, 71, 72, 72, 72, 72, 74, 74, 77, 75, 73, 75, 73, 76, 72, 77, 75, 72, 71, 71, 75, 72, 73, 73, 71, 70, 75, 71, 76, 73, 68, 71, 72, 74, 77, 72, 76, 78, 81, 72, 73, 76, 72, 72, 74, 76, 73, 76, 75, 70, 71, 74, 72, 73, 76, 76, 73, 71, 68, 71, 71, 74, 77, 69, 72, 76, 75, 76, 75, 76, 72, 74, 76, 74, 72, 75, 78, 77, 70, 72, 79, 74, 71, 68, 77, 75, 71, 72, 70, 72, 72, 73, 72, 74, 72, 72, 75, 72, 73, 74, 72, 78, 75, 72, 74, 75, 75, 76, 74, 74, 73, 74, 71, 74, 75, 76, 74, 76, 76, 73, 75, 75, 74, 68, 72, 75, 71, 70, 72, 73, 72, 75, 74, 70, 76, 71, 82, 72, 73, 74, 71, 75, 77, 72, 74, 72, 73, 78, 77, 73, 73, 73, 73, 73, 76, 75, 70, 73, 72, 73, 75, 74, 73, 73, 76, 73, 75, 70, 77, 72, 77, 74, 75, 75, 75, 75, 72, 74, 71, 76, 71, 75, 76, 83, 75, 74, 76, 72, 72, 75, 75, 72, 77, 73, 72, 70, 74, 72, 74, 72, 71, 70, 71, 76, 74, 76, 74, 74, 74, 75, 75, 71, 71, 74, 77, 71, 74, 75, 77, 76, 74, 76, 72, 71, 72, 75, 73, 68, 72, 69, 73, 73, 75, 70, 70, 74, 75, 74, 74, 73, 74, 75, 77, 73, 74, 76, 74, 75, 73, 76, 78, 75, 73, 77, 74, 72, 74, 72, 71, 73, 75, 73, 67, 67, 76, 74, 73, 70, 75, 70, 72, 77, 79, 78, 74, 75, 75, 78, 76, 75, 69, 75, 72, 75, 73, 74, 75, 75, 73]"
      ],
      "metadata": {
        "id": "oMY-oV31fvmr"
      },
      "execution_count": null,
      "outputs": []
    },
    {
      "cell_type": "code",
      "source": [
        "import numpy as np\n",
        "\n",
        "heights_in = np.array(heights)\n",
        "heights_in"
      ],
      "metadata": {
        "colab": {
          "base_uri": "https://localhost:8080/"
        },
        "id": "B-cwQzkQfLkN",
        "outputId": "d5105cbe-be09-4d4c-a9d4-1b392f7a4609"
      },
      "execution_count": null,
      "outputs": [
        {
          "output_type": "execute_result",
          "data": {
            "text/plain": [
              "array([74, 74, 72, ..., 75, 75, 73])"
            ]
          },
          "metadata": {},
          "execution_count": 3
        }
      ]
    },
    {
      "cell_type": "code",
      "source": [
        "type(heights_in)"
      ],
      "metadata": {
        "colab": {
          "base_uri": "https://localhost:8080/"
        },
        "id": "gdWzljIxfRuP",
        "outputId": "bc9826da-50c0-43f6-efbe-e60e41fd7208"
      },
      "execution_count": null,
      "outputs": [
        {
          "output_type": "execute_result",
          "data": {
            "text/plain": [
              "numpy.ndarray"
            ]
          },
          "metadata": {},
          "execution_count": 4
        }
      ]
    },
    {
      "cell_type": "markdown",
      "source": [
        "<h4 style = \"color : Sky blue\"> Example - 2</h4>\n",
        "\n",
        "#### Count the number of pariticipants"
      ],
      "metadata": {
        "id": "aY8wJHNVfVu8"
      }
    },
    {
      "cell_type": "code",
      "source": [
        "len(heights)"
      ],
      "metadata": {
        "colab": {
          "base_uri": "https://localhost:8080/"
        },
        "id": "OvVvnjKVfZ_a",
        "outputId": "fb325e97-aa61-4a06-fdd3-f5585b4c55d3"
      },
      "execution_count": null,
      "outputs": [
        {
          "output_type": "execute_result",
          "data": {
            "text/plain": [
              "1015"
            ]
          },
          "metadata": {},
          "execution_count": 8
        }
      ]
    },
    {
      "cell_type": "code",
      "source": [
        "heights_in.size"
      ],
      "metadata": {
        "colab": {
          "base_uri": "https://localhost:8080/"
        },
        "id": "d8ctTCGCfcAk",
        "outputId": "4a0d6acc-0965-4486-a723-2b5e8edc63ac"
      },
      "execution_count": null,
      "outputs": [
        {
          "output_type": "execute_result",
          "data": {
            "text/plain": [
              "1015"
            ]
          },
          "metadata": {},
          "execution_count": 9
        }
      ]
    },
    {
      "cell_type": "code",
      "source": [
        "heights_in.shape"
      ],
      "metadata": {
        "colab": {
          "base_uri": "https://localhost:8080/"
        },
        "id": "jmKZtSjNfrjX",
        "outputId": "fd976804-debb-4676-e38e-bec89ef0fbca"
      },
      "execution_count": null,
      "outputs": [
        {
          "output_type": "execute_result",
          "data": {
            "text/plain": [
              "(1015,)"
            ]
          },
          "metadata": {},
          "execution_count": 10
        }
      ]
    },
    {
      "cell_type": "markdown",
      "source": [
        "<h4 style = \"color : Sky blue\"> Example - 3</h4>\n",
        "\n",
        "####  Convert the heights from inches to meters"
      ],
      "metadata": {
        "id": "QeuHqCpzfuub"
      }
    },
    {
      "cell_type": "code",
      "source": [
        "heights_m = heights_in * 0.0254\n",
        "\n",
        "heights_m"
      ],
      "metadata": {
        "colab": {
          "base_uri": "https://localhost:8080/"
        },
        "id": "KmedYZcafvV2",
        "outputId": "c427c29b-3c7e-489e-c4ca-fafe44ce06f5"
      },
      "execution_count": null,
      "outputs": [
        {
          "output_type": "execute_result",
          "data": {
            "text/plain": [
              "array([1.8796, 1.8796, 1.8288, ..., 1.905 , 1.905 , 1.8542])"
            ]
          },
          "metadata": {},
          "execution_count": 12
        }
      ]
    },
    {
      "cell_type": "markdown",
      "source": [
        "<h4 style = \"color : Sky blue\"> Example - 4</h4>\n",
        "\n",
        "#### A list of weights (in lbs) of the players is provided. Convert it to kg and calculate BMI"
      ],
      "metadata": {
        "id": "iZRZKqq3f7ZM"
      }
    },
    {
      "cell_type": "code",
      "source": [
        "weights_lb = [180, 215, 210, 210, 188, 176, 209, 200, 231, 180, 188, 180, 185, 160, 180, 185, 189, 185, 219, 230, 205, 230, 195, 180, 192, 225, 203, 195, 182, 188, 200, 180, 200, 200, 245, 240, 215, 185, 175, 199, 200, 215, 200, 205, 206, 186, 188, 220, 210, 195, 200, 200, 212, 224, 210, 205, 220, 195, 200, 260, 228, 270, 200, 210, 190, 220, 180, 205, 210, 220, 211, 200, 180, 190, 170, 230, 155, 185, 185, 200, 225, 225, 220, 160, 205, 235, 250, 210, 190, 160, 200, 205, 222, 195, 205, 220, 220, 170, 185, 195, 220, 230, 180, 220, 180, 180, 170, 210, 215, 200, 213, 180, 192, 235, 185, 235, 210, 222, 210, 230, 220, 180, 190, 200, 210, 194, 180, 190, 240, 200, 198, 200, 195, 210, 220, 190, 210, 225, 180, 185, 170, 185, 185, 180, 178, 175, 200, 204, 211, 190, 210, 190, 190, 185, 290, 175, 185, 200, 220, 170, 220, 190, 220, 205, 200, 250, 225, 215, 210, 215, 195, 200, 194, 220, 180, 180, 170, 195, 180, 170, 206, 205, 200, 225, 201, 225, 233, 180, 225, 180, 220, 180, 237, 215, 190, 235, 190, 180, 165, 195, 200, 190, 190, 185, 185, 205, 190, 205, 206, 220, 208, 170, 195, 210, 190, 211, 230, 170, 185, 185, 241, 225, 210, 175, 230, 200, 215, 198, 226, 278, 215, 230, 240, 184, 219, 170, 218, 190, 225, 220, 176, 190, 197, 204, 167, 180, 195, 220, 215, 185, 190, 205, 205, 200, 210, 215, 200, 205, 211, 190, 208, 200, 210, 232, 230, 210, 220, 210, 202, 212, 225, 170, 190, 200, 237, 220, 170, 193, 190, 150, 220, 200, 190, 185, 185, 200, 172, 220, 225, 190, 195, 219, 190, 197, 200, 195, 210, 177, 220, 235, 180, 195, 195, 190, 230, 190, 200, 190, 190, 200, 200, 184, 200, 180, 219, 187, 200, 220, 205, 190, 170, 160, 215, 175, 205, 200, 214, 200, 190, 180, 205, 220, 190, 215, 235, 191, 200, 181, 200, 210, 240, 185, 165, 190, 185, 175, 155, 210, 170, 175, 220, 210, 205, 200, 205, 195, 240, 150, 200, 215, 202, 200, 190, 205, 190, 160, 215, 185, 200, 190, 210, 185, 220, 190, 202, 205, 220, 175, 160, 190, 200, 229, 206, 220, 180, 195, 175, 188, 230, 190, 200, 190, 219, 235, 180, 180, 180, 200, 234, 185, 220, 223, 200, 210, 200, 210, 190, 177, 227, 180, 195, 199, 175, 185, 240, 210, 180, 194, 225, 180, 205, 193, 230, 230, 220, 200, 249, 190, 208, 245, 250, 160, 192, 220, 170, 197, 155, 190, 200, 220, 210, 228, 190, 160, 184, 180, 180, 200, 176, 160, 222, 211, 195, 200, 175, 206, 240, 185, 260, 185, 221, 205, 200, 170, 201, 205, 185, 205, 245, 220, 210, 220, 185, 175, 170, 180, 200, 210, 175, 220, 206, 180, 210, 195, 200, 200, 164, 180, 220, 195, 205, 170, 240, 210, 195, 200, 205, 192, 190, 170, 240, 200, 205, 175, 250, 220, 224, 210, 195, 180, 245, 175, 180, 215, 175, 180, 195, 230, 230, 205, 215, 195, 180, 205, 180, 190, 180, 190, 190, 220, 210, 255, 190, 230, 200, 205, 210, 225, 215, 220, 205, 200, 220, 197, 225, 187, 245, 185, 185, 175, 200, 180, 188, 225, 200, 210, 245, 213, 231, 165, 228, 210, 250, 191, 190, 200, 215, 254, 232, 180, 215, 220, 180, 200, 170, 195, 210, 200, 220, 165, 180, 200, 200, 170, 224, 220, 180, 198, 240, 239, 185, 210, 220, 200, 195, 220, 230, 170, 220, 230, 165, 205, 192, 210, 205, 200, 210, 185, 195, 202, 205, 195, 180, 200, 185, 240, 185, 220, 205, 205, 180, 201, 190, 208, 240, 180, 230, 195, 215, 190, 195, 215, 215, 220, 220, 230, 195, 190, 195, 209, 204, 170, 185, 205, 175, 210, 190, 180, 180, 160, 235, 200, 210, 180, 190, 197, 203, 205, 170, 200, 250, 200, 220, 200, 190, 170, 190, 220, 215, 206, 215, 185, 235, 188, 230, 195, 168, 190, 160, 200, 200, 189, 180, 190, 200, 220, 187, 240, 190, 180, 185, 210, 220, 219, 190, 193, 175, 180, 215, 210, 200, 190, 185, 220, 170, 195, 205, 195, 210, 190, 190, 180, 220, 190, 186, 185, 190, 180, 190, 170, 210, 240, 220, 180, 210, 210, 195, 160, 180, 205, 200, 185, 245, 190, 210, 200, 200, 222, 215, 240, 170, 220, 156, 190, 202, 221, 200, 190, 210, 190, 200, 165, 190, 185, 230, 208, 209, 175, 180, 200, 205, 200, 250, 210, 230, 244, 202, 240, 200, 215, 177, 210, 170, 215, 217, 198, 200, 220, 170, 200, 230, 231, 183, 192, 167, 190, 180, 180, 215, 160, 205, 223, 175, 170, 190, 240, 175, 230, 223, 196, 167, 195, 190, 250, 190, 190, 190, 170, 160, 150, 225, 220, 209, 210, 176, 260, 195, 190, 184, 180, 195, 195, 219, 225, 212, 202, 185, 200, 209, 200, 195, 228, 210, 190, 212, 190, 218, 220, 190, 235, 210, 200, 188, 210, 235, 188, 215, 216, 220, 180, 185, 200, 210, 220, 185, 231, 210, 195, 200, 205, 200, 190, 250, 185, 180, 170, 180, 208, 235, 215, 244, 220, 185, 230, 190, 200, 180, 190, 196, 180, 230, 224, 160, 178, 205, 185, 210, 180, 190, 200, 257, 190, 220, 165, 205, 200, 208, 185, 215, 170, 235, 210, 170, 180, 170, 190, 150, 230, 203, 260, 246, 186, 210, 198, 210, 215, 180, 200, 245, 200, 192, 192, 200, 192, 205, 190, 186, 170, 197, 219, 200, 220, 207, 225, 207, 212, 225, 170, 190, 210, 230, 210, 200, 238, 234, 222, 200, 190, 170, 220, 223, 210, 215, 196, 175, 175, 189, 205, 210, 180, 180, 197, 220, 228, 190, 204, 165, 216, 220, 208, 210, 215, 195, 200, 215, 229, 240, 207, 205, 208, 185, 190, 170, 208, 225, 190, 225, 185, 180, 165, 240, 220, 212, 163, 215, 175, 205, 210, 205, 208, 215, 180, 200, 230, 211, 230, 190, 220, 180, 205, 190, 180, 205, 190, 195]"
      ],
      "metadata": {
        "id": "cAgjt9SKf8EM"
      },
      "execution_count": null,
      "outputs": []
    },
    {
      "cell_type": "code",
      "source": [
        "# Converting weights in lbs to kg\n",
        "\n",
        "weights_kg = np.array(weights_lb) * 0.453592\n",
        "\n",
        "weights_kg"
      ],
      "metadata": {
        "colab": {
          "base_uri": "https://localhost:8080/"
        },
        "id": "Gy41Yy0Qf_1B",
        "outputId": "ad46c3f3-7b6d-4ca0-a14a-187e135ff171"
      },
      "execution_count": null,
      "outputs": [
        {
          "output_type": "execute_result",
          "data": {
            "text/plain": [
              "array([81.64656, 97.52228, 95.25432, ..., 92.98636, 86.18248, 88.45044])"
            ]
          },
          "metadata": {},
          "execution_count": 14
        }
      ]
    },
    {
      "cell_type": "code",
      "source": [
        "# Calculate the BMI: bmi\n",
        "\n",
        "bmi = weights_kg / (heights_m ** 2)\n",
        "\n",
        "bmi\n"
      ],
      "metadata": {
        "colab": {
          "base_uri": "https://localhost:8080/"
        },
        "id": "le1DeRa0gCkw",
        "outputId": "61d6ab83-a117-45ff-9960-02d299cfeb94"
      },
      "execution_count": null,
      "outputs": [
        {
          "output_type": "execute_result",
          "data": {
            "text/plain": [
              "array([23.11037639, 27.60406069, 28.48080465, ..., 25.62295933,\n",
              "       23.74810865, 25.72686361])"
            ]
          },
          "metadata": {},
          "execution_count": 15
        }
      ]
    },
    {
      "cell_type": "markdown",
      "source": [
        "<h4 style = \"color : Sky blue\"> Sub-Setting Arrays</h4>\n",
        "\n",
        "##### Fetch the first element from the bmi array"
      ],
      "metadata": {
        "id": "ZtAk4VFRgGQi"
      }
    },
    {
      "cell_type": "code",
      "source": [
        "bmi[0]"
      ],
      "metadata": {
        "colab": {
          "base_uri": "https://localhost:8080/"
        },
        "id": "ZBcqk7v2gIEp",
        "outputId": "e0968a08-d9d9-4081-ea0c-dff22a3478d5"
      },
      "execution_count": null,
      "outputs": [
        {
          "output_type": "execute_result",
          "data": {
            "text/plain": [
              "23.11037638875862"
            ]
          },
          "metadata": {},
          "execution_count": 16
        }
      ]
    },
    {
      "cell_type": "markdown",
      "source": [
        "##### Fetch the last element from the bmi array"
      ],
      "metadata": {
        "id": "lLfN7RCCgKoN"
      }
    },
    {
      "cell_type": "code",
      "source": [
        "bmi[-1]"
      ],
      "metadata": {
        "id": "b6QKW5s3gMMN"
      },
      "execution_count": null,
      "outputs": []
    },
    {
      "cell_type": "markdown",
      "source": [
        "#####  Fetch the first 5 elements from the bmi array"
      ],
      "metadata": {
        "id": "_AUKMA4OgOta"
      }
    },
    {
      "cell_type": "code",
      "source": [
        "bmi[0:5]"
      ],
      "metadata": {
        "colab": {
          "base_uri": "https://localhost:8080/"
        },
        "id": "U1F7Fv2egQIC",
        "outputId": "f97a49a2-5904-4f0f-cc91-5023682b4be7"
      },
      "execution_count": null,
      "outputs": [
        {
          "output_type": "execute_result",
          "data": {
            "text/plain": [
              "array([23.11037639, 27.60406069, 28.48080465, 28.48080465, 24.80333518])"
            ]
          },
          "metadata": {},
          "execution_count": 17
        }
      ]
    },
    {
      "cell_type": "code",
      "source": [
        "##### Fetch the last 5 elements from the bmi array"
      ],
      "metadata": {
        "id": "z18gG-86gSMT"
      },
      "execution_count": null,
      "outputs": []
    },
    {
      "cell_type": "code",
      "source": [
        "bmi[-5:]"
      ],
      "metadata": {
        "colab": {
          "base_uri": "https://localhost:8080/"
        },
        "id": "Ei9Jm6T3gWaY",
        "outputId": "db09cf40-fa73-43bc-877a-b65452964e59"
      },
      "execution_count": null,
      "outputs": [
        {
          "output_type": "execute_result",
          "data": {
            "text/plain": [
              "array([25.06720044, 23.11037639, 25.62295933, 23.74810865, 25.72686361])"
            ]
          },
          "metadata": {},
          "execution_count": 18
        }
      ]
    },
    {
      "cell_type": "markdown",
      "source": [
        "<h4 style = \"color : Sky blue\"> Conditional Sub-Setting Arrays</h4>\n",
        "\n",
        "##### Count the number of pariticipants who are underweight i.e. bmi < 21\n"
      ],
      "metadata": {
        "id": "EF22p9tgiCt1"
      }
    },
    {
      "cell_type": "code",
      "source": [
        "bmi < 21 # returns true or false for each value"
      ],
      "metadata": {
        "colab": {
          "base_uri": "https://localhost:8080/"
        },
        "id": "8lMSiChZiDPP",
        "outputId": "953a32e6-52f3-4603-c6a1-0701c83bcd79"
      },
      "execution_count": null,
      "outputs": [
        {
          "output_type": "execute_result",
          "data": {
            "text/plain": [
              "array([False, False, False, ..., False, False, False])"
            ]
          },
          "metadata": {},
          "execution_count": 19
        }
      ]
    },
    {
      "cell_type": "code",
      "source": [
        "bmi [ bmi<21] # returns all values that are smaller than 21 in an array"
      ],
      "metadata": {
        "colab": {
          "base_uri": "https://localhost:8080/"
        },
        "id": "phJuNCrmkJxG",
        "outputId": "730f44ee-c447-4f14-b574-4ee90b79f8f5"
      },
      "execution_count": null,
      "outputs": [
        {
          "output_type": "execute_result",
          "data": {
            "text/plain": [
              "array([20.54255679, 20.54255679, 20.69282047, 20.69282047, 20.34343189,\n",
              "       20.34343189, 20.69282047, 20.15883472, 19.4984471 , 20.69282047,\n",
              "       20.9205219 ])"
            ]
          },
          "metadata": {},
          "execution_count": 22
        }
      ]
    },
    {
      "cell_type": "code",
      "source": [
        "underweight_players = bmi [ bmi<21]\n",
        "underweight_players"
      ],
      "metadata": {
        "colab": {
          "base_uri": "https://localhost:8080/"
        },
        "id": "y1GwNg06kjw3",
        "outputId": "983bd148-126a-47ee-d36c-0c61572831f3"
      },
      "execution_count": null,
      "outputs": [
        {
          "output_type": "execute_result",
          "data": {
            "text/plain": [
              "array([20.54255679, 20.54255679, 20.69282047, 20.69282047, 20.34343189,\n",
              "       20.34343189, 20.69282047, 20.15883472, 19.4984471 , 20.69282047,\n",
              "       20.9205219 ])"
            ]
          },
          "metadata": {},
          "execution_count": 23
        }
      ]
    },
    {
      "cell_type": "code",
      "source": [
        "underweight_players.size"
      ],
      "metadata": {
        "colab": {
          "base_uri": "https://localhost:8080/"
        },
        "id": "o93huwI5kp9u",
        "outputId": "1e805f55-6267-46c6-b6c7-4f594fdab870"
      },
      "execution_count": null,
      "outputs": [
        {
          "output_type": "execute_result",
          "data": {
            "text/plain": [
              "11"
            ]
          },
          "metadata": {},
          "execution_count": 24
        }
      ]
    },
    {
      "cell_type": "markdown",
      "source": [
        "<h4 style = \"color : Sky blue\"> NumPy Functions</h4>"
      ],
      "metadata": {
        "id": "-OH0MnWXlRbG"
      }
    },
    {
      "cell_type": "markdown",
      "source": [
        "##### Find the largest BMI value"
      ],
      "metadata": {
        "id": "waElP-kRlR8A"
      }
    },
    {
      "cell_type": "code",
      "source": [
        "max(bmi)"
      ],
      "metadata": {
        "colab": {
          "base_uri": "https://localhost:8080/"
        },
        "id": "KZaIiECXlUlU",
        "outputId": "3f9ae928-9d63-4392-a299-08b9063c5a61"
      },
      "execution_count": null,
      "outputs": [
        {
          "output_type": "execute_result",
          "data": {
            "text/plain": [
              "35.26194861031698"
            ]
          },
          "metadata": {},
          "execution_count": 25
        }
      ]
    },
    {
      "cell_type": "code",
      "source": [
        "bmi.max()"
      ],
      "metadata": {
        "colab": {
          "base_uri": "https://localhost:8080/"
        },
        "id": "Dpq14A7mlW2W",
        "outputId": "6859db91-c9fc-49b3-c6d8-405da7ead49f"
      },
      "execution_count": null,
      "outputs": [
        {
          "output_type": "execute_result",
          "data": {
            "text/plain": [
              "35.26194861031698"
            ]
          },
          "metadata": {},
          "execution_count": 26
        }
      ]
    },
    {
      "cell_type": "markdown",
      "source": [
        "##### Find lowest BMI value"
      ],
      "metadata": {
        "id": "trpmhMavlURh"
      }
    },
    {
      "cell_type": "code",
      "source": [
        "bmi.min()"
      ],
      "metadata": {
        "id": "cOJKpBlOlY-0"
      },
      "execution_count": null,
      "outputs": []
    },
    {
      "cell_type": "markdown",
      "source": [
        "##### Find average BMI value"
      ],
      "metadata": {
        "id": "zkDs06RDlb75"
      }
    },
    {
      "cell_type": "code",
      "source": [
        "bmi.mean()"
      ],
      "metadata": {
        "id": "GqN6Y30WlcZD"
      },
      "execution_count": null,
      "outputs": []
    },
    {
      "cell_type": "markdown",
      "source": [
        "**Extracting Elements from Array**\n",
        "Description\n",
        "From a given array, extract all the elements which are greater than 'm' and less than 'n'. Note: 'm' and 'n' are integer values provided as input.\n",
        "\n",
        "\n",
        "\n",
        "Input format:\n",
        "\n",
        "A list of integers on line one\n",
        "\n",
        "Integer 'm' on line two\n",
        "\n",
        "Integer 'n' on line three\n",
        "\n",
        "\n",
        "\n",
        "Output format:\n",
        "\n",
        "1-D array containing integers greater than 'm' and smaller than 'n'.\n",
        "\n",
        "\n",
        "\n",
        "\n",
        "\n",
        "Sample input:\n",
        "\n",
        "[ 1, 5, 9, 12, 15, 7, 12, 9 ] (array)\n",
        "\n",
        "6 (m)\n",
        "\n",
        "12 (n)\n",
        "\n",
        "\n",
        "\n",
        "Sample output:\n",
        "\n",
        "[ 9 7 9 ]"
      ],
      "metadata": {
        "id": "IK0513Q_22iC"
      }
    },
    {
      "cell_type": "code",
      "source": [
        "import numpy as np\n",
        "m = 6\n",
        "n = 12\n",
        "input_list = [1, 5, 9, 12, 15, 7, 12, 9]\n",
        "np_array = np.array(input_list)\n",
        "output = np_array[(np_array > m) & (np_array < n)]\n",
        "print(output)"
      ],
      "metadata": {
        "colab": {
          "base_uri": "https://localhost:8080/"
        },
        "id": "X1jpGeuv230V",
        "outputId": "f7bf566c-9889-4f28-eb84-c7feafbf6332"
      },
      "execution_count": null,
      "outputs": [
        {
          "output_type": "stream",
          "name": "stdout",
          "text": [
            "[9 7 9]\n"
          ]
        }
      ]
    },
    {
      "cell_type": "markdown",
      "source": [
        "**Practice exercise**\n",
        "\n",
        "\n",
        "You are provided with 2 lists that contain the data of an ecommerce website. The first list contains the data for the number of items sold for a particular product and the second list contains the price of the product sold. As a part of this exercise, solve the questions that are provided below."
      ],
      "metadata": {
        "id": "XVEXD8xJ5f1V"
      }
    },
    {
      "cell_type": "code",
      "source": [
        "number = [8, 9, 9, 1, 6, 9, 5, 7, 3, 9, 7, 3, 4, 8, 3, 5, 8, 4, 8, 7, 5, 7, 3, 6, 1, 2, 7, 4, 7, 7, 8, 4, 3, 4, 2, 2, 2, 7, 3, 5, 6, 1, 1, 3, 2, 1, 1, 7, 7, 1, 4, 4, 5, 6, 1, 2, 7, 4, 5, 8, 1, 4, 8, 6, 2, 4, 3, 7, 3, 6, 2, 3, 3, 3, 2, 4, 6, 8, 9, 3, 9, 3, 1, 8, 6, 6, 3, 3, 9, 4, 6, 4, 9, 6, 7, 1, 2, 8, 7, 8, 1, 4]\n",
        "price = [195, 225, 150, 150, 90, 60, 75, 255, 270, 225, 135, 195, 30, 15, 210, 105, 15, 30, 180, 60, 165, 60, 45, 225, 180, 90, 30, 210, 150, 15, 270, 60, 210, 180, 60, 225, 150, 150, 120, 195, 75, 240, 60, 45, 30, 180, 240, 285, 135, 165, 180, 240, 60, 105, 165, 240, 120, 45, 120, 165, 285, 225, 90, 105, 225, 45, 45, 45, 75, 180, 90, 240, 30, 30, 60, 135, 180, 15, 255, 180, 270, 135, 105, 135, 210, 180, 135, 195, 225, 75, 225, 15, 240, 60, 15, 180, 255, 90, 15, 150, 230, 150]"
      ],
      "metadata": {
        "id": "cEkK4jIX5qUn"
      },
      "execution_count": null,
      "outputs": []
    },
    {
      "cell_type": "markdown",
      "source": [
        "How many different products are sold by the company in total?\n"
      ],
      "metadata": {
        "id": "CCjNXCZS5wU_"
      }
    },
    {
      "cell_type": "code",
      "source": [
        "len(number)\n",
        "len(price)\n",
        "np_numbers = np.array(number)\n",
        "np_numbers.size"
      ],
      "metadata": {
        "colab": {
          "base_uri": "https://localhost:8080/"
        },
        "id": "9KHkFHbc5vbh",
        "outputId": "7cf81c03-4506-4c0d-a420-f0169152335b"
      },
      "execution_count": null,
      "outputs": [
        {
          "output_type": "execute_result",
          "data": {
            "text/plain": [
              "102"
            ]
          },
          "metadata": {},
          "execution_count": 18
        }
      ]
    },
    {
      "cell_type": "markdown",
      "source": [
        "How many items were sold in total?"
      ],
      "metadata": {
        "id": "KniuBDb96Tu8"
      }
    },
    {
      "cell_type": "code",
      "source": [
        "import numpy as np\n",
        "total_items_sold = np.sum(number)\n",
        "\n",
        "print(total_items_sold)"
      ],
      "metadata": {
        "colab": {
          "base_uri": "https://localhost:8080/"
        },
        "id": "vci3NG_D6TPJ",
        "outputId": "c7e36259-b1f9-4d5d-b61f-2b957b32765a"
      },
      "execution_count": null,
      "outputs": [
        {
          "output_type": "stream",
          "name": "stdout",
          "text": [
            "490\n"
          ]
        }
      ]
    },
    {
      "cell_type": "markdown",
      "source": [
        "What is the avg price of the products sold by the ecom company?"
      ],
      "metadata": {
        "id": "sSDPEuk5S_1Q"
      }
    },
    {
      "cell_type": "code",
      "source": [
        "import numpy as np\n",
        "np_prices = np.array(price)\n",
        "\n",
        "avg_price = np_prices.mean()\n",
        "print(avg_price)"
      ],
      "metadata": {
        "colab": {
          "base_uri": "https://localhost:8080/"
        },
        "id": "ztw6EjUbTMkp",
        "outputId": "5cc8738e-fc80-4570-9c58-2c902f66276a"
      },
      "execution_count": null,
      "outputs": [
        {
          "output_type": "stream",
          "name": "stdout",
          "text": [
            "139.01960784313727\n"
          ]
        }
      ]
    },
    {
      "cell_type": "markdown",
      "source": [
        "What is the price of the costiest item sold?"
      ],
      "metadata": {
        "id": "1B0lx1prT7pJ"
      }
    },
    {
      "cell_type": "code",
      "source": [
        "most_expensive = np_prices.max()\n",
        "print(most_expensive)"
      ],
      "metadata": {
        "colab": {
          "base_uri": "https://localhost:8080/"
        },
        "id": "jCKdd5zmT_pp",
        "outputId": "de73e303-e0a2-4eec-f5a6-3935266a551c"
      },
      "execution_count": null,
      "outputs": [
        {
          "output_type": "stream",
          "name": "stdout",
          "text": [
            "285\n"
          ]
        }
      ]
    },
    {
      "cell_type": "code",
      "source": [
        "max(np_prices)"
      ],
      "metadata": {
        "colab": {
          "base_uri": "https://localhost:8080/"
        },
        "id": "CKGu1gKkYVBk",
        "outputId": "caa400cf-0aaf-4390-fcd2-7f1c42988118"
      },
      "execution_count": null,
      "outputs": [
        {
          "output_type": "execute_result",
          "data": {
            "text/plain": [
              "285"
            ]
          },
          "metadata": {},
          "execution_count": 19
        }
      ]
    },
    {
      "cell_type": "markdown",
      "source": [
        "What is the total revenue of the company?\n",
        "\n",
        "Revenue = Price * Quantity"
      ],
      "metadata": {
        "id": "a8W79LolUJCN"
      }
    },
    {
      "cell_type": "code",
      "source": [
        "np_nums = np.array(number)\n",
        "revenue = np_nums * np_prices\n",
        "sum = sum(revenue)\n",
        "print(sum)"
      ],
      "metadata": {
        "colab": {
          "base_uri": "https://localhost:8080/"
        },
        "id": "uQW6StKlU8Vj",
        "outputId": "75524b6a-dbfa-42f7-83ff-17a39ed5f949"
      },
      "execution_count": null,
      "outputs": [
        {
          "output_type": "stream",
          "name": "stdout",
          "text": [
            "67100\n"
          ]
        }
      ]
    },
    {
      "cell_type": "code",
      "source": [
        "np.sum(np_prices*np_nums)"
      ],
      "metadata": {
        "colab": {
          "base_uri": "https://localhost:8080/"
        },
        "id": "fVdYymQ9YbZs",
        "outputId": "1a950835-9828-4c0a-e5da-cc60c262073b"
      },
      "execution_count": null,
      "outputs": [
        {
          "output_type": "execute_result",
          "data": {
            "text/plain": [
              "67100"
            ]
          },
          "metadata": {},
          "execution_count": 20
        }
      ]
    },
    {
      "cell_type": "markdown",
      "source": [
        "Demand for the 20th product in the list is more than the 50th product (Truen or False)"
      ],
      "metadata": {
        "id": "pvm4ugNSVhMn"
      }
    },
    {
      "cell_type": "code",
      "source": [
        "number[19] > number[49]"
      ],
      "metadata": {
        "colab": {
          "base_uri": "https://localhost:8080/"
        },
        "id": "J4-4r6WqVpX3",
        "outputId": "39e11ffd-c546-47b5-e20e-d688d4a317fd"
      },
      "execution_count": null,
      "outputs": [
        {
          "output_type": "execute_result",
          "data": {
            "text/plain": [
              "True"
            ]
          },
          "metadata": {},
          "execution_count": 10
        }
      ]
    },
    {
      "cell_type": "markdown",
      "source": [
        "How many products fall under the category of expensive goods?\n",
        "\n",
        "Expensive means more expensive than avg"
      ],
      "metadata": {
        "id": "l5cUtEq5WCM9"
      }
    },
    {
      "cell_type": "code",
      "source": [
        "expensive_goods = np_prices[(np_prices > avg_price)]\n",
        "nr_of_expensive_goods = len(expensive_goods)\n",
        "print(nr_of_expensive_goods)\n"
      ],
      "metadata": {
        "colab": {
          "base_uri": "https://localhost:8080/"
        },
        "id": "hhGdDLvlWNIc",
        "outputId": "9aa7d26f-5f3d-4324-b7a2-b1e52209ff76"
      },
      "execution_count": null,
      "outputs": [
        {
          "output_type": "stream",
          "name": "stdout",
          "text": [
            "52\n"
          ]
        }
      ]
    },
    {
      "cell_type": "code",
      "source": [
        "# quicker way:\n",
        "np_prices[np_prices > np_prices.mean()].size"
      ],
      "metadata": {
        "colab": {
          "base_uri": "https://localhost:8080/"
        },
        "id": "EHRdfvCWXlmI",
        "outputId": "90e05b91-8d7a-4c2e-c3ec-e12496cdeaeb"
      },
      "execution_count": null,
      "outputs": [
        {
          "output_type": "execute_result",
          "data": {
            "text/plain": [
              "52"
            ]
          },
          "metadata": {},
          "execution_count": 15
        }
      ]
    },
    {
      "cell_type": "markdown",
      "source": [
        "**Multidimensional Arrays**"
      ],
      "metadata": {
        "id": "nkkxZ4gdYrrn"
      }
    },
    {
      "cell_type": "code",
      "source": [
        "import numpy as np\n",
        "#1-D array :\n",
        "OneD_array = [1, 2, 3, 4, 5]\n",
        "#2-D array :\n",
        "TwoD_array = [ [1, 2, 3, 4, 5], [6, 7, 8, 9, 10] ]\n",
        "np_2d_array = np.array(TwoD_array)\n",
        "type(np_2d_array)"
      ],
      "metadata": {
        "colab": {
          "base_uri": "https://localhost:8080/"
        },
        "id": "hj_71JBUtqoK",
        "outputId": "8c80d720-5347-4c8c-e5b4-8e7cfa7119f5"
      },
      "execution_count": null,
      "outputs": [
        {
          "output_type": "execute_result",
          "data": {
            "text/plain": [
              "numpy.ndarray"
            ]
          },
          "metadata": {},
          "execution_count": 5
        }
      ]
    },
    {
      "cell_type": "markdown",
      "source": [
        "# **Case study tournament example**"
      ],
      "metadata": {
        "id": "OdXLv5QqcpE0"
      }
    },
    {
      "cell_type": "code",
      "source": [
        "##### Players list contain the height(inches) and weight(lbs) data for all the players\n",
        "# list of height and weight of the players.\n",
        "players = [(74, 180), (74, 215), (72, 210), (72, 210), (73, 188), (69, 176), (69, 209), (71, 200), (76, 231), (71, 180), (73, 188), (73, 180), (74, 185), (74, 160), (69, 180), (70, 185), (73, 189), (75, 185), (78, 219), (79, 230), (76, 205), (74, 230), (76, 195), (72, 180), (71, 192), (75, 225), (77, 203), (74, 195), (73, 182), (74, 188), (78, 200), (73, 180), (75, 200), (73, 200), (75, 245), (75, 240), (74, 215), (69, 185), (71, 175), (74, 199), (73, 200), (73, 215), (76, 200), (74, 205), (74, 206), (70, 186), (72, 188), (77, 220), (74, 210), (70, 195), (73, 200), (75, 200), (76, 212), (76, 224), (78, 210), (74, 205), (74, 220), (76, 195), (77, 200), (81, 260), (78, 228), (75, 270), (77, 200), (75, 210), (76, 190), (74, 220), (72, 180), (72, 205), (75, 210), (73, 220), (73, 211), (73, 200), (70, 180), (70, 190), (70, 170), (76, 230), (68, 155), (71, 185), (72, 185), (75, 200), (75, 225), (75, 225), (75, 220), (68, 160), (74, 205), (78, 235), (71, 250), (73, 210), (76, 190), (74, 160), (74, 200), (79, 205), (75, 222), (73, 195), (76, 205), (74, 220), (74, 220), (73, 170), (72, 185), (74, 195), (73, 220), (74, 230), (72, 180), (73, 220), (69, 180), (72, 180), (73, 170), (75, 210), (75, 215), (73, 200), (72, 213), (72, 180), (76, 192), (74, 235), (72, 185), (77, 235), (74, 210), (77, 222), (75, 210), (76, 230), (80, 220), (74, 180), (74, 190), (75, 200), (78, 210), (73, 194), (73, 180), (74, 190), (75, 240), (76, 200), (71, 198), (73, 200), (74, 195), (76, 210), (76, 220), (74, 190), (73, 210), (74, 225), (70, 180), (72, 185), (73, 170), (73, 185), (73, 185), (73, 180), (71, 178), (74, 175), (74, 200), (72, 204), (74, 211), (71, 190), (74, 210), (73, 190), (75, 190), (75, 185), (79, 290), (73, 175), (75, 185), (76, 200), (74, 220), (76, 170), (78, 220), (74, 190), (76, 220), (72, 205), (74, 200), (76, 250), (74, 225), (75, 215), (78, 210), (75, 215), (72, 195), (74, 200), (72, 194), (74, 220), (70, 180), (71, 180), (70, 170), (75, 195), (71, 180), (71, 170), (73, 206), (72, 205), (71, 200), (73, 225), (72, 201), (75, 225), (74, 233), (74, 180), (75, 225), (73, 180), (77, 220), (73, 180), (76, 237), (75, 215), (74, 190), (76, 235), (75, 190), (73, 180), (71, 165), (76, 195), (75, 200), (72, 190), (71, 190), (77, 185), (73, 185), (74, 205), (71, 190), (72, 205), (74, 206), (75, 220), (73, 208), (72, 170), (75, 195), (75, 210), (74, 190), (72, 211), (74, 230), (71, 170), (70, 185), (74, 185), (77, 241), (77, 225), (75, 210), (75, 175), (78, 230), (75, 200), (76, 215), (73, 198), (75, 226), (75, 278), (79, 215), (77, 230), (76, 240), (71, 184), (75, 219), (74, 170), (69, 218), (71, 190), (76, 225), (72, 220), (72, 176), (70, 190), (72, 197), (73, 204), (71, 167), (72, 180), (71, 195), (73, 220), (72, 215), (73, 185), (74, 190), (74, 205), (72, 205), (75, 200), (74, 210), (74, 215), (77, 200), (75, 205), (73, 211), (72, 190), (71, 208), (74, 200), (77, 210), (75, 232), (75, 230), (75, 210), (78, 220), (78, 210), (74, 202), (76, 212), (78, 225), (76, 170), (70, 190), (72, 200), (80, 237), (74, 220), (74, 170), (71, 193), (70, 190), (72, 150), (71, 220), (74, 200), (71, 190), (72, 185), (71, 185), (74, 200), (69, 172), (76, 220), (75, 225), (75, 190), (76, 195), (73, 219), (76, 190), (73, 197), (77, 200), (73, 195), (72, 210), (72, 177), (77, 220), (77, 235), (71, 180), (74, 195), (74, 195), (73, 190), (78, 230), (75, 190), (73, 200), (70, 190), (74, 190), (72, 200), (73, 200), (73, 184), (75, 200), (75, 180), (74, 219), (76, 187), (73, 200), (74, 220), (75, 205), (75, 190), (72, 170), (73, 160), (73, 215), (72, 175), (74, 205), (78, 200), (76, 214), (73, 200), (74, 190), (75, 180), (70, 205), (75, 220), (71, 190), (72, 215), (78, 235), (75, 191), (73, 200), (73, 181), (71, 200), (75, 210), (77, 240), (72, 185), (69, 165), (73, 190), (74, 185), (72, 175), (70, 155), (75, 210), (70, 170), (72, 175), (72, 220), (74, 210), (73, 205), (74, 200), (76, 205), (75, 195), (80, 240), (72, 150), (75, 200), (73, 215), (74, 202), (74, 200), (73, 190), (75, 205), (75, 190), (71, 160), (73, 215), (75, 185), (74, 200), (74, 190), (72, 210), (74, 185), (74, 220), (74, 190), (73, 202), (76, 205), (75, 220), (72, 175), (73, 160), (73, 190), (73, 200), (72, 229), (72, 206), (72, 220), (72, 180), (71, 195), (75, 175), (75, 188), (74, 230), (73, 190), (75, 200), (79, 190), (74, 219), (76, 235), (73, 180), (74, 180), (74, 180), (72, 200), (74, 234), (74, 185), (75, 220), (78, 223), (74, 200), (74, 210), (74, 200), (77, 210), (70, 190), (73, 177), (74, 227), (73, 180), (71, 195), (75, 199), (71, 175), (72, 185), (77, 240), (74, 210), (70, 180), (77, 194), (73, 225), (72, 180), (76, 205), (71, 193), (76, 230), (78, 230), (75, 220), (73, 200), (78, 249), (74, 190), (79, 208), (75, 245), (76, 250), (72, 160), (75, 192), (75, 220), (70, 170), (72, 197), (70, 155), (74, 190), (71, 200), (76, 220), (73, 210), (76, 228), (71, 190), (69, 160), (72, 184), (72, 180), (69, 180), (73, 200), (69, 176), (73, 160), (74, 222), (74, 211), (72, 195), (71, 200), (72, 175), (72, 206), (76, 240), (76, 185), (76, 260), (74, 185), (76, 221), (75, 205), (71, 200), (72, 170), (71, 201), (73, 205), (75, 185), (76, 205), (75, 245), (71, 220), (75, 210), (74, 220), (72, 185), (73, 175), (73, 170), (73, 180), (73, 200), (76, 210), (72, 175), (76, 220), (73, 206), (73, 180), (73, 210), (75, 195), (75, 200), (77, 200), (73, 164), (72, 180), (75, 220), (70, 195), (74, 205), (72, 170), (80, 240), (71, 210), (71, 195), (74, 200), (74, 205), (73, 192), (75, 190), (76, 170), (73, 240), (77, 200), (72, 205), (73, 175), (77, 250), (76, 220), (71, 224), (75, 210), (73, 195), (74, 180), (77, 245), (71, 175), (72, 180), (73, 215), (69, 175), (73, 180), (70, 195), (74, 230), (76, 230), (73, 205), (73, 215), (75, 195), (73, 180), (79, 205), (74, 180), (73, 190), (74, 180), (77, 190), (75, 190), (74, 220), (73, 210), (77, 255), (73, 190), (77, 230), (74, 200), (74, 205), (73, 210), (77, 225), (74, 215), (77, 220), (75, 205), (77, 200), (75, 220), (71, 197), (74, 225), (70, 187), (79, 245), (72, 185), (72, 185), (70, 175), (74, 200), (74, 180), (72, 188), (73, 225), (72, 200), (74, 210), (74, 245), (76, 213), (82, 231), (74, 165), (74, 228), (70, 210), (73, 250), (73, 191), (74, 190), (77, 200), (72, 215), (76, 254), (73, 232), (73, 180), (72, 215), (74, 220), (74, 180), (71, 200), (72, 170), (75, 195), (74, 210), (74, 200), (77, 220), (70, 165), (71, 180), (73, 200), (76, 200), (71, 170), (75, 224), (74, 220), (72, 180), (76, 198), (79, 240), (76, 239), (73, 185), (76, 210), (78, 220), (75, 200), (76, 195), (72, 220), (72, 230), (73, 170), (73, 220), (75, 230), (71, 165), (76, 205), (70, 192), (75, 210), (74, 205), (75, 200), (73, 210), (71, 185), (71, 195), (72, 202), (73, 205), (73, 195), (72, 180), (69, 200), (73, 185), (78, 240), (71, 185), (73, 220), (75, 205), (76, 205), (70, 180), (74, 201), (77, 190), (75, 208), (79, 240), (72, 180), (77, 230), (73, 195), (75, 215), (75, 190), (75, 195), (73, 215), (73, 215), (76, 220), (77, 220), (75, 230), (70, 195), (71, 190), (71, 195), (75, 209), (74, 204), (69, 170), (70, 185), (75, 205), (72, 175), (75, 210), (73, 190), (72, 180), (72, 180), (72, 160), (76, 235), (75, 200), (74, 210), (69, 180), (73, 190), (72, 197), (72, 203), (75, 205), (77, 170), (76, 200), (80, 250), (77, 200), (76, 220), (79, 200), (71, 190), (75, 170), (73, 190), (76, 220), (77, 215), (73, 206), (76, 215), (70, 185), (75, 235), (73, 188), (75, 230), (70, 195), (69, 168), (71, 190), (72, 160), (72, 200), (73, 200), (70, 189), (70, 180), (73, 190), (76, 200), (75, 220), (72, 187), (73, 240), (79, 190), (71, 180), (72, 185), (74, 210), (74, 220), (74, 219), (72, 190), (76, 193), (76, 175), (72, 180), (72, 215), (71, 210), (72, 200), (72, 190), (70, 185), (77, 220), (74, 170), (72, 195), (76, 205), (71, 195), (76, 210), (71, 190), (73, 190), (70, 180), (73, 220), (73, 190), (72, 186), (71, 185), (71, 190), (71, 180), (72, 190), (72, 170), (74, 210), (74, 240), (74, 220), (71, 180), (72, 210), (75, 210), (72, 195), (71, 160), (72, 180), (72, 205), (72, 200), (72, 185), (74, 245), (74, 190), (77, 210), (75, 200), (73, 200), (75, 222), (73, 215), (76, 240), (72, 170), (77, 220), (75, 156), (72, 190), (71, 202), (71, 221), (75, 200), (72, 190), (73, 210), (73, 190), (71, 200), (70, 165), (75, 190), (71, 185), (76, 230), (73, 208), (68, 209), (71, 175), (72, 180), (74, 200), (77, 205), (72, 200), (76, 250), (78, 210), (81, 230), (72, 244), (73, 202), (76, 240), (72, 200), (72, 215), (74, 177), (76, 210), (73, 170), (76, 215), (75, 217), (70, 198), (71, 200), (74, 220), (72, 170), (73, 200), (76, 230), (76, 231), (73, 183), (71, 192), (68, 167), (71, 190), (71, 180), (74, 180), (77, 215), (69, 160), (72, 205), (76, 223), (75, 175), (76, 170), (75, 190), (76, 240), (72, 175), (74, 230), (76, 223), (74, 196), (72, 167), (75, 195), (78, 190), (77, 250), (70, 190), (72, 190), (79, 190), (74, 170), (71, 160), (68, 150), (77, 225), (75, 220), (71, 209), (72, 210), (70, 176), (72, 260), (72, 195), (73, 190), (72, 184), (74, 180), (72, 195), (72, 195), (75, 219), (72, 225), (73, 212), (74, 202), (72, 185), (78, 200), (75, 209), (72, 200), (74, 195), (75, 228), (75, 210), (76, 190), (74, 212), (74, 190), (73, 218), (74, 220), (71, 190), (74, 235), (75, 210), (76, 200), (74, 188), (76, 210), (76, 235), (73, 188), (75, 215), (75, 216), (74, 220), (68, 180), (72, 185), (75, 200), (71, 210), (70, 220), (72, 185), (73, 231), (72, 210), (75, 195), (74, 200), (70, 205), (76, 200), (71, 190), (82, 250), (72, 185), (73, 180), (74, 170), (71, 180), (75, 208), (77, 235), (72, 215), (74, 244), (72, 220), (73, 185), (78, 230), (77, 190), (73, 200), (73, 180), (73, 190), (73, 196), (73, 180), (76, 230), (75, 224), (70, 160), (73, 178), (72, 205), (73, 185), (75, 210), (74, 180), (73, 190), (73, 200), (76, 257), (73, 190), (75, 220), (70, 165), (77, 205), (72, 200), (77, 208), (74, 185), (75, 215), (75, 170), (75, 235), (75, 210), (72, 170), (74, 180), (71, 170), (76, 190), (71, 150), (75, 230), (76, 203), (83, 260), (75, 246), (74, 186), (76, 210), (72, 198), (72, 210), (75, 215), (75, 180), (72, 200), (77, 245), (73, 200), (72, 192), (70, 192), (74, 200), (72, 192), (74, 205), (72, 190), (71, 186), (70, 170), (71, 197), (76, 219), (74, 200), (76, 220), (74, 207), (74, 225), (74, 207), (75, 212), (75, 225), (71, 170), (71, 190), (74, 210), (77, 230), (71, 210), (74, 200), (75, 238), (77, 234), (76, 222), (74, 200), (76, 190), (72, 170), (71, 220), (72, 223), (75, 210), (73, 215), (68, 196), (72, 175), (69, 175), (73, 189), (73, 205), (75, 210), (70, 180), (70, 180), (74, 197), (75, 220), (74, 228), (74, 190), (73, 204), (74, 165), (75, 216), (77, 220), (73, 208), (74, 210), (76, 215), (74, 195), (75, 200), (73, 215), (76, 229), (78, 240), (75, 207), (73, 205), (77, 208), (74, 185), (72, 190), (74, 170), (72, 208), (71, 225), (73, 190), (75, 225), (73, 185), (67, 180), (67, 165), (76, 240), (74, 220), (73, 212), (70, 163), (75, 215), (70, 175), (72, 205), (77, 210), (79, 205), (78, 208), (74, 215), (75, 180), (75, 200), (78, 230), (76, 211), (75, 230), (69, 190), (75, 220), (72, 180), (75, 205), (73, 190), (74, 180), (75, 205), (75, 190), (73, 195)]\n"
      ],
      "metadata": {
        "id": "tRO4i1KUYwFm"
      },
      "execution_count": null,
      "outputs": []
    },
    {
      "cell_type": "code",
      "source": [
        "import numpy as np\n",
        "np_players = np.array(players)"
      ],
      "metadata": {
        "id": "0Kv0LHnSyMRO"
      },
      "execution_count": null,
      "outputs": []
    },
    {
      "cell_type": "code",
      "source": [
        "len(players)"
      ],
      "metadata": {
        "colab": {
          "base_uri": "https://localhost:8080/"
        },
        "id": "rpcF4ovDrts1",
        "outputId": "0bfb981c-2628-4155-cf6f-630aa16cee0e"
      },
      "execution_count": null,
      "outputs": [
        {
          "output_type": "execute_result",
          "data": {
            "text/plain": [
              "1015"
            ]
          },
          "metadata": {},
          "execution_count": 12
        }
      ]
    },
    {
      "cell_type": "code",
      "source": [
        "players[1][1]"
      ],
      "metadata": {
        "colab": {
          "base_uri": "https://localhost:8080/"
        },
        "id": "OC7_1T5IruA5",
        "outputId": "d7bc7d9a-5111-4fee-9856-4d3d183e1553"
      },
      "execution_count": null,
      "outputs": [
        {
          "output_type": "execute_result",
          "data": {
            "text/plain": [
              "215"
            ]
          },
          "metadata": {},
          "execution_count": 13
        }
      ]
    },
    {
      "cell_type": "code",
      "source": [
        "import numpy as np\n",
        "\n",
        "np_players = np.array(players)"
      ],
      "metadata": {
        "id": "1_jiBlwHrxmE"
      },
      "execution_count": null,
      "outputs": []
    },
    {
      "cell_type": "code",
      "source": [
        "np_players"
      ],
      "metadata": {
        "colab": {
          "base_uri": "https://localhost:8080/"
        },
        "id": "KHTsJUVcrzSb",
        "outputId": "4c409d46-db93-4131-e9b2-da20da4391c2"
      },
      "execution_count": null,
      "outputs": [
        {
          "output_type": "execute_result",
          "data": {
            "text/plain": [
              "array([[ 74, 180],\n",
              "       [ 74, 215],\n",
              "       [ 72, 210],\n",
              "       ...,\n",
              "       [ 75, 205],\n",
              "       [ 75, 190],\n",
              "       [ 73, 195]])"
            ]
          },
          "metadata": {},
          "execution_count": 15
        }
      ]
    },
    {
      "cell_type": "code",
      "source": [
        "type(np_players)"
      ],
      "metadata": {
        "colab": {
          "base_uri": "https://localhost:8080/"
        },
        "id": "Z4z1hS-fr0d7",
        "outputId": "9862fa96-0a29-49bf-e6df-e1b9d152d6a8"
      },
      "execution_count": null,
      "outputs": [
        {
          "output_type": "execute_result",
          "data": {
            "text/plain": [
              "numpy.ndarray"
            ]
          },
          "metadata": {},
          "execution_count": 16
        }
      ]
    },
    {
      "cell_type": "markdown",
      "source": [
        "<h4 style = \"color : Sky blue\"> Example - 2 (Numpy Attributes)</h4>"
      ],
      "metadata": {
        "id": "iFRHCNFkr22Q"
      }
    },
    {
      "cell_type": "code",
      "source": [
        "##### Print the structure of the 2-D Array\n",
        "np_players.shape # 1015 refers to nr of players, 2 = nr of info for each player"
      ],
      "metadata": {
        "colab": {
          "base_uri": "https://localhost:8080/"
        },
        "id": "ykdyf45wr3U_",
        "outputId": "dcaf20b1-7cfd-44cb-c74a-5dd333fe7ae5"
      },
      "execution_count": null,
      "outputs": [
        {
          "output_type": "execute_result",
          "data": {
            "text/plain": [
              "(1015, 2)"
            ]
          },
          "metadata": {},
          "execution_count": 8
        }
      ]
    },
    {
      "cell_type": "code",
      "source": [
        "##### Print the dimensions of the array\n",
        "np_players.ndim"
      ],
      "metadata": {
        "colab": {
          "base_uri": "https://localhost:8080/"
        },
        "id": "CHOJq145sAJ4",
        "outputId": "ef549276-0dc8-4f23-c6ff-5dc19af03f72"
      },
      "execution_count": null,
      "outputs": [
        {
          "output_type": "execute_result",
          "data": {
            "text/plain": [
              "2"
            ]
          },
          "metadata": {},
          "execution_count": 9
        }
      ]
    },
    {
      "cell_type": "code",
      "source": [
        "##### Print the data type of elements in the array\n",
        "np_players.dtype"
      ],
      "metadata": {
        "colab": {
          "base_uri": "https://localhost:8080/"
        },
        "id": "jBio8_RFsBj7",
        "outputId": "d80b0257-e14c-40a3-add3-b713cad09940"
      },
      "execution_count": null,
      "outputs": [
        {
          "output_type": "execute_result",
          "data": {
            "text/plain": [
              "dtype('int64')"
            ]
          },
          "metadata": {},
          "execution_count": 17
        }
      ]
    },
    {
      "cell_type": "code",
      "source": [
        "##### Print the size of a single item of the array\n",
        "np_players.itemsize"
      ],
      "metadata": {
        "colab": {
          "base_uri": "https://localhost:8080/"
        },
        "id": "mzbu7CgIsDB9",
        "outputId": "1e9ce852-ee9b-4bc8-a01b-049bc904b14f"
      },
      "execution_count": null,
      "outputs": [
        {
          "output_type": "execute_result",
          "data": {
            "text/plain": [
              "8"
            ]
          },
          "metadata": {},
          "execution_count": 18
        }
      ]
    },
    {
      "cell_type": "markdown",
      "source": [
        "<h4 style = \"color : Sky blue\"> Example - 3</h4>"
      ],
      "metadata": {
        "id": "h2rICHFWsEWT"
      }
    },
    {
      "cell_type": "code",
      "source": [
        "##### Convert the heights to meters and weights to kg. Multipying different elements in an array with diff values is called broadcasting\n",
        "players_converted = np_players * [0.0254, 0.453592]\n",
        "players_converted"
      ],
      "metadata": {
        "colab": {
          "base_uri": "https://localhost:8080/"
        },
        "id": "q-m7riVasHLT",
        "outputId": "67161d02-355b-44bf-8b3d-5f26232aa13e"
      },
      "execution_count": null,
      "outputs": [
        {
          "output_type": "execute_result",
          "data": {
            "text/plain": [
              "array([[ 1.8796 , 81.64656],\n",
              "       [ 1.8796 , 97.52228],\n",
              "       [ 1.8288 , 95.25432],\n",
              "       ...,\n",
              "       [ 1.905  , 92.98636],\n",
              "       [ 1.905  , 86.18248],\n",
              "       [ 1.8542 , 88.45044]])"
            ]
          },
          "metadata": {},
          "execution_count": 10
        }
      ]
    },
    {
      "cell_type": "code",
      "source": [
        "            axis 1\n",
        "       0     1     2\n",
        "axis 0 -------------------\n",
        "  0   | 0,0 | 0,1 | 0,2 |\n",
        "      -------------------\n",
        "  1   | 1,0 | 1,1 | 1,2 |\n",
        "      -------------------\n",
        "  2   | 2,0 | 2,1 | 2,2 |\n",
        "      -------------------\n"
      ],
      "metadata": {
        "id": "30DNoXVP0jym"
      },
      "execution_count": null,
      "outputs": []
    },
    {
      "cell_type": "markdown",
      "source": [
        "<h4 style = \"color : Sky blue\"> Sub-Setting 2-D Arrays</h4>"
      ],
      "metadata": {
        "id": "Lm0N3DCCsK0t"
      }
    },
    {
      "cell_type": "code",
      "source": [
        "##### Fetch the first row from the array\n",
        "players_converted[0]"
      ],
      "metadata": {
        "colab": {
          "base_uri": "https://localhost:8080/"
        },
        "id": "psOuXgq-sMhx",
        "outputId": "a29e1ba1-2c7f-4d2b-805d-2b80f9b74ace"
      },
      "execution_count": null,
      "outputs": [
        {
          "output_type": "execute_result",
          "data": {
            "text/plain": [
              "array([ 1.8796 , 81.64656])"
            ]
          },
          "metadata": {},
          "execution_count": 11
        }
      ]
    },
    {
      "cell_type": "code",
      "source": [
        "##### Fetch the first row 2nd element from the array\n",
        "players_converted[0][1]"
      ],
      "metadata": {
        "colab": {
          "base_uri": "https://localhost:8080/"
        },
        "id": "Jt7h0YKOsOCp",
        "outputId": "2e2966c4-2035-469e-b922-019e157f7328"
      },
      "execution_count": null,
      "outputs": [
        {
          "output_type": "execute_result",
          "data": {
            "text/plain": [
              "81.64656"
            ]
          },
          "metadata": {},
          "execution_count": 12
        }
      ]
    },
    {
      "cell_type": "code",
      "source": [
        "##### Fetch the first column from the array\n",
        "players_converted[:, 0]"
      ],
      "metadata": {
        "colab": {
          "base_uri": "https://localhost:8080/"
        },
        "id": "eoHjJSelsPjx",
        "outputId": "b9ad6b2b-b726-46b1-9b01-f646742794d2"
      },
      "execution_count": null,
      "outputs": [
        {
          "output_type": "execute_result",
          "data": {
            "text/plain": [
              "array([1.8796, 1.8796, 1.8288, ..., 1.905 , 1.905 , 1.8542])"
            ]
          },
          "metadata": {},
          "execution_count": 22
        }
      ]
    },
    {
      "cell_type": "code",
      "source": [
        "##### Fetch the height (1st column) of 125th player from the array\n",
        "players_converted[124][0]\n",
        "players_converted[124,0]"
      ],
      "metadata": {
        "colab": {
          "base_uri": "https://localhost:8080/"
        },
        "id": "5RbefTRpsRzg",
        "outputId": "4e038ed7-76af-45dd-83e5-2ddaf58bfe8d"
      },
      "execution_count": null,
      "outputs": [
        {
          "output_type": "execute_result",
          "data": {
            "text/plain": [
              "1.9811999999999999"
            ]
          },
          "metadata": {},
          "execution_count": 23
        }
      ]
    },
    {
      "cell_type": "markdown",
      "source": [
        "<h4 style = \"color : Sky blue\"> Conditional Sub-Setting Arrays</h4>"
      ],
      "metadata": {
        "id": "rU3FiKmzsTdC"
      }
    },
    {
      "cell_type": "code",
      "source": [
        "##### Fetch height and weight of players with height above 1.8m\n",
        "\n",
        "tall_players = players_converted[players_converted[:,0] > 1.8]\n",
        "print(tall_players)"
      ],
      "metadata": {
        "id": "gWUNl_WM6lbM",
        "outputId": "e77da70a-ad51-4e4f-d3ee-4c8513a3b088",
        "colab": {
          "base_uri": "https://localhost:8080/"
        }
      },
      "execution_count": null,
      "outputs": [
        {
          "output_type": "stream",
          "name": "stdout",
          "text": [
            "[[ 1.8796  81.64656]\n",
            " [ 1.8796  97.52228]\n",
            " [ 1.8288  95.25432]\n",
            " ...\n",
            " [ 1.905   92.98636]\n",
            " [ 1.905   86.18248]\n",
            " [ 1.8542  88.45044]]\n"
          ]
        }
      ]
    },
    {
      "cell_type": "code",
      "source": [
        "players_converted.shape"
      ],
      "metadata": {
        "colab": {
          "base_uri": "https://localhost:8080/"
        },
        "id": "XBcxqQ7LsVRb",
        "outputId": "873c4012-edaa-4c61-a97a-22d2b49652e4"
      },
      "execution_count": null,
      "outputs": [
        {
          "output_type": "execute_result",
          "data": {
            "text/plain": [
              "(1015, 2)"
            ]
          },
          "metadata": {},
          "execution_count": 14
        }
      ]
    },
    {
      "cell_type": "code",
      "source": [
        "tall_players.shape"
      ],
      "metadata": {
        "id": "mnLs_xpWcTdm",
        "colab": {
          "base_uri": "https://localhost:8080/"
        },
        "outputId": "6c9c0e5f-8311-446f-d6dc-46f788890821"
      },
      "execution_count": null,
      "outputs": [
        {
          "output_type": "execute_result",
          "data": {
            "text/plain": [
              "(936, 2)"
            ]
          },
          "metadata": {},
          "execution_count": 15
        }
      ]
    },
    {
      "cell_type": "code",
      "source": [
        "##### Skills Array - holds the player key skills.\n",
        "skills = np.array(['Keeper', 'Batsman', 'Bowler', 'Keeper-Batsman', 'Batsman', 'Keeper-Batsman', 'Batsman', 'Batsman', 'Batsman', 'Bowler', 'Batsman', 'Batsman', 'Bowler', 'Bowler', 'Bowler', 'Batsman', 'Keeper-Batsman', 'Bowler', 'Keeper-Batsman', 'Batsman', 'Keeper', 'Keeper-Batsman', 'Keeper-Batsman', 'Batsman', 'Batsman', 'Batsman', 'Batsman', 'Keeper-Batsman', 'Batsman', 'Keeper', 'Keeper-Batsman', 'Keeper', 'Keeper-Batsman', 'Keeper-Batsman', 'Batsman', 'Bowler', 'Batsman', 'Keeper-Batsman', 'Batsman', 'Keeper', 'Batsman', 'Keeper', 'Bowler', 'Keeper-Batsman', 'Keeper', 'Bowler', 'Keeper', 'Keeper', 'Keeper', 'Keeper', 'Bowler', 'Keeper-Batsman', 'Bowler', 'Keeper-Batsman', 'Keeper-Batsman', 'Batsman', 'Keeper-Batsman', 'Batsman', 'Keeper-Batsman', 'Keeper-Batsman', 'Keeper', 'Keeper', 'Keeper-Batsman', 'Batsman', 'Batsman', 'Keeper', 'Batsman', 'Keeper-Batsman', 'Batsman', 'Batsman', 'Keeper-Batsman', 'Keeper-Batsman', 'Batsman', 'Batsman', 'Keeper-Batsman', 'Bowler', 'Bowler', 'Batsman', 'Batsman', 'Batsman', 'Bowler', 'Keeper-Batsman', 'Keeper-Batsman', 'Bowler', 'Bowler', 'Batsman', 'Batsman', 'Batsman', 'Keeper-Batsman', 'Keeper-Batsman', 'Bowler', 'Bowler', 'Keeper-Batsman', 'Batsman', 'Batsman', 'Batsman', 'Keeper-Batsman', 'Batsman', 'Batsman', 'Keeper-Batsman', 'Batsman', 'Bowler', 'Batsman', 'Batsman', 'Keeper', 'Batsman', 'Keeper-Batsman', 'Batsman', 'Batsman', 'Keeper-Batsman', 'Batsman', 'Batsman', 'Bowler', 'Keeper', 'Keeper-Batsman', 'Batsman', 'Keeper', 'Batsman', 'Batsman', 'Batsman', 'Batsman', 'Keeper-Batsman', 'Keeper-Batsman', 'Batsman', 'Keeper-Batsman', 'Batsman', 'Keeper-Batsman', 'Batsman', 'Batsman', 'Bowler', 'Batsman', 'Keeper', 'Bowler', 'Batsman', 'Keeper-Batsman', 'Batsman', 'Keeper-Batsman', 'Keeper', 'Keeper-Batsman', 'Keeper-Batsman', 'Batsman', 'Bowler', 'Keeper', 'Batsman', 'Keeper-Batsman', 'Bowler', 'Keeper-Batsman', 'Bowler', 'Bowler', 'Batsman', 'Keeper-Batsman', 'Batsman', 'Bowler', 'Keeper', 'Keeper-Batsman', 'Batsman', 'Keeper', 'Bowler', 'Keeper-Batsman', 'Keeper-Batsman', 'Keeper-Batsman', 'Keeper', 'Keeper', 'Batsman', 'Keeper-Batsman', 'Keeper', 'Keeper-Batsman', 'Batsman', 'Keeper', 'Bowler', 'Keeper-Batsman', 'Keeper', 'Keeper', 'Keeper-Batsman', 'Batsman', 'Keeper', 'Keeper-Batsman', 'Keeper-Batsman', 'Keeper-Batsman', 'Batsman', 'Keeper-Batsman', 'Batsman', 'Keeper-Batsman', 'Keeper-Batsman', 'Bowler', 'Keeper-Batsman', 'Keeper-Batsman', 'Keeper-Batsman', 'Batsman', 'Batsman', 'Bowler', 'Keeper-Batsman', 'Batsman', 'Batsman', 'Keeper-Batsman', 'Batsman', 'Bowler', 'Bowler', 'Keeper-Batsman', 'Bowler', 'Keeper', 'Batsman', 'Bowler', 'Bowler', 'Keeper-Batsman', 'Keeper-Batsman', 'Bowler', 'Keeper-Batsman', 'Keeper', 'Keeper-Batsman', 'Batsman', 'Keeper-Batsman', 'Keeper-Batsman', 'Batsman', 'Batsman', 'Keeper', 'Keeper-Batsman', 'Batsman', 'Keeper', 'Keeper', 'Keeper-Batsman', 'Batsman', 'Keeper-Batsman', 'Keeper-Batsman', 'Batsman', 'Bowler', 'Keeper-Batsman', 'Keeper-Batsman', 'Batsman', 'Bowler', 'Bowler', 'Bowler', 'Bowler', 'Bowler', 'Batsman', 'Keeper-Batsman', 'Keeper-Batsman', 'Bowler', 'Batsman', 'Keeper', 'Batsman', 'Keeper', 'Bowler', 'Bowler', 'Keeper', 'Batsman', 'Keeper-Batsman', 'Batsman', 'Keeper-Batsman', 'Keeper-Batsman', 'Batsman', 'Batsman', 'Bowler', 'Bowler', 'Keeper-Batsman', 'Keeper-Batsman', 'Keeper-Batsman', 'Batsman', 'Batsman', 'Keeper', 'Keeper-Batsman', 'Batsman', 'Batsman', 'Keeper-Batsman', 'Keeper-Batsman', 'Keeper-Batsman', 'Batsman', 'Batsman', 'Batsman', 'Keeper-Batsman', 'Batsman', 'Bowler', 'Bowler', 'Keeper-Batsman', 'Keeper-Batsman', 'Batsman', 'Keeper', 'Bowler', 'Keeper-Batsman', 'Keeper-Batsman', 'Keeper-Batsman', 'Keeper', 'Keeper-Batsman', 'Batsman', 'Keeper-Batsman', 'Bowler', 'Bowler', 'Keeper', 'Bowler', 'Keeper-Batsman', 'Batsman', 'Batsman', 'Keeper', 'Bowler', 'Bowler', 'Batsman', 'Keeper-Batsman', 'Bowler', 'Batsman', 'Batsman', 'Batsman', 'Keeper-Batsman', 'Keeper-Batsman', 'Keeper-Batsman', 'Batsman', 'Keeper-Batsman', 'Bowler', 'Batsman', 'Batsman', 'Batsman', 'Bowler', 'Batsman', 'Batsman', 'Keeper-Batsman', 'Batsman', 'Keeper-Batsman', 'Batsman', 'Batsman', 'Bowler', 'Keeper-Batsman', 'Keeper-Batsman', 'Batsman', 'Bowler', 'Keeper-Batsman', 'Keeper-Batsman', 'Batsman', 'Batsman', 'Batsman', 'Keeper-Batsman', 'Batsman', 'Keeper-Batsman', 'Bowler', 'Keeper-Batsman', 'Keeper-Batsman', 'Batsman', 'Keeper-Batsman', 'Bowler', 'Keeper-Batsman', 'Keeper-Batsman', 'Keeper', 'Batsman', 'Batsman', 'Batsman', 'Keeper', 'Batsman', 'Bowler', 'Keeper-Batsman', 'Keeper-Batsman', 'Batsman', 'Bowler', 'Keeper', 'Batsman', 'Keeper-Batsman', 'Bowler', 'Batsman', 'Bowler', 'Bowler', 'Bowler', 'Batsman', 'Keeper', 'Bowler', 'Bowler', 'Batsman', 'Bowler', 'Keeper-Batsman', 'Keeper-Batsman', 'Keeper-Batsman', 'Bowler', 'Keeper', 'Keeper-Batsman', 'Keeper-Batsman', 'Keeper-Batsman', 'Keeper-Batsman', 'Keeper', 'Bowler', 'Keeper', 'Keeper-Batsman', 'Keeper-Batsman', 'Batsman', 'Keeper', 'Keeper-Batsman', 'Keeper-Batsman', 'Keeper-Batsman', 'Bowler', 'Keeper-Batsman', 'Keeper-Batsman', 'Keeper', 'Keeper-Batsman', 'Keeper-Batsman', 'Keeper-Batsman', 'Keeper', 'Keeper-Batsman', 'Keeper', 'Bowler', 'Batsman', 'Bowler', 'Batsman', 'Bowler', 'Keeper-Batsman', 'Keeper-Batsman', 'Keeper-Batsman', 'Keeper', 'Keeper', 'Keeper', 'Batsman', 'Bowler', 'Batsman', 'Keeper-Batsman', 'Batsman', 'Bowler', 'Keeper', 'Batsman', 'Keeper-Batsman', 'Batsman', 'Batsman', 'Keeper-Batsman', 'Bowler', 'Keeper', 'Batsman', 'Bowler', 'Keeper', 'Keeper', 'Batsman', 'Bowler', 'Bowler', 'Batsman', 'Keeper', 'Keeper', 'Keeper-Batsman', 'Batsman', 'Bowler', 'Keeper-Batsman', 'Bowler', 'Keeper-Batsman', 'Keeper-Batsman', 'Bowler', 'Keeper-Batsman', 'Batsman', 'Keeper-Batsman', 'Keeper-Batsman', 'Batsman', 'Keeper-Batsman', 'Bowler', 'Keeper', 'Keeper-Batsman', 'Keeper-Batsman', 'Keeper', 'Bowler', 'Keeper-Batsman', 'Keeper-Batsman', 'Keeper', 'Keeper-Batsman', 'Bowler', 'Batsman', 'Bowler', 'Bowler', 'Keeper', 'Keeper-Batsman', 'Bowler', 'Keeper-Batsman', 'Bowler', 'Keeper-Batsman', 'Keeper', 'Keeper-Batsman', 'Keeper-Batsman', 'Bowler', 'Bowler', 'Batsman', 'Bowler', 'Keeper', 'Batsman', 'Keeper-Batsman', 'Bowler', 'Keeper-Batsman', 'Batsman', 'Batsman', 'Keeper-Batsman', 'Batsman', 'Keeper', 'Keeper-Batsman', 'Batsman', 'Bowler', 'Bowler', 'Batsman', 'Batsman', 'Batsman', 'Keeper', 'Keeper', 'Keeper-Batsman', 'Bowler', 'Batsman', 'Keeper', 'Keeper-Batsman', 'Batsman', 'Keeper', 'Batsman', 'Batsman', 'Keeper', 'Batsman', 'Keeper-Batsman', 'Bowler', 'Keeper-Batsman', 'Batsman', 'Batsman', 'Bowler', 'Batsman', 'Keeper', 'Bowler', 'Keeper', 'Bowler', 'Batsman', 'Keeper', 'Keeper', 'Keeper-Batsman', 'Keeper-Batsman', 'Batsman', 'Batsman', 'Keeper-Batsman', 'Keeper', 'Bowler', 'Batsman', 'Keeper', 'Bowler', 'Keeper', 'Keeper-Batsman', 'Keeper-Batsman', 'Batsman', 'Batsman', 'Batsman', 'Keeper-Batsman', 'Batsman', 'Batsman', 'Keeper', 'Batsman', 'Keeper-Batsman', 'Batsman', 'Keeper-Batsman', 'Keeper', 'Batsman', 'Bowler', 'Keeper', 'Bowler', 'Batsman', 'Batsman', 'Bowler', 'Batsman', 'Batsman', 'Bowler', 'Bowler', 'Bowler', 'Batsman', 'Keeper', 'Keeper-Batsman', 'Keeper-Batsman', 'Batsman', 'Keeper-Batsman', 'Keeper', 'Keeper-Batsman', 'Batsman', 'Batsman', 'Batsman', 'Bowler', 'Keeper-Batsman', 'Bowler', 'Keeper-Batsman', 'Bowler', 'Batsman', 'Batsman', 'Keeper-Batsman', 'Batsman', 'Batsman', 'Keeper-Batsman', 'Keeper-Batsman', 'Keeper', 'Batsman', 'Bowler', 'Keeper', 'Bowler', 'Bowler', 'Batsman', 'Keeper-Batsman', 'Keeper', 'Keeper-Batsman', 'Batsman', 'Batsman', 'Keeper', 'Keeper', 'Keeper-Batsman', 'Keeper-Batsman', 'Batsman', 'Keeper-Batsman', 'Batsman', 'Batsman', 'Batsman', 'Batsman', 'Keeper', 'Batsman', 'Keeper-Batsman', 'Batsman', 'Keeper-Batsman', 'Keeper', 'Bowler', 'Batsman', 'Keeper-Batsman', 'Batsman', 'Bowler', 'Bowler', 'Keeper-Batsman', 'Keeper-Batsman', 'Keeper-Batsman', 'Batsman', 'Keeper', 'Keeper-Batsman', 'Bowler', 'Batsman', 'Keeper-Batsman', 'Bowler', 'Keeper', 'Batsman', 'Keeper-Batsman', 'Batsman', 'Keeper-Batsman', 'Bowler', 'Bowler', 'Batsman', 'Bowler', 'Keeper-Batsman', 'Keeper-Batsman', 'Batsman', 'Bowler', 'Batsman', 'Batsman', 'Bowler', 'Keeper-Batsman', 'Keeper', 'Bowler', 'Batsman', 'Keeper-Batsman', 'Batsman', 'Bowler', 'Keeper-Batsman', 'Keeper-Batsman', 'Keeper-Batsman', 'Keeper', 'Keeper-Batsman', 'Batsman', 'Keeper', 'Batsman', 'Batsman', 'Keeper', 'Batsman', 'Batsman', 'Keeper-Batsman', 'Batsman', 'Keeper-Batsman', 'Keeper-Batsman', 'Batsman', 'Keeper-Batsman', 'Bowler', 'Batsman', 'Keeper-Batsman', 'Keeper-Batsman', 'Keeper', 'Keeper-Batsman', 'Batsman', 'Batsman', 'Keeper', 'Keeper', 'Batsman', 'Keeper-Batsman', 'Keeper-Batsman', 'Bowler', 'Keeper', 'Keeper-Batsman', 'Keeper-Batsman', 'Keeper-Batsman', 'Keeper', 'Bowler', 'Bowler', 'Keeper-Batsman', 'Bowler', 'Keeper-Batsman', 'Batsman', 'Keeper-Batsman', 'Keeper-Batsman', 'Bowler', 'Batsman', 'Keeper', 'Keeper-Batsman', 'Batsman', 'Keeper-Batsman', 'Batsman', 'Bowler', 'Bowler', 'Keeper', 'Batsman', 'Keeper-Batsman', 'Bowler', 'Keeper-Batsman', 'Keeper-Batsman', 'Batsman', 'Bowler', 'Bowler', 'Keeper-Batsman', 'Batsman', 'Batsman', 'Keeper-Batsman', 'Bowler', 'Keeper-Batsman', 'Batsman', 'Bowler', 'Batsman', 'Keeper-Batsman', 'Keeper-Batsman', 'Keeper-Batsman', 'Bowler', 'Keeper', 'Keeper-Batsman', 'Keeper-Batsman', 'Batsman', 'Batsman', 'Bowler', 'Batsman', 'Bowler', 'Keeper-Batsman', 'Batsman', 'Bowler', 'Bowler', 'Keeper', 'Bowler', 'Keeper-Batsman', 'Bowler', 'Batsman', 'Bowler', 'Keeper-Batsman', 'Keeper-Batsman', 'Keeper-Batsman', 'Keeper', 'Bowler', 'Keeper-Batsman', 'Keeper-Batsman', 'Keeper-Batsman', 'Bowler', 'Bowler', 'Bowler', 'Batsman', 'Keeper', 'Keeper', 'Keeper-Batsman', 'Bowler', 'Keeper', 'Keeper-Batsman', 'Bowler', 'Batsman', 'Batsman', 'Keeper-Batsman', 'Keeper', 'Batsman', 'Bowler', 'Batsman', 'Keeper-Batsman', 'Batsman', 'Batsman', 'Batsman', 'Keeper-Batsman', 'Bowler', 'Keeper', 'Keeper', 'Keeper-Batsman', 'Batsman', 'Keeper-Batsman', 'Keeper-Batsman', 'Keeper-Batsman', 'Batsman', 'Keeper', 'Batsman', 'Keeper-Batsman', 'Keeper-Batsman', 'Keeper-Batsman', 'Bowler', 'Bowler', 'Keeper', 'Keeper-Batsman', 'Keeper-Batsman', 'Batsman', 'Batsman', 'Keeper-Batsman', 'Keeper-Batsman', 'Batsman', 'Batsman', 'Keeper-Batsman', 'Bowler', 'Batsman', 'Keeper-Batsman', 'Batsman', 'Batsman', 'Batsman', 'Bowler', 'Keeper', 'Keeper-Batsman', 'Keeper-Batsman', 'Keeper-Batsman', 'Bowler', 'Batsman', 'Batsman', 'Bowler', 'Batsman', 'Batsman', 'Keeper-Batsman', 'Batsman', 'Keeper-Batsman', 'Batsman', 'Bowler', 'Keeper-Batsman', 'Keeper-Batsman', 'Batsman', 'Batsman', 'Batsman', 'Keeper-Batsman', 'Batsman', 'Batsman', 'Keeper-Batsman', 'Batsman', 'Batsman', 'Batsman', 'Keeper-Batsman', 'Keeper-Batsman', 'Bowler', 'Keeper-Batsman', 'Bowler', 'Bowler', 'Keeper-Batsman', 'Keeper-Batsman', 'Batsman', 'Batsman', 'Bowler', 'Bowler', 'Keeper', 'Bowler', 'Keeper', 'Batsman', 'Batsman', 'Keeper', 'Keeper-Batsman', 'Keeper', 'Bowler', 'Keeper', 'Keeper-Batsman', 'Batsman', 'Keeper', 'Batsman', 'Keeper-Batsman', 'Keeper-Batsman', 'Keeper-Batsman', 'Keeper', 'Batsman', 'Keeper', 'Keeper-Batsman', 'Keeper-Batsman', 'Keeper-Batsman', 'Keeper-Batsman', 'Keeper', 'Bowler', 'Batsman', 'Batsman', 'Keeper-Batsman', 'Keeper', 'Keeper', 'Keeper', 'Keeper-Batsman', 'Keeper-Batsman', 'Batsman', 'Keeper-Batsman', 'Keeper-Batsman', 'Keeper', 'Keeper-Batsman', 'Bowler', 'Keeper-Batsman', 'Batsman', 'Keeper-Batsman', 'Keeper-Batsman', 'Keeper-Batsman', 'Batsman', 'Keeper-Batsman', 'Batsman', 'Keeper-Batsman', 'Batsman', 'Keeper-Batsman', 'Keeper-Batsman', 'Batsman', 'Batsman', 'Keeper-Batsman', 'Keeper-Batsman', 'Bowler', 'Batsman', 'Keeper-Batsman', 'Batsman', 'Bowler', 'Batsman', 'Keeper-Batsman', 'Bowler', 'Batsman', 'Keeper-Batsman', 'Keeper', 'Keeper-Batsman', 'Keeper-Batsman', 'Bowler', 'Keeper-Batsman', 'Batsman', 'Keeper-Batsman', 'Keeper', 'Bowler', 'Keeper-Batsman', 'Bowler', 'Batsman', 'Bowler', 'Bowler', 'Keeper', 'Keeper-Batsman', 'Batsman', 'Keeper-Batsman', 'Bowler', 'Keeper-Batsman', 'Bowler', 'Batsman', 'Batsman', 'Keeper-Batsman', 'Keeper-Batsman', 'Keeper-Batsman', 'Bowler', 'Keeper', 'Bowler', 'Keeper-Batsman', 'Batsman', 'Batsman', 'Batsman', 'Keeper-Batsman', 'Bowler', 'Bowler', 'Keeper-Batsman', 'Keeper-Batsman', 'Batsman', 'Keeper-Batsman', 'Keeper-Batsman', 'Keeper-Batsman', 'Keeper', 'Keeper-Batsman', 'Batsman', 'Keeper-Batsman', 'Keeper-Batsman', 'Bowler', 'Keeper-Batsman', 'Batsman', 'Batsman', 'Batsman', 'Batsman', 'Bowler', 'Batsman', 'Batsman', 'Keeper-Batsman', 'Bowler', 'Batsman', 'Keeper-Batsman', 'Batsman', 'Batsman', 'Batsman', 'Batsman', 'Batsman', 'Keeper', 'Keeper-Batsman', 'Batsman', 'Bowler', 'Keeper-Batsman', 'Keeper-Batsman', 'Batsman', 'Batsman', 'Batsman', 'Bowler', 'Batsman', 'Keeper', 'Bowler', 'Bowler', 'Keeper', 'Bowler', 'Bowler', 'Keeper', 'Batsman', 'Keeper-Batsman', 'Batsman', 'Keeper-Batsman', 'Bowler', 'Keeper-Batsman', 'Keeper-Batsman', 'Batsman', 'Keeper-Batsman', 'Batsman', 'Keeper-Batsman', 'Keeper-Batsman', 'Batsman', 'Keeper-Batsman', 'Keeper-Batsman', 'Bowler', 'Bowler', 'Bowler', 'Batsman', 'Bowler', 'Keeper-Batsman', 'Keeper-Batsman', 'Batsman', 'Bowler', 'Keeper', 'Keeper-Batsman', 'Batsman', 'Bowler', 'Keeper-Batsman'])\n",
        "skills"
      ],
      "metadata": {
        "id": "Kz_tnWOXsWxS",
        "colab": {
          "base_uri": "https://localhost:8080/"
        },
        "outputId": "fd85c848-0a05-4921-dd70-2bf3b9c62a97"
      },
      "execution_count": null,
      "outputs": [
        {
          "output_type": "execute_result",
          "data": {
            "text/plain": [
              "array(['Keeper', 'Batsman', 'Bowler', ..., 'Batsman', 'Bowler',\n",
              "       'Keeper-Batsman'], dtype='<U14')"
            ]
          },
          "metadata": {},
          "execution_count": 16
        }
      ]
    },
    {
      "cell_type": "code",
      "source": [
        "##### Fetch Heights of the Batsmen\n",
        "batsmen = players_converted[skills == 'Batsman']\n",
        "batsmen"
      ],
      "metadata": {
        "id": "5eeS-vJ4rqQS",
        "colab": {
          "base_uri": "https://localhost:8080/"
        },
        "outputId": "8de4d10c-5a48-4085-c32d-d599f40a1584"
      },
      "execution_count": null,
      "outputs": [
        {
          "output_type": "execute_result",
          "data": {
            "text/plain": [
              "array([[  1.8796  ,  97.52228 ],\n",
              "       [  1.8542  ,  85.275296],\n",
              "       [  1.7526  ,  94.800728],\n",
              "       [  1.8034  ,  90.7184  ],\n",
              "       [  1.9304  , 104.779752],\n",
              "       [  1.8542  ,  85.275296],\n",
              "       [  1.8542  ,  81.64656 ],\n",
              "       [  1.778   ,  83.91452 ],\n",
              "       [  2.0066  , 104.32616 ],\n",
              "       [  1.8288  ,  81.64656 ],\n",
              "       [  1.8034  ,  87.089664],\n",
              "       [  1.905   , 102.0582  ],\n",
              "       [  1.9558  ,  92.079176],\n",
              "       [  1.8542  ,  82.553744],\n",
              "       [  1.905   , 111.13004 ],\n",
              "       [  1.8796  ,  97.52228 ],\n",
              "       [  1.8034  ,  79.3786  ],\n",
              "       [  1.8542  ,  90.7184  ],\n",
              "       [  1.8796  ,  92.98636 ],\n",
              "       [  1.9304  ,  88.45044 ],\n",
              "       [  1.905   ,  95.25432 ],\n",
              "       [  1.9304  ,  86.18248 ],\n",
              "       [  1.8288  ,  81.64656 ],\n",
              "       [  1.905   ,  95.25432 ],\n",
              "       [  1.8542  ,  99.79024 ],\n",
              "       [  1.778   ,  81.64656 ],\n",
              "       [  1.778   ,  86.18248 ],\n",
              "       [  1.8034  ,  83.91452 ],\n",
              "       [  1.8288  ,  83.91452 ],\n",
              "       [  1.905   ,  90.7184  ],\n",
              "       [  1.9812  , 106.59412 ],\n",
              "       [  1.8034  , 113.398   ],\n",
              "       [  1.8542  ,  95.25432 ],\n",
              "       [  1.8542  ,  88.45044 ],\n",
              "       [  1.9304  ,  92.98636 ],\n",
              "       [  1.8796  ,  99.79024 ],\n",
              "       [  1.8542  ,  77.11064 ],\n",
              "       [  1.8288  ,  83.91452 ],\n",
              "       [  1.8542  ,  99.79024 ],\n",
              "       [  1.8288  ,  81.64656 ],\n",
              "       [  1.8542  ,  99.79024 ],\n",
              "       [  1.8288  ,  81.64656 ],\n",
              "       [  1.905   ,  95.25432 ],\n",
              "       [  1.905   ,  97.52228 ],\n",
              "       [  1.8288  ,  96.615096],\n",
              "       [  1.8288  ,  81.64656 ],\n",
              "       [  1.9558  , 106.59412 ],\n",
              "       [  1.9558  , 100.697424],\n",
              "       [  1.905   ,  95.25432 ],\n",
              "       [  1.9304  , 104.32616 ],\n",
              "       [  2.032   ,  99.79024 ],\n",
              "       [  1.905   ,  90.7184  ],\n",
              "       [  1.8542  ,  87.996848],\n",
              "       [  1.8796  ,  86.18248 ],\n",
              "       [  1.905   , 108.86208 ],\n",
              "       [  1.8034  ,  89.811216],\n",
              "       [  1.9304  ,  95.25432 ],\n",
              "       [  1.8796  ,  86.18248 ],\n",
              "       [  1.8542  ,  77.11064 ],\n",
              "       [  1.8542  ,  81.64656 ],\n",
              "       [  1.8034  ,  86.18248 ],\n",
              "       [  1.8542  ,  86.18248 ],\n",
              "       [  1.8542  ,  79.3786  ],\n",
              "       [  1.8288  ,  92.98636 ],\n",
              "       [  1.905   ,  97.52228 ],\n",
              "       [  1.778   ,  81.64656 ],\n",
              "       [  1.8034  ,  77.11064 ],\n",
              "       [  1.8288  ,  92.98636 ],\n",
              "       [  1.905   , 102.0582  ],\n",
              "       [  1.8542  ,  81.64656 ],\n",
              "       [  1.9304  , 107.501304],\n",
              "       [  1.905   ,  97.52228 ],\n",
              "       [  1.9304  , 106.59412 ],\n",
              "       [  1.8288  ,  86.18248 ],\n",
              "       [  1.8542  ,  94.347136],\n",
              "       [  1.905   ,  95.25432 ],\n",
              "       [  1.8796  ,  86.18248 ],\n",
              "       [  1.8034  ,  77.11064 ],\n",
              "       [  1.9558  , 102.0582  ],\n",
              "       [  1.9812  , 104.32616 ],\n",
              "       [  1.905   , 102.511792],\n",
              "       [  1.905   ,  99.336648],\n",
              "       [  1.9304  , 102.0582  ],\n",
              "       [  1.8288  ,  79.832192],\n",
              "       [  1.8288  ,  81.64656 ],\n",
              "       [  1.8542  ,  99.79024 ],\n",
              "       [  1.8796  ,  86.18248 ],\n",
              "       [  1.8796  ,  92.98636 ],\n",
              "       [  1.905   ,  92.98636 ],\n",
              "       [  1.8542  ,  95.707912],\n",
              "       [  1.8796  ,  90.7184  ],\n",
              "       [  1.9558  ,  95.25432 ],\n",
              "       [  1.9812  ,  99.79024 ],\n",
              "       [  1.9812  ,  95.25432 ],\n",
              "       [  1.8796  ,  91.625584],\n",
              "       [  1.9812  , 102.0582  ],\n",
              "       [  1.8796  ,  99.79024 ],\n",
              "       [  1.8288  ,  83.91452 ],\n",
              "       [  1.9304  ,  88.45044 ],\n",
              "       [  1.8542  ,  99.336648],\n",
              "       [  1.8542  ,  88.45044 ],\n",
              "       [  1.9558  ,  99.79024 ],\n",
              "       [  1.9558  , 106.59412 ],\n",
              "       [  1.8034  ,  81.64656 ],\n",
              "       [  1.9812  , 104.32616 ],\n",
              "       [  1.778   ,  86.18248 ],\n",
              "       [  1.8796  ,  86.18248 ],\n",
              "       [  1.8288  ,  90.7184  ],\n",
              "       [  1.8542  ,  83.460928],\n",
              "       [  1.905   ,  90.7184  ],\n",
              "       [  1.8796  ,  99.336648],\n",
              "       [  1.8542  ,  90.7184  ],\n",
              "       [  1.8796  ,  99.79024 ],\n",
              "       [  1.8542  ,  72.57472 ],\n",
              "       [  1.9812  ,  90.7184  ],\n",
              "       [  1.9304  ,  97.068688],\n",
              "       [  1.8542  ,  90.7184  ],\n",
              "       [  1.905   ,  81.64656 ],\n",
              "       [  1.9812  , 106.59412 ],\n",
              "       [  1.9558  , 108.86208 ],\n",
              "       [  1.8288  ,  83.91452 ],\n",
              "       [  1.7526  ,  74.84268 ],\n",
              "       [  1.8796  ,  83.91452 ],\n",
              "       [  1.778   ,  77.11064 ],\n",
              "       [  1.8796  ,  95.25432 ],\n",
              "       [  1.9304  ,  92.98636 ],\n",
              "       [  1.905   ,  90.7184  ],\n",
              "       [  1.8542  ,  86.18248 ],\n",
              "       [  1.8542  ,  72.57472 ],\n",
              "       [  1.8542  ,  81.64656 ],\n",
              "       [  1.8796  ,  81.64656 ],\n",
              "       [  1.8796  ,  90.7184  ],\n",
              "       [  1.778   ,  86.18248 ],\n",
              "       [  1.8796  , 102.965384],\n",
              "       [  1.905   ,  90.264808],\n",
              "       [  1.8288  ,  83.91452 ],\n",
              "       [  1.9558  , 108.86208 ],\n",
              "       [  1.8542  , 102.0582  ],\n",
              "       [  1.9304  , 104.32616 ],\n",
              "       [  1.8542  ,  90.7184  ],\n",
              "       [  1.905   , 111.13004 ],\n",
              "       [  1.8796  ,  86.18248 ],\n",
              "       [  1.8542  ,  95.25432 ],\n",
              "       [  1.8034  ,  90.7184  ],\n",
              "       [  1.9304  ,  92.98636 ],\n",
              "       [  1.905   ,  95.25432 ],\n",
              "       [  1.8542  ,  77.11064 ],\n",
              "       [  1.8542  ,  81.64656 ],\n",
              "       [  1.9304  ,  95.25432 ],\n",
              "       [  1.8542  ,  93.439952],\n",
              "       [  1.905   ,  88.45044 ],\n",
              "       [  1.905   ,  90.7184  ],\n",
              "       [  1.9558  ,  90.7184  ],\n",
              "       [  1.8796  ,  92.98636 ],\n",
              "       [  1.8034  ,  95.25432 ],\n",
              "       [  1.8796  ,  90.7184  ],\n",
              "       [  1.8796  ,  92.98636 ],\n",
              "       [  1.905   ,  86.18248 ],\n",
              "       [  1.8288  ,  92.98636 ],\n",
              "       [  1.8542  ,  79.3786  ],\n",
              "       [  1.9304  ,  99.79024 ],\n",
              "       [  1.9558  , 111.13004 ],\n",
              "       [  1.8542  ,  81.64656 ],\n",
              "       [  1.778   ,  88.45044 ],\n",
              "       [  1.8542  ,  97.52228 ],\n",
              "       [  1.8796  ,  81.64656 ],\n",
              "       [  1.9558  ,  86.18248 ],\n",
              "       [  1.905   ,  86.18248 ],\n",
              "       [  1.8542  ,  95.25432 ],\n",
              "       [  1.9558  , 115.66596 ],\n",
              "       [  1.9558  , 104.32616 ],\n",
              "       [  1.8796  ,  92.98636 ],\n",
              "       [  1.8796  ,  97.52228 ],\n",
              "       [  1.905   ,  99.79024 ],\n",
              "       [  1.8034  ,  89.357624],\n",
              "       [  1.778   ,  84.821704],\n",
              "       [  2.0066  , 111.13004 ],\n",
              "       [  1.8796  ,  90.7184  ],\n",
              "       [  1.8288  ,  90.7184  ],\n",
              "       [  2.0828  , 104.779752],\n",
              "       [  1.8796  ,  74.84268 ],\n",
              "       [  1.8796  , 103.418976],\n",
              "       [  1.8288  ,  97.52228 ],\n",
              "       [  1.9304  , 115.212368],\n",
              "       [  1.8542  ,  81.64656 ],\n",
              "       [  1.8288  ,  97.52228 ],\n",
              "       [  1.8288  ,  77.11064 ],\n",
              "       [  1.778   ,  74.84268 ],\n",
              "       [  1.8034  ,  77.11064 ],\n",
              "       [  1.905   , 101.604608],\n",
              "       [  1.9304  , 108.408488],\n",
              "       [  1.9304  ,  95.25432 ],\n",
              "       [  1.9812  ,  99.79024 ],\n",
              "       [  1.905   ,  90.7184  ],\n",
              "       [  1.9304  ,  88.45044 ],\n",
              "       [  1.8288  , 104.32616 ],\n",
              "       [  1.8542  ,  99.79024 ],\n",
              "       [  1.778   ,  87.089664],\n",
              "       [  1.8796  ,  92.98636 ],\n",
              "       [  1.8542  ,  92.98636 ],\n",
              "       [  1.8542  ,  83.91452 ],\n",
              "       [  1.905   ,  92.98636 ],\n",
              "       [  1.778   ,  81.64656 ],\n",
              "       [  2.0066  , 108.86208 ],\n",
              "       [  1.905   ,  97.52228 ],\n",
              "       [  1.905   ,  88.45044 ],\n",
              "       [  1.8542  ,  97.52228 ],\n",
              "       [  1.778   ,  88.45044 ],\n",
              "       [  1.8034  ,  88.45044 ],\n",
              "       [  1.905   ,  95.25432 ],\n",
              "       [  1.8288  ,  81.64656 ],\n",
              "       [  1.8288  ,  81.64656 ],\n",
              "       [  1.9304  , 106.59412 ],\n",
              "       [  1.905   ,  90.7184  ],\n",
              "       [  1.7526  ,  81.64656 ],\n",
              "       [  1.8288  ,  92.079176],\n",
              "       [  1.9304  ,  90.7184  ],\n",
              "       [  1.8034  ,  86.18248 ],\n",
              "       [  1.905   ,  77.11064 ],\n",
              "       [  1.9558  ,  97.52228 ],\n",
              "       [  1.778   ,  81.64656 ],\n",
              "       [  1.8288  ,  84.821704],\n",
              "       [  1.8034  ,  81.64656 ],\n",
              "       [  1.8796  ,  95.25432 ],\n",
              "       [  1.9304  ,  87.543256],\n",
              "       [  1.8288  ,  90.7184  ],\n",
              "       [  1.8796  ,  77.11064 ],\n",
              "       [  1.8288  ,  88.45044 ],\n",
              "       [  1.8034  ,  86.18248 ],\n",
              "       [  1.778   ,  81.64656 ],\n",
              "       [  1.8288  ,  77.11064 ],\n",
              "       [  1.8796  ,  95.25432 ],\n",
              "       [  1.8796  ,  99.79024 ],\n",
              "       [  1.905   ,  95.25432 ],\n",
              "       [  1.8796  , 111.13004 ],\n",
              "       [  1.8034  , 100.243832],\n",
              "       [  1.8034  ,  83.91452 ],\n",
              "       [  1.9304  , 104.32616 ],\n",
              "       [  1.8034  ,  79.3786  ],\n",
              "       [  1.8796  ,  90.7184  ],\n",
              "       [  1.8288  ,  90.7184  ],\n",
              "       [  1.9304  , 113.398   ],\n",
              "       [  1.9812  ,  95.25432 ],\n",
              "       [  1.8288  ,  97.52228 ],\n",
              "       [  1.9304  ,  97.52228 ],\n",
              "       [  1.778   ,  89.811216],\n",
              "       [  1.7272  ,  75.749864],\n",
              "       [  1.8034  ,  86.18248 ],\n",
              "       [  1.9558  ,  97.52228 ],\n",
              "       [  1.7526  ,  72.57472 ],\n",
              "       [  1.905   ,  79.3786  ],\n",
              "       [  1.905   ,  86.18248 ],\n",
              "       [  1.9304  , 108.86208 ],\n",
              "       [  1.8288  ,  79.3786  ],\n",
              "       [  1.9558  , 113.398   ],\n",
              "       [  1.778   ,  86.18248 ],\n",
              "       [  2.0066  ,  86.18248 ],\n",
              "       [  1.8796  ,  77.11064 ],\n",
              "       [  1.7272  ,  68.0388  ],\n",
              "       [  1.905   ,  99.79024 ],\n",
              "       [  1.8288  , 117.93392 ],\n",
              "       [  1.8288  ,  88.45044 ],\n",
              "       [  1.8542  ,  86.18248 ],\n",
              "       [  1.8796  ,  81.64656 ],\n",
              "       [  1.8288  ,  88.45044 ],\n",
              "       [  1.905   ,  99.336648],\n",
              "       [  1.8288  , 102.0582  ],\n",
              "       [  1.8542  ,  96.161504],\n",
              "       [  1.9304  ,  86.18248 ],\n",
              "       [  1.8796  ,  96.161504],\n",
              "       [  1.905   ,  95.25432 ],\n",
              "       [  1.9304  ,  90.7184  ],\n",
              "       [  1.8796  ,  99.79024 ],\n",
              "       [  1.8288  ,  83.91452 ],\n",
              "       [  1.8542  , 104.779752],\n",
              "       [  1.8288  ,  83.91452 ],\n",
              "       [  1.8542  ,  81.64656 ],\n",
              "       [  1.8288  ,  99.79024 ],\n",
              "       [  1.8542  ,  88.904032],\n",
              "       [  1.778   ,  72.57472 ],\n",
              "       [  1.8288  ,  92.98636 ],\n",
              "       [  1.905   ,  95.25432 ],\n",
              "       [  1.8542  ,  90.7184  ],\n",
              "       [  1.9304  , 116.573144],\n",
              "       [  1.9558  ,  92.98636 ],\n",
              "       [  1.9558  ,  94.347136],\n",
              "       [  1.905   ,  97.52228 ],\n",
              "       [  1.905   ,  95.25432 ],\n",
              "       [  1.9304  ,  92.079176],\n",
              "       [  1.8288  ,  95.25432 ],\n",
              "       [  1.8542  ,  90.7184  ],\n",
              "       [  1.8796  ,  92.98636 ],\n",
              "       [  1.8288  ,  86.18248 ],\n",
              "       [  1.8796  , 102.0582  ],\n",
              "       [  1.8796  ,  93.893544],\n",
              "       [  1.905   ,  96.161504],\n",
              "       [  1.8034  ,  95.25432 ],\n",
              "       [  1.9304  ,  86.18248 ],\n",
              "       [  1.8542  ,  97.52228 ],\n",
              "       [  1.7272  ,  88.904032],\n",
              "       [  1.8288  ,  79.3786  ],\n",
              "       [  1.7526  ,  79.3786  ],\n",
              "       [  1.8542  ,  92.98636 ],\n",
              "       [  1.905   ,  95.25432 ],\n",
              "       [  1.8796  ,  89.357624],\n",
              "       [  1.8796  , 103.418976],\n",
              "       [  1.8796  ,  86.18248 ],\n",
              "       [  1.8542  ,  92.532768],\n",
              "       [  1.8796  ,  74.84268 ],\n",
              "       [  1.905   ,  97.975872],\n",
              "       [  1.8796  ,  95.25432 ],\n",
              "       [  1.8542  ,  97.52228 ],\n",
              "       [  1.9304  , 103.872568],\n",
              "       [  1.9812  , 108.86208 ],\n",
              "       [  1.8542  ,  92.98636 ],\n",
              "       [  1.905   , 102.0582  ],\n",
              "       [  1.7018  ,  81.64656 ],\n",
              "       [  1.778   ,  73.935496],\n",
              "       [  1.778   ,  79.3786  ],\n",
              "       [  2.0066  ,  92.98636 ],\n",
              "       [  1.9304  ,  95.707912],\n",
              "       [  1.8288  ,  81.64656 ],\n",
              "       [  1.905   ,  92.98636 ]])"
            ]
          },
          "metadata": {},
          "execution_count": 20
        }
      ]
    },
    {
      "cell_type": "code",
      "source": [
        "batsmen.shape"
      ],
      "metadata": {
        "colab": {
          "base_uri": "https://localhost:8080/"
        },
        "id": "Ham4QBz7dnnl",
        "outputId": "c1b22f92-d92b-42f7-dde0-c511e178f7eb"
      },
      "execution_count": null,
      "outputs": [
        {
          "output_type": "execute_result",
          "data": {
            "text/plain": [
              "(323, 2)"
            ]
          },
          "metadata": {},
          "execution_count": 21
        }
      ]
    },
    {
      "cell_type": "code",
      "source": [
        "batsmen[:, 0] # gives you all the heights of players with Batsman skills"
      ],
      "metadata": {
        "colab": {
          "base_uri": "https://localhost:8080/"
        },
        "id": "xNHcjeFCdmZn",
        "outputId": "abfb01b6-613b-4a0f-9e9d-b5d40b5aabf5"
      },
      "execution_count": null,
      "outputs": [
        {
          "output_type": "execute_result",
          "data": {
            "text/plain": [
              "array([1.8796, 1.8542, 1.7526, 1.8034, 1.9304, 1.8542, 1.8542, 1.778 ,\n",
              "       2.0066, 1.8288, 1.8034, 1.905 , 1.9558, 1.8542, 1.905 , 1.8796,\n",
              "       1.8034, 1.8542, 1.8796, 1.9304, 1.905 , 1.9304, 1.8288, 1.905 ,\n",
              "       1.8542, 1.778 , 1.778 , 1.8034, 1.8288, 1.905 , 1.9812, 1.8034,\n",
              "       1.8542, 1.8542, 1.9304, 1.8796, 1.8542, 1.8288, 1.8542, 1.8288,\n",
              "       1.8542, 1.8288, 1.905 , 1.905 , 1.8288, 1.8288, 1.9558, 1.9558,\n",
              "       1.905 , 1.9304, 2.032 , 1.905 , 1.8542, 1.8796, 1.905 , 1.8034,\n",
              "       1.9304, 1.8796, 1.8542, 1.8542, 1.8034, 1.8542, 1.8542, 1.8288,\n",
              "       1.905 , 1.778 , 1.8034, 1.8288, 1.905 , 1.8542, 1.9304, 1.905 ,\n",
              "       1.9304, 1.8288, 1.8542, 1.905 , 1.8796, 1.8034, 1.9558, 1.9812,\n",
              "       1.905 , 1.905 , 1.9304, 1.8288, 1.8288, 1.8542, 1.8796, 1.8796,\n",
              "       1.905 , 1.8542, 1.8796, 1.9558, 1.9812, 1.9812, 1.8796, 1.9812,\n",
              "       1.8796, 1.8288, 1.9304, 1.8542, 1.8542, 1.9558, 1.9558, 1.8034,\n",
              "       1.9812, 1.778 , 1.8796, 1.8288, 1.8542, 1.905 , 1.8796, 1.8542,\n",
              "       1.8796, 1.8542, 1.9812, 1.9304, 1.8542, 1.905 , 1.9812, 1.9558,\n",
              "       1.8288, 1.7526, 1.8796, 1.778 , 1.8796, 1.9304, 1.905 , 1.8542,\n",
              "       1.8542, 1.8542, 1.8796, 1.8796, 1.778 , 1.8796, 1.905 , 1.8288,\n",
              "       1.9558, 1.8542, 1.9304, 1.8542, 1.905 , 1.8796, 1.8542, 1.8034,\n",
              "       1.9304, 1.905 , 1.8542, 1.8542, 1.9304, 1.8542, 1.905 , 1.905 ,\n",
              "       1.9558, 1.8796, 1.8034, 1.8796, 1.8796, 1.905 , 1.8288, 1.8542,\n",
              "       1.9304, 1.9558, 1.8542, 1.778 , 1.8542, 1.8796, 1.9558, 1.905 ,\n",
              "       1.8542, 1.9558, 1.9558, 1.8796, 1.8796, 1.905 , 1.8034, 1.778 ,\n",
              "       2.0066, 1.8796, 1.8288, 2.0828, 1.8796, 1.8796, 1.8288, 1.9304,\n",
              "       1.8542, 1.8288, 1.8288, 1.778 , 1.8034, 1.905 , 1.9304, 1.9304,\n",
              "       1.9812, 1.905 , 1.9304, 1.8288, 1.8542, 1.778 , 1.8796, 1.8542,\n",
              "       1.8542, 1.905 , 1.778 , 2.0066, 1.905 , 1.905 , 1.8542, 1.778 ,\n",
              "       1.8034, 1.905 , 1.8288, 1.8288, 1.9304, 1.905 , 1.7526, 1.8288,\n",
              "       1.9304, 1.8034, 1.905 , 1.9558, 1.778 , 1.8288, 1.8034, 1.8796,\n",
              "       1.9304, 1.8288, 1.8796, 1.8288, 1.8034, 1.778 , 1.8288, 1.8796,\n",
              "       1.8796, 1.905 , 1.8796, 1.8034, 1.8034, 1.9304, 1.8034, 1.8796,\n",
              "       1.8288, 1.9304, 1.9812, 1.8288, 1.9304, 1.778 , 1.7272, 1.8034,\n",
              "       1.9558, 1.7526, 1.905 , 1.905 , 1.9304, 1.8288, 1.9558, 1.778 ,\n",
              "       2.0066, 1.8796, 1.7272, 1.905 , 1.8288, 1.8288, 1.8542, 1.8796,\n",
              "       1.8288, 1.905 , 1.8288, 1.8542, 1.9304, 1.8796, 1.905 , 1.9304,\n",
              "       1.8796, 1.8288, 1.8542, 1.8288, 1.8542, 1.8288, 1.8542, 1.778 ,\n",
              "       1.8288, 1.905 , 1.8542, 1.9304, 1.9558, 1.9558, 1.905 , 1.905 ,\n",
              "       1.9304, 1.8288, 1.8542, 1.8796, 1.8288, 1.8796, 1.8796, 1.905 ,\n",
              "       1.8034, 1.9304, 1.8542, 1.7272, 1.8288, 1.7526, 1.8542, 1.905 ,\n",
              "       1.8796, 1.8796, 1.8796, 1.8542, 1.8796, 1.905 , 1.8796, 1.8542,\n",
              "       1.9304, 1.9812, 1.8542, 1.905 , 1.7018, 1.778 , 1.778 , 2.0066,\n",
              "       1.9304, 1.8288, 1.905 ])"
            ]
          },
          "metadata": {},
          "execution_count": 22
        }
      ]
    },
    {
      "cell_type": "markdown",
      "source": [
        "In NumPy, the dimension is called axis. In NumPy terminology, for 2-D arrays:\n",
        "\n",
        "*   axis = 0 - refers to the rows\n",
        "*   axis = 1 - refers to the columns"
      ],
      "metadata": {
        "id": "PylP8-7BzvwJ"
      }
    },
    {
      "cell_type": "markdown",
      "source": [
        "Which of the following would extract all the rows of the first 3 columns in a 2D array"
      ],
      "metadata": {
        "id": "2CFwrcQH13DS"
      }
    },
    {
      "cell_type": "code",
      "source": [
        "array_name[ : , :3]"
      ],
      "metadata": {
        "id": "Rwkv2jTO14oF"
      },
      "execution_count": null,
      "outputs": []
    },
    {
      "cell_type": "code",
      "source": [
        "array_2d = np.array([\n",
        "    [11, 12, 13, 14],\n",
        "    [21, 22, 23, 24],\n",
        "    [31, 32, 33, 34]\n",
        "])\n"
      ],
      "metadata": {
        "id": "DWwEgvXk3vS3"
      },
      "execution_count": null,
      "outputs": []
    },
    {
      "cell_type": "code",
      "source": [
        "col_first = array_2d[:, 0]\n",
        "row_first = array_2d[0, :]\n",
        "col_last = array_2d[:, -1]\n",
        "row_last = array_2d[-1, :]\n",
        "\n",
        "print(col_first)\n",
        "print(row_first)\n",
        "print(col_last)\n",
        "print(row_last)\n"
      ],
      "metadata": {
        "colab": {
          "base_uri": "https://localhost:8080/"
        },
        "id": "KTrLzMjW3hOX",
        "outputId": "0f915c3a-234b-4076-98e0-5ae252514fc4"
      },
      "execution_count": null,
      "outputs": [
        {
          "output_type": "stream",
          "name": "stdout",
          "text": [
            "[11 21 31]\n"
          ]
        }
      ]
    },
    {
      "cell_type": "code",
      "source": [
        "print(row_first)"
      ],
      "metadata": {
        "colab": {
          "base_uri": "https://localhost:8080/"
        },
        "id": "_IhKSYEb3zxC",
        "outputId": "aa168fdf-f4e6-40d4-d070-d417cb5e1083"
      },
      "execution_count": null,
      "outputs": [
        {
          "output_type": "stream",
          "name": "stdout",
          "text": [
            "[11 12 13 14]\n"
          ]
        }
      ]
    },
    {
      "cell_type": "code",
      "source": [
        "print(col_last)"
      ],
      "metadata": {
        "colab": {
          "base_uri": "https://localhost:8080/"
        },
        "id": "vAy88aVP31pW",
        "outputId": "2c2fcc42-ee1e-4c32-8525-cc639e708e8b"
      },
      "execution_count": null,
      "outputs": [
        {
          "output_type": "stream",
          "name": "stdout",
          "text": [
            "[14 24 34]\n"
          ]
        }
      ]
    },
    {
      "cell_type": "code",
      "source": [
        "print(row_last)"
      ],
      "metadata": {
        "colab": {
          "base_uri": "https://localhost:8080/"
        },
        "id": "3PxxKjmN33lm",
        "outputId": "9504e18b-65a2-4828-cca1-1a250a90734a"
      },
      "execution_count": null,
      "outputs": [
        {
          "output_type": "stream",
          "name": "stdout",
          "text": [
            "[31 32 33 34]\n"
          ]
        }
      ]
    },
    {
      "cell_type": "markdown",
      "source": [
        "# **Creating NumPy Arrays**"
      ],
      "metadata": {
        "id": "GaP80URG15PH"
      }
    },
    {
      "cell_type": "markdown",
      "source": [
        " The following ways are commonly used when you know the size of the array beforehand:\n",
        "* ```np.ones()```: Create array of 1s\n",
        "* ```np.zeros()```: Create array of 0s\n",
        "* ```np.random.random()```: Create array of random numbers\n",
        "* ```np.arange()```: Create array with increments of a fixed step size\n",
        "* ```np.linspace()```: Create array of fixed length"
      ],
      "metadata": {
        "id": "epXmlwrwgEwF"
      }
    },
    {
      "cell_type": "code",
      "source": [
        "import numpy as np"
      ],
      "metadata": {
        "id": "UqGxudGFfriK"
      },
      "execution_count": null,
      "outputs": []
    },
    {
      "cell_type": "markdown",
      "source": [
        "##### Tip: Use help to see the syntax when required"
      ],
      "metadata": {
        "id": "31h2k5RAgJWb"
      }
    },
    {
      "cell_type": "code",
      "source": [
        "help(np.ones)"
      ],
      "metadata": {
        "colab": {
          "base_uri": "https://localhost:8080/"
        },
        "id": "G8dJDhCMgLAo",
        "outputId": "9b898f83-1dfd-4311-e639-b7a627127103"
      },
      "execution_count": null,
      "outputs": [
        {
          "output_type": "stream",
          "name": "stdout",
          "text": [
            "Help on function ones in module numpy:\n",
            "\n",
            "ones(shape, dtype=None, order='C', *, like=None)\n",
            "    Return a new array of given shape and type, filled with ones.\n",
            "    \n",
            "    Parameters\n",
            "    ----------\n",
            "    shape : int or sequence of ints\n",
            "        Shape of the new array, e.g., ``(2, 3)`` or ``2``.\n",
            "    dtype : data-type, optional\n",
            "        The desired data-type for the array, e.g., `numpy.int8`.  Default is\n",
            "        `numpy.float64`.\n",
            "    order : {'C', 'F'}, optional, default: C\n",
            "        Whether to store multi-dimensional data in row-major\n",
            "        (C-style) or column-major (Fortran-style) order in\n",
            "        memory.\n",
            "    like : array_like, optional\n",
            "        Reference object to allow the creation of arrays which are not\n",
            "        NumPy arrays. If an array-like passed in as ``like`` supports\n",
            "        the ``__array_function__`` protocol, the result will be defined\n",
            "        by it. In this case, it ensures the creation of an array object\n",
            "        compatible with that passed in via this argument.\n",
            "    \n",
            "        .. versionadded:: 1.20.0\n",
            "    \n",
            "    Returns\n",
            "    -------\n",
            "    out : ndarray\n",
            "        Array of ones with the given shape, dtype, and order.\n",
            "    \n",
            "    See Also\n",
            "    --------\n",
            "    ones_like : Return an array of ones with shape and type of input.\n",
            "    empty : Return a new uninitialized array.\n",
            "    zeros : Return a new array setting values to zero.\n",
            "    full : Return a new array of given shape filled with value.\n",
            "    \n",
            "    \n",
            "    Examples\n",
            "    --------\n",
            "    >>> np.ones(5)\n",
            "    array([1., 1., 1., 1., 1.])\n",
            "    \n",
            "    >>> np.ones((5,), dtype=int)\n",
            "    array([1, 1, 1, 1, 1])\n",
            "    \n",
            "    >>> np.ones((2, 1))\n",
            "    array([[1.],\n",
            "           [1.]])\n",
            "    \n",
            "    >>> s = (2,2)\n",
            "    >>> np.ones(s)\n",
            "    array([[1.,  1.],\n",
            "           [1.,  1.]])\n",
            "\n"
          ]
        }
      ]
    },
    {
      "cell_type": "code",
      "source": [
        "##### Creating a 1 D array of ones\n",
        "arr = np.ones(5)\n",
        "arr"
      ],
      "metadata": {
        "colab": {
          "base_uri": "https://localhost:8080/"
        },
        "id": "z3wykea2gNxA",
        "outputId": "f2a48f61-c317-496d-c750-a8c8d292f9c2"
      },
      "execution_count": null,
      "outputs": [
        {
          "output_type": "execute_result",
          "data": {
            "text/plain": [
              "array([1., 1., 1., 1., 1.])"
            ]
          },
          "metadata": {},
          "execution_count": 28
        }
      ]
    },
    {
      "cell_type": "code",
      "source": [
        "##### Notice that, by default, numpy creates data type = float64\n",
        "arr.dtype"
      ],
      "metadata": {
        "colab": {
          "base_uri": "https://localhost:8080/"
        },
        "id": "lpKtScU3gSQK",
        "outputId": "0d37a72a-8287-43ad-8848-6650df06e7a3"
      },
      "execution_count": null,
      "outputs": [
        {
          "output_type": "execute_result",
          "data": {
            "text/plain": [
              "dtype('float64')"
            ]
          },
          "metadata": {},
          "execution_count": 29
        }
      ]
    },
    {
      "cell_type": "code",
      "source": [
        "##### Can provide dtype explicitly using dtype\n",
        "arr = np.ones(5, dtype=int)\n",
        "arr"
      ],
      "metadata": {
        "colab": {
          "base_uri": "https://localhost:8080/"
        },
        "id": "eLjo-hvrgVcY",
        "outputId": "c2babc84-c52c-47aa-a2d7-c328469a3bb3"
      },
      "execution_count": null,
      "outputs": [
        {
          "output_type": "execute_result",
          "data": {
            "text/plain": [
              "array([1, 1, 1, 1, 1])"
            ]
          },
          "metadata": {},
          "execution_count": 30
        }
      ]
    },
    {
      "cell_type": "code",
      "source": [
        "arr.dtype"
      ],
      "metadata": {
        "colab": {
          "base_uri": "https://localhost:8080/"
        },
        "id": "E65iW3X-gZu8",
        "outputId": "f2a690e5-0c84-45d6-b223-0055cbfd6d99"
      },
      "execution_count": null,
      "outputs": [
        {
          "output_type": "execute_result",
          "data": {
            "text/plain": [
              "dtype('int64')"
            ]
          },
          "metadata": {},
          "execution_count": 31
        }
      ]
    },
    {
      "cell_type": "code",
      "source": [
        "##### Creating a 5  x 3 array of ones\n",
        "np.ones((5,3))"
      ],
      "metadata": {
        "colab": {
          "base_uri": "https://localhost:8080/"
        },
        "id": "kqGwE593gbjH",
        "outputId": "7d6e83bd-fb74-49e8-9c41-e09e05a8147c"
      },
      "execution_count": null,
      "outputs": [
        {
          "output_type": "execute_result",
          "data": {
            "text/plain": [
              "array([[1., 1., 1.],\n",
              "       [1., 1., 1.],\n",
              "       [1., 1., 1.],\n",
              "       [1., 1., 1.],\n",
              "       [1., 1., 1.]])"
            ]
          },
          "metadata": {},
          "execution_count": 32
        }
      ]
    },
    {
      "cell_type": "code",
      "source": [
        "##### Creating array of zeros\n",
        "zeros = np.zeros(5)\n",
        "zeros"
      ],
      "metadata": {
        "colab": {
          "base_uri": "https://localhost:8080/"
        },
        "id": "mlPayF8fgikC",
        "outputId": "b54210b9-207a-4216-b129-99ce15b92d1c"
      },
      "execution_count": null,
      "outputs": [
        {
          "output_type": "execute_result",
          "data": {
            "text/plain": [
              "array([0., 0., 0., 0., 0.])"
            ]
          },
          "metadata": {},
          "execution_count": 34
        }
      ]
    },
    {
      "cell_type": "code",
      "source": [
        "# convert the type into integer.\n",
        "np.zeros(5, dtype=int)"
      ],
      "metadata": {
        "colab": {
          "base_uri": "https://localhost:8080/"
        },
        "id": "dbQQ0cPEgrTw",
        "outputId": "1c179e22-662a-4983-b82d-c6f60716c0c4"
      },
      "execution_count": null,
      "outputs": [
        {
          "output_type": "execute_result",
          "data": {
            "text/plain": [
              "array([0, 0, 0, 0, 0])"
            ]
          },
          "metadata": {},
          "execution_count": 35
        }
      ]
    },
    {
      "cell_type": "code",
      "source": [
        "# Create a list of integers range between 1 to 5.\n",
        "list(range(1,5))"
      ],
      "metadata": {
        "colab": {
          "base_uri": "https://localhost:8080/"
        },
        "id": "mBHBejcNguaA",
        "outputId": "96fcfae9-1aef-4c40-8097-8e2957399683"
      },
      "execution_count": null,
      "outputs": [
        {
          "output_type": "execute_result",
          "data": {
            "text/plain": [
              "[1, 2, 3, 4]"
            ]
          },
          "metadata": {},
          "execution_count": 36
        }
      ]
    },
    {
      "cell_type": "code",
      "source": [
        "np.arange(3)"
      ],
      "metadata": {
        "colab": {
          "base_uri": "https://localhost:8080/"
        },
        "id": "yNz7ybfQgyIo",
        "outputId": "2e11db72-58f4-4c67-cab2-ec4395f43d26"
      },
      "execution_count": null,
      "outputs": [
        {
          "output_type": "execute_result",
          "data": {
            "text/plain": [
              "array([0, 1, 2])"
            ]
          },
          "metadata": {},
          "execution_count": 37
        }
      ]
    },
    {
      "cell_type": "code",
      "source": [
        "np.arange(3.0)"
      ],
      "metadata": {
        "colab": {
          "base_uri": "https://localhost:8080/"
        },
        "id": "oGL7we4Cg02j",
        "outputId": "17bc0931-e4bb-47e8-ebb7-eb0ccf15d28a"
      },
      "execution_count": null,
      "outputs": [
        {
          "output_type": "execute_result",
          "data": {
            "text/plain": [
              "array([0., 1., 2.])"
            ]
          },
          "metadata": {},
          "execution_count": 38
        }
      ]
    },
    {
      "cell_type": "markdown",
      "source": [
        "##### Notice that 3 is included, 35 is not, as in standard python lists\n",
        "\n",
        "From 3 to 35 with a step of 2"
      ],
      "metadata": {
        "id": "jorBB3W0g6jI"
      }
    },
    {
      "cell_type": "code",
      "source": [
        "np.arange(3,35,2)"
      ],
      "metadata": {
        "colab": {
          "base_uri": "https://localhost:8080/"
        },
        "id": "99rmg0PYg5e-",
        "outputId": "902dde7c-7514-4f7f-deb4-b83f6f540c1e"
      },
      "execution_count": null,
      "outputs": [
        {
          "output_type": "execute_result",
          "data": {
            "text/plain": [
              "array([ 3,  5,  7,  9, 11, 13, 15, 17, 19, 21, 23, 25, 27, 29, 31, 33])"
            ]
          },
          "metadata": {},
          "execution_count": 39
        }
      ]
    },
    {
      "cell_type": "markdown",
      "source": [
        "##### Array of random numbers\n"
      ],
      "metadata": {
        "id": "8d3XHra6hDJb"
      }
    },
    {
      "cell_type": "code",
      "source": [
        "np.random.randint(2, size=10)"
      ],
      "metadata": {
        "colab": {
          "base_uri": "https://localhost:8080/"
        },
        "id": "ueuzeuuOhEIf",
        "outputId": "0dd8a188-78a5-4e14-e50f-bf128d55496c"
      },
      "execution_count": null,
      "outputs": [
        {
          "output_type": "execute_result",
          "data": {
            "text/plain": [
              "array([1, 1, 1, 1, 0, 1, 1, 1, 0, 1])"
            ]
          },
          "metadata": {},
          "execution_count": 40
        }
      ]
    },
    {
      "cell_type": "code",
      "source": [
        "np.random.randint(3,5, size=10)"
      ],
      "metadata": {
        "colab": {
          "base_uri": "https://localhost:8080/"
        },
        "id": "wd47QdYqhGTZ",
        "outputId": "749d60bb-668d-4775-de28-08b920d53b68"
      },
      "execution_count": null,
      "outputs": [
        {
          "output_type": "execute_result",
          "data": {
            "text/plain": [
              "array([3, 3, 3, 4, 4, 3, 3, 4, 3, 3])"
            ]
          },
          "metadata": {},
          "execution_count": 41
        }
      ]
    },
    {
      "cell_type": "markdown",
      "source": [
        "##### 2D Array of random numbers\n"
      ],
      "metadata": {
        "id": "ZHTAlMxyhJrC"
      }
    },
    {
      "cell_type": "code",
      "source": [
        "np.random.random([3,4]) # by default nrs are between 0 and 1"
      ],
      "metadata": {
        "colab": {
          "base_uri": "https://localhost:8080/"
        },
        "id": "DIt2VhzThLKf",
        "outputId": "871d64fe-149e-4d73-8290-63aa373090b5"
      },
      "execution_count": null,
      "outputs": [
        {
          "output_type": "execute_result",
          "data": {
            "text/plain": [
              "array([[0.44695044, 0.89724219, 0.50761437, 0.93652667],\n",
              "       [0.2351055 , 0.88919958, 0.07688964, 0.73320272],\n",
              "       [0.95472911, 0.81743353, 0.29854383, 0.40114032]])"
            ]
          },
          "metadata": {},
          "execution_count": 42
        }
      ]
    },
    {
      "cell_type": "markdown",
      "source": [
        "###### Sometimes, you know the length of the array, not the step size\n",
        "\n",
        "Array of length 20 between 1 and 10"
      ],
      "metadata": {
        "id": "6h6colzGhOHT"
      }
    },
    {
      "cell_type": "code",
      "source": [
        "np.linspace(1,10,20)"
      ],
      "metadata": {
        "colab": {
          "base_uri": "https://localhost:8080/"
        },
        "id": "SqnEUCHjhNzi",
        "outputId": "f5cbb78f-c555-42ed-bdc8-ac7db5649e31"
      },
      "execution_count": null,
      "outputs": [
        {
          "output_type": "execute_result",
          "data": {
            "text/plain": [
              "array([ 1.        ,  1.47368421,  1.94736842,  2.42105263,  2.89473684,\n",
              "        3.36842105,  3.84210526,  4.31578947,  4.78947368,  5.26315789,\n",
              "        5.73684211,  6.21052632,  6.68421053,  7.15789474,  7.63157895,\n",
              "        8.10526316,  8.57894737,  9.05263158,  9.52631579, 10.        ])"
            ]
          },
          "metadata": {},
          "execution_count": 43
        }
      ]
    },
    {
      "cell_type": "markdown",
      "source": [
        "<h2 style = \"color : Sky blue\"> Exercises </h2>"
      ],
      "metadata": {
        "id": "3v-WhQvwhUxo"
      }
    },
    {
      "cell_type": "markdown",
      "source": [
        "\n",
        "\n",
        "Apart from the methods mentioned above, there are a few more NumPy functions that you can use to create special NumPy arrays:\n",
        "\n",
        "-  `np.full()`: Create a constant array of any number ‘n’\n",
        "-  `np.tile()`: Create a new array by repeating an existing array for a particular number of times\n",
        "-  `np.eye()`: Create an identity matrix of any dimension\n",
        "-  `np.random.randint()`: Create a random array of integers within a particular range"
      ],
      "metadata": {
        "id": "UHlqQbtVhWKR"
      }
    },
    {
      "cell_type": "code",
      "source": [
        "##### np.full()\n",
        "##### This function creates an array filled with a specified value. You specify the shape of the array and the fill value you want.\n",
        "import numpy as np\n",
        "\n",
        "# Create a 3x4 array filled with the number 7\n",
        "array_full = np.full((3, 4), 7)\n",
        "print(array_full)"
      ],
      "metadata": {
        "colab": {
          "base_uri": "https://localhost:8080/"
        },
        "id": "XscWudF22kSa",
        "outputId": "fe7525f3-1d7b-428a-d829-8e213d4ebeda"
      },
      "execution_count": null,
      "outputs": [
        {
          "output_type": "stream",
          "name": "stdout",
          "text": [
            "[[7 7 7 7]\n",
            " [7 7 7 7]\n",
            " [7 7 7 7]]\n"
          ]
        }
      ]
    },
    {
      "cell_type": "code",
      "source": [
        "#### np.tile()\n",
        "#### np.tile() is used to repeat an existing array a certain number of times, both along the rows and columns."
      ],
      "metadata": {
        "id": "A8Kuqkz83QQv"
      },
      "execution_count": null,
      "outputs": []
    },
    {
      "cell_type": "code",
      "source": [
        "import numpy as np\n",
        "# Create an initial array\n",
        "initial_array = np.array([1, 2])\n",
        "# Tile this array to make a 2x6 array\n",
        "tiled_array = np.tile(initial_array, (2, 3))\n",
        "print(tiled_array)\n"
      ],
      "metadata": {
        "colab": {
          "base_uri": "https://localhost:8080/"
        },
        "id": "VyTEEHYQ3ThG",
        "outputId": "e52bca70-8da0-40fa-d85a-f1df3fcb2dfc"
      },
      "execution_count": null,
      "outputs": [
        {
          "output_type": "stream",
          "name": "stdout",
          "text": [
            "[[1 2 1 2 1 2]\n",
            " [1 2 1 2 1 2]]\n"
          ]
        }
      ]
    },
    {
      "cell_type": "code",
      "source": [
        "## np.eye()\n",
        "## This function creates an identity matrix. An identity matrix is a square matrix with ones on the diagonal and zeros elsewhere. It's often used in linear algebra.\n",
        "import numpy as np\n",
        "# Create a 3x3 identity matrix\n",
        "identity_matrix = np.eye(3)\n",
        "print(identity_matrix)\n"
      ],
      "metadata": {
        "colab": {
          "base_uri": "https://localhost:8080/"
        },
        "id": "n-1ujLRr5Ybr",
        "outputId": "e586dfcd-9f2f-426d-cf58-4aaf9f54ce0e"
      },
      "execution_count": null,
      "outputs": [
        {
          "output_type": "stream",
          "name": "stdout",
          "text": [
            "[[1. 0. 0.]\n",
            " [0. 1. 0.]\n",
            " [0. 0. 1.]]\n"
          ]
        }
      ]
    },
    {
      "cell_type": "code",
      "source": [
        "identity_matrix = np.eye(5)\n",
        "print(identity_matrix)"
      ],
      "metadata": {
        "colab": {
          "base_uri": "https://localhost:8080/"
        },
        "id": "7rYjM2ax5yqM",
        "outputId": "e77fb79e-3e88-4c31-94d9-e86210f7db53"
      },
      "execution_count": null,
      "outputs": [
        {
          "output_type": "stream",
          "name": "stdout",
          "text": [
            "[[1. 0. 0. 0. 0.]\n",
            " [0. 1. 0. 0. 0.]\n",
            " [0. 0. 1. 0. 0.]\n",
            " [0. 0. 0. 1. 0.]\n",
            " [0. 0. 0. 0. 1.]]\n"
          ]
        }
      ]
    },
    {
      "cell_type": "code",
      "source": [
        "## np.random.randint()\n",
        "## This function generates an array of random integers. You can specify the range of the integers (low inclusive and high exclusive) and the shape of the resulting array.\n",
        "import numpy as np\n",
        "# Create a 2x3 array of random integers between 1 and 10\n",
        "random_integers = np.random.randint(1, 10, size=(2, 3))\n",
        "print(random_integers)"
      ],
      "metadata": {
        "colab": {
          "base_uri": "https://localhost:8080/"
        },
        "id": "JJohC4vq7Yqi",
        "outputId": "03c62435-3d39-402f-864b-b4acc4e912b0"
      },
      "execution_count": null,
      "outputs": [
        {
          "output_type": "stream",
          "name": "stdout",
          "text": [
            "[[1 5 7]\n",
            " [3 8 7]]\n"
          ]
        }
      ]
    },
    {
      "cell_type": "markdown",
      "source": [
        "Task 1:"
      ],
      "metadata": {
        "id": "hNj0PZL_5XyD"
      }
    },
    {
      "cell_type": "code",
      "source": [
        "# Description\n",
        "# Create an array of first 10 multiples of 5 using the 'arange' function.\n",
        "array_multipleof5 = np.arange(5, 55, 5)\n",
        "\n",
        "print(array_multipleof5)"
      ],
      "metadata": {
        "colab": {
          "base_uri": "https://localhost:8080/"
        },
        "id": "1zRi-NcJ7_Z4",
        "outputId": "84657d83-9b5b-4c22-e515-054dea209d87"
      },
      "execution_count": null,
      "outputs": [
        {
          "output_type": "stream",
          "name": "stdout",
          "text": [
            "[ 5 10 15 20 25 30 35 40 45 50]\n"
          ]
        }
      ]
    },
    {
      "cell_type": "markdown",
      "source": [
        "**Create border array**\n",
        "\n",
        "\n",
        "Description\n",
        "\n",
        "Given a single integer n, create an (n x n) 2D array with 1 on the border and 0 on the inside.\n",
        "\n",
        "Note: Make sure the array is of type int.\n",
        "\n",
        "Example:\n",
        "Input 1:\n",
        "4\n",
        "\n",
        "Output 1:\n",
        "\n",
        "[[1 1 1 1]\n",
        "\n",
        "[1 0 0 1]\n",
        "\n",
        "[1 0 0 1]\n",
        "\n",
        "[1 1 1 1]]\n",
        "\n",
        "\n",
        "Input 2:\n",
        "2\n",
        "\n",
        "Output 2:\n",
        "\n",
        "[[1 1]\n",
        "\n",
        " [1 1]]"
      ],
      "metadata": {
        "id": "Gq5Arwyp-gH6"
      }
    },
    {
      "cell_type": "code",
      "source": [
        "n = int(input())\n",
        "\n",
        "import numpy as np\n",
        "\n",
        "# Create an 'n*n' array of all ones\n",
        "array = np.ones((n, n), dtype=int)\n",
        "\n",
        "\n",
        "\n",
        "# Fill the array with zeroes from second index (i.e. index 1) to second last index.\n",
        "# Do this for both row indices and column indices\n",
        "if n > 2:\n",
        "  array[1:-1, 1:-1] = 0\n",
        "\n",
        "# Print the array created\n",
        "print(array)"
      ],
      "metadata": {
        "colab": {
          "base_uri": "https://localhost:8080/"
        },
        "id": "PUQGhoK7-d10",
        "outputId": "53f1938b-195a-40d6-9850-e0d207fe57ae"
      },
      "execution_count": null,
      "outputs": [
        {
          "output_type": "stream",
          "name": "stdout",
          "text": [
            "9\n",
            "[[1 1 1 1 1 1 1 1 1]\n",
            " [1 0 0 0 0 0 0 0 1]\n",
            " [1 0 0 0 0 0 0 0 1]\n",
            " [1 0 0 0 0 0 0 0 1]\n",
            " [1 0 0 0 0 0 0 0 1]\n",
            " [1 0 0 0 0 0 0 0 1]\n",
            " [1 0 0 0 0 0 0 0 1]\n",
            " [1 0 0 0 0 0 0 0 1]\n",
            " [1 1 1 1 1 1 1 1 1]]\n"
          ]
        }
      ]
    },
    {
      "cell_type": "markdown",
      "source": [
        "# **Mathematical Operations on NumPy**"
      ],
      "metadata": {
        "id": "ddF6pprKFg1D"
      }
    },
    {
      "cell_type": "markdown",
      "source": [
        "<h2 style = \"color : Brown\"> Operations on NumPy Arrays</h2>\n",
        "\n",
        "The learning objectives of this section are:\n",
        "\n",
        "* Manipulate arrays\n",
        "    * Reshape arrays\n",
        "    * Stack arrays\n",
        "* Perform operations on arrays\n",
        "    * Perform basic mathematical operations\n",
        "    * Apply built-in functions\n",
        "    * Apply your own functions\n",
        "    * Apply basic linear algebra operations\n"
      ],
      "metadata": {
        "id": "B5rGjFD-fVRH"
      }
    },
    {
      "cell_type": "code",
      "source": [
        "import numpy as np"
      ],
      "metadata": {
        "id": "qI-P1FLSfY2C"
      },
      "execution_count": null,
      "outputs": []
    },
    {
      "cell_type": "markdown",
      "source": [
        "<h4 style = \"color : Sky blue\"> Example - 1 (Arithmatric Operations)</h4>  \n"
      ],
      "metadata": {
        "id": "sOKKMuIEfb02"
      }
    },
    {
      "cell_type": "code",
      "source": [
        "array1 = np.array([10,20,30,40,50])\n",
        "array2 = np.arange(5)\n",
        "array1"
      ],
      "metadata": {
        "colab": {
          "base_uri": "https://localhost:8080/"
        },
        "id": "dWFoYEaQfcMb",
        "outputId": "9b61b8b2-7933-48c0-a8b5-5b13f64c90db"
      },
      "execution_count": null,
      "outputs": [
        {
          "output_type": "execute_result",
          "data": {
            "text/plain": [
              "array([10, 20, 30, 40, 50])"
            ]
          },
          "metadata": {},
          "execution_count": 16
        }
      ]
    },
    {
      "cell_type": "code",
      "source": [
        "array2"
      ],
      "metadata": {
        "colab": {
          "base_uri": "https://localhost:8080/"
        },
        "id": "rlWPWnMkfhEE",
        "outputId": "0fc69492-6ca0-45cc-ecd0-44ac64f79629"
      },
      "execution_count": null,
      "outputs": [
        {
          "output_type": "execute_result",
          "data": {
            "text/plain": [
              "array([0, 1, 2, 3, 4])"
            ]
          },
          "metadata": {},
          "execution_count": 3
        }
      ]
    },
    {
      "cell_type": "code",
      "source": [
        "# Add array1 and array2.\n",
        "array3 = array1 + array2\n",
        "array3"
      ],
      "metadata": {
        "colab": {
          "base_uri": "https://localhost:8080/"
        },
        "id": "uYtA0uWjfi6e",
        "outputId": "44648da9-05cd-4147-b2ff-dfd98e31577c"
      },
      "execution_count": null,
      "outputs": [
        {
          "output_type": "execute_result",
          "data": {
            "text/plain": [
              "array([10, 21, 32, 43, 54])"
            ]
          },
          "metadata": {},
          "execution_count": 4
        }
      ]
    },
    {
      "cell_type": "markdown",
      "source": [
        "<h4 style = \"color : Sky blue\"> Example - 2</h4>  "
      ],
      "metadata": {
        "id": "qMZPO2gjfozf"
      }
    },
    {
      "cell_type": "code",
      "source": [
        "array4 = np.array([1,2,3,4])"
      ],
      "metadata": {
        "id": "JxN-g_anfqt4"
      },
      "execution_count": null,
      "outputs": []
    },
    {
      "cell_type": "code",
      "source": [
        "array4 + array1 # this wont work because len of 2 arrays is different"
      ],
      "metadata": {
        "colab": {
          "base_uri": "https://localhost:8080/",
          "height": 144
        },
        "id": "5sKcC4u_fsmj",
        "outputId": "e794ce3f-8a2d-4f04-8ccf-1d3ad2512844"
      },
      "execution_count": null,
      "outputs": [
        {
          "output_type": "error",
          "ename": "ValueError",
          "evalue": "operands could not be broadcast together with shapes (4,) (5,) ",
          "traceback": [
            "\u001b[0;31m---------------------------------------------------------------------------\u001b[0m",
            "\u001b[0;31mValueError\u001b[0m                                Traceback (most recent call last)",
            "\u001b[0;32m<ipython-input-18-f65cd0da92dc>\u001b[0m in \u001b[0;36m<cell line: 1>\u001b[0;34m()\u001b[0m\n\u001b[0;32m----> 1\u001b[0;31m \u001b[0marray4\u001b[0m \u001b[0;34m+\u001b[0m \u001b[0marray1\u001b[0m \u001b[0;31m# this wont work because len of 2 arrays is different\u001b[0m\u001b[0;34m\u001b[0m\u001b[0;34m\u001b[0m\u001b[0m\n\u001b[0m",
            "\u001b[0;31mValueError\u001b[0m: operands could not be broadcast together with shapes (4,) (5,) "
          ]
        }
      ]
    },
    {
      "cell_type": "code",
      "source": [
        "print (array1.shape)"
      ],
      "metadata": {
        "colab": {
          "base_uri": "https://localhost:8080/"
        },
        "id": "CkXIUdIsfvD0",
        "outputId": "290cd8e8-6030-4b71-a015-e7b9c6fdab43"
      },
      "execution_count": null,
      "outputs": [
        {
          "output_type": "stream",
          "name": "stdout",
          "text": [
            "(5,)\n"
          ]
        }
      ]
    },
    {
      "cell_type": "code",
      "source": [
        "print (array4.shape)"
      ],
      "metadata": {
        "colab": {
          "base_uri": "https://localhost:8080/"
        },
        "id": "a9dYd_VmfwQB",
        "outputId": "dfdaf84f-9c11-439b-8f67-5c1d48ada571"
      },
      "execution_count": null,
      "outputs": [
        {
          "output_type": "stream",
          "name": "stdout",
          "text": [
            "(4,)\n"
          ]
        }
      ]
    },
    {
      "cell_type": "markdown",
      "source": [
        "<h4 style = \"color : Sky blue\"> Example - 3</h4>  "
      ],
      "metadata": {
        "id": "c-UtyNY-fysO"
      }
    },
    {
      "cell_type": "code",
      "source": [
        "array = np.linspace(1, 10, 5) # linspace divides the span into x (in this case 5) numbers with equal differences\n",
        "array"
      ],
      "metadata": {
        "colab": {
          "base_uri": "https://localhost:8080/"
        },
        "id": "XynRf7pjf0_C",
        "outputId": "0eb31bdd-e4db-4f05-d0a5-55c1fe94dab1"
      },
      "execution_count": null,
      "outputs": [
        {
          "output_type": "execute_result",
          "data": {
            "text/plain": [
              "array([ 1.  ,  3.25,  5.5 ,  7.75, 10.  ])"
            ]
          },
          "metadata": {},
          "execution_count": 21
        }
      ]
    },
    {
      "cell_type": "code",
      "source": [
        "array*2"
      ],
      "metadata": {
        "colab": {
          "base_uri": "https://localhost:8080/"
        },
        "id": "UhjbAAJyf2uK",
        "outputId": "d79acacb-cf86-43be-e8c9-07ab32ea3998"
      },
      "execution_count": null,
      "outputs": [
        {
          "output_type": "execute_result",
          "data": {
            "text/plain": [
              "array([ 2. ,  6.5, 11. , 15.5, 20. ])"
            ]
          },
          "metadata": {},
          "execution_count": 22
        }
      ]
    },
    {
      "cell_type": "code",
      "source": [
        "array**2"
      ],
      "metadata": {
        "colab": {
          "base_uri": "https://localhost:8080/"
        },
        "id": "ob7H4HPef4L8",
        "outputId": "50d9026f-6bdd-46b5-e51e-9a2f1dc3a58c"
      },
      "execution_count": null,
      "outputs": [
        {
          "output_type": "execute_result",
          "data": {
            "text/plain": [
              "array([  1.    ,  10.5625,  30.25  ,  60.0625, 100.    ])"
            ]
          },
          "metadata": {},
          "execution_count": 23
        }
      ]
    },
    {
      "cell_type": "markdown",
      "source": [
        "<h4 style = \"color : Sky blue\"> Stacking Arrays</h4>"
      ],
      "metadata": {
        "id": "r9cvSrpmf6Ht"
      }
    },
    {
      "cell_type": "markdown",
      "source": [
        "####  ```np.hstack()``` and ```n.vstack()```\n",
        "\n",
        "Stacking is done using the ```np.hstack()``` and ```np.vstack()``` methods. For horizontal stacking, the number of rows should be the same, while for vertical stacking, the number of columns should be the same."
      ],
      "metadata": {
        "id": "bT00xi4bf8OS"
      }
    },
    {
      "cell_type": "code",
      "source": [
        "# Note that np.hstack(a, b) throws an error - you need to pass the arrays as a list\n",
        "a = np.array([1, 2, 3])\n",
        "b = np.array([2, 3, 4])\n",
        "\n",
        "np.hstack((a,b)) # u need double parathesis (()) to avoid error"
      ],
      "metadata": {
        "colab": {
          "base_uri": "https://localhost:8080/"
        },
        "id": "FVopE5gmf_7S",
        "outputId": "52641ad8-d0d9-4067-8174-4e212615a3af"
      },
      "execution_count": null,
      "outputs": [
        {
          "output_type": "execute_result",
          "data": {
            "text/plain": [
              "array([1, 2, 3, 2, 3, 4])"
            ]
          },
          "metadata": {},
          "execution_count": 24
        }
      ]
    },
    {
      "cell_type": "code",
      "source": [
        "np.vstack((a,b))"
      ],
      "metadata": {
        "colab": {
          "base_uri": "https://localhost:8080/"
        },
        "id": "9kTjY0R0gBwc",
        "outputId": "478b154f-3d30-4e82-d3a3-0eac67321380"
      },
      "execution_count": null,
      "outputs": [
        {
          "output_type": "execute_result",
          "data": {
            "text/plain": [
              "array([[1, 2, 3],\n",
              "       [2, 3, 4]])"
            ]
          },
          "metadata": {},
          "execution_count": 25
        }
      ]
    },
    {
      "cell_type": "code",
      "source": [
        "np.arange(12)"
      ],
      "metadata": {
        "colab": {
          "base_uri": "https://localhost:8080/"
        },
        "id": "11qE9ApSgDQz",
        "outputId": "22d3b0de-acf9-403e-b519-35bfab4ea5e8"
      },
      "execution_count": null,
      "outputs": [
        {
          "output_type": "execute_result",
          "data": {
            "text/plain": [
              "array([ 0,  1,  2,  3,  4,  5,  6,  7,  8,  9, 10, 11])"
            ]
          },
          "metadata": {},
          "execution_count": 26
        }
      ]
    },
    {
      "cell_type": "code",
      "source": [
        "np.arange(12).reshape(3,4)"
      ],
      "metadata": {
        "colab": {
          "base_uri": "https://localhost:8080/"
        },
        "id": "t5_6oHEagEpm",
        "outputId": "a856337c-8069-4344-c3fc-eaac8718be0f"
      },
      "execution_count": null,
      "outputs": [
        {
          "output_type": "execute_result",
          "data": {
            "text/plain": [
              "array([[ 0,  1,  2,  3],\n",
              "       [ 4,  5,  6,  7],\n",
              "       [ 8,  9, 10, 11]])"
            ]
          },
          "metadata": {},
          "execution_count": 27
        }
      ]
    },
    {
      "cell_type": "code",
      "source": [
        "array1 = np.arange(12).reshape(3,4) #3x4\n",
        "print(array1)"
      ],
      "metadata": {
        "colab": {
          "base_uri": "https://localhost:8080/"
        },
        "id": "RW8Be9oegGIL",
        "outputId": "4bab160f-fdcd-4c9f-c320-fb7dd929c42e"
      },
      "execution_count": null,
      "outputs": [
        {
          "output_type": "stream",
          "name": "stdout",
          "text": [
            "[[ 0  1  2  3]\n",
            " [ 4  5  6  7]\n",
            " [ 8  9 10 11]]\n"
          ]
        }
      ]
    },
    {
      "cell_type": "code",
      "source": [
        "array2 = np.arange(20).reshape(5,4) #5x4\n",
        "print(array2)"
      ],
      "metadata": {
        "colab": {
          "base_uri": "https://localhost:8080/"
        },
        "id": "-HSiXKxPm-r3",
        "outputId": "32deb987-0b97-4f22-e128-3e68e3621281"
      },
      "execution_count": null,
      "outputs": [
        {
          "output_type": "stream",
          "name": "stdout",
          "text": [
            "[[ 0  1  2  3]\n",
            " [ 4  5  6  7]\n",
            " [ 8  9 10 11]\n",
            " [12 13 14 15]\n",
            " [16 17 18 19]]\n"
          ]
        }
      ]
    },
    {
      "cell_type": "code",
      "source": [
        "print (array1, '\\n', array2)"
      ],
      "metadata": {
        "id": "lJ-QvFbxgIAm",
        "colab": {
          "base_uri": "https://localhost:8080/"
        },
        "outputId": "73501b98-b26f-4ff5-d69a-dc7b22c7f80d"
      },
      "execution_count": null,
      "outputs": [
        {
          "output_type": "stream",
          "name": "stdout",
          "text": [
            "[[ 0  1  2  3]\n",
            " [ 4  5  6  7]\n",
            " [ 8  9 10 11]] \n",
            " [[ 0  1  2  3]\n",
            " [ 4  5  6  7]\n",
            " [ 8  9 10 11]\n",
            " [12 13 14 15]\n",
            " [16 17 18 19]]\n"
          ]
        }
      ]
    },
    {
      "cell_type": "code",
      "source": [
        "np.vstack((array1,array2))"
      ],
      "metadata": {
        "id": "mIfYbA2TgJtI",
        "colab": {
          "base_uri": "https://localhost:8080/"
        },
        "outputId": "b6ba09d9-4b9c-4a0e-a559-eff61ac4fc2f"
      },
      "execution_count": null,
      "outputs": [
        {
          "output_type": "execute_result",
          "data": {
            "text/plain": [
              "array([[ 0,  1,  2,  3],\n",
              "       [ 4,  5,  6,  7],\n",
              "       [ 8,  9, 10, 11],\n",
              "       [ 0,  1,  2,  3],\n",
              "       [ 4,  5,  6,  7],\n",
              "       [ 8,  9, 10, 11],\n",
              "       [12, 13, 14, 15],\n",
              "       [16, 17, 18, 19]])"
            ]
          },
          "metadata": {},
          "execution_count": 64
        }
      ]
    },
    {
      "cell_type": "markdown",
      "source": [
        "<h4 style = \"color : Sky blue\"> Example - 4 (Numpy Built-in functions)</h4>  "
      ],
      "metadata": {
        "id": "z4tk0TFuTCSf"
      }
    },
    {
      "cell_type": "code",
      "source": [
        "array1"
      ],
      "metadata": {
        "colab": {
          "base_uri": "https://localhost:8080/"
        },
        "outputId": "e695f259-8003-4668-9424-465b5f1ca184",
        "id": "nmtmE9jfTCSg"
      },
      "execution_count": null,
      "outputs": [
        {
          "output_type": "execute_result",
          "data": {
            "text/plain": [
              "array([[ 0,  1,  2,  3],\n",
              "       [ 4,  5,  6,  7],\n",
              "       [ 8,  9, 10, 11]])"
            ]
          },
          "metadata": {},
          "execution_count": 65
        }
      ]
    },
    {
      "cell_type": "code",
      "source": [
        "np.power(array1, 3)"
      ],
      "metadata": {
        "colab": {
          "base_uri": "https://localhost:8080/"
        },
        "outputId": "f5b09a9e-4b41-48e1-c850-0247f70a9c74",
        "id": "BUInz6-tTCSg"
      },
      "execution_count": null,
      "outputs": [
        {
          "output_type": "execute_result",
          "data": {
            "text/plain": [
              "array([[   0,    1,    8,   27],\n",
              "       [  64,  125,  216,  343],\n",
              "       [ 512,  729, 1000, 1331]])"
            ]
          },
          "metadata": {},
          "execution_count": 66
        }
      ]
    },
    {
      "cell_type": "code",
      "source": [
        "np.arange(9).reshape(3,3)"
      ],
      "metadata": {
        "colab": {
          "base_uri": "https://localhost:8080/"
        },
        "id": "AlpfdlTLTCSg",
        "outputId": "6e311f1e-4b2c-412d-df85-8acf8383c336"
      },
      "execution_count": null,
      "outputs": [
        {
          "output_type": "execute_result",
          "data": {
            "text/plain": [
              "array([[0, 1, 2],\n",
              "       [3, 4, 5],\n",
              "       [6, 7, 8]])"
            ]
          },
          "metadata": {},
          "execution_count": 67
        }
      ]
    },
    {
      "cell_type": "code",
      "source": [
        "x = np.array([-2,-1, 0, 1,2])\n",
        "x"
      ],
      "metadata": {
        "colab": {
          "base_uri": "https://localhost:8080/"
        },
        "id": "_8RnHkICTCSg",
        "outputId": "0a2ba62e-8dd5-4ea0-bc5c-c1b6c4f74c67"
      },
      "execution_count": null,
      "outputs": [
        {
          "output_type": "execute_result",
          "data": {
            "text/plain": [
              "array([-2, -1,  0,  1,  2])"
            ]
          },
          "metadata": {},
          "execution_count": 68
        }
      ]
    },
    {
      "cell_type": "code",
      "source": [
        "abs(x)"
      ],
      "metadata": {
        "colab": {
          "base_uri": "https://localhost:8080/"
        },
        "id": "WR3sbqpITCSh",
        "outputId": "3a7b3ecb-45eb-4809-b4e2-caf187c70244"
      },
      "execution_count": null,
      "outputs": [
        {
          "output_type": "execute_result",
          "data": {
            "text/plain": [
              "array([2, 1, 0, 1, 2])"
            ]
          },
          "metadata": {},
          "execution_count": 70
        }
      ]
    },
    {
      "cell_type": "code",
      "source": [
        "np.absolute(x)"
      ],
      "metadata": {
        "colab": {
          "base_uri": "https://localhost:8080/"
        },
        "id": "iKc9GFJITCSh",
        "outputId": "7eb2d323-5010-4aaf-e2ba-992bc11920bc"
      },
      "execution_count": null,
      "outputs": [
        {
          "output_type": "execute_result",
          "data": {
            "text/plain": [
              "array([2, 1, 0, 1, 2])"
            ]
          },
          "metadata": {},
          "execution_count": 71
        }
      ]
    },
    {
      "cell_type": "markdown",
      "source": [
        "**Index of the 100th Element**\n",
        "\n",
        "Consider an (11,12) shape array. What is the index (x,y) of the 100th element? Note: For counting the elements, go row-wise. For example, in the array:\n",
        "\n",
        "```\n",
        "[[1, 5, 9],\n",
        "\n",
        " [3, 0, 2]]\n",
        "```\n",
        "\n",
        "\n",
        "\n",
        "the 5th element would be '0'."
      ],
      "metadata": {
        "id": "sNdEhhwPd5vJ"
      }
    },
    {
      "cell_type": "code",
      "source": [
        "import numpy as np\n",
        "\n",
        "# Create and reshape the array\n",
        "arr = np.array(range(1, 11*12+1)).reshape(11, 12)\n",
        "\n",
        "# Find the 100th element (99 in 0-based indexing)\n",
        "element_100 = arr.flat[99]\n",
        "\n",
        "# Get the row and column index for the 100th element\n",
        "index = np.unravel_index(99, (11, 12))\n",
        "\n",
        "print(\"The 100th element is:\", element_100)\n",
        "print(\"Its indices (row, column) are:\", index)\n"
      ],
      "metadata": {
        "colab": {
          "base_uri": "https://localhost:8080/"
        },
        "id": "CszT-px4nOqv",
        "outputId": "b9ab1184-682a-4ec4-8443-5c87de730f84"
      },
      "execution_count": null,
      "outputs": [
        {
          "output_type": "stream",
          "name": "stdout",
          "text": [
            "The 100th element is: 100\n",
            "Its indices (row, column) are: (8, 3)\n"
          ]
        }
      ]
    },
    {
      "cell_type": "markdown",
      "source": [
        "**Reshaping an Array**\n",
        "\n",
        "Suppose you have an array 'p':\n",
        "\n",
        "\n",
        "```\n",
        "[[1, 5],\n",
        " [3, 7],\n",
        " [4, 9]]\n",
        "```\n",
        "\n",
        "What will be the output of the following code?\n",
        "\n",
        "np.reshape(p, -1)"
      ],
      "metadata": {
        "id": "r-eHFWwAeHax"
      }
    },
    {
      "cell_type": "code",
      "source": [
        "import numpy as np\n",
        "array = [[1, 5],\n",
        " [3, 7],\n",
        " [4, 9]]\n",
        "p = np.array(array)\n",
        "\n",
        "# Correct usage of reshape to flatten the array\n",
        "flattened_p = p.reshape(-1)\n",
        "\n",
        "print(flattened_p)"
      ],
      "metadata": {
        "colab": {
          "base_uri": "https://localhost:8080/"
        },
        "id": "datrW0IoeXJl",
        "outputId": "516f27f7-0c4d-4a57-dea7-413fe8eb125b"
      },
      "execution_count": null,
      "outputs": [
        {
          "output_type": "stream",
          "name": "stdout",
          "text": [
            "[1 5 3 7 4 9]\n"
          ]
        }
      ]
    },
    {
      "cell_type": "markdown",
      "source": [
        "**Reshaping an Array**\n",
        "\n",
        "Consider the array provided below:\n",
        "\n",
        "\n",
        "```\n",
        "[[1, 2, 3, 4, 5]\n",
        " [6, 7, 8, 9, 10]\n",
        " [11, 12, 13, 14, 15]\n",
        " [16, 17, 18, 19, 20]]\n",
        "```\n",
        "\n",
        "\n",
        "Now, you are expected to generate the following array out of it:\n",
        "\n",
        "\n",
        "```\n",
        "[[1, 3]\n",
        " [5, 7]\n",
        " [9, 11]\n",
        " [13, 15]\n",
        " [17, 19]]\n",
        "```\n",
        "Which code will give you the correct output?\n",
        "(Hint: Also check if one or more options are correct.)"
      ],
      "metadata": {
        "id": "C2fW9uQxf-xp"
      }
    },
    {
      "cell_type": "code",
      "source": [
        "array = [[1, 2, 3, 4, 5],\n",
        " [6, 7, 8, 9, 10],\n",
        " [11, 12, 13, 14, 15],\n",
        " [16, 17, 18, 19, 20]]\n",
        "array_1 = np.array(array)\n",
        "\n",
        "\n",
        "print(array_1[array_1%2 != 0].reshape(5, 2))\n"
      ],
      "metadata": {
        "colab": {
          "base_uri": "https://localhost:8080/"
        },
        "id": "jcwRLcyrge_9",
        "outputId": "fa51cbf5-0b40-4701-8305-f8cb8b9a5cba"
      },
      "execution_count": null,
      "outputs": [
        {
          "output_type": "stream",
          "name": "stdout",
          "text": [
            "[[ 1  3]\n",
            " [ 5  7]\n",
            " [ 9 11]\n",
            " [13 15]\n",
            " [17 19]]\n"
          ]
        }
      ]
    },
    {
      "cell_type": "markdown",
      "source": [
        "**Reshaping an array**\n",
        "\n",
        "Suppose you have an array 'p'\n",
        "\n",
        "```\n",
        "[[1, 5],\n",
        " [3, 7],\n",
        " [4, 9]]\n",
        "```\n",
        "\n",
        "What will be the output of the following code?\n",
        "\n",
        "\n",
        "```\n",
        "np.reshape(p, (1, -1))\n",
        "```"
      ],
      "metadata": {
        "id": "vm3qqzQlg76f"
      }
    },
    {
      "cell_type": "code",
      "source": [
        "p = np.array([[1, 5],\n",
        " [3, 7],\n",
        " [4, 9]])\n",
        "np.reshape(p, (1, -1))\n"
      ],
      "metadata": {
        "colab": {
          "base_uri": "https://localhost:8080/"
        },
        "id": "w9DeCv-vhHXn",
        "outputId": "20b8ef08-1eff-48f3-d119-3aab62996268"
      },
      "execution_count": null,
      "outputs": [
        {
          "output_type": "execute_result",
          "data": {
            "text/plain": [
              "array([[1, 5, 3, 7, 4, 9]])"
            ]
          },
          "metadata": {},
          "execution_count": 9
        }
      ]
    },
    {
      "cell_type": "markdown",
      "source": [
        "Note: The dimension of the array is specified by the number of elements you specify in the tuple. Here, the answer is 2-D array."
      ],
      "metadata": {
        "id": "eV54vajVhetQ"
      }
    },
    {
      "cell_type": "markdown",
      "source": [
        "**Stacking arrays**\n",
        "\n",
        "Description\n",
        "\n",
        "Merge the three arrays provided to you to form a one 4x4 array.\n",
        "\n",
        "[Hint: Check the function np.transpose() in the 'Manipulating Arrays' notebook provided.]\n",
        "\n",
        "\n",
        "\n",
        "Input:\n",
        "\n",
        "Array 1: 3*3\n",
        "```\n",
        "[[7, 13, 14]\n",
        "\n",
        "[18, 10, 17]\n",
        "\n",
        "[11, 12, 19]]\n",
        "```\n",
        "\n",
        "\n",
        "Array 2: 1-D array\n",
        "\n",
        "```\n",
        "[16, 6, 1]\n",
        "```\n",
        "\n",
        "\n",
        "\n",
        "Array 3: 1*4 array\n",
        "\n",
        "```\n",
        "[[5, 8, 4, 3]]\n",
        "```\n",
        "\n",
        "\n",
        "Output:\n",
        "```\n",
        "[[7 13 14 5]\n",
        "\n",
        "[18 10 17 8]\n",
        "\n",
        "[11 12 19 4]\n",
        "\n",
        "[16 6 1 3]]\n",
        "```\n"
      ],
      "metadata": {
        "id": "VVtqCR81hpa1"
      }
    },
    {
      "cell_type": "code",
      "source": [
        "import numpy as np\n",
        "array1 = [[7, 13, 14],\n",
        "[18, 10, 17],\n",
        "[11, 12, 19]]\n",
        "\n",
        "array2 = [16, 6, 1]\n",
        "\n",
        "array3 = [[5, 8, 4, 3]]\n",
        "\n",
        "# Step 1: Stack array1 and array2 vertically\n",
        "array1_2 = np.vstack((array1, array2))\n",
        "array1_2\n",
        "\n",
        "# Step 2: Transpose array3 to make it 4x1\n",
        "array3_transposed = np.transpose(array3) # Convert list to numpy array and then transpose\n",
        "\n",
        "# Step 3: Horizontally stack array1_2 and array3_transposed\n",
        "final_array = np.hstack((array1_2, array3_transposed))\n",
        "\n",
        "# Output the final array\n",
        "print(final_array)"
      ],
      "metadata": {
        "colab": {
          "base_uri": "https://localhost:8080/"
        },
        "id": "5lfp51Cg_R-Q",
        "outputId": "2ae63b8d-c0ea-4b4a-f0de-125a5390b6e6"
      },
      "execution_count": null,
      "outputs": [
        {
          "output_type": "stream",
          "name": "stdout",
          "text": [
            "[[ 7 13 14  5]\n",
            " [18 10 17  8]\n",
            " [11 12 19  4]\n",
            " [16  6  1  3]]\n"
          ]
        }
      ]
    },
    {
      "cell_type": "code",
      "source": [
        "# we could solve it with fewer lines of code:\n",
        "import numpy as np\n",
        "array1 = [[7, 13, 14],\n",
        "[18, 10, 17],\n",
        "[11, 12, 19]]\n",
        "\n",
        "array2 = [16, 6, 1]\n",
        "\n",
        "array3 = [[5, 8, 4, 3]]\n",
        "\n",
        "transposed_array3 = np.transpose(array3)\n",
        "\n",
        "final_array = np.hstack((np.vstack((array1, array2)), transposed_array3))\n",
        "print(final_array)"
      ],
      "metadata": {
        "colab": {
          "base_uri": "https://localhost:8080/"
        },
        "id": "mYXD1mkmRcYP",
        "outputId": "1ab5a1c7-23c3-4ed0-a05e-e959ec587e6f"
      },
      "execution_count": null,
      "outputs": [
        {
          "output_type": "stream",
          "name": "stdout",
          "text": [
            "[[ 7 13 14  5]\n",
            " [18 10 17  8]\n",
            " [11 12 19  4]\n",
            " [16  6  1  3]]\n"
          ]
        }
      ]
    },
    {
      "cell_type": "code",
      "source": [
        "import numpy as np\n",
        "\n",
        "array1 = np.array([[7, 13, 14],\n",
        "                   [18, 10, 17],\n",
        "                   [11, 12, 19]])\n",
        "\n",
        "array2 = np.array([16, 6, 1])\n",
        "\n",
        "array3 = np.array([[5, 8, 4, 3]])\n"
      ],
      "metadata": {
        "id": "i87dwRR6rjBz"
      },
      "execution_count": null,
      "outputs": []
    },
    {
      "cell_type": "code",
      "source": [
        "# Step 1: Reshape array2 to a 1x3 array\n",
        "array2_reshaped = array2.reshape(1, 3)\n",
        "print(array2_reshaped)\n",
        "\n",
        "# here we convert [16, 6, 1] to [[16, 6, 1]] making it to a 2 dimensional array with the same nr of rows and cols\n",
        "# we do this to make it compatible with v- and hstack methods that require 2 dimensional arrays"
      ],
      "metadata": {
        "colab": {
          "base_uri": "https://localhost:8080/"
        },
        "id": "mCuhPKRRrk4a",
        "outputId": "df67237d-eab1-4c2d-9075-0eef35a574b0"
      },
      "execution_count": null,
      "outputs": [
        {
          "output_type": "stream",
          "name": "stdout",
          "text": [
            "[[16  6  1]]\n"
          ]
        }
      ]
    },
    {
      "cell_type": "code",
      "source": [
        "# Step 2: Stack array1 and the first three elements of array3 horizontally\n",
        "combined1 = np.hstack((array1, array3[:, :3].T))\n",
        "print(combined1)"
      ],
      "metadata": {
        "colab": {
          "base_uri": "https://localhost:8080/"
        },
        "id": "14BT-qJistsa",
        "outputId": "ce0dbe5b-45b5-4f7f-be82-4ba0e23a85b0"
      },
      "execution_count": null,
      "outputs": [
        {
          "output_type": "stream",
          "name": "stdout",
          "text": [
            "[[ 7 13 14  5]\n",
            " [18 10 17  8]\n",
            " [11 12 19  4]]\n"
          ]
        }
      ]
    },
    {
      "cell_type": "code",
      "source": [
        "combined1 = np.hstack((array1, array3[:, :3]))\n",
        "print(combined1)"
      ],
      "metadata": {
        "colab": {
          "base_uri": "https://localhost:8080/",
          "height": 341
        },
        "id": "Nd89CvMpu4zL",
        "outputId": "0d854eda-3f77-44d4-a426-aa16fb7aee60"
      },
      "execution_count": null,
      "outputs": [
        {
          "output_type": "error",
          "ename": "ValueError",
          "evalue": "all the input array dimensions except for the concatenation axis must match exactly, but along dimension 0, the array at index 0 has size 3 and the array at index 1 has size 1",
          "traceback": [
            "\u001b[0;31m---------------------------------------------------------------------------\u001b[0m",
            "\u001b[0;31mValueError\u001b[0m                                Traceback (most recent call last)",
            "\u001b[0;32m<ipython-input-56-dd46951fea5c>\u001b[0m in \u001b[0;36m<cell line: 1>\u001b[0;34m()\u001b[0m\n\u001b[0;32m----> 1\u001b[0;31m \u001b[0mcombined1\u001b[0m \u001b[0;34m=\u001b[0m \u001b[0mnp\u001b[0m\u001b[0;34m.\u001b[0m\u001b[0mhstack\u001b[0m\u001b[0;34m(\u001b[0m\u001b[0;34m(\u001b[0m\u001b[0marray1\u001b[0m\u001b[0;34m,\u001b[0m \u001b[0marray3\u001b[0m\u001b[0;34m[\u001b[0m\u001b[0;34m:\u001b[0m\u001b[0;34m,\u001b[0m \u001b[0;34m:\u001b[0m\u001b[0;36m3\u001b[0m\u001b[0;34m]\u001b[0m\u001b[0;34m)\u001b[0m\u001b[0;34m)\u001b[0m\u001b[0;34m\u001b[0m\u001b[0;34m\u001b[0m\u001b[0m\n\u001b[0m\u001b[1;32m      2\u001b[0m \u001b[0mprint\u001b[0m\u001b[0;34m(\u001b[0m\u001b[0mcombined1\u001b[0m\u001b[0;34m)\u001b[0m\u001b[0;34m\u001b[0m\u001b[0;34m\u001b[0m\u001b[0m\n",
            "\u001b[0;32m/usr/local/lib/python3.10/dist-packages/numpy/core/shape_base.py\u001b[0m in \u001b[0;36mhstack\u001b[0;34m(tup, dtype, casting)\u001b[0m\n\u001b[1;32m    357\u001b[0m         \u001b[0;32mreturn\u001b[0m \u001b[0m_nx\u001b[0m\u001b[0;34m.\u001b[0m\u001b[0mconcatenate\u001b[0m\u001b[0;34m(\u001b[0m\u001b[0marrs\u001b[0m\u001b[0;34m,\u001b[0m \u001b[0;36m0\u001b[0m\u001b[0;34m,\u001b[0m \u001b[0mdtype\u001b[0m\u001b[0;34m=\u001b[0m\u001b[0mdtype\u001b[0m\u001b[0;34m,\u001b[0m \u001b[0mcasting\u001b[0m\u001b[0;34m=\u001b[0m\u001b[0mcasting\u001b[0m\u001b[0;34m)\u001b[0m\u001b[0;34m\u001b[0m\u001b[0;34m\u001b[0m\u001b[0m\n\u001b[1;32m    358\u001b[0m     \u001b[0;32melse\u001b[0m\u001b[0;34m:\u001b[0m\u001b[0;34m\u001b[0m\u001b[0;34m\u001b[0m\u001b[0m\n\u001b[0;32m--> 359\u001b[0;31m         \u001b[0;32mreturn\u001b[0m \u001b[0m_nx\u001b[0m\u001b[0;34m.\u001b[0m\u001b[0mconcatenate\u001b[0m\u001b[0;34m(\u001b[0m\u001b[0marrs\u001b[0m\u001b[0;34m,\u001b[0m \u001b[0;36m1\u001b[0m\u001b[0;34m,\u001b[0m \u001b[0mdtype\u001b[0m\u001b[0;34m=\u001b[0m\u001b[0mdtype\u001b[0m\u001b[0;34m,\u001b[0m \u001b[0mcasting\u001b[0m\u001b[0;34m=\u001b[0m\u001b[0mcasting\u001b[0m\u001b[0;34m)\u001b[0m\u001b[0;34m\u001b[0m\u001b[0;34m\u001b[0m\u001b[0m\n\u001b[0m\u001b[1;32m    360\u001b[0m \u001b[0;34m\u001b[0m\u001b[0m\n\u001b[1;32m    361\u001b[0m \u001b[0;34m\u001b[0m\u001b[0m\n",
            "\u001b[0;31mValueError\u001b[0m: all the input array dimensions except for the concatenation axis must match exactly, but along dimension 0, the array at index 0 has size 3 and the array at index 1 has size 1"
          ]
        }
      ]
    },
    {
      "cell_type": "code",
      "source": [
        "## TRANSPOSE: in 2d array it means switch rows with columns\n",
        "import numpy as np\n",
        "\n",
        "# Create a 2x3 array\n",
        "arr = np.array([[1, 2, 3],\n",
        "                [4, 5, 6]])\n",
        "print(\"Original array:\")\n",
        "print(arr)\n",
        "\n",
        "# Transpose the array\n",
        "transposed_arr = np.transpose(arr)\n",
        "print(\"Transposed array:\")\n",
        "print(transposed_arr)\n"
      ],
      "metadata": {
        "colab": {
          "base_uri": "https://localhost:8080/"
        },
        "id": "iLDPwsfZn-c_",
        "outputId": "7379bbc3-0ed6-4c9b-918e-78d416562c08"
      },
      "execution_count": null,
      "outputs": [
        {
          "output_type": "stream",
          "name": "stdout",
          "text": [
            "Original array:\n",
            "[[1 2 3]\n",
            " [4 5 6]]\n",
            "Transposed array:\n",
            "[[1 4]\n",
            " [2 5]\n",
            " [3 6]]\n"
          ]
        }
      ]
    },
    {
      "cell_type": "code",
      "source": [
        "# Transpose 3d array\n",
        "# Create a 3D array of shape (2, 3, 4)\n",
        "arr_3d = np.array([[[ 1,  2,  3,  4],\n",
        "                    [ 5,  6,  7,  8],\n",
        "                    [ 9, 10, 11, 12]],\n",
        "\n",
        "                   [[13, 14, 15, 16],\n",
        "                    [17, 18, 19, 20],\n",
        "                    [21, 22, 23, 24]]])\n",
        "print(\"Original 3D array:\")\n",
        "print(arr_3d)\n",
        "\n",
        "# Transpose the 3D array\n",
        "transposed_3d = np.transpose(arr_3d, axes=(1, 0, 2))\n",
        "# axes mean, value at 1 (so 3) becomes new value for slices, value at 0 (so 2) becomes new value for rows,\n",
        "# and value at 2 (so 4) becomes the the value for columns, so (3, 2, 4)\n",
        "print(\"Transposed 3D array with axes=(1, 0, 2):\")\n",
        "print(transposed_3d)\n"
      ],
      "metadata": {
        "colab": {
          "base_uri": "https://localhost:8080/"
        },
        "id": "ICOHAqTGoh39",
        "outputId": "ef65c478-927e-4364-d631-d57b698cbd7f"
      },
      "execution_count": null,
      "outputs": [
        {
          "output_type": "stream",
          "name": "stdout",
          "text": [
            "Original 3D array:\n",
            "[[[ 1  2  3  4]\n",
            "  [ 5  6  7  8]\n",
            "  [ 9 10 11 12]]\n",
            "\n",
            " [[13 14 15 16]\n",
            "  [17 18 19 20]\n",
            "  [21 22 23 24]]]\n",
            "Transposed 3D array with axes=(1, 0, 2):\n",
            "[[[ 1  2  3  4]\n",
            "  [13 14 15 16]]\n",
            "\n",
            " [[ 5  6  7  8]\n",
            "  [17 18 19 20]]\n",
            "\n",
            " [[ 9 10 11 12]\n",
            "  [21 22 23 24]]]\n"
          ]
        }
      ]
    },
    {
      "cell_type": "markdown",
      "source": [
        "<h4 style = \"color : Sky blue\"> Example - 5 (Trignometric functions)</h4>  "
      ],
      "metadata": {
        "id": "U7rS1bwXgcxG"
      }
    },
    {
      "cell_type": "code",
      "source": [
        "np.pi"
      ],
      "metadata": {
        "id": "-AzeOgPGhd4F",
        "colab": {
          "base_uri": "https://localhost:8080/"
        },
        "outputId": "bedc4f06-ffc6-450f-b911-0410f4a6621d"
      },
      "execution_count": null,
      "outputs": [
        {
          "output_type": "execute_result",
          "data": {
            "text/plain": [
              "3.141592653589793"
            ]
          },
          "metadata": {},
          "execution_count": 72
        }
      ]
    },
    {
      "cell_type": "code",
      "source": [
        "theta = np.linspace(0, np.pi, 5) # divide the angles between 0 and pi into 5 equally spaced angles\n",
        "theta"
      ],
      "metadata": {
        "id": "o7UZc9wyhe9C",
        "colab": {
          "base_uri": "https://localhost:8080/"
        },
        "outputId": "1a0529b3-bb3b-4b79-bb6d-76aea6ee6774"
      },
      "execution_count": null,
      "outputs": [
        {
          "output_type": "execute_result",
          "data": {
            "text/plain": [
              "array([0.        , 0.78539816, 1.57079633, 2.35619449, 3.14159265])"
            ]
          },
          "metadata": {},
          "execution_count": 76
        }
      ]
    },
    {
      "cell_type": "code",
      "source": [
        "np.sin(theta)"
      ],
      "metadata": {
        "id": "NnUEAkAChhQK",
        "colab": {
          "base_uri": "https://localhost:8080/"
        },
        "outputId": "7ccfbf4a-0335-48dd-8fa2-a96ad4a01468"
      },
      "execution_count": null,
      "outputs": [
        {
          "output_type": "execute_result",
          "data": {
            "text/plain": [
              "array([0.00000000e+00, 7.07106781e-01, 1.00000000e+00, 7.07106781e-01,\n",
              "       1.22464680e-16])"
            ]
          },
          "metadata": {},
          "execution_count": 77
        }
      ]
    },
    {
      "cell_type": "code",
      "source": [
        "np.cos(theta)"
      ],
      "metadata": {
        "id": "NLqI153yhid2",
        "colab": {
          "base_uri": "https://localhost:8080/"
        },
        "outputId": "b944ddd4-7b97-4faf-8134-fbd562e6c53b"
      },
      "execution_count": null,
      "outputs": [
        {
          "output_type": "execute_result",
          "data": {
            "text/plain": [
              "array([ 1.00000000e+00,  7.07106781e-01,  6.12323400e-17, -7.07106781e-01,\n",
              "       -1.00000000e+00])"
            ]
          },
          "metadata": {},
          "execution_count": 79
        }
      ]
    },
    {
      "cell_type": "code",
      "source": [
        "np.tan(theta)"
      ],
      "metadata": {
        "colab": {
          "base_uri": "https://localhost:8080/"
        },
        "id": "VYanmP1iWFEe",
        "outputId": "398192e4-d386-4e07-9931-2432346281de"
      },
      "execution_count": null,
      "outputs": [
        {
          "output_type": "execute_result",
          "data": {
            "text/plain": [
              "array([ 0.00000000e+00,  1.00000000e+00,  1.63312394e+16, -1.00000000e+00,\n",
              "       -1.22464680e-16])"
            ]
          },
          "metadata": {},
          "execution_count": 80
        }
      ]
    },
    {
      "cell_type": "markdown",
      "source": [
        "<h4 style = \"color : Sky blue\"> Example - 6 (Exponential and logarithmic functions)</h4>\n",
        "\n",
        "\n"
      ],
      "metadata": {
        "id": "hFfrT55uhkgH"
      }
    },
    {
      "cell_type": "code",
      "source": [
        "x = [1, 2, 3, 10]\n",
        "x = np.array(x)"
      ],
      "metadata": {
        "id": "twurZ89ahlJ-"
      },
      "execution_count": null,
      "outputs": []
    },
    {
      "cell_type": "code",
      "source": [
        "np.exp(x) # e=2.718..."
      ],
      "metadata": {
        "colab": {
          "base_uri": "https://localhost:8080/"
        },
        "id": "hNB12IoM4ZUM",
        "outputId": "a566c790-af0a-4525-f1f9-e917bf6a6227"
      },
      "execution_count": null,
      "outputs": [
        {
          "output_type": "execute_result",
          "data": {
            "text/plain": [
              "array([2.71828183e+00, 7.38905610e+00, 2.00855369e+01, 2.20264658e+04])"
            ]
          },
          "metadata": {},
          "execution_count": 82
        }
      ]
    },
    {
      "cell_type": "code",
      "source": [
        "# 2^1, 2^2, 2^3, 2^10\n",
        "np.exp2(x)"
      ],
      "metadata": {
        "colab": {
          "base_uri": "https://localhost:8080/"
        },
        "id": "UjhndxVp4g8y",
        "outputId": "6a8de853-127b-487e-c4d3-1b15f2ab0756"
      },
      "execution_count": null,
      "outputs": [
        {
          "output_type": "execute_result",
          "data": {
            "text/plain": [
              "array([   2.,    4.,    8., 1024.])"
            ]
          },
          "metadata": {},
          "execution_count": 6
        }
      ]
    },
    {
      "cell_type": "code",
      "source": [
        "np.power(x,3)"
      ],
      "metadata": {
        "colab": {
          "base_uri": "https://localhost:8080/"
        },
        "id": "DY_JJIoV4jc_",
        "outputId": "29bb05cc-5dd8-4eda-8aab-2776fcac1ed5"
      },
      "execution_count": null,
      "outputs": [
        {
          "output_type": "execute_result",
          "data": {
            "text/plain": [
              "array([   1,    8,   27, 1000])"
            ]
          },
          "metadata": {},
          "execution_count": 84
        }
      ]
    },
    {
      "cell_type": "code",
      "source": [
        "np.log(x)"
      ],
      "metadata": {
        "colab": {
          "base_uri": "https://localhost:8080/"
        },
        "id": "9CFZK4zP4k2T",
        "outputId": "427f243b-d494-4b8e-b36a-438dc9baf6d8"
      },
      "execution_count": null,
      "outputs": [
        {
          "output_type": "execute_result",
          "data": {
            "text/plain": [
              "array([0.        , 0.69314718, 1.09861229, 2.30258509])"
            ]
          },
          "metadata": {},
          "execution_count": 85
        }
      ]
    },
    {
      "cell_type": "code",
      "source": [
        "np.log2(x)"
      ],
      "metadata": {
        "colab": {
          "base_uri": "https://localhost:8080/"
        },
        "id": "SA12X_xL4mai",
        "outputId": "fbdac53b-f24a-4863-e140-e6528a8ddd92"
      },
      "execution_count": null,
      "outputs": [
        {
          "output_type": "execute_result",
          "data": {
            "text/plain": [
              "array([0.        , 1.        , 1.5849625 , 3.32192809])"
            ]
          },
          "metadata": {},
          "execution_count": 86
        }
      ]
    },
    {
      "cell_type": "code",
      "source": [
        "np.log10(x)"
      ],
      "metadata": {
        "colab": {
          "base_uri": "https://localhost:8080/"
        },
        "id": "f5cZneSY4nor",
        "outputId": "73f31ba4-6f8f-4351-cbd8-c70328981457"
      },
      "execution_count": null,
      "outputs": [
        {
          "output_type": "execute_result",
          "data": {
            "text/plain": [
              "array([0.        , 0.30103   , 0.47712125, 1.        ])"
            ]
          },
          "metadata": {},
          "execution_count": 87
        }
      ]
    },
    {
      "cell_type": "code",
      "source": [
        "np.log"
      ],
      "metadata": {
        "colab": {
          "base_uri": "https://localhost:8080/"
        },
        "id": "-h1Oa7pf4op7",
        "outputId": "a03ac6e0-903e-4a6e-b22c-ef8b9af583ba"
      },
      "execution_count": null,
      "outputs": [
        {
          "output_type": "execute_result",
          "data": {
            "text/plain": [
              "<ufunc 'log'>"
            ]
          },
          "metadata": {},
          "execution_count": 88
        }
      ]
    },
    {
      "cell_type": "markdown",
      "source": [
        "<h4 style = \"color : Sky blue\"> Example - 7</h4>  "
      ],
      "metadata": {
        "id": "K_n5ovdz4qAv"
      }
    },
    {
      "cell_type": "code",
      "source": [
        "x = np.arange(5)\n",
        "x"
      ],
      "metadata": {
        "colab": {
          "base_uri": "https://localhost:8080/"
        },
        "id": "U7pQ0J-V4rag",
        "outputId": "4b39ee38-2059-4a4a-fce3-1e8fbf86ed7c"
      },
      "execution_count": null,
      "outputs": [
        {
          "output_type": "execute_result",
          "data": {
            "text/plain": [
              "array([0, 1, 2, 3, 4])"
            ]
          },
          "metadata": {},
          "execution_count": 92
        }
      ]
    },
    {
      "cell_type": "code",
      "source": [
        "# create empty np array of size 5\n",
        "y = np.empty(5)\n",
        "y"
      ],
      "metadata": {
        "colab": {
          "base_uri": "https://localhost:8080/"
        },
        "id": "t5bNqRai4vFV",
        "outputId": "3affa501-3514-49bb-b6be-4d32fd0a4c54"
      },
      "execution_count": null,
      "outputs": [
        {
          "output_type": "execute_result",
          "data": {
            "text/plain": [
              "array([5.02249848e-310, 0.00000000e+000, 6.70083829e-310, 6.70083821e-310,\n",
              "       6.70083821e-310])"
            ]
          },
          "metadata": {},
          "execution_count": 93
        }
      ]
    },
    {
      "cell_type": "code",
      "source": [
        "y = x * 12\n",
        "y"
      ],
      "metadata": {
        "colab": {
          "base_uri": "https://localhost:8080/"
        },
        "id": "-vRDzz0-4tcv",
        "outputId": "1afb21e0-0da2-447e-f3e1-f3e481a8c57e"
      },
      "execution_count": null,
      "outputs": [
        {
          "output_type": "execute_result",
          "data": {
            "text/plain": [
              "array([ 0, 12, 24, 36, 48])"
            ]
          },
          "metadata": {},
          "execution_count": 96
        }
      ]
    },
    {
      "cell_type": "code",
      "source": [
        "np.multiply(x, 12, out=y)"
      ],
      "metadata": {
        "colab": {
          "base_uri": "https://localhost:8080/"
        },
        "id": "SrObkh-_4wos",
        "outputId": "129df545-74b3-4e06-ecdf-0495c110fe30"
      },
      "execution_count": null,
      "outputs": [
        {
          "output_type": "execute_result",
          "data": {
            "text/plain": [
              "array([ 0, 12, 24, 36, 48])"
            ]
          },
          "metadata": {},
          "execution_count": 95
        }
      ]
    },
    {
      "cell_type": "code",
      "source": [
        "y"
      ],
      "metadata": {
        "colab": {
          "base_uri": "https://localhost:8080/"
        },
        "id": "36pdcKB84ykb",
        "outputId": "dc30e14c-3ac7-4774-e41e-df49e39669e9"
      },
      "execution_count": null,
      "outputs": [
        {
          "output_type": "execute_result",
          "data": {
            "text/plain": [
              "array([ 0., 12., 24., 36., 48.])"
            ]
          },
          "metadata": {},
          "execution_count": 11
        }
      ]
    },
    {
      "cell_type": "code",
      "source": [
        "y = np.zeros(10)\n",
        "y"
      ],
      "metadata": {
        "colab": {
          "base_uri": "https://localhost:8080/"
        },
        "id": "6qCdM63X4z53",
        "outputId": "b1b63e75-18cc-4c99-ab69-c162cf1c3ed0"
      },
      "execution_count": null,
      "outputs": [
        {
          "output_type": "execute_result",
          "data": {
            "text/plain": [
              "array([0., 0., 0., 0., 0., 0., 0., 0., 0., 0.])"
            ]
          },
          "metadata": {},
          "execution_count": 12
        }
      ]
    },
    {
      "cell_type": "code",
      "source": [
        "np.power(2, x, out=y[::2]) # we store the values in every other index because else it will throw an error since y has 10 spots and out output only needs 5"
      ],
      "metadata": {
        "colab": {
          "base_uri": "https://localhost:8080/"
        },
        "id": "4gDQjbjx41OZ",
        "outputId": "596b3323-15f2-458e-ffd6-135631dbb372"
      },
      "execution_count": null,
      "outputs": [
        {
          "output_type": "execute_result",
          "data": {
            "text/plain": [
              "array([ 1.,  2.,  4.,  8., 16.])"
            ]
          },
          "metadata": {},
          "execution_count": 13
        }
      ]
    },
    {
      "cell_type": "code",
      "source": [
        "y"
      ],
      "metadata": {
        "colab": {
          "base_uri": "https://localhost:8080/"
        },
        "id": "SMItdsYp42pf",
        "outputId": "f9282012-b6e4-41f7-c16f-3ab0b2395de9"
      },
      "execution_count": null,
      "outputs": [
        {
          "output_type": "execute_result",
          "data": {
            "text/plain": [
              "array([ 1.,  0.,  2.,  0.,  4.,  0.,  8.,  0., 16.,  0.])"
            ]
          },
          "metadata": {},
          "execution_count": 14
        }
      ]
    },
    {
      "cell_type": "markdown",
      "source": [
        "<h4 style = \"color : Sky blue\"> Example - 8 (Aggregates)</h4>  "
      ],
      "metadata": {
        "id": "OgVwHQGq46ED"
      }
    },
    {
      "cell_type": "code",
      "source": [
        "x = np.arange(1,6)\n",
        "x"
      ],
      "metadata": {
        "colab": {
          "base_uri": "https://localhost:8080/"
        },
        "id": "6Je6q3DW45UR",
        "outputId": "6c3a2b8d-e3bb-4839-f064-f367edbbbe25"
      },
      "execution_count": null,
      "outputs": [
        {
          "output_type": "execute_result",
          "data": {
            "text/plain": [
              "array([1, 2, 3, 4, 5])"
            ]
          },
          "metadata": {},
          "execution_count": 102
        }
      ]
    },
    {
      "cell_type": "code",
      "source": [
        "sum(x)"
      ],
      "metadata": {
        "colab": {
          "base_uri": "https://localhost:8080/"
        },
        "id": "sUgvXeMw45HJ",
        "outputId": "246fc286-95cb-47f1-afef-329b42276203"
      },
      "execution_count": null,
      "outputs": [
        {
          "output_type": "execute_result",
          "data": {
            "text/plain": [
              "15"
            ]
          },
          "metadata": {},
          "execution_count": 99
        }
      ]
    },
    {
      "cell_type": "code",
      "source": [
        "np.add.reduce(x)\n",
        "#.reduce is a method that applies a binary operation (in this case, np.add, which performs element-wise addition) to reduce the array to a single value.\n",
        "#Using np.add(x) directly doesn't sum the elements because np.add is meant for element-wise addition between arrays of the same shape."
      ],
      "metadata": {
        "colab": {
          "base_uri": "https://localhost:8080/"
        },
        "id": "f8WuplYh49f7",
        "outputId": "85e10cb0-3fb0-46f3-e918-474b178f5d39"
      },
      "execution_count": null,
      "outputs": [
        {
          "output_type": "execute_result",
          "data": {
            "text/plain": [
              "15"
            ]
          },
          "metadata": {},
          "execution_count": 106
        }
      ]
    },
    {
      "cell_type": "code",
      "source": [
        "np.add.accumulate(x)"
      ],
      "metadata": {
        "colab": {
          "base_uri": "https://localhost:8080/"
        },
        "id": "SksEeLHt5BW0",
        "outputId": "3d9def4e-9fb7-4dff-e7b7-a19b627e738d"
      },
      "execution_count": null,
      "outputs": [
        {
          "output_type": "execute_result",
          "data": {
            "text/plain": [
              "array([ 1,  3,  6, 10, 15])"
            ]
          },
          "metadata": {},
          "execution_count": 107
        }
      ]
    },
    {
      "cell_type": "code",
      "source": [
        "np.multiply.accumulate(x)"
      ],
      "metadata": {
        "colab": {
          "base_uri": "https://localhost:8080/"
        },
        "id": "77wbj1J55BDo",
        "outputId": "0e368ac8-2f21-4927-d925-d662b7dead52"
      },
      "execution_count": null,
      "outputs": [
        {
          "output_type": "execute_result",
          "data": {
            "text/plain": [
              "array([  1,   2,   6,  24, 120])"
            ]
          },
          "metadata": {},
          "execution_count": 108
        }
      ]
    },
    {
      "cell_type": "markdown",
      "source": [
        "#### Apply Basic Linear Algebra Operations\n",
        "\n",
        "NumPy provides the ```np.linalg``` package to apply common linear algebra operations, such as:\n",
        "* ```np.linalg.inv```: Inverse of a matrix\n",
        "* ```np.linalg.det```: Determinant of a matrix\n",
        "* ```np.linalg.eig```: Eigenvalues and eigenvectors of a matrix\n",
        "    \n",
        "Also, you can multiple matrices using ```np.dot(a, b)```.\n"
      ],
      "metadata": {
        "id": "DKmA-tMC5EyH"
      }
    },
    {
      "cell_type": "markdown",
      "source": [
        "Explanations of Linear Algebra terms:\n",
        "\n",
        "\n",
        "\n",
        "*   **Matrix**: rectangular array of numbers arranged in rows and columns\n",
        "*   List item\n",
        "\n"
      ],
      "metadata": {
        "id": "RT8yt_NXXlCT"
      }
    },
    {
      "cell_type": "code",
      "source": [
        "# np.linalg documentation\n",
        "help(np.linalg)"
      ],
      "metadata": {
        "colab": {
          "base_uri": "https://localhost:8080/"
        },
        "id": "5U2BBQiC5Gjy",
        "outputId": "cfee8a9d-16ea-4200-e8e6-af0ff9c92b49"
      },
      "execution_count": null,
      "outputs": [
        {
          "output_type": "stream",
          "name": "stdout",
          "text": [
            "Help on package numpy.linalg in numpy:\n",
            "\n",
            "NAME\n",
            "    numpy.linalg\n",
            "\n",
            "DESCRIPTION\n",
            "    ``numpy.linalg``\n",
            "    ================\n",
            "    \n",
            "    The NumPy linear algebra functions rely on BLAS and LAPACK to provide efficient\n",
            "    low level implementations of standard linear algebra algorithms. Those\n",
            "    libraries may be provided by NumPy itself using C versions of a subset of their\n",
            "    reference implementations but, when possible, highly optimized libraries that\n",
            "    take advantage of specialized processor functionality are preferred. Examples\n",
            "    of such libraries are OpenBLAS, MKL (TM), and ATLAS. Because those libraries\n",
            "    are multithreaded and processor dependent, environmental variables and external\n",
            "    packages such as threadpoolctl may be needed to control the number of threads\n",
            "    or specify the processor architecture.\n",
            "    \n",
            "    - OpenBLAS: https://www.openblas.net/\n",
            "    - threadpoolctl: https://github.com/joblib/threadpoolctl\n",
            "    \n",
            "    Please note that the most-used linear algebra functions in NumPy are present in\n",
            "    the main ``numpy`` namespace rather than in ``numpy.linalg``.  There are:\n",
            "    ``dot``, ``vdot``, ``inner``, ``outer``, ``matmul``, ``tensordot``, ``einsum``,\n",
            "    ``einsum_path`` and ``kron``.\n",
            "    \n",
            "    Functions present in numpy.linalg are listed below.\n",
            "    \n",
            "    \n",
            "    Matrix and vector products\n",
            "    --------------------------\n",
            "    \n",
            "       multi_dot\n",
            "       matrix_power\n",
            "    \n",
            "    Decompositions\n",
            "    --------------\n",
            "    \n",
            "       cholesky\n",
            "       qr\n",
            "       svd\n",
            "    \n",
            "    Matrix eigenvalues\n",
            "    ------------------\n",
            "    \n",
            "       eig\n",
            "       eigh\n",
            "       eigvals\n",
            "       eigvalsh\n",
            "    \n",
            "    Norms and other numbers\n",
            "    -----------------------\n",
            "    \n",
            "       norm\n",
            "       cond\n",
            "       det\n",
            "       matrix_rank\n",
            "       slogdet\n",
            "    \n",
            "    Solving equations and inverting matrices\n",
            "    ----------------------------------------\n",
            "    \n",
            "       solve\n",
            "       tensorsolve\n",
            "       lstsq\n",
            "       inv\n",
            "       pinv\n",
            "       tensorinv\n",
            "    \n",
            "    Exceptions\n",
            "    ----------\n",
            "    \n",
            "       LinAlgError\n",
            "\n",
            "PACKAGE CONTENTS\n",
            "    _umath_linalg\n",
            "    lapack_lite\n",
            "    linalg\n",
            "    setup\n",
            "    tests (package)\n",
            "\n",
            "CLASSES\n",
            "    builtins.ValueError(builtins.Exception)\n",
            "        LinAlgError\n",
            "    \n",
            "    class LinAlgError(builtins.ValueError)\n",
            "     |  Generic Python-exception-derived object raised by linalg functions.\n",
            "     |  \n",
            "     |  General purpose exception class, derived from Python's ValueError\n",
            "     |  class, programmatically raised in linalg functions when a Linear\n",
            "     |  Algebra-related condition would prevent further correct execution of the\n",
            "     |  function.\n",
            "     |  \n",
            "     |  Parameters\n",
            "     |  ----------\n",
            "     |  None\n",
            "     |  \n",
            "     |  Examples\n",
            "     |  --------\n",
            "     |  >>> from numpy import linalg as LA\n",
            "     |  >>> LA.inv(np.zeros((2,2)))\n",
            "     |  Traceback (most recent call last):\n",
            "     |    File \"<stdin>\", line 1, in <module>\n",
            "     |    File \"...linalg.py\", line 350,\n",
            "     |      in inv return wrap(solve(a, identity(a.shape[0], dtype=a.dtype)))\n",
            "     |    File \"...linalg.py\", line 249,\n",
            "     |      in solve\n",
            "     |      raise LinAlgError('Singular matrix')\n",
            "     |  numpy.linalg.LinAlgError: Singular matrix\n",
            "     |  \n",
            "     |  Method resolution order:\n",
            "     |      LinAlgError\n",
            "     |      builtins.ValueError\n",
            "     |      builtins.Exception\n",
            "     |      builtins.BaseException\n",
            "     |      builtins.object\n",
            "     |  \n",
            "     |  Data descriptors defined here:\n",
            "     |  \n",
            "     |  __weakref__\n",
            "     |      list of weak references to the object (if defined)\n",
            "     |  \n",
            "     |  ----------------------------------------------------------------------\n",
            "     |  Methods inherited from builtins.ValueError:\n",
            "     |  \n",
            "     |  __init__(self, /, *args, **kwargs)\n",
            "     |      Initialize self.  See help(type(self)) for accurate signature.\n",
            "     |  \n",
            "     |  ----------------------------------------------------------------------\n",
            "     |  Static methods inherited from builtins.ValueError:\n",
            "     |  \n",
            "     |  __new__(*args, **kwargs) from builtins.type\n",
            "     |      Create and return a new object.  See help(type) for accurate signature.\n",
            "     |  \n",
            "     |  ----------------------------------------------------------------------\n",
            "     |  Methods inherited from builtins.BaseException:\n",
            "     |  \n",
            "     |  __delattr__(self, name, /)\n",
            "     |      Implement delattr(self, name).\n",
            "     |  \n",
            "     |  __getattribute__(self, name, /)\n",
            "     |      Return getattr(self, name).\n",
            "     |  \n",
            "     |  __reduce__(...)\n",
            "     |      Helper for pickle.\n",
            "     |  \n",
            "     |  __repr__(self, /)\n",
            "     |      Return repr(self).\n",
            "     |  \n",
            "     |  __setattr__(self, name, value, /)\n",
            "     |      Implement setattr(self, name, value).\n",
            "     |  \n",
            "     |  __setstate__(...)\n",
            "     |  \n",
            "     |  __str__(self, /)\n",
            "     |      Return str(self).\n",
            "     |  \n",
            "     |  with_traceback(...)\n",
            "     |      Exception.with_traceback(tb) --\n",
            "     |      set self.__traceback__ to tb and return self.\n",
            "     |  \n",
            "     |  ----------------------------------------------------------------------\n",
            "     |  Data descriptors inherited from builtins.BaseException:\n",
            "     |  \n",
            "     |  __cause__\n",
            "     |      exception cause\n",
            "     |  \n",
            "     |  __context__\n",
            "     |      exception context\n",
            "     |  \n",
            "     |  __dict__\n",
            "     |  \n",
            "     |  __suppress_context__\n",
            "     |  \n",
            "     |  __traceback__\n",
            "     |  \n",
            "     |  args\n",
            "\n",
            "FUNCTIONS\n",
            "    cholesky(a)\n",
            "        Cholesky decomposition.\n",
            "        \n",
            "        Return the Cholesky decomposition, `L * L.H`, of the square matrix `a`,\n",
            "        where `L` is lower-triangular and .H is the conjugate transpose operator\n",
            "        (which is the ordinary transpose if `a` is real-valued).  `a` must be\n",
            "        Hermitian (symmetric if real-valued) and positive-definite. No\n",
            "        checking is performed to verify whether `a` is Hermitian or not.\n",
            "        In addition, only the lower-triangular and diagonal elements of `a`\n",
            "        are used. Only `L` is actually returned.\n",
            "        \n",
            "        Parameters\n",
            "        ----------\n",
            "        a : (..., M, M) array_like\n",
            "            Hermitian (symmetric if all elements are real), positive-definite\n",
            "            input matrix.\n",
            "        \n",
            "        Returns\n",
            "        -------\n",
            "        L : (..., M, M) array_like\n",
            "            Lower-triangular Cholesky factor of `a`.  Returns a matrix object if\n",
            "            `a` is a matrix object.\n",
            "        \n",
            "        Raises\n",
            "        ------\n",
            "        LinAlgError\n",
            "           If the decomposition fails, for example, if `a` is not\n",
            "           positive-definite.\n",
            "        \n",
            "        See Also\n",
            "        --------\n",
            "        scipy.linalg.cholesky : Similar function in SciPy.\n",
            "        scipy.linalg.cholesky_banded : Cholesky decompose a banded Hermitian\n",
            "                                       positive-definite matrix.\n",
            "        scipy.linalg.cho_factor : Cholesky decomposition of a matrix, to use in\n",
            "                                  `scipy.linalg.cho_solve`.\n",
            "        \n",
            "        Notes\n",
            "        -----\n",
            "        \n",
            "        .. versionadded:: 1.8.0\n",
            "        \n",
            "        Broadcasting rules apply, see the `numpy.linalg` documentation for\n",
            "        details.\n",
            "        \n",
            "        The Cholesky decomposition is often used as a fast way of solving\n",
            "        \n",
            "        .. math:: A \\mathbf{x} = \\mathbf{b}\n",
            "        \n",
            "        (when `A` is both Hermitian/symmetric and positive-definite).\n",
            "        \n",
            "        First, we solve for :math:`\\mathbf{y}` in\n",
            "        \n",
            "        .. math:: L \\mathbf{y} = \\mathbf{b},\n",
            "        \n",
            "        and then for :math:`\\mathbf{x}` in\n",
            "        \n",
            "        .. math:: L.H \\mathbf{x} = \\mathbf{y}.\n",
            "        \n",
            "        Examples\n",
            "        --------\n",
            "        >>> A = np.array([[1,-2j],[2j,5]])\n",
            "        >>> A\n",
            "        array([[ 1.+0.j, -0.-2.j],\n",
            "               [ 0.+2.j,  5.+0.j]])\n",
            "        >>> L = np.linalg.cholesky(A)\n",
            "        >>> L\n",
            "        array([[1.+0.j, 0.+0.j],\n",
            "               [0.+2.j, 1.+0.j]])\n",
            "        >>> np.dot(L, L.T.conj()) # verify that L * L.H = A\n",
            "        array([[1.+0.j, 0.-2.j],\n",
            "               [0.+2.j, 5.+0.j]])\n",
            "        >>> A = [[1,-2j],[2j,5]] # what happens if A is only array_like?\n",
            "        >>> np.linalg.cholesky(A) # an ndarray object is returned\n",
            "        array([[1.+0.j, 0.+0.j],\n",
            "               [0.+2.j, 1.+0.j]])\n",
            "        >>> # But a matrix object is returned if A is a matrix object\n",
            "        >>> np.linalg.cholesky(np.matrix(A))\n",
            "        matrix([[ 1.+0.j,  0.+0.j],\n",
            "                [ 0.+2.j,  1.+0.j]])\n",
            "    \n",
            "    cond(x, p=None)\n",
            "        Compute the condition number of a matrix.\n",
            "        \n",
            "        This function is capable of returning the condition number using\n",
            "        one of seven different norms, depending on the value of `p` (see\n",
            "        Parameters below).\n",
            "        \n",
            "        Parameters\n",
            "        ----------\n",
            "        x : (..., M, N) array_like\n",
            "            The matrix whose condition number is sought.\n",
            "        p : {None, 1, -1, 2, -2, inf, -inf, 'fro'}, optional\n",
            "            Order of the norm used in the condition number computation:\n",
            "        \n",
            "            =====  ============================\n",
            "            p      norm for matrices\n",
            "            =====  ============================\n",
            "            None   2-norm, computed directly using the ``SVD``\n",
            "            'fro'  Frobenius norm\n",
            "            inf    max(sum(abs(x), axis=1))\n",
            "            -inf   min(sum(abs(x), axis=1))\n",
            "            1      max(sum(abs(x), axis=0))\n",
            "            -1     min(sum(abs(x), axis=0))\n",
            "            2      2-norm (largest sing. value)\n",
            "            -2     smallest singular value\n",
            "            =====  ============================\n",
            "        \n",
            "            inf means the `numpy.inf` object, and the Frobenius norm is\n",
            "            the root-of-sum-of-squares norm.\n",
            "        \n",
            "        Returns\n",
            "        -------\n",
            "        c : {float, inf}\n",
            "            The condition number of the matrix. May be infinite.\n",
            "        \n",
            "        See Also\n",
            "        --------\n",
            "        numpy.linalg.norm\n",
            "        \n",
            "        Notes\n",
            "        -----\n",
            "        The condition number of `x` is defined as the norm of `x` times the\n",
            "        norm of the inverse of `x` [1]_; the norm can be the usual L2-norm\n",
            "        (root-of-sum-of-squares) or one of a number of other matrix norms.\n",
            "        \n",
            "        References\n",
            "        ----------\n",
            "        .. [1] G. Strang, *Linear Algebra and Its Applications*, Orlando, FL,\n",
            "               Academic Press, Inc., 1980, pg. 285.\n",
            "        \n",
            "        Examples\n",
            "        --------\n",
            "        >>> from numpy import linalg as LA\n",
            "        >>> a = np.array([[1, 0, -1], [0, 1, 0], [1, 0, 1]])\n",
            "        >>> a\n",
            "        array([[ 1,  0, -1],\n",
            "               [ 0,  1,  0],\n",
            "               [ 1,  0,  1]])\n",
            "        >>> LA.cond(a)\n",
            "        1.4142135623730951\n",
            "        >>> LA.cond(a, 'fro')\n",
            "        3.1622776601683795\n",
            "        >>> LA.cond(a, np.inf)\n",
            "        2.0\n",
            "        >>> LA.cond(a, -np.inf)\n",
            "        1.0\n",
            "        >>> LA.cond(a, 1)\n",
            "        2.0\n",
            "        >>> LA.cond(a, -1)\n",
            "        1.0\n",
            "        >>> LA.cond(a, 2)\n",
            "        1.4142135623730951\n",
            "        >>> LA.cond(a, -2)\n",
            "        0.70710678118654746 # may vary\n",
            "        >>> min(LA.svd(a, compute_uv=False))*min(LA.svd(LA.inv(a), compute_uv=False))\n",
            "        0.70710678118654746 # may vary\n",
            "    \n",
            "    det(a)\n",
            "        Compute the determinant of an array.\n",
            "        \n",
            "        Parameters\n",
            "        ----------\n",
            "        a : (..., M, M) array_like\n",
            "            Input array to compute determinants for.\n",
            "        \n",
            "        Returns\n",
            "        -------\n",
            "        det : (...) array_like\n",
            "            Determinant of `a`.\n",
            "        \n",
            "        See Also\n",
            "        --------\n",
            "        slogdet : Another way to represent the determinant, more suitable\n",
            "          for large matrices where underflow/overflow may occur.\n",
            "        scipy.linalg.det : Similar function in SciPy.\n",
            "        \n",
            "        Notes\n",
            "        -----\n",
            "        \n",
            "        .. versionadded:: 1.8.0\n",
            "        \n",
            "        Broadcasting rules apply, see the `numpy.linalg` documentation for\n",
            "        details.\n",
            "        \n",
            "        The determinant is computed via LU factorization using the LAPACK\n",
            "        routine ``z/dgetrf``.\n",
            "        \n",
            "        Examples\n",
            "        --------\n",
            "        The determinant of a 2-D array [[a, b], [c, d]] is ad - bc:\n",
            "        \n",
            "        >>> a = np.array([[1, 2], [3, 4]])\n",
            "        >>> np.linalg.det(a)\n",
            "        -2.0 # may vary\n",
            "        \n",
            "        Computing determinants for a stack of matrices:\n",
            "        \n",
            "        >>> a = np.array([ [[1, 2], [3, 4]], [[1, 2], [2, 1]], [[1, 3], [3, 1]] ])\n",
            "        >>> a.shape\n",
            "        (3, 2, 2)\n",
            "        >>> np.linalg.det(a)\n",
            "        array([-2., -3., -8.])\n",
            "    \n",
            "    eig(a)\n",
            "        Compute the eigenvalues and right eigenvectors of a square array.\n",
            "        \n",
            "        Parameters\n",
            "        ----------\n",
            "        a : (..., M, M) array\n",
            "            Matrices for which the eigenvalues and right eigenvectors will\n",
            "            be computed\n",
            "        \n",
            "        Returns\n",
            "        -------\n",
            "        A namedtuple with the following attributes:\n",
            "        \n",
            "        eigenvalues : (..., M) array\n",
            "            The eigenvalues, each repeated according to its multiplicity.\n",
            "            The eigenvalues are not necessarily ordered. The resulting\n",
            "            array will be of complex type, unless the imaginary part is\n",
            "            zero in which case it will be cast to a real type. When `a`\n",
            "            is real the resulting eigenvalues will be real (0 imaginary\n",
            "            part) or occur in conjugate pairs\n",
            "        \n",
            "        eigenvectors : (..., M, M) array\n",
            "            The normalized (unit \"length\") eigenvectors, such that the\n",
            "            column ``eigenvectors[:,i]`` is the eigenvector corresponding to the\n",
            "            eigenvalue ``eigenvalues[i]``.\n",
            "        \n",
            "        Raises\n",
            "        ------\n",
            "        LinAlgError\n",
            "            If the eigenvalue computation does not converge.\n",
            "        \n",
            "        See Also\n",
            "        --------\n",
            "        eigvals : eigenvalues of a non-symmetric array.\n",
            "        eigh : eigenvalues and eigenvectors of a real symmetric or complex\n",
            "               Hermitian (conjugate symmetric) array.\n",
            "        eigvalsh : eigenvalues of a real symmetric or complex Hermitian\n",
            "                   (conjugate symmetric) array.\n",
            "        scipy.linalg.eig : Similar function in SciPy that also solves the\n",
            "                           generalized eigenvalue problem.\n",
            "        scipy.linalg.schur : Best choice for unitary and other non-Hermitian\n",
            "                             normal matrices.\n",
            "        \n",
            "        Notes\n",
            "        -----\n",
            "        \n",
            "        .. versionadded:: 1.8.0\n",
            "        \n",
            "        Broadcasting rules apply, see the `numpy.linalg` documentation for\n",
            "        details.\n",
            "        \n",
            "        This is implemented using the ``_geev`` LAPACK routines which compute\n",
            "        the eigenvalues and eigenvectors of general square arrays.\n",
            "        \n",
            "        The number `w` is an eigenvalue of `a` if there exists a vector `v` such\n",
            "        that ``a @ v = w * v``. Thus, the arrays `a`, `eigenvalues`, and\n",
            "        `eigenvectors` satisfy the equations ``a @ eigenvectors[:,i] =\n",
            "        eigenvalues[i] * eigenvalues[:,i]`` for :math:`i \\in \\{0,...,M-1\\}`.\n",
            "        \n",
            "        The array `eigenvectors` may not be of maximum rank, that is, some of the\n",
            "        columns may be linearly dependent, although round-off error may obscure\n",
            "        that fact. If the eigenvalues are all different, then theoretically the\n",
            "        eigenvectors are linearly independent and `a` can be diagonalized by a\n",
            "        similarity transformation using `eigenvectors`, i.e, ``inv(eigenvectors) @\n",
            "        a @ eigenvectors`` is diagonal.\n",
            "        \n",
            "        For non-Hermitian normal matrices the SciPy function `scipy.linalg.schur`\n",
            "        is preferred because the matrix `eigenvectors` is guaranteed to be\n",
            "        unitary, which is not the case when using `eig`. The Schur factorization\n",
            "        produces an upper triangular matrix rather than a diagonal matrix, but for\n",
            "        normal matrices only the diagonal of the upper triangular matrix is\n",
            "        needed, the rest is roundoff error.\n",
            "        \n",
            "        Finally, it is emphasized that `eigenvectors` consists of the *right* (as\n",
            "        in right-hand side) eigenvectors of `a`. A vector `y` satisfying ``y.T @ a\n",
            "        = z * y.T`` for some number `z` is called a *left* eigenvector of `a`,\n",
            "        and, in general, the left and right eigenvectors of a matrix are not\n",
            "        necessarily the (perhaps conjugate) transposes of each other.\n",
            "        \n",
            "        References\n",
            "        ----------\n",
            "        G. Strang, *Linear Algebra and Its Applications*, 2nd Ed., Orlando, FL,\n",
            "        Academic Press, Inc., 1980, Various pp.\n",
            "        \n",
            "        Examples\n",
            "        --------\n",
            "        >>> from numpy import linalg as LA\n",
            "        \n",
            "        (Almost) trivial example with real eigenvalues and eigenvectors.\n",
            "        \n",
            "        >>> eigenvalues, eigenvectors = LA.eig(np.diag((1, 2, 3)))\n",
            "        >>> eigenvalues\n",
            "        array([1., 2., 3.])\n",
            "        >>> eigenvectors\n",
            "        array([[1., 0., 0.],\n",
            "               [0., 1., 0.],\n",
            "               [0., 0., 1.]])\n",
            "        \n",
            "        Real matrix possessing complex eigenvalues and eigenvectors; note that the\n",
            "        eigenvalues are complex conjugates of each other.\n",
            "        \n",
            "        >>> eigenvalues, eigenvectors = LA.eig(np.array([[1, -1], [1, 1]]))\n",
            "        >>> eigenvalues\n",
            "        array([1.+1.j, 1.-1.j])\n",
            "        >>> eigenvectors\n",
            "        array([[0.70710678+0.j        , 0.70710678-0.j        ],\n",
            "               [0.        -0.70710678j, 0.        +0.70710678j]])\n",
            "        \n",
            "        Complex-valued matrix with real eigenvalues (but complex-valued eigenvectors);\n",
            "        note that ``a.conj().T == a``, i.e., `a` is Hermitian.\n",
            "        \n",
            "        >>> a = np.array([[1, 1j], [-1j, 1]])\n",
            "        >>> eigenvalues, eigenvectors = LA.eig(a)\n",
            "        >>> eigenvalues\n",
            "        array([2.+0.j, 0.+0.j])\n",
            "        >>> eigenvectors\n",
            "        array([[ 0.        +0.70710678j,  0.70710678+0.j        ], # may vary\n",
            "               [ 0.70710678+0.j        , -0.        +0.70710678j]])\n",
            "        \n",
            "        Be careful about round-off error!\n",
            "        \n",
            "        >>> a = np.array([[1 + 1e-9, 0], [0, 1 - 1e-9]])\n",
            "        >>> # Theor. eigenvalues are 1 +/- 1e-9\n",
            "        >>> eigenvalues, eigenvectors = LA.eig(a)\n",
            "        >>> eigenvalues\n",
            "        array([1., 1.])\n",
            "        >>> eigenvectors\n",
            "        array([[1., 0.],\n",
            "               [0., 1.]])\n",
            "    \n",
            "    eigh(a, UPLO='L')\n",
            "        Return the eigenvalues and eigenvectors of a complex Hermitian\n",
            "        (conjugate symmetric) or a real symmetric matrix.\n",
            "        \n",
            "        Returns two objects, a 1-D array containing the eigenvalues of `a`, and\n",
            "        a 2-D square array or matrix (depending on the input type) of the\n",
            "        corresponding eigenvectors (in columns).\n",
            "        \n",
            "        Parameters\n",
            "        ----------\n",
            "        a : (..., M, M) array\n",
            "            Hermitian or real symmetric matrices whose eigenvalues and\n",
            "            eigenvectors are to be computed.\n",
            "        UPLO : {'L', 'U'}, optional\n",
            "            Specifies whether the calculation is done with the lower triangular\n",
            "            part of `a` ('L', default) or the upper triangular part ('U').\n",
            "            Irrespective of this value only the real parts of the diagonal will\n",
            "            be considered in the computation to preserve the notion of a Hermitian\n",
            "            matrix. It therefore follows that the imaginary part of the diagonal\n",
            "            will always be treated as zero.\n",
            "        \n",
            "        Returns\n",
            "        -------\n",
            "        A namedtuple with the following attributes:\n",
            "        \n",
            "        eigenvalues : (..., M) ndarray\n",
            "            The eigenvalues in ascending order, each repeated according to\n",
            "            its multiplicity.\n",
            "        eigenvectors : {(..., M, M) ndarray, (..., M, M) matrix}\n",
            "            The column ``eigenvectors[:, i]`` is the normalized eigenvector\n",
            "            corresponding to the eigenvalue ``eigenvalues[i]``.  Will return a\n",
            "            matrix object if `a` is a matrix object.\n",
            "        \n",
            "        Raises\n",
            "        ------\n",
            "        LinAlgError\n",
            "            If the eigenvalue computation does not converge.\n",
            "        \n",
            "        See Also\n",
            "        --------\n",
            "        eigvalsh : eigenvalues of real symmetric or complex Hermitian\n",
            "                   (conjugate symmetric) arrays.\n",
            "        eig : eigenvalues and right eigenvectors for non-symmetric arrays.\n",
            "        eigvals : eigenvalues of non-symmetric arrays.\n",
            "        scipy.linalg.eigh : Similar function in SciPy (but also solves the\n",
            "                            generalized eigenvalue problem).\n",
            "        \n",
            "        Notes\n",
            "        -----\n",
            "        \n",
            "        .. versionadded:: 1.8.0\n",
            "        \n",
            "        Broadcasting rules apply, see the `numpy.linalg` documentation for\n",
            "        details.\n",
            "        \n",
            "        The eigenvalues/eigenvectors are computed using LAPACK routines ``_syevd``,\n",
            "        ``_heevd``.\n",
            "        \n",
            "        The eigenvalues of real symmetric or complex Hermitian matrices are always\n",
            "        real. [1]_ The array `eigenvalues` of (column) eigenvectors is unitary and\n",
            "        `a`, `eigenvalues`, and `eigenvectors` satisfy the equations ``dot(a,\n",
            "        eigenvectors[:, i]) = eigenvalues[i] * eigenvectors[:, i]``.\n",
            "        \n",
            "        References\n",
            "        ----------\n",
            "        .. [1] G. Strang, *Linear Algebra and Its Applications*, 2nd Ed., Orlando,\n",
            "               FL, Academic Press, Inc., 1980, pg. 222.\n",
            "        \n",
            "        Examples\n",
            "        --------\n",
            "        >>> from numpy import linalg as LA\n",
            "        >>> a = np.array([[1, -2j], [2j, 5]])\n",
            "        >>> a\n",
            "        array([[ 1.+0.j, -0.-2.j],\n",
            "               [ 0.+2.j,  5.+0.j]])\n",
            "        >>> eigenvalues, eigenvectors = LA.eigh(a)\n",
            "        >>> eigenvalues\n",
            "        array([0.17157288, 5.82842712])\n",
            "        >>> eigenvectors\n",
            "        array([[-0.92387953+0.j        , -0.38268343+0.j        ], # may vary\n",
            "               [ 0.        +0.38268343j,  0.        -0.92387953j]])\n",
            "        \n",
            "        >>> np.dot(a, eigenvectors[:, 0]) - eigenvalues[0] * eigenvectors[:, 0] # verify 1st eigenval/vec pair\n",
            "        array([5.55111512e-17+0.0000000e+00j, 0.00000000e+00+1.2490009e-16j])\n",
            "        >>> np.dot(a, eigenvectors[:, 1]) - eigenvalues[1] * eigenvectors[:, 1] # verify 2nd eigenval/vec pair\n",
            "        array([0.+0.j, 0.+0.j])\n",
            "        \n",
            "        >>> A = np.matrix(a) # what happens if input is a matrix object\n",
            "        >>> A\n",
            "        matrix([[ 1.+0.j, -0.-2.j],\n",
            "                [ 0.+2.j,  5.+0.j]])\n",
            "        >>> eigenvalues, eigenvectors = LA.eigh(A)\n",
            "        >>> eigenvalues\n",
            "        array([0.17157288, 5.82842712])\n",
            "        >>> eigenvectors\n",
            "        matrix([[-0.92387953+0.j        , -0.38268343+0.j        ], # may vary\n",
            "                [ 0.        +0.38268343j,  0.        -0.92387953j]])\n",
            "        \n",
            "        >>> # demonstrate the treatment of the imaginary part of the diagonal\n",
            "        >>> a = np.array([[5+2j, 9-2j], [0+2j, 2-1j]])\n",
            "        >>> a\n",
            "        array([[5.+2.j, 9.-2.j],\n",
            "               [0.+2.j, 2.-1.j]])\n",
            "        >>> # with UPLO='L' this is numerically equivalent to using LA.eig() with:\n",
            "        >>> b = np.array([[5.+0.j, 0.-2.j], [0.+2.j, 2.-0.j]])\n",
            "        >>> b\n",
            "        array([[5.+0.j, 0.-2.j],\n",
            "               [0.+2.j, 2.+0.j]])\n",
            "        >>> wa, va = LA.eigh(a)\n",
            "        >>> wb, vb = LA.eig(b)\n",
            "        >>> wa; wb\n",
            "        array([1., 6.])\n",
            "        array([6.+0.j, 1.+0.j])\n",
            "        >>> va; vb\n",
            "        array([[-0.4472136 +0.j        , -0.89442719+0.j        ], # may vary\n",
            "               [ 0.        +0.89442719j,  0.        -0.4472136j ]])\n",
            "        array([[ 0.89442719+0.j       , -0.        +0.4472136j],\n",
            "               [-0.        +0.4472136j,  0.89442719+0.j       ]])\n",
            "    \n",
            "    eigvals(a)\n",
            "        Compute the eigenvalues of a general matrix.\n",
            "        \n",
            "        Main difference between `eigvals` and `eig`: the eigenvectors aren't\n",
            "        returned.\n",
            "        \n",
            "        Parameters\n",
            "        ----------\n",
            "        a : (..., M, M) array_like\n",
            "            A complex- or real-valued matrix whose eigenvalues will be computed.\n",
            "        \n",
            "        Returns\n",
            "        -------\n",
            "        w : (..., M,) ndarray\n",
            "            The eigenvalues, each repeated according to its multiplicity.\n",
            "            They are not necessarily ordered, nor are they necessarily\n",
            "            real for real matrices.\n",
            "        \n",
            "        Raises\n",
            "        ------\n",
            "        LinAlgError\n",
            "            If the eigenvalue computation does not converge.\n",
            "        \n",
            "        See Also\n",
            "        --------\n",
            "        eig : eigenvalues and right eigenvectors of general arrays\n",
            "        eigvalsh : eigenvalues of real symmetric or complex Hermitian\n",
            "                   (conjugate symmetric) arrays.\n",
            "        eigh : eigenvalues and eigenvectors of real symmetric or complex\n",
            "               Hermitian (conjugate symmetric) arrays.\n",
            "        scipy.linalg.eigvals : Similar function in SciPy.\n",
            "        \n",
            "        Notes\n",
            "        -----\n",
            "        \n",
            "        .. versionadded:: 1.8.0\n",
            "        \n",
            "        Broadcasting rules apply, see the `numpy.linalg` documentation for\n",
            "        details.\n",
            "        \n",
            "        This is implemented using the ``_geev`` LAPACK routines which compute\n",
            "        the eigenvalues and eigenvectors of general square arrays.\n",
            "        \n",
            "        Examples\n",
            "        --------\n",
            "        Illustration, using the fact that the eigenvalues of a diagonal matrix\n",
            "        are its diagonal elements, that multiplying a matrix on the left\n",
            "        by an orthogonal matrix, `Q`, and on the right by `Q.T` (the transpose\n",
            "        of `Q`), preserves the eigenvalues of the \"middle\" matrix.  In other words,\n",
            "        if `Q` is orthogonal, then ``Q * A * Q.T`` has the same eigenvalues as\n",
            "        ``A``:\n",
            "        \n",
            "        >>> from numpy import linalg as LA\n",
            "        >>> x = np.random.random()\n",
            "        >>> Q = np.array([[np.cos(x), -np.sin(x)], [np.sin(x), np.cos(x)]])\n",
            "        >>> LA.norm(Q[0, :]), LA.norm(Q[1, :]), np.dot(Q[0, :],Q[1, :])\n",
            "        (1.0, 1.0, 0.0)\n",
            "        \n",
            "        Now multiply a diagonal matrix by ``Q`` on one side and by ``Q.T`` on the other:\n",
            "        \n",
            "        >>> D = np.diag((-1,1))\n",
            "        >>> LA.eigvals(D)\n",
            "        array([-1.,  1.])\n",
            "        >>> A = np.dot(Q, D)\n",
            "        >>> A = np.dot(A, Q.T)\n",
            "        >>> LA.eigvals(A)\n",
            "        array([ 1., -1.]) # random\n",
            "    \n",
            "    eigvalsh(a, UPLO='L')\n",
            "        Compute the eigenvalues of a complex Hermitian or real symmetric matrix.\n",
            "        \n",
            "        Main difference from eigh: the eigenvectors are not computed.\n",
            "        \n",
            "        Parameters\n",
            "        ----------\n",
            "        a : (..., M, M) array_like\n",
            "            A complex- or real-valued matrix whose eigenvalues are to be\n",
            "            computed.\n",
            "        UPLO : {'L', 'U'}, optional\n",
            "            Specifies whether the calculation is done with the lower triangular\n",
            "            part of `a` ('L', default) or the upper triangular part ('U').\n",
            "            Irrespective of this value only the real parts of the diagonal will\n",
            "            be considered in the computation to preserve the notion of a Hermitian\n",
            "            matrix. It therefore follows that the imaginary part of the diagonal\n",
            "            will always be treated as zero.\n",
            "        \n",
            "        Returns\n",
            "        -------\n",
            "        w : (..., M,) ndarray\n",
            "            The eigenvalues in ascending order, each repeated according to\n",
            "            its multiplicity.\n",
            "        \n",
            "        Raises\n",
            "        ------\n",
            "        LinAlgError\n",
            "            If the eigenvalue computation does not converge.\n",
            "        \n",
            "        See Also\n",
            "        --------\n",
            "        eigh : eigenvalues and eigenvectors of real symmetric or complex Hermitian\n",
            "               (conjugate symmetric) arrays.\n",
            "        eigvals : eigenvalues of general real or complex arrays.\n",
            "        eig : eigenvalues and right eigenvectors of general real or complex\n",
            "              arrays.\n",
            "        scipy.linalg.eigvalsh : Similar function in SciPy.\n",
            "        \n",
            "        Notes\n",
            "        -----\n",
            "        \n",
            "        .. versionadded:: 1.8.0\n",
            "        \n",
            "        Broadcasting rules apply, see the `numpy.linalg` documentation for\n",
            "        details.\n",
            "        \n",
            "        The eigenvalues are computed using LAPACK routines ``_syevd``, ``_heevd``.\n",
            "        \n",
            "        Examples\n",
            "        --------\n",
            "        >>> from numpy import linalg as LA\n",
            "        >>> a = np.array([[1, -2j], [2j, 5]])\n",
            "        >>> LA.eigvalsh(a)\n",
            "        array([ 0.17157288,  5.82842712]) # may vary\n",
            "        \n",
            "        >>> # demonstrate the treatment of the imaginary part of the diagonal\n",
            "        >>> a = np.array([[5+2j, 9-2j], [0+2j, 2-1j]])\n",
            "        >>> a\n",
            "        array([[5.+2.j, 9.-2.j],\n",
            "               [0.+2.j, 2.-1.j]])\n",
            "        >>> # with UPLO='L' this is numerically equivalent to using LA.eigvals()\n",
            "        >>> # with:\n",
            "        >>> b = np.array([[5.+0.j, 0.-2.j], [0.+2.j, 2.-0.j]])\n",
            "        >>> b\n",
            "        array([[5.+0.j, 0.-2.j],\n",
            "               [0.+2.j, 2.+0.j]])\n",
            "        >>> wa = LA.eigvalsh(a)\n",
            "        >>> wb = LA.eigvals(b)\n",
            "        >>> wa; wb\n",
            "        array([1., 6.])\n",
            "        array([6.+0.j, 1.+0.j])\n",
            "    \n",
            "    inv(a)\n",
            "        Compute the (multiplicative) inverse of a matrix.\n",
            "        \n",
            "        Given a square matrix `a`, return the matrix `ainv` satisfying\n",
            "        ``dot(a, ainv) = dot(ainv, a) = eye(a.shape[0])``.\n",
            "        \n",
            "        Parameters\n",
            "        ----------\n",
            "        a : (..., M, M) array_like\n",
            "            Matrix to be inverted.\n",
            "        \n",
            "        Returns\n",
            "        -------\n",
            "        ainv : (..., M, M) ndarray or matrix\n",
            "            (Multiplicative) inverse of the matrix `a`.\n",
            "        \n",
            "        Raises\n",
            "        ------\n",
            "        LinAlgError\n",
            "            If `a` is not square or inversion fails.\n",
            "        \n",
            "        See Also\n",
            "        --------\n",
            "        scipy.linalg.inv : Similar function in SciPy.\n",
            "        \n",
            "        Notes\n",
            "        -----\n",
            "        \n",
            "        .. versionadded:: 1.8.0\n",
            "        \n",
            "        Broadcasting rules apply, see the `numpy.linalg` documentation for\n",
            "        details.\n",
            "        \n",
            "        Examples\n",
            "        --------\n",
            "        >>> from numpy.linalg import inv\n",
            "        >>> a = np.array([[1., 2.], [3., 4.]])\n",
            "        >>> ainv = inv(a)\n",
            "        >>> np.allclose(np.dot(a, ainv), np.eye(2))\n",
            "        True\n",
            "        >>> np.allclose(np.dot(ainv, a), np.eye(2))\n",
            "        True\n",
            "        \n",
            "        If a is a matrix object, then the return value is a matrix as well:\n",
            "        \n",
            "        >>> ainv = inv(np.matrix(a))\n",
            "        >>> ainv\n",
            "        matrix([[-2. ,  1. ],\n",
            "                [ 1.5, -0.5]])\n",
            "        \n",
            "        Inverses of several matrices can be computed at once:\n",
            "        \n",
            "        >>> a = np.array([[[1., 2.], [3., 4.]], [[1, 3], [3, 5]]])\n",
            "        >>> inv(a)\n",
            "        array([[[-2.  ,  1.  ],\n",
            "                [ 1.5 , -0.5 ]],\n",
            "               [[-1.25,  0.75],\n",
            "                [ 0.75, -0.25]]])\n",
            "    \n",
            "    lstsq(a, b, rcond='warn')\n",
            "        Return the least-squares solution to a linear matrix equation.\n",
            "        \n",
            "        Computes the vector `x` that approximately solves the equation\n",
            "        ``a @ x = b``. The equation may be under-, well-, or over-determined\n",
            "        (i.e., the number of linearly independent rows of `a` can be less than,\n",
            "        equal to, or greater than its number of linearly independent columns).\n",
            "        If `a` is square and of full rank, then `x` (but for round-off error)\n",
            "        is the \"exact\" solution of the equation. Else, `x` minimizes the\n",
            "        Euclidean 2-norm :math:`||b - ax||`. If there are multiple minimizing\n",
            "        solutions, the one with the smallest 2-norm :math:`||x||` is returned.\n",
            "        \n",
            "        Parameters\n",
            "        ----------\n",
            "        a : (M, N) array_like\n",
            "            \"Coefficient\" matrix.\n",
            "        b : {(M,), (M, K)} array_like\n",
            "            Ordinate or \"dependent variable\" values. If `b` is two-dimensional,\n",
            "            the least-squares solution is calculated for each of the `K` columns\n",
            "            of `b`.\n",
            "        rcond : float, optional\n",
            "            Cut-off ratio for small singular values of `a`.\n",
            "            For the purposes of rank determination, singular values are treated\n",
            "            as zero if they are smaller than `rcond` times the largest singular\n",
            "            value of `a`.\n",
            "        \n",
            "            .. versionchanged:: 1.14.0\n",
            "               If not set, a FutureWarning is given. The previous default\n",
            "               of ``-1`` will use the machine precision as `rcond` parameter,\n",
            "               the new default will use the machine precision times `max(M, N)`.\n",
            "               To silence the warning and use the new default, use ``rcond=None``,\n",
            "               to keep using the old behavior, use ``rcond=-1``.\n",
            "        \n",
            "        Returns\n",
            "        -------\n",
            "        x : {(N,), (N, K)} ndarray\n",
            "            Least-squares solution. If `b` is two-dimensional,\n",
            "            the solutions are in the `K` columns of `x`.\n",
            "        residuals : {(1,), (K,), (0,)} ndarray\n",
            "            Sums of squared residuals: Squared Euclidean 2-norm for each column in\n",
            "            ``b - a @ x``.\n",
            "            If the rank of `a` is < N or M <= N, this is an empty array.\n",
            "            If `b` is 1-dimensional, this is a (1,) shape array.\n",
            "            Otherwise the shape is (K,).\n",
            "        rank : int\n",
            "            Rank of matrix `a`.\n",
            "        s : (min(M, N),) ndarray\n",
            "            Singular values of `a`.\n",
            "        \n",
            "        Raises\n",
            "        ------\n",
            "        LinAlgError\n",
            "            If computation does not converge.\n",
            "        \n",
            "        See Also\n",
            "        --------\n",
            "        scipy.linalg.lstsq : Similar function in SciPy.\n",
            "        \n",
            "        Notes\n",
            "        -----\n",
            "        If `b` is a matrix, then all array results are returned as matrices.\n",
            "        \n",
            "        Examples\n",
            "        --------\n",
            "        Fit a line, ``y = mx + c``, through some noisy data-points:\n",
            "        \n",
            "        >>> x = np.array([0, 1, 2, 3])\n",
            "        >>> y = np.array([-1, 0.2, 0.9, 2.1])\n",
            "        \n",
            "        By examining the coefficients, we see that the line should have a\n",
            "        gradient of roughly 1 and cut the y-axis at, more or less, -1.\n",
            "        \n",
            "        We can rewrite the line equation as ``y = Ap``, where ``A = [[x 1]]``\n",
            "        and ``p = [[m], [c]]``.  Now use `lstsq` to solve for `p`:\n",
            "        \n",
            "        >>> A = np.vstack([x, np.ones(len(x))]).T\n",
            "        >>> A\n",
            "        array([[ 0.,  1.],\n",
            "               [ 1.,  1.],\n",
            "               [ 2.,  1.],\n",
            "               [ 3.,  1.]])\n",
            "        \n",
            "        >>> m, c = np.linalg.lstsq(A, y, rcond=None)[0]\n",
            "        >>> m, c\n",
            "        (1.0 -0.95) # may vary\n",
            "        \n",
            "        Plot the data along with the fitted line:\n",
            "        \n",
            "        >>> import matplotlib.pyplot as plt\n",
            "        >>> _ = plt.plot(x, y, 'o', label='Original data', markersize=10)\n",
            "        >>> _ = plt.plot(x, m*x + c, 'r', label='Fitted line')\n",
            "        >>> _ = plt.legend()\n",
            "        >>> plt.show()\n",
            "    \n",
            "    matrix_power(a, n)\n",
            "        Raise a square matrix to the (integer) power `n`.\n",
            "        \n",
            "        For positive integers `n`, the power is computed by repeated matrix\n",
            "        squarings and matrix multiplications. If ``n == 0``, the identity matrix\n",
            "        of the same shape as M is returned. If ``n < 0``, the inverse\n",
            "        is computed and then raised to the ``abs(n)``.\n",
            "        \n",
            "        .. note:: Stacks of object matrices are not currently supported.\n",
            "        \n",
            "        Parameters\n",
            "        ----------\n",
            "        a : (..., M, M) array_like\n",
            "            Matrix to be \"powered\".\n",
            "        n : int\n",
            "            The exponent can be any integer or long integer, positive,\n",
            "            negative, or zero.\n",
            "        \n",
            "        Returns\n",
            "        -------\n",
            "        a**n : (..., M, M) ndarray or matrix object\n",
            "            The return value is the same shape and type as `M`;\n",
            "            if the exponent is positive or zero then the type of the\n",
            "            elements is the same as those of `M`. If the exponent is\n",
            "            negative the elements are floating-point.\n",
            "        \n",
            "        Raises\n",
            "        ------\n",
            "        LinAlgError\n",
            "            For matrices that are not square or that (for negative powers) cannot\n",
            "            be inverted numerically.\n",
            "        \n",
            "        Examples\n",
            "        --------\n",
            "        >>> from numpy.linalg import matrix_power\n",
            "        >>> i = np.array([[0, 1], [-1, 0]]) # matrix equiv. of the imaginary unit\n",
            "        >>> matrix_power(i, 3) # should = -i\n",
            "        array([[ 0, -1],\n",
            "               [ 1,  0]])\n",
            "        >>> matrix_power(i, 0)\n",
            "        array([[1, 0],\n",
            "               [0, 1]])\n",
            "        >>> matrix_power(i, -3) # should = 1/(-i) = i, but w/ f.p. elements\n",
            "        array([[ 0.,  1.],\n",
            "               [-1.,  0.]])\n",
            "        \n",
            "        Somewhat more sophisticated example\n",
            "        \n",
            "        >>> q = np.zeros((4, 4))\n",
            "        >>> q[0:2, 0:2] = -i\n",
            "        >>> q[2:4, 2:4] = i\n",
            "        >>> q # one of the three quaternion units not equal to 1\n",
            "        array([[ 0., -1.,  0.,  0.],\n",
            "               [ 1.,  0.,  0.,  0.],\n",
            "               [ 0.,  0.,  0.,  1.],\n",
            "               [ 0.,  0., -1.,  0.]])\n",
            "        >>> matrix_power(q, 2) # = -np.eye(4)\n",
            "        array([[-1.,  0.,  0.,  0.],\n",
            "               [ 0., -1.,  0.,  0.],\n",
            "               [ 0.,  0., -1.,  0.],\n",
            "               [ 0.,  0.,  0., -1.]])\n",
            "    \n",
            "    matrix_rank(A, tol=None, hermitian=False)\n",
            "        Return matrix rank of array using SVD method\n",
            "        \n",
            "        Rank of the array is the number of singular values of the array that are\n",
            "        greater than `tol`.\n",
            "        \n",
            "        .. versionchanged:: 1.14\n",
            "           Can now operate on stacks of matrices\n",
            "        \n",
            "        Parameters\n",
            "        ----------\n",
            "        A : {(M,), (..., M, N)} array_like\n",
            "            Input vector or stack of matrices.\n",
            "        tol : (...) array_like, float, optional\n",
            "            Threshold below which SVD values are considered zero. If `tol` is\n",
            "            None, and ``S`` is an array with singular values for `M`, and\n",
            "            ``eps`` is the epsilon value for datatype of ``S``, then `tol` is\n",
            "            set to ``S.max() * max(M, N) * eps``.\n",
            "        \n",
            "            .. versionchanged:: 1.14\n",
            "               Broadcasted against the stack of matrices\n",
            "        hermitian : bool, optional\n",
            "            If True, `A` is assumed to be Hermitian (symmetric if real-valued),\n",
            "            enabling a more efficient method for finding singular values.\n",
            "            Defaults to False.\n",
            "        \n",
            "            .. versionadded:: 1.14\n",
            "        \n",
            "        Returns\n",
            "        -------\n",
            "        rank : (...) array_like\n",
            "            Rank of A.\n",
            "        \n",
            "        Notes\n",
            "        -----\n",
            "        The default threshold to detect rank deficiency is a test on the magnitude\n",
            "        of the singular values of `A`.  By default, we identify singular values less\n",
            "        than ``S.max() * max(M, N) * eps`` as indicating rank deficiency (with\n",
            "        the symbols defined above). This is the algorithm MATLAB uses [1].  It also\n",
            "        appears in *Numerical recipes* in the discussion of SVD solutions for linear\n",
            "        least squares [2].\n",
            "        \n",
            "        This default threshold is designed to detect rank deficiency accounting for\n",
            "        the numerical errors of the SVD computation.  Imagine that there is a column\n",
            "        in `A` that is an exact (in floating point) linear combination of other\n",
            "        columns in `A`. Computing the SVD on `A` will not produce a singular value\n",
            "        exactly equal to 0 in general: any difference of the smallest SVD value from\n",
            "        0 will be caused by numerical imprecision in the calculation of the SVD.\n",
            "        Our threshold for small SVD values takes this numerical imprecision into\n",
            "        account, and the default threshold will detect such numerical rank\n",
            "        deficiency.  The threshold may declare a matrix `A` rank deficient even if\n",
            "        the linear combination of some columns of `A` is not exactly equal to\n",
            "        another column of `A` but only numerically very close to another column of\n",
            "        `A`.\n",
            "        \n",
            "        We chose our default threshold because it is in wide use.  Other thresholds\n",
            "        are possible.  For example, elsewhere in the 2007 edition of *Numerical\n",
            "        recipes* there is an alternative threshold of ``S.max() *\n",
            "        np.finfo(A.dtype).eps / 2. * np.sqrt(m + n + 1.)``. The authors describe\n",
            "        this threshold as being based on \"expected roundoff error\" (p 71).\n",
            "        \n",
            "        The thresholds above deal with floating point roundoff error in the\n",
            "        calculation of the SVD.  However, you may have more information about the\n",
            "        sources of error in `A` that would make you consider other tolerance values\n",
            "        to detect *effective* rank deficiency.  The most useful measure of the\n",
            "        tolerance depends on the operations you intend to use on your matrix.  For\n",
            "        example, if your data come from uncertain measurements with uncertainties\n",
            "        greater than floating point epsilon, choosing a tolerance near that\n",
            "        uncertainty may be preferable.  The tolerance may be absolute if the\n",
            "        uncertainties are absolute rather than relative.\n",
            "        \n",
            "        References\n",
            "        ----------\n",
            "        .. [1] MATLAB reference documentation, \"Rank\"\n",
            "               https://www.mathworks.com/help/techdoc/ref/rank.html\n",
            "        .. [2] W. H. Press, S. A. Teukolsky, W. T. Vetterling and B. P. Flannery,\n",
            "               \"Numerical Recipes (3rd edition)\", Cambridge University Press, 2007,\n",
            "               page 795.\n",
            "        \n",
            "        Examples\n",
            "        --------\n",
            "        >>> from numpy.linalg import matrix_rank\n",
            "        >>> matrix_rank(np.eye(4)) # Full rank matrix\n",
            "        4\n",
            "        >>> I=np.eye(4); I[-1,-1] = 0. # rank deficient matrix\n",
            "        >>> matrix_rank(I)\n",
            "        3\n",
            "        >>> matrix_rank(np.ones((4,))) # 1 dimension - rank 1 unless all 0\n",
            "        1\n",
            "        >>> matrix_rank(np.zeros((4,)))\n",
            "        0\n",
            "    \n",
            "    multi_dot(arrays, *, out=None)\n",
            "        Compute the dot product of two or more arrays in a single function call,\n",
            "        while automatically selecting the fastest evaluation order.\n",
            "        \n",
            "        `multi_dot` chains `numpy.dot` and uses optimal parenthesization\n",
            "        of the matrices [1]_ [2]_. Depending on the shapes of the matrices,\n",
            "        this can speed up the multiplication a lot.\n",
            "        \n",
            "        If the first argument is 1-D it is treated as a row vector.\n",
            "        If the last argument is 1-D it is treated as a column vector.\n",
            "        The other arguments must be 2-D.\n",
            "        \n",
            "        Think of `multi_dot` as::\n",
            "        \n",
            "            def multi_dot(arrays): return functools.reduce(np.dot, arrays)\n",
            "        \n",
            "        \n",
            "        Parameters\n",
            "        ----------\n",
            "        arrays : sequence of array_like\n",
            "            If the first argument is 1-D it is treated as row vector.\n",
            "            If the last argument is 1-D it is treated as column vector.\n",
            "            The other arguments must be 2-D.\n",
            "        out : ndarray, optional\n",
            "            Output argument. This must have the exact kind that would be returned\n",
            "            if it was not used. In particular, it must have the right type, must be\n",
            "            C-contiguous, and its dtype must be the dtype that would be returned\n",
            "            for `dot(a, b)`. This is a performance feature. Therefore, if these\n",
            "            conditions are not met, an exception is raised, instead of attempting\n",
            "            to be flexible.\n",
            "        \n",
            "            .. versionadded:: 1.19.0\n",
            "        \n",
            "        Returns\n",
            "        -------\n",
            "        output : ndarray\n",
            "            Returns the dot product of the supplied arrays.\n",
            "        \n",
            "        See Also\n",
            "        --------\n",
            "        numpy.dot : dot multiplication with two arguments.\n",
            "        \n",
            "        References\n",
            "        ----------\n",
            "        \n",
            "        .. [1] Cormen, \"Introduction to Algorithms\", Chapter 15.2, p. 370-378\n",
            "        .. [2] https://en.wikipedia.org/wiki/Matrix_chain_multiplication\n",
            "        \n",
            "        Examples\n",
            "        --------\n",
            "        `multi_dot` allows you to write::\n",
            "        \n",
            "        >>> from numpy.linalg import multi_dot\n",
            "        >>> # Prepare some data\n",
            "        >>> A = np.random.random((10000, 100))\n",
            "        >>> B = np.random.random((100, 1000))\n",
            "        >>> C = np.random.random((1000, 5))\n",
            "        >>> D = np.random.random((5, 333))\n",
            "        >>> # the actual dot multiplication\n",
            "        >>> _ = multi_dot([A, B, C, D])\n",
            "        \n",
            "        instead of::\n",
            "        \n",
            "        >>> _ = np.dot(np.dot(np.dot(A, B), C), D)\n",
            "        >>> # or\n",
            "        >>> _ = A.dot(B).dot(C).dot(D)\n",
            "        \n",
            "        Notes\n",
            "        -----\n",
            "        The cost for a matrix multiplication can be calculated with the\n",
            "        following function::\n",
            "        \n",
            "            def cost(A, B):\n",
            "                return A.shape[0] * A.shape[1] * B.shape[1]\n",
            "        \n",
            "        Assume we have three matrices\n",
            "        :math:`A_{10x100}, B_{100x5}, C_{5x50}`.\n",
            "        \n",
            "        The costs for the two different parenthesizations are as follows::\n",
            "        \n",
            "            cost((AB)C) = 10*100*5 + 10*5*50   = 5000 + 2500   = 7500\n",
            "            cost(A(BC)) = 10*100*50 + 100*5*50 = 50000 + 25000 = 75000\n",
            "    \n",
            "    norm(x, ord=None, axis=None, keepdims=False)\n",
            "        Matrix or vector norm.\n",
            "        \n",
            "        This function is able to return one of eight different matrix norms,\n",
            "        or one of an infinite number of vector norms (described below), depending\n",
            "        on the value of the ``ord`` parameter.\n",
            "        \n",
            "        Parameters\n",
            "        ----------\n",
            "        x : array_like\n",
            "            Input array.  If `axis` is None, `x` must be 1-D or 2-D, unless `ord`\n",
            "            is None. If both `axis` and `ord` are None, the 2-norm of\n",
            "            ``x.ravel`` will be returned.\n",
            "        ord : {non-zero int, inf, -inf, 'fro', 'nuc'}, optional\n",
            "            Order of the norm (see table under ``Notes``). inf means numpy's\n",
            "            `inf` object. The default is None.\n",
            "        axis : {None, int, 2-tuple of ints}, optional.\n",
            "            If `axis` is an integer, it specifies the axis of `x` along which to\n",
            "            compute the vector norms.  If `axis` is a 2-tuple, it specifies the\n",
            "            axes that hold 2-D matrices, and the matrix norms of these matrices\n",
            "            are computed.  If `axis` is None then either a vector norm (when `x`\n",
            "            is 1-D) or a matrix norm (when `x` is 2-D) is returned. The default\n",
            "            is None.\n",
            "        \n",
            "            .. versionadded:: 1.8.0\n",
            "        \n",
            "        keepdims : bool, optional\n",
            "            If this is set to True, the axes which are normed over are left in the\n",
            "            result as dimensions with size one.  With this option the result will\n",
            "            broadcast correctly against the original `x`.\n",
            "        \n",
            "            .. versionadded:: 1.10.0\n",
            "        \n",
            "        Returns\n",
            "        -------\n",
            "        n : float or ndarray\n",
            "            Norm of the matrix or vector(s).\n",
            "        \n",
            "        See Also\n",
            "        --------\n",
            "        scipy.linalg.norm : Similar function in SciPy.\n",
            "        \n",
            "        Notes\n",
            "        -----\n",
            "        For values of ``ord < 1``, the result is, strictly speaking, not a\n",
            "        mathematical 'norm', but it may still be useful for various numerical\n",
            "        purposes.\n",
            "        \n",
            "        The following norms can be calculated:\n",
            "        \n",
            "        =====  ============================  ==========================\n",
            "        ord    norm for matrices             norm for vectors\n",
            "        =====  ============================  ==========================\n",
            "        None   Frobenius norm                2-norm\n",
            "        'fro'  Frobenius norm                --\n",
            "        'nuc'  nuclear norm                  --\n",
            "        inf    max(sum(abs(x), axis=1))      max(abs(x))\n",
            "        -inf   min(sum(abs(x), axis=1))      min(abs(x))\n",
            "        0      --                            sum(x != 0)\n",
            "        1      max(sum(abs(x), axis=0))      as below\n",
            "        -1     min(sum(abs(x), axis=0))      as below\n",
            "        2      2-norm (largest sing. value)  as below\n",
            "        -2     smallest singular value       as below\n",
            "        other  --                            sum(abs(x)**ord)**(1./ord)\n",
            "        =====  ============================  ==========================\n",
            "        \n",
            "        The Frobenius norm is given by [1]_:\n",
            "        \n",
            "            :math:`||A||_F = [\\sum_{i,j} abs(a_{i,j})^2]^{1/2}`\n",
            "        \n",
            "        The nuclear norm is the sum of the singular values.\n",
            "        \n",
            "        Both the Frobenius and nuclear norm orders are only defined for\n",
            "        matrices and raise a ValueError when ``x.ndim != 2``.\n",
            "        \n",
            "        References\n",
            "        ----------\n",
            "        .. [1] G. H. Golub and C. F. Van Loan, *Matrix Computations*,\n",
            "               Baltimore, MD, Johns Hopkins University Press, 1985, pg. 15\n",
            "        \n",
            "        Examples\n",
            "        --------\n",
            "        >>> from numpy import linalg as LA\n",
            "        >>> a = np.arange(9) - 4\n",
            "        >>> a\n",
            "        array([-4, -3, -2, ...,  2,  3,  4])\n",
            "        >>> b = a.reshape((3, 3))\n",
            "        >>> b\n",
            "        array([[-4, -3, -2],\n",
            "               [-1,  0,  1],\n",
            "               [ 2,  3,  4]])\n",
            "        \n",
            "        >>> LA.norm(a)\n",
            "        7.745966692414834\n",
            "        >>> LA.norm(b)\n",
            "        7.745966692414834\n",
            "        >>> LA.norm(b, 'fro')\n",
            "        7.745966692414834\n",
            "        >>> LA.norm(a, np.inf)\n",
            "        4.0\n",
            "        >>> LA.norm(b, np.inf)\n",
            "        9.0\n",
            "        >>> LA.norm(a, -np.inf)\n",
            "        0.0\n",
            "        >>> LA.norm(b, -np.inf)\n",
            "        2.0\n",
            "        \n",
            "        >>> LA.norm(a, 1)\n",
            "        20.0\n",
            "        >>> LA.norm(b, 1)\n",
            "        7.0\n",
            "        >>> LA.norm(a, -1)\n",
            "        -4.6566128774142013e-010\n",
            "        >>> LA.norm(b, -1)\n",
            "        6.0\n",
            "        >>> LA.norm(a, 2)\n",
            "        7.745966692414834\n",
            "        >>> LA.norm(b, 2)\n",
            "        7.3484692283495345\n",
            "        \n",
            "        >>> LA.norm(a, -2)\n",
            "        0.0\n",
            "        >>> LA.norm(b, -2)\n",
            "        1.8570331885190563e-016 # may vary\n",
            "        >>> LA.norm(a, 3)\n",
            "        5.8480354764257312 # may vary\n",
            "        >>> LA.norm(a, -3)\n",
            "        0.0\n",
            "        \n",
            "        Using the `axis` argument to compute vector norms:\n",
            "        \n",
            "        >>> c = np.array([[ 1, 2, 3],\n",
            "        ...               [-1, 1, 4]])\n",
            "        >>> LA.norm(c, axis=0)\n",
            "        array([ 1.41421356,  2.23606798,  5.        ])\n",
            "        >>> LA.norm(c, axis=1)\n",
            "        array([ 3.74165739,  4.24264069])\n",
            "        >>> LA.norm(c, ord=1, axis=1)\n",
            "        array([ 6.,  6.])\n",
            "        \n",
            "        Using the `axis` argument to compute matrix norms:\n",
            "        \n",
            "        >>> m = np.arange(8).reshape(2,2,2)\n",
            "        >>> LA.norm(m, axis=(1,2))\n",
            "        array([  3.74165739,  11.22497216])\n",
            "        >>> LA.norm(m[0, :, :]), LA.norm(m[1, :, :])\n",
            "        (3.7416573867739413, 11.224972160321824)\n",
            "    \n",
            "    pinv(a, rcond=1e-15, hermitian=False)\n",
            "        Compute the (Moore-Penrose) pseudo-inverse of a matrix.\n",
            "        \n",
            "        Calculate the generalized inverse of a matrix using its\n",
            "        singular-value decomposition (SVD) and including all\n",
            "        *large* singular values.\n",
            "        \n",
            "        .. versionchanged:: 1.14\n",
            "           Can now operate on stacks of matrices\n",
            "        \n",
            "        Parameters\n",
            "        ----------\n",
            "        a : (..., M, N) array_like\n",
            "            Matrix or stack of matrices to be pseudo-inverted.\n",
            "        rcond : (...) array_like of float\n",
            "            Cutoff for small singular values.\n",
            "            Singular values less than or equal to\n",
            "            ``rcond * largest_singular_value`` are set to zero.\n",
            "            Broadcasts against the stack of matrices.\n",
            "        hermitian : bool, optional\n",
            "            If True, `a` is assumed to be Hermitian (symmetric if real-valued),\n",
            "            enabling a more efficient method for finding singular values.\n",
            "            Defaults to False.\n",
            "        \n",
            "            .. versionadded:: 1.17.0\n",
            "        \n",
            "        Returns\n",
            "        -------\n",
            "        B : (..., N, M) ndarray\n",
            "            The pseudo-inverse of `a`. If `a` is a `matrix` instance, then so\n",
            "            is `B`.\n",
            "        \n",
            "        Raises\n",
            "        ------\n",
            "        LinAlgError\n",
            "            If the SVD computation does not converge.\n",
            "        \n",
            "        See Also\n",
            "        --------\n",
            "        scipy.linalg.pinv : Similar function in SciPy.\n",
            "        scipy.linalg.pinvh : Compute the (Moore-Penrose) pseudo-inverse of a\n",
            "                             Hermitian matrix.\n",
            "        \n",
            "        Notes\n",
            "        -----\n",
            "        The pseudo-inverse of a matrix A, denoted :math:`A^+`, is\n",
            "        defined as: \"the matrix that 'solves' [the least-squares problem]\n",
            "        :math:`Ax = b`,\" i.e., if :math:`\\bar{x}` is said solution, then\n",
            "        :math:`A^+` is that matrix such that :math:`\\bar{x} = A^+b`.\n",
            "        \n",
            "        It can be shown that if :math:`Q_1 \\Sigma Q_2^T = A` is the singular\n",
            "        value decomposition of A, then\n",
            "        :math:`A^+ = Q_2 \\Sigma^+ Q_1^T`, where :math:`Q_{1,2}` are\n",
            "        orthogonal matrices, :math:`\\Sigma` is a diagonal matrix consisting\n",
            "        of A's so-called singular values, (followed, typically, by\n",
            "        zeros), and then :math:`\\Sigma^+` is simply the diagonal matrix\n",
            "        consisting of the reciprocals of A's singular values\n",
            "        (again, followed by zeros). [1]_\n",
            "        \n",
            "        References\n",
            "        ----------\n",
            "        .. [1] G. Strang, *Linear Algebra and Its Applications*, 2nd Ed., Orlando,\n",
            "               FL, Academic Press, Inc., 1980, pp. 139-142.\n",
            "        \n",
            "        Examples\n",
            "        --------\n",
            "        The following example checks that ``a * a+ * a == a`` and\n",
            "        ``a+ * a * a+ == a+``:\n",
            "        \n",
            "        >>> a = np.random.randn(9, 6)\n",
            "        >>> B = np.linalg.pinv(a)\n",
            "        >>> np.allclose(a, np.dot(a, np.dot(B, a)))\n",
            "        True\n",
            "        >>> np.allclose(B, np.dot(B, np.dot(a, B)))\n",
            "        True\n",
            "    \n",
            "    qr(a, mode='reduced')\n",
            "        Compute the qr factorization of a matrix.\n",
            "        \n",
            "        Factor the matrix `a` as *qr*, where `q` is orthonormal and `r` is\n",
            "        upper-triangular.\n",
            "        \n",
            "        Parameters\n",
            "        ----------\n",
            "        a : array_like, shape (..., M, N)\n",
            "            An array-like object with the dimensionality of at least 2.\n",
            "        mode : {'reduced', 'complete', 'r', 'raw'}, optional\n",
            "            If K = min(M, N), then\n",
            "        \n",
            "            * 'reduced'  : returns Q, R with dimensions (..., M, K), (..., K, N) (default)\n",
            "            * 'complete' : returns Q, R with dimensions (..., M, M), (..., M, N)\n",
            "            * 'r'        : returns R only with dimensions (..., K, N)\n",
            "            * 'raw'      : returns h, tau with dimensions (..., N, M), (..., K,)\n",
            "        \n",
            "            The options 'reduced', 'complete, and 'raw' are new in numpy 1.8,\n",
            "            see the notes for more information. The default is 'reduced', and to\n",
            "            maintain backward compatibility with earlier versions of numpy both\n",
            "            it and the old default 'full' can be omitted. Note that array h\n",
            "            returned in 'raw' mode is transposed for calling Fortran. The\n",
            "            'economic' mode is deprecated.  The modes 'full' and 'economic' may\n",
            "            be passed using only the first letter for backwards compatibility,\n",
            "            but all others must be spelled out. See the Notes for more\n",
            "            explanation.\n",
            "        \n",
            "        \n",
            "        Returns\n",
            "        -------\n",
            "        When mode is 'reduced' or 'complete', the result will be a namedtuple with\n",
            "        the attributes `Q` and `R`.\n",
            "        \n",
            "        Q : ndarray of float or complex, optional\n",
            "            A matrix with orthonormal columns. When mode = 'complete' the\n",
            "            result is an orthogonal/unitary matrix depending on whether or not\n",
            "            a is real/complex. The determinant may be either +/- 1 in that\n",
            "            case. In case the number of dimensions in the input array is\n",
            "            greater than 2 then a stack of the matrices with above properties\n",
            "            is returned.\n",
            "        R : ndarray of float or complex, optional\n",
            "            The upper-triangular matrix or a stack of upper-triangular\n",
            "            matrices if the number of dimensions in the input array is greater\n",
            "            than 2.\n",
            "        (h, tau) : ndarrays of np.double or np.cdouble, optional\n",
            "            The array h contains the Householder reflectors that generate q\n",
            "            along with r. The tau array contains scaling factors for the\n",
            "            reflectors. In the deprecated  'economic' mode only h is returned.\n",
            "        \n",
            "        Raises\n",
            "        ------\n",
            "        LinAlgError\n",
            "            If factoring fails.\n",
            "        \n",
            "        See Also\n",
            "        --------\n",
            "        scipy.linalg.qr : Similar function in SciPy.\n",
            "        scipy.linalg.rq : Compute RQ decomposition of a matrix.\n",
            "        \n",
            "        Notes\n",
            "        -----\n",
            "        This is an interface to the LAPACK routines ``dgeqrf``, ``zgeqrf``,\n",
            "        ``dorgqr``, and ``zungqr``.\n",
            "        \n",
            "        For more information on the qr factorization, see for example:\n",
            "        https://en.wikipedia.org/wiki/QR_factorization\n",
            "        \n",
            "        Subclasses of `ndarray` are preserved except for the 'raw' mode. So if\n",
            "        `a` is of type `matrix`, all the return values will be matrices too.\n",
            "        \n",
            "        New 'reduced', 'complete', and 'raw' options for mode were added in\n",
            "        NumPy 1.8.0 and the old option 'full' was made an alias of 'reduced'.  In\n",
            "        addition the options 'full' and 'economic' were deprecated.  Because\n",
            "        'full' was the previous default and 'reduced' is the new default,\n",
            "        backward compatibility can be maintained by letting `mode` default.\n",
            "        The 'raw' option was added so that LAPACK routines that can multiply\n",
            "        arrays by q using the Householder reflectors can be used. Note that in\n",
            "        this case the returned arrays are of type np.double or np.cdouble and\n",
            "        the h array is transposed to be FORTRAN compatible.  No routines using\n",
            "        the 'raw' return are currently exposed by numpy, but some are available\n",
            "        in lapack_lite and just await the necessary work.\n",
            "        \n",
            "        Examples\n",
            "        --------\n",
            "        >>> a = np.random.randn(9, 6)\n",
            "        >>> Q, R = np.linalg.qr(a)\n",
            "        >>> np.allclose(a, np.dot(Q, R))  # a does equal QR\n",
            "        True\n",
            "        >>> R2 = np.linalg.qr(a, mode='r')\n",
            "        >>> np.allclose(R, R2)  # mode='r' returns the same R as mode='full'\n",
            "        True\n",
            "        >>> a = np.random.normal(size=(3, 2, 2)) # Stack of 2 x 2 matrices as input\n",
            "        >>> Q, R = np.linalg.qr(a)\n",
            "        >>> Q.shape\n",
            "        (3, 2, 2)\n",
            "        >>> R.shape\n",
            "        (3, 2, 2)\n",
            "        >>> np.allclose(a, np.matmul(Q, R))\n",
            "        True\n",
            "        \n",
            "        Example illustrating a common use of `qr`: solving of least squares\n",
            "        problems\n",
            "        \n",
            "        What are the least-squares-best `m` and `y0` in ``y = y0 + mx`` for\n",
            "        the following data: {(0,1), (1,0), (1,2), (2,1)}. (Graph the points\n",
            "        and you'll see that it should be y0 = 0, m = 1.)  The answer is provided\n",
            "        by solving the over-determined matrix equation ``Ax = b``, where::\n",
            "        \n",
            "          A = array([[0, 1], [1, 1], [1, 1], [2, 1]])\n",
            "          x = array([[y0], [m]])\n",
            "          b = array([[1], [0], [2], [1]])\n",
            "        \n",
            "        If A = QR such that Q is orthonormal (which is always possible via\n",
            "        Gram-Schmidt), then ``x = inv(R) * (Q.T) * b``.  (In numpy practice,\n",
            "        however, we simply use `lstsq`.)\n",
            "        \n",
            "        >>> A = np.array([[0, 1], [1, 1], [1, 1], [2, 1]])\n",
            "        >>> A\n",
            "        array([[0, 1],\n",
            "               [1, 1],\n",
            "               [1, 1],\n",
            "               [2, 1]])\n",
            "        >>> b = np.array([1, 2, 2, 3])\n",
            "        >>> Q, R = np.linalg.qr(A)\n",
            "        >>> p = np.dot(Q.T, b)\n",
            "        >>> np.dot(np.linalg.inv(R), p)\n",
            "        array([  1.,   1.])\n",
            "    \n",
            "    slogdet(a)\n",
            "        Compute the sign and (natural) logarithm of the determinant of an array.\n",
            "        \n",
            "        If an array has a very small or very large determinant, then a call to\n",
            "        `det` may overflow or underflow. This routine is more robust against such\n",
            "        issues, because it computes the logarithm of the determinant rather than\n",
            "        the determinant itself.\n",
            "        \n",
            "        Parameters\n",
            "        ----------\n",
            "        a : (..., M, M) array_like\n",
            "            Input array, has to be a square 2-D array.\n",
            "        \n",
            "        Returns\n",
            "        -------\n",
            "        A namedtuple with the following attributes:\n",
            "        \n",
            "        sign : (...) array_like\n",
            "            A number representing the sign of the determinant. For a real matrix,\n",
            "            this is 1, 0, or -1. For a complex matrix, this is a complex number\n",
            "            with absolute value 1 (i.e., it is on the unit circle), or else 0.\n",
            "        logabsdet : (...) array_like\n",
            "            The natural log of the absolute value of the determinant.\n",
            "        \n",
            "        If the determinant is zero, then `sign` will be 0 and `logabsdet` will be\n",
            "        -Inf. In all cases, the determinant is equal to ``sign * np.exp(logabsdet)``.\n",
            "        \n",
            "        See Also\n",
            "        --------\n",
            "        det\n",
            "        \n",
            "        Notes\n",
            "        -----\n",
            "        \n",
            "        .. versionadded:: 1.8.0\n",
            "        \n",
            "        Broadcasting rules apply, see the `numpy.linalg` documentation for\n",
            "        details.\n",
            "        \n",
            "        .. versionadded:: 1.6.0\n",
            "        \n",
            "        The determinant is computed via LU factorization using the LAPACK\n",
            "        routine ``z/dgetrf``.\n",
            "        \n",
            "        \n",
            "        Examples\n",
            "        --------\n",
            "        The determinant of a 2-D array ``[[a, b], [c, d]]`` is ``ad - bc``:\n",
            "        \n",
            "        >>> a = np.array([[1, 2], [3, 4]])\n",
            "        >>> (sign, logabsdet) = np.linalg.slogdet(a)\n",
            "        >>> (sign, logabsdet)\n",
            "        (-1, 0.69314718055994529) # may vary\n",
            "        >>> sign * np.exp(logabsdet)\n",
            "        -2.0\n",
            "        \n",
            "        Computing log-determinants for a stack of matrices:\n",
            "        \n",
            "        >>> a = np.array([ [[1, 2], [3, 4]], [[1, 2], [2, 1]], [[1, 3], [3, 1]] ])\n",
            "        >>> a.shape\n",
            "        (3, 2, 2)\n",
            "        >>> sign, logabsdet = np.linalg.slogdet(a)\n",
            "        >>> (sign, logabsdet)\n",
            "        (array([-1., -1., -1.]), array([ 0.69314718,  1.09861229,  2.07944154]))\n",
            "        >>> sign * np.exp(logabsdet)\n",
            "        array([-2., -3., -8.])\n",
            "        \n",
            "        This routine succeeds where ordinary `det` does not:\n",
            "        \n",
            "        >>> np.linalg.det(np.eye(500) * 0.1)\n",
            "        0.0\n",
            "        >>> np.linalg.slogdet(np.eye(500) * 0.1)\n",
            "        (1, -1151.2925464970228)\n",
            "    \n",
            "    solve(a, b)\n",
            "        Solve a linear matrix equation, or system of linear scalar equations.\n",
            "        \n",
            "        Computes the \"exact\" solution, `x`, of the well-determined, i.e., full\n",
            "        rank, linear matrix equation `ax = b`.\n",
            "        \n",
            "        Parameters\n",
            "        ----------\n",
            "        a : (..., M, M) array_like\n",
            "            Coefficient matrix.\n",
            "        b : {(..., M,), (..., M, K)}, array_like\n",
            "            Ordinate or \"dependent variable\" values.\n",
            "        \n",
            "        Returns\n",
            "        -------\n",
            "        x : {(..., M,), (..., M, K)} ndarray\n",
            "            Solution to the system a x = b.  Returned shape is identical to `b`.\n",
            "        \n",
            "        Raises\n",
            "        ------\n",
            "        LinAlgError\n",
            "            If `a` is singular or not square.\n",
            "        \n",
            "        See Also\n",
            "        --------\n",
            "        scipy.linalg.solve : Similar function in SciPy.\n",
            "        \n",
            "        Notes\n",
            "        -----\n",
            "        \n",
            "        .. versionadded:: 1.8.0\n",
            "        \n",
            "        Broadcasting rules apply, see the `numpy.linalg` documentation for\n",
            "        details.\n",
            "        \n",
            "        The solutions are computed using LAPACK routine ``_gesv``.\n",
            "        \n",
            "        `a` must be square and of full-rank, i.e., all rows (or, equivalently,\n",
            "        columns) must be linearly independent; if either is not true, use\n",
            "        `lstsq` for the least-squares best \"solution\" of the\n",
            "        system/equation.\n",
            "        \n",
            "        References\n",
            "        ----------\n",
            "        .. [1] G. Strang, *Linear Algebra and Its Applications*, 2nd Ed., Orlando,\n",
            "               FL, Academic Press, Inc., 1980, pg. 22.\n",
            "        \n",
            "        Examples\n",
            "        --------\n",
            "        Solve the system of equations ``x0 + 2 * x1 = 1`` and ``3 * x0 + 5 * x1 = 2``:\n",
            "        \n",
            "        >>> a = np.array([[1, 2], [3, 5]])\n",
            "        >>> b = np.array([1, 2])\n",
            "        >>> x = np.linalg.solve(a, b)\n",
            "        >>> x\n",
            "        array([-1.,  1.])\n",
            "        \n",
            "        Check that the solution is correct:\n",
            "        \n",
            "        >>> np.allclose(np.dot(a, x), b)\n",
            "        True\n",
            "    \n",
            "    svd(a, full_matrices=True, compute_uv=True, hermitian=False)\n",
            "        Singular Value Decomposition.\n",
            "        \n",
            "        When `a` is a 2D array, and ``full_matrices=False``, then it is\n",
            "        factorized as ``u @ np.diag(s) @ vh = (u * s) @ vh``, where\n",
            "        `u` and the Hermitian transpose of `vh` are 2D arrays with\n",
            "        orthonormal columns and `s` is a 1D array of `a`'s singular\n",
            "        values. When `a` is higher-dimensional, SVD is applied in\n",
            "        stacked mode as explained below.\n",
            "        \n",
            "        Parameters\n",
            "        ----------\n",
            "        a : (..., M, N) array_like\n",
            "            A real or complex array with ``a.ndim >= 2``.\n",
            "        full_matrices : bool, optional\n",
            "            If True (default), `u` and `vh` have the shapes ``(..., M, M)`` and\n",
            "            ``(..., N, N)``, respectively.  Otherwise, the shapes are\n",
            "            ``(..., M, K)`` and ``(..., K, N)``, respectively, where\n",
            "            ``K = min(M, N)``.\n",
            "        compute_uv : bool, optional\n",
            "            Whether or not to compute `u` and `vh` in addition to `s`.  True\n",
            "            by default.\n",
            "        hermitian : bool, optional\n",
            "            If True, `a` is assumed to be Hermitian (symmetric if real-valued),\n",
            "            enabling a more efficient method for finding singular values.\n",
            "            Defaults to False.\n",
            "        \n",
            "            .. versionadded:: 1.17.0\n",
            "        \n",
            "        Returns\n",
            "        -------\n",
            "        When `compute_uv` is True, the result is a namedtuple with the following\n",
            "        attribute names:\n",
            "        \n",
            "        U : { (..., M, M), (..., M, K) } array\n",
            "            Unitary array(s). The first ``a.ndim - 2`` dimensions have the same\n",
            "            size as those of the input `a`. The size of the last two dimensions\n",
            "            depends on the value of `full_matrices`. Only returned when\n",
            "            `compute_uv` is True.\n",
            "        S : (..., K) array\n",
            "            Vector(s) with the singular values, within each vector sorted in\n",
            "            descending order. The first ``a.ndim - 2`` dimensions have the same\n",
            "            size as those of the input `a`.\n",
            "        Vh : { (..., N, N), (..., K, N) } array\n",
            "            Unitary array(s). The first ``a.ndim - 2`` dimensions have the same\n",
            "            size as those of the input `a`. The size of the last two dimensions\n",
            "            depends on the value of `full_matrices`. Only returned when\n",
            "            `compute_uv` is True.\n",
            "        \n",
            "        Raises\n",
            "        ------\n",
            "        LinAlgError\n",
            "            If SVD computation does not converge.\n",
            "        \n",
            "        See Also\n",
            "        --------\n",
            "        scipy.linalg.svd : Similar function in SciPy.\n",
            "        scipy.linalg.svdvals : Compute singular values of a matrix.\n",
            "        \n",
            "        Notes\n",
            "        -----\n",
            "        \n",
            "        .. versionchanged:: 1.8.0\n",
            "           Broadcasting rules apply, see the `numpy.linalg` documentation for\n",
            "           details.\n",
            "        \n",
            "        The decomposition is performed using LAPACK routine ``_gesdd``.\n",
            "        \n",
            "        SVD is usually described for the factorization of a 2D matrix :math:`A`.\n",
            "        The higher-dimensional case will be discussed below. In the 2D case, SVD is\n",
            "        written as :math:`A = U S V^H`, where :math:`A = a`, :math:`U= u`,\n",
            "        :math:`S= \\mathtt{np.diag}(s)` and :math:`V^H = vh`. The 1D array `s`\n",
            "        contains the singular values of `a` and `u` and `vh` are unitary. The rows\n",
            "        of `vh` are the eigenvectors of :math:`A^H A` and the columns of `u` are\n",
            "        the eigenvectors of :math:`A A^H`. In both cases the corresponding\n",
            "        (possibly non-zero) eigenvalues are given by ``s**2``.\n",
            "        \n",
            "        If `a` has more than two dimensions, then broadcasting rules apply, as\n",
            "        explained in :ref:`routines.linalg-broadcasting`. This means that SVD is\n",
            "        working in \"stacked\" mode: it iterates over all indices of the first\n",
            "        ``a.ndim - 2`` dimensions and for each combination SVD is applied to the\n",
            "        last two indices. The matrix `a` can be reconstructed from the\n",
            "        decomposition with either ``(u * s[..., None, :]) @ vh`` or\n",
            "        ``u @ (s[..., None] * vh)``. (The ``@`` operator can be replaced by the\n",
            "        function ``np.matmul`` for python versions below 3.5.)\n",
            "        \n",
            "        If `a` is a ``matrix`` object (as opposed to an ``ndarray``), then so are\n",
            "        all the return values.\n",
            "        \n",
            "        Examples\n",
            "        --------\n",
            "        >>> a = np.random.randn(9, 6) + 1j*np.random.randn(9, 6)\n",
            "        >>> b = np.random.randn(2, 7, 8, 3) + 1j*np.random.randn(2, 7, 8, 3)\n",
            "        \n",
            "        Reconstruction based on full SVD, 2D case:\n",
            "        \n",
            "        >>> U, S, Vh = np.linalg.svd(a, full_matrices=True)\n",
            "        >>> U.shape, S.shape, Vh.shape\n",
            "        ((9, 9), (6,), (6, 6))\n",
            "        >>> np.allclose(a, np.dot(U[:, :6] * S, Vh))\n",
            "        True\n",
            "        >>> smat = np.zeros((9, 6), dtype=complex)\n",
            "        >>> smat[:6, :6] = np.diag(S)\n",
            "        >>> np.allclose(a, np.dot(U, np.dot(smat, Vh)))\n",
            "        True\n",
            "        \n",
            "        Reconstruction based on reduced SVD, 2D case:\n",
            "        \n",
            "        >>> U, S, Vh = np.linalg.svd(a, full_matrices=False)\n",
            "        >>> U.shape, S.shape, Vh.shape\n",
            "        ((9, 6), (6,), (6, 6))\n",
            "        >>> np.allclose(a, np.dot(U * S, Vh))\n",
            "        True\n",
            "        >>> smat = np.diag(S)\n",
            "        >>> np.allclose(a, np.dot(U, np.dot(smat, Vh)))\n",
            "        True\n",
            "        \n",
            "        Reconstruction based on full SVD, 4D case:\n",
            "        \n",
            "        >>> U, S, Vh = np.linalg.svd(b, full_matrices=True)\n",
            "        >>> U.shape, S.shape, Vh.shape\n",
            "        ((2, 7, 8, 8), (2, 7, 3), (2, 7, 3, 3))\n",
            "        >>> np.allclose(b, np.matmul(U[..., :3] * S[..., None, :], Vh))\n",
            "        True\n",
            "        >>> np.allclose(b, np.matmul(U[..., :3], S[..., None] * Vh))\n",
            "        True\n",
            "        \n",
            "        Reconstruction based on reduced SVD, 4D case:\n",
            "        \n",
            "        >>> U, S, Vh = np.linalg.svd(b, full_matrices=False)\n",
            "        >>> U.shape, S.shape, Vh.shape\n",
            "        ((2, 7, 8, 3), (2, 7, 3), (2, 7, 3, 3))\n",
            "        >>> np.allclose(b, np.matmul(U * S[..., None, :], Vh))\n",
            "        True\n",
            "        >>> np.allclose(b, np.matmul(U, S[..., None] * Vh))\n",
            "        True\n",
            "    \n",
            "    tensorinv(a, ind=2)\n",
            "        Compute the 'inverse' of an N-dimensional array.\n",
            "        \n",
            "        The result is an inverse for `a` relative to the tensordot operation\n",
            "        ``tensordot(a, b, ind)``, i. e., up to floating-point accuracy,\n",
            "        ``tensordot(tensorinv(a), a, ind)`` is the \"identity\" tensor for the\n",
            "        tensordot operation.\n",
            "        \n",
            "        Parameters\n",
            "        ----------\n",
            "        a : array_like\n",
            "            Tensor to 'invert'. Its shape must be 'square', i. e.,\n",
            "            ``prod(a.shape[:ind]) == prod(a.shape[ind:])``.\n",
            "        ind : int, optional\n",
            "            Number of first indices that are involved in the inverse sum.\n",
            "            Must be a positive integer, default is 2.\n",
            "        \n",
            "        Returns\n",
            "        -------\n",
            "        b : ndarray\n",
            "            `a`'s tensordot inverse, shape ``a.shape[ind:] + a.shape[:ind]``.\n",
            "        \n",
            "        Raises\n",
            "        ------\n",
            "        LinAlgError\n",
            "            If `a` is singular or not 'square' (in the above sense).\n",
            "        \n",
            "        See Also\n",
            "        --------\n",
            "        numpy.tensordot, tensorsolve\n",
            "        \n",
            "        Examples\n",
            "        --------\n",
            "        >>> a = np.eye(4*6)\n",
            "        >>> a.shape = (4, 6, 8, 3)\n",
            "        >>> ainv = np.linalg.tensorinv(a, ind=2)\n",
            "        >>> ainv.shape\n",
            "        (8, 3, 4, 6)\n",
            "        >>> b = np.random.randn(4, 6)\n",
            "        >>> np.allclose(np.tensordot(ainv, b), np.linalg.tensorsolve(a, b))\n",
            "        True\n",
            "        \n",
            "        >>> a = np.eye(4*6)\n",
            "        >>> a.shape = (24, 8, 3)\n",
            "        >>> ainv = np.linalg.tensorinv(a, ind=1)\n",
            "        >>> ainv.shape\n",
            "        (8, 3, 24)\n",
            "        >>> b = np.random.randn(24)\n",
            "        >>> np.allclose(np.tensordot(ainv, b, 1), np.linalg.tensorsolve(a, b))\n",
            "        True\n",
            "    \n",
            "    tensorsolve(a, b, axes=None)\n",
            "        Solve the tensor equation ``a x = b`` for x.\n",
            "        \n",
            "        It is assumed that all indices of `x` are summed over in the product,\n",
            "        together with the rightmost indices of `a`, as is done in, for example,\n",
            "        ``tensordot(a, x, axes=x.ndim)``.\n",
            "        \n",
            "        Parameters\n",
            "        ----------\n",
            "        a : array_like\n",
            "            Coefficient tensor, of shape ``b.shape + Q``. `Q`, a tuple, equals\n",
            "            the shape of that sub-tensor of `a` consisting of the appropriate\n",
            "            number of its rightmost indices, and must be such that\n",
            "            ``prod(Q) == prod(b.shape)`` (in which sense `a` is said to be\n",
            "            'square').\n",
            "        b : array_like\n",
            "            Right-hand tensor, which can be of any shape.\n",
            "        axes : tuple of ints, optional\n",
            "            Axes in `a` to reorder to the right, before inversion.\n",
            "            If None (default), no reordering is done.\n",
            "        \n",
            "        Returns\n",
            "        -------\n",
            "        x : ndarray, shape Q\n",
            "        \n",
            "        Raises\n",
            "        ------\n",
            "        LinAlgError\n",
            "            If `a` is singular or not 'square' (in the above sense).\n",
            "        \n",
            "        See Also\n",
            "        --------\n",
            "        numpy.tensordot, tensorinv, numpy.einsum\n",
            "        \n",
            "        Examples\n",
            "        --------\n",
            "        >>> a = np.eye(2*3*4)\n",
            "        >>> a.shape = (2*3, 4, 2, 3, 4)\n",
            "        >>> b = np.random.randn(2*3, 4)\n",
            "        >>> x = np.linalg.tensorsolve(a, b)\n",
            "        >>> x.shape\n",
            "        (2, 3, 4)\n",
            "        >>> np.allclose(np.tensordot(a, x, axes=3), b)\n",
            "        True\n",
            "\n",
            "DATA\n",
            "    __all__ = ['matrix_power', 'solve', 'tensorsolve', 'tensorinv', 'inv',...\n",
            "\n",
            "FILE\n",
            "    /usr/local/lib/python3.10/dist-packages/numpy/linalg/__init__.py\n",
            "\n",
            "\n"
          ]
        }
      ]
    },
    {
      "cell_type": "code",
      "source": [
        "import numpy as np\n",
        "A = np.array([[6, 1, 1],\n",
        "              [4, -2, 5],\n",
        "              [2, 8, 7]])\n",
        "A"
      ],
      "metadata": {
        "colab": {
          "base_uri": "https://localhost:8080/"
        },
        "id": "YDrrn-eJ5JMk",
        "outputId": "7e3f6b43-fe66-4012-f92d-ee800d0faec6"
      },
      "execution_count": null,
      "outputs": [
        {
          "output_type": "execute_result",
          "data": {
            "text/plain": [
              "array([[ 6,  1,  1],\n",
              "       [ 4, -2,  5],\n",
              "       [ 2,  8,  7]])"
            ]
          },
          "metadata": {},
          "execution_count": 8
        }
      ]
    },
    {
      "cell_type": "code",
      "source": [
        "A = np.array([[6, 1, 1, 4],\n",
        "              [4, -2, 5, 5],\n",
        "              [2, 8, 7, 7]])\n",
        "A"
      ],
      "metadata": {
        "colab": {
          "base_uri": "https://localhost:8080/"
        },
        "id": "87JC7ARZn6Q8",
        "outputId": "55be03ea-35a0-418f-c012-96b272f08a5c"
      },
      "execution_count": null,
      "outputs": [
        {
          "output_type": "execute_result",
          "data": {
            "text/plain": [
              "array([[ 6,  1,  1,  4],\n",
              "       [ 4, -2,  5,  5],\n",
              "       [ 2,  8,  7,  7]])"
            ]
          },
          "metadata": {},
          "execution_count": 5
        }
      ]
    },
    {
      "cell_type": "markdown",
      "source": [
        "##### Rank of a matrix"
      ],
      "metadata": {
        "id": "A9qdxWzD5MLn"
      }
    },
    {
      "cell_type": "code",
      "source": [
        "np.linalg.matrix_rank(A) # num of independent row or columns\n",
        "# dont understand it, needs more work"
      ],
      "metadata": {
        "colab": {
          "base_uri": "https://localhost:8080/"
        },
        "id": "msCB78025NpJ",
        "outputId": "1f50217d-eaef-464f-f4d3-9662aebf0aa7"
      },
      "execution_count": null,
      "outputs": [
        {
          "output_type": "execute_result",
          "data": {
            "text/plain": [
              "3"
            ]
          },
          "metadata": {},
          "execution_count": 3
        }
      ]
    },
    {
      "cell_type": "markdown",
      "source": [
        "##### Trace of matrix A"
      ],
      "metadata": {
        "id": "_Fb93FfO5P-L"
      }
    },
    {
      "cell_type": "code",
      "source": [
        "np.trace(A) # sum of elements in its diagnoal"
      ],
      "metadata": {
        "id": "eICSyPRt5Rio",
        "colab": {
          "base_uri": "https://localhost:8080/"
        },
        "outputId": "c25a4bb2-3b32-4528-b177-140fe05ba7fe"
      },
      "execution_count": null,
      "outputs": [
        {
          "output_type": "execute_result",
          "data": {
            "text/plain": [
              "11"
            ]
          },
          "metadata": {},
          "execution_count": 6
        }
      ]
    },
    {
      "cell_type": "markdown",
      "source": [
        "##### Determinant of a matrix"
      ],
      "metadata": {
        "id": "yDJXygZH5Tmd"
      }
    },
    {
      "cell_type": "code",
      "source": [
        "np.linalg.det(A) # needs work"
      ],
      "metadata": {
        "id": "ueMAZCa95U3c",
        "colab": {
          "base_uri": "https://localhost:8080/"
        },
        "outputId": "e8b0a1e9-4f67-4eeb-dff7-5ade377e12de"
      },
      "execution_count": null,
      "outputs": [
        {
          "output_type": "execute_result",
          "data": {
            "text/plain": [
              "-306.0"
            ]
          },
          "metadata": {},
          "execution_count": 9
        }
      ]
    },
    {
      "cell_type": "markdown",
      "source": [
        "##### Inverse of matrix A"
      ],
      "metadata": {
        "id": "QwIKzHT25WQU"
      }
    },
    {
      "cell_type": "code",
      "source": [
        "A"
      ],
      "metadata": {
        "id": "VF497PHa5XO1",
        "colab": {
          "base_uri": "https://localhost:8080/"
        },
        "outputId": "a7aafdb1-2cd5-4dad-b21b-64c71f033e57"
      },
      "execution_count": null,
      "outputs": [
        {
          "output_type": "execute_result",
          "data": {
            "text/plain": [
              "array([[ 6,  1,  1],\n",
              "       [ 4, -2,  5],\n",
              "       [ 2,  8,  7]])"
            ]
          },
          "metadata": {},
          "execution_count": 10
        }
      ]
    },
    {
      "cell_type": "code",
      "source": [
        "np.linalg.inv(A) # needs work"
      ],
      "metadata": {
        "id": "3Qc6raU65YkU",
        "colab": {
          "base_uri": "https://localhost:8080/"
        },
        "outputId": "443c44d2-5cec-4f12-a8fb-d4b7bcffedcc"
      },
      "execution_count": null,
      "outputs": [
        {
          "output_type": "execute_result",
          "data": {
            "text/plain": [
              "array([[ 0.17647059, -0.00326797, -0.02287582],\n",
              "       [ 0.05882353, -0.13071895,  0.08496732],\n",
              "       [-0.11764706,  0.1503268 ,  0.05228758]])"
            ]
          },
          "metadata": {},
          "execution_count": 11
        }
      ]
    },
    {
      "cell_type": "code",
      "source": [
        "B = np.linalg.inv(A)"
      ],
      "metadata": {
        "id": "TRklJLlm5aRt"
      },
      "execution_count": null,
      "outputs": []
    },
    {
      "cell_type": "code",
      "source": [
        "np.matmul(A,B) #actual matrix multiplication"
      ],
      "metadata": {
        "id": "jdYUb_hG5eRB",
        "colab": {
          "base_uri": "https://localhost:8080/"
        },
        "outputId": "263b0a89-19e6-4f06-9e00-bc47c746bbf0"
      },
      "execution_count": null,
      "outputs": [
        {
          "output_type": "execute_result",
          "data": {
            "text/plain": [
              "array([[ 1.00000000e+00,  0.00000000e+00,  2.77555756e-17],\n",
              "       [-1.38777878e-17,  1.00000000e+00,  1.38777878e-17],\n",
              "       [-4.16333634e-17,  1.38777878e-16,  1.00000000e+00]])"
            ]
          },
          "metadata": {},
          "execution_count": 13
        }
      ]
    },
    {
      "cell_type": "code",
      "source": [
        "A * B"
      ],
      "metadata": {
        "id": "BOwnx2-E5fct",
        "colab": {
          "base_uri": "https://localhost:8080/"
        },
        "outputId": "ece5513d-5a50-4ad8-b7a3-f900c1ee8c3f"
      },
      "execution_count": null,
      "outputs": [
        {
          "output_type": "execute_result",
          "data": {
            "text/plain": [
              "array([[ 1.05882353, -0.00326797, -0.02287582],\n",
              "       [ 0.23529412,  0.26143791,  0.4248366 ],\n",
              "       [-0.23529412,  1.20261438,  0.36601307]])"
            ]
          },
          "metadata": {},
          "execution_count": 14
        }
      ]
    },
    {
      "cell_type": "markdown",
      "source": [
        "##### Matrix A raised to power 3"
      ],
      "metadata": {
        "id": "VGQQVDvy5gwD"
      }
    },
    {
      "cell_type": "code",
      "source": [
        "np.linalg.matrix_power(A,3) # matrix multiplication A A A"
      ],
      "metadata": {
        "id": "SgPNtw_X5iJX",
        "colab": {
          "base_uri": "https://localhost:8080/"
        },
        "outputId": "1289edf1-0314-4af5-fbcb-dcb137344749"
      },
      "execution_count": null,
      "outputs": [
        {
          "output_type": "execute_result",
          "data": {
            "text/plain": [
              "array([[336, 162, 228],\n",
              "       [406, 162, 469],\n",
              "       [698, 702, 905]])"
            ]
          },
          "metadata": {},
          "execution_count": 15
        }
      ]
    },
    {
      "cell_type": "markdown",
      "source": [
        "### Compare Computation Times in NumPy and Standard Python Lists\n",
        "\n",
        "Now that we know how to use numpy, let us see code and witness the key advantages of numpy i.e. convenience and speed of computation.\n",
        "\n",
        "In the data science landscape, you'll often work with extremely large datasets, and thus it is important point for you to understand how much computation time (and memory) you can save using numpy, compared to standard python lists.   \n",
        "\n",
        "Let's compare the computation times of arrays and lists for a simple task of calculating the element-wise product of numbers."
      ],
      "metadata": {
        "id": "bFgyUS-rJTch"
      }
    },
    {
      "cell_type": "code",
      "source": [
        "import time"
      ],
      "metadata": {
        "id": "1-cIZKXtJUAV"
      },
      "execution_count": null,
      "outputs": []
    },
    {
      "cell_type": "code",
      "source": [
        "## Comparing time taken for computation\n",
        "list_1 = [i for i in range(1000000)]\n",
        "list_2 = [j**2 for j in range(1000000)]\n",
        "\n",
        "t0 = time.time()\n",
        "product_list = list(map(lambda x, y: x*y, list_1, list_2))\n",
        "t1 = time.time()\n",
        "list_time = t1 - t0\n",
        "print (t1-t0)\n"
      ],
      "metadata": {
        "colab": {
          "base_uri": "https://localhost:8080/"
        },
        "id": "9QUUQnN4JWYK",
        "outputId": "4eb78723-3e2f-492f-9432-d5b15911d3b3"
      },
      "execution_count": null,
      "outputs": [
        {
          "output_type": "stream",
          "name": "stdout",
          "text": [
            "0.17181968688964844\n"
          ]
        }
      ]
    },
    {
      "cell_type": "code",
      "source": [
        "# numpy array\n",
        "array_1 = np.array(list_1)\n",
        "array_2 = np.array(list_2)\n",
        "\n",
        "t0 = time.time()\n",
        "product_numpy = array_1 * array_2\n",
        "t1 = time.time()\n",
        "numpy_time = t1 - t0\n",
        "print (t1-t0)\n",
        "\n",
        "print(\"The ratio of time taken is {}\".format(list_time//numpy_time))\n"
      ],
      "metadata": {
        "colab": {
          "base_uri": "https://localhost:8080/"
        },
        "id": "4AgM4aX9KH1I",
        "outputId": "8eab433b-c429-4424-f14d-813402ac38d5"
      },
      "execution_count": null,
      "outputs": [
        {
          "output_type": "stream",
          "name": "stdout",
          "text": [
            "0.003986835479736328\n",
            "The ratio of time taken is 43.0\n"
          ]
        }
      ]
    },
    {
      "cell_type": "markdown",
      "source": [
        "In this case, numpy is **an order of magnitude faster** than lists. This is with arrays of size in millions, but you may work on much larger arrays of sizes in order of billions. Then, the difference is even larger.\n",
        "\n",
        "Some reasons for such difference in speed are:\n",
        "* NumPy is written in C, which is basically being executed behind the scenes\n",
        "* NumPy arrays are more compact than lists, i.e. they take much lesser storage space than lists\n",
        "\n",
        "\n",
        "The following discussions demonstrate the differences in speeds of NumPy and standard python:\n",
        "1. https://stackoverflow.com/questions/8385602/why-are-numpy-arrays-so-fast\n",
        "2. https://stackoverflow.com/questions/993984/why-numpy-instead-of-python-lists"
      ],
      "metadata": {
        "id": "9ckEyCjxJZbY"
      }
    },
    {
      "cell_type": "markdown",
      "source": [
        "## Practice Exercise 2"
      ],
      "metadata": {
        "id": "E70SxtHgMN6q"
      }
    },
    {
      "cell_type": "markdown",
      "source": [
        "This practice is continued from the Cricket example that you have seen as a part of this sesion. Now, you are provided with 2 lists that contain the data of the player. They are asked to play one match each and the data is collected.\n",
        "\n",
        "The first list contains the player ID and the second list consists of tuples where first element is the runs scored, second is the wickets taken and third is the number of catches taken.\n",
        "\n",
        "As a part of this exercise, solve the questions that are provided below."
      ],
      "metadata": {
        "id": "rUQjtYIRMO49"
      }
    },
    {
      "cell_type": "code",
      "source": [
        "player = [1, 2, 3, 4, 5, 6, 7, 8, 9, 10, 11, 12, 13, 14, 15, 16, 17, 18, 19, 20, 21, 22, 23, 24, 25, 26, 27, 28, 29, 30, 31, 32, 33, 34, 35, 36, 37, 38, 39, 40, 41, 42, 43, 44, 45, 46, 47, 48, 49, 50, 51, 52, 53, 54, 55, 56, 57, 58, 59, 60, 61, 62, 63, 64, 65, 66, 67, 68, 69, 70, 71, 72, 73, 74, 75, 76, 77, 78, 79, 80, 81, 82, 83, 84, 85, 86, 87, 88, 89, 90, 91, 92, 93, 94, 95, 96, 97, 98, 99, 100, 101, 102, 103, 104, 105, 106, 107, 108, 109, 110, 111, 112, 113, 114, 115, 116, 117, 118, 119, 120, 121, 122, 123, 124, 125, 126, 127, 128, 129, 130, 131, 132, 133, 134, 135, 136, 137, 138, 139, 140, 141, 142, 143, 144, 145, 146, 147, 148, 149, 150, 151, 152, 153, 154, 155, 156, 157, 158, 159, 160, 161, 162, 163, 164, 165, 166, 167, 168, 169, 170, 171, 172, 173, 174, 175, 176, 177, 178, 179, 180, 181, 182, 183, 184, 185, 186, 187, 188, 189, 190, 191, 192, 193, 194, 195, 196, 197, 198, 199, 200, 201, 202, 203, 204, 205, 206, 207, 208, 209, 210, 211, 212, 213, 214, 215, 216, 217, 218, 219, 220, 221, 222, 223, 224, 225, 226, 227, 228, 229, 230, 231, 232, 233, 234, 235, 236, 237, 238, 239, 240, 241, 242, 243, 244, 245, 246, 247, 248, 249, 250, 251, 252, 253, 254, 255, 256, 257, 258, 259, 260, 261, 262, 263, 264, 265, 266, 267, 268, 269, 270, 271, 272, 273, 274, 275, 276, 277, 278, 279, 280, 281, 282, 283, 284, 285, 286, 287, 288, 289, 290, 291, 292, 293, 294, 295, 296, 297, 298, 299, 300, 301, 302, 303, 304, 305, 306, 307, 308, 309, 310, 311, 312, 313, 314, 315, 316, 317, 318, 319, 320, 321, 322, 323, 324, 325, 326, 327, 328, 329, 330, 331, 332, 333, 334, 335, 336, 337, 338, 339, 340, 341, 342, 343, 344, 345, 346, 347, 348, 349, 350, 351, 352, 353, 354, 355, 356, 357, 358, 359, 360, 361, 362, 363, 364, 365, 366, 367, 368, 369, 370, 371, 372, 373, 374, 375, 376, 377, 378, 379, 380, 381, 382, 383, 384, 385, 386, 387, 388, 389, 390, 391, 392, 393, 394, 395, 396, 397, 398, 399, 400, 401, 402, 403, 404, 405, 406, 407, 408, 409, 410, 411, 412, 413, 414, 415, 416, 417, 418, 419, 420, 421, 422, 423, 424, 425, 426, 427, 428, 429, 430, 431, 432, 433, 434, 435, 436, 437, 438, 439, 440, 441, 442, 443, 444, 445, 446, 447, 448, 449, 450, 451, 452, 453, 454, 455, 456, 457, 458, 459, 460, 461, 462, 463, 464, 465, 466, 467, 468, 469, 470, 471, 472, 473, 474, 475, 476, 477, 478, 479, 480, 481, 482, 483, 484, 485, 486, 487, 488, 489, 490, 491, 492, 493, 494, 495, 496, 497, 498, 499, 500, 501, 502, 503, 504, 505, 506, 507, 508, 509, 510, 511, 512, 513, 514, 515, 516, 517, 518, 519, 520, 521, 522, 523, 524, 525, 526, 527, 528, 529, 530, 531, 532, 533, 534, 535, 536, 537, 538, 539, 540, 541, 542, 543, 544, 545, 546, 547, 548, 549, 550, 551, 552, 553, 554, 555, 556, 557, 558, 559, 560, 561, 562, 563, 564, 565, 566, 567, 568, 569, 570, 571, 572, 573, 574, 575, 576, 577, 578, 579, 580, 581, 582, 583, 584, 585, 586, 587, 588, 589, 590, 591, 592, 593, 594, 595, 596, 597, 598, 599, 600, 601, 602, 603, 604, 605, 606, 607, 608, 609, 610, 611, 612, 613, 614, 615, 616, 617, 618, 619, 620, 621, 622, 623, 624, 625, 626, 627, 628, 629, 630, 631, 632, 633, 634, 635, 636, 637, 638, 639, 640, 641, 642, 643, 644, 645, 646, 647, 648, 649, 650, 651, 652, 653, 654, 655, 656, 657, 658, 659, 660, 661, 662, 663, 664, 665, 666, 667, 668, 669, 670, 671, 672, 673, 674, 675, 676, 677, 678, 679, 680, 681, 682, 683, 684, 685, 686, 687, 688, 689, 690, 691, 692, 693, 694, 695, 696, 697, 698, 699, 700, 701, 702, 703, 704, 705, 706, 707, 708, 709, 710, 711, 712, 713, 714, 715, 716, 717, 718, 719, 720, 721, 722, 723, 724, 725, 726, 727, 728, 729, 730, 731, 732, 733, 734, 735, 736, 737, 738, 739, 740, 741, 742, 743, 744, 745, 746, 747, 748, 749, 750, 751, 752, 753, 754, 755, 756, 757, 758, 759, 760, 761, 762, 763, 764, 765, 766, 767, 768, 769, 770, 771, 772, 773, 774, 775, 776, 777, 778, 779, 780, 781, 782, 783, 784, 785, 786, 787, 788, 789, 790, 791, 792, 793, 794, 795, 796, 797, 798, 799, 800, 801, 802, 803, 804, 805, 806, 807, 808, 809, 810, 811, 812, 813, 814, 815, 816, 817, 818, 819, 820, 821, 822, 823, 824, 825, 826, 827, 828, 829, 830, 831, 832, 833, 834, 835, 836, 837, 838, 839, 840, 841, 842, 843, 844, 845, 846, 847, 848, 849, 850, 851, 852, 853, 854, 855, 856, 857, 858, 859, 860, 861, 862, 863, 864, 865, 866, 867, 868, 869, 870, 871, 872, 873, 874, 875, 876, 877, 878, 879, 880, 881, 882, 883, 884, 885, 886, 887, 888, 889, 890, 891, 892, 893, 894, 895, 896, 897, 898, 899, 900, 901, 902, 903, 904, 905, 906, 907, 908, 909, 910, 911, 912, 913, 914, 915, 916, 917, 918, 919, 920, 921, 922, 923, 924, 925, 926, 927, 928, 929, 930, 931, 932, 933, 934, 935, 936, 937, 938, 939, 940, 941, 942, 943, 944, 945, 946, 947, 948, 949, 950, 951, 952, 953, 954, 955, 956, 957, 958, 959, 960, 961, 962, 963, 964, 965, 966, 967, 968, 969, 970, 971, 972, 973, 974, 975, 976, 977, 978, 979, 980, 981, 982, 983, 984, 985, 986, 987, 988, 989, 990, 991, 992, 993, 994, 995, 996, 997, 998, 999, 1000, 1001, 1002, 1003, 1004, 1005, 1006, 1007, 1008, 1009, 1010, 1011, 1012, 1013, 1014, 1015, 1016, 1017, 1018, 1019, 1020, 1021, 1022, 1023, 1024, 1025, 1026, 1027, 1028, 1029, 1030, 1031, 1032, 1033, 1034, 1035, 1036, 1037, 1038, 1039, 1040, 1041, 1042, 1043, 1044, 1045, 1046, 1047, 1048, 1049, 1050, 1051, 1052, 1053, 1054, 1055, 1056, 1057, 1058, 1059, 1060, 1061, 1062, 1063, 1064, 1065, 1066, 1067, 1068, 1069, 1070, 1071, 1072, 1073, 1074, 1075, 1076, 1077, 1078, 1079, 1080, 1081, 1082, 1083, 1084, 1085, 1086, 1087, 1088, 1089, 1090, 1091, 1092, 1093, 1094, 1095, 1096, 1097, 1098, 1099, 1100, 1101, 1102, 1103, 1104, 1105, 1106, 1107, 1108, 1109, 1110, 1111, 1112, 1113, 1114, 1115, 1116, 1117, 1118, 1119, 1120, 1121, 1122, 1123, 1124, 1125, 1126, 1127, 1128, 1129, 1130, 1131, 1132, 1133, 1134, 1135, 1136, 1137, 1138, 1139, 1140, 1141, 1142, 1143, 1144, 1145, 1146, 1147, 1148, 1149, 1150, 1151, 1152, 1153, 1154, 1155, 1156, 1157, 1158, 1159, 1160, 1161, 1162, 1163, 1164, 1165, 1166, 1167, 1168, 1169, 1170, 1171, 1172, 1173, 1174, 1175, 1176, 1177, 1178, 1179, 1180, 1181, 1182, 1183, 1184, 1185, 1186, 1187, 1188, 1189, 1190, 1191, 1192, 1193, 1194, 1195, 1196, 1197, 1198, 1199, 1200, 1201, 1202, 1203, 1204, 1205, 1206, 1207, 1208, 1209, 1210, 1211, 1212, 1213, 1214, 1215, 1216, 1217, 1218, 1219, 1220, 1221, 1222, 1223, 1224, 1225, 1226, 1227, 1228, 1229, 1230, 1231, 1232, 1233, 1234, 1235, 1236, 1237, 1238, 1239, 1240, 1241, 1242, 1243, 1244, 1245, 1246, 1247, 1248, 1249, 1250, 1251, 1252, 1253, 1254, 1255, 1256, 1257, 1258, 1259, 1260, 1261, 1262, 1263, 1264, 1265, 1266, 1267, 1268, 1269, 1270, 1271, 1272, 1273, 1274, 1275, 1276, 1277, 1278, 1279, 1280, 1281, 1282, 1283, 1284, 1285, 1286, 1287, 1288, 1289, 1290, 1291, 1292, 1293, 1294, 1295, 1296, 1297, 1298, 1299, 1300, 1301, 1302, 1303, 1304, 1305, 1306, 1307, 1308, 1309, 1310, 1311, 1312, 1313, 1314, 1315, 1316, 1317, 1318, 1319, 1320, 1321, 1322, 1323, 1324, 1325, 1326, 1327, 1328, 1329, 1330, 1331, 1332, 1333, 1334, 1335, 1336, 1337, 1338, 1339, 1340, 1341, 1342, 1343, 1344, 1345, 1346, 1347, 1348, 1349, 1350, 1351, 1352, 1353, 1354, 1355, 1356, 1357, 1358, 1359, 1360, 1361, 1362, 1363, 1364, 1365, 1366, 1367, 1368, 1369, 1370, 1371, 1372, 1373, 1374, 1375, 1376, 1377, 1378, 1379, 1380, 1381, 1382, 1383, 1384, 1385, 1386, 1387, 1388, 1389, 1390, 1391, 1392, 1393, 1394, 1395, 1396, 1397, 1398, 1399, 1400, 1401, 1402, 1403, 1404, 1405, 1406, 1407, 1408, 1409, 1410, 1411, 1412, 1413, 1414, 1415, 1416, 1417, 1418, 1419, 1420, 1421, 1422, 1423, 1424, 1425, 1426, 1427, 1428, 1429, 1430, 1431, 1432, 1433, 1434, 1435, 1436, 1437, 1438, 1439, 1440, 1441, 1442, 1443, 1444, 1445, 1446, 1447, 1448, 1449, 1450, 1451, 1452, 1453, 1454, 1455, 1456, 1457, 1458, 1459, 1460, 1461, 1462, 1463, 1464, 1465, 1466, 1467, 1468, 1469, 1470, 1471, 1472, 1473, 1474, 1475, 1476, 1477, 1478, 1479, 1480, 1481, 1482, 1483, 1484, 1485, 1486, 1487, 1488, 1489, 1490, 1491, 1492, 1493, 1494, 1495, 1496, 1497, 1498, 1499, 1500, 1501, 1502]\n",
        "score = [(46, 1, 0), (19, 0, 1), (35, 1, 0), (25, 2, 1), (0, 3, 0), (20, 0, 2), (34, 2, 0), (39, 1, 0), (6, 3, 0), (0, 1, 0), (69, 0, 0), (9, 2, 0), (18, 0, 2), (46, 0, 1), (11, 0, 2), (25, 1, 0), (34, 0, 3), (47, 1, 0), (2, 3, 0), (8, 0, 2), (2, 0, 0), (27, 2, 0), (42, 1, 0), (35, 1, 0), (34, 1, 0), (61, 0, 0), (62, 0, 0), (43, 0, 0), (1, 2, 0), (32, 1, 2), (35, 0, 1), (39, 0, 3), (37, 1, 0), (39, 0, 0), (82, 0, 3), (74, 1, 0), (33, 2, 3), (71, 1, 0), (7, 2, 0), (42, 1, 0), (78, 0, 0), (27, 1, 0), (50, 0, 1), (6, 4, 2), (59, 0, 1), (4, 4, 0), (8, 2, 2), (15, 1, 1), (33, 1, 0), (68, 1, 0), (34, 1, 2), (17, 2, 0), (83, 1, 0), (31, 2, 1), (17, 2, 3), (91, 0, 0), (67, 0, 0), (76, 0, 0), (22, 2, 0), (31, 0, 1), (27, 0, 1), (26, 2, 0), (9, 3, 1), (43, 1, 1), (6, 1, 2), (52, 0, 0), (48, 0, 0), (26, 0, 1), (50, 0, 0), (46, 0, 2), (47, 1, 0), (21, 3, 3), (10, 2, 0), (33, 0, 1), (48, 1, 0), (7, 1, 1), (42, 0, 1), (1, 2, 2), (82, 0, 1), (24, 0, 0), (28, 1, 0), (0, 0, 0), (14, 0, 3), (80, 0, 3), (38, 0, 0), (16, 0, 3), (14, 2, 0), (26, 1, 0), (17, 2, 2), (24, 2, 0), (42, 0, 0), (42, 0, 1), (47, 1, 0), (8, 1, 1), (7, 2, 1), (16, 3, 1), (46, 0, 0), (61, 0, 0), (67, 0, 1), (36, 0, 0), (15, 1, 0), (48, 0, 1), (75, 1, 1), (13, 0, 0), (32, 0, 1), (72, 1, 2), (45, 1, 0), (85, 0, 1), (5, 0, 0), (88, 0, 0), (12, 2, 0), (60, 1, 0), (42, 0, 3), (15, 3, 0), (12, 0, 1), (46, 0, 1), (1, 1, 2), (35, 2, 0), (49, 0, 1), (24, 0, 0), (33, 0, 0), (18, 1, 2), (39, 0, 1), (26, 2, 1), (35, 0, 0), (42, 0, 0), (15, 3, 2), (19, 1, 0), (14, 2, 0), (32, 0, 2), (19, 1, 0), (44, 1, 1), (48, 0, 0), (84, 0, 0), (17, 3, 0), (14, 2, 1), (14, 0, 1), (37, 0, 1), (22, 2, 0), (26, 0, 0), (26, 1, 0), (15, 2, 0), (32, 1, 1), (41, 0, 0), (10, 4, 1), (89, 0, 0), (30, 2, 0), (10, 1, 1), (19, 1, 0), (32, 1, 0), (77, 0, 0), (78, 1, 0), (63, 0, 0), (79, 0, 2), (35, 2, 1), (87, 0, 0), (28, 2, 0), (11, 2, 1), (5, 1, 1), (40, 0, 2), (80, 0, 1), (72, 1, 2), (21, 1, 0), (2, 1, 3), (22, 0, 0), (15, 2, 2), (11, 4, 0), (28, 0, 0), (85, 1, 1), (39, 0, 1), (10, 0, 1), (79, 0, 0), (42, 0, 1), (21, 1, 1), (15, 0, 0), (71, 0, 1), (20, 0, 0), (29, 1, 0), (5, 0, 1), (11, 2, 0), (7, 3, 1), (38, 0, 0), (49, 0, 3), (10, 3, 3), (80, 1, 0), (54, 0, 0), (18, 2, 2), (47, 0, 0), (32, 1, 3), (69, 0, 0), (48, 0, 2), (13, 1, 1), (89, 1, 0), (22, 2, 0), (0, 4, 0), (27, 0, 0), (19, 3, 0), (0, 2, 3), (11, 1, 2), (48, 1, 2), (15, 3, 0), (34, 1, 0), (41, 0, 2), (4, 3, 0), (17, 0, 0), (38, 0, 0), (32, 1, 0), (39, 1, 1), (29, 1, 0), (38, 0, 1), (70, 0, 1), (21, 3, 0), (5, 3, 0), (19, 2, 0), (0, 1, 0), (29, 2, 2), (21, 1, 0), (61, 0, 2), (90, 0, 0), (12, 2, 1), (45, 0, 2), (45, 0, 2), (51, 0, 3), (9, 1, 0), (50, 0, 1), (28, 0, 0), (41, 0, 0), (2, 4, 0), (79, 1, 1), (47, 1, 1), (30, 1, 0), (13, 3, 2), (31, 0, 1), (46, 1, 0), (44, 1, 2), (34, 0, 1), (28, 1, 0), (10, 1, 0), (5, 4, 1), (78, 1, 0), (31, 0, 0), (44, 0, 0), (46, 1, 2), (5, 0, 0), (25, 2, 0), (62, 0, 0), (33, 1, 0), (10, 3, 0), (65, 0, 2), (30, 1, 3), (7, 1, 0), (37, 1, 0), (41, 0, 0), (24, 0, 0), (70, 1, 0), (4, 1, 2), (20, 2, 2), (82, 0, 1), (1, 0, 0), (38, 1, 1), (64, 1, 0), (32, 1, 1), (17, 2, 2), (17, 2, 1), (86, 0, 2), (7, 3, 0), (4, 0, 1), (72, 0, 0), (1, 1, 2), (35, 1, 1), (43, 0, 2), (48, 0, 0), (20, 1, 1), (40, 1, 0), (69, 0, 1), (52, 1, 1), (78, 0, 2), (0, 4, 0), (19, 2, 2), (25, 2, 0), (44, 1, 3), (43, 1, 3), (37, 1, 1), (23, 2, 0), (60, 1, 0), (47, 0, 0), (27, 2, 2), (16, 2, 0), (8, 4, 0), (39, 1, 0), (1, 2, 2), (10, 2, 0), (25, 0, 2), (11, 2, 0), (9, 2, 0), (58, 1, 1), (31, 1, 0), (49, 0, 1), (35, 2, 0), (48, 1, 1), (5, 1, 2), (24, 1, 0), (22, 3, 1), (31, 2, 0), (50, 1, 2), (18, 1, 0), (44, 1, 0), (1, 1, 2), (43, 1, 1), (13, 0, 0), (82, 0, 0), (1, 0, 2), (79, 1, 1), (82, 1, 0), (65, 0, 0), (42, 1, 0), (34, 0, 1), (0, 2, 2), (8, 1, 1), (37, 0, 0), (40, 1, 0), (44, 1, 0), (11, 1, 0), (37, 3, 0), (10, 3, 1), (3, 2, 0), (0, 1, 0), (41, 1, 1), (14, 1, 0), (5, 1, 0), (76, 1, 1), (4, 2, 1), (28, 2, 0), (11, 0, 1), (39, 1, 0), (13, 2, 0), (44, 2, 0), (74, 0, 2), (12, 1, 1), (24, 2, 1), (42, 0, 0), (37, 0, 2), (40, 1, 0), (30, 2, 0), (11, 3, 0), (5, 2, 0), (13, 1, 1), (67, 0, 2), (46, 1, 1), (26, 2, 1), (81, 0, 0), (68, 1, 2), (69, 0, 2), (89, 0, 1), (71, 0, 0), (20, 2, 2), (7, 2, 0), (76, 0, 2), (14, 2, 0), (65, 0, 0), (37, 1, 2), (15, 2, 0), (25, 1, 0), (22, 3, 0), (37, 0, 0), (76, 0, 3), (33, 0, 0), (23, 2, 0), (62, 0, 0), (7, 0, 0), (86, 0, 0), (40, 1, 1), (32, 2, 2), (21, 0, 1), (41, 1, 0), (79, 0, 2), (25, 2, 0), (76, 0, 1), (62, 1, 1), (24, 0, 2), (64, 0, 1), (34, 0, 0), (34, 2, 1), (41, 1, 1), (27, 2, 1), (36, 1, 0), (17, 1, 0), (19, 1, 0), (80, 0, 0), (78, 0, 0), (18, 2, 1), (19, 2, 2), (28, 0, 1), (39, 0, 0), (11, 2, 1), (4, 2, 0), (27, 2, 0), (67, 1, 0), (46, 0, 0), (49, 0, 0), (44, 1, 0), (19, 1, 0), (43, 1, 0), (39, 0, 0), (30, 2, 1), (34, 1, 0), (42, 1, 0), (55, 1, 0), (55, 0, 1), (72, 1, 1), (48, 1, 0), (33, 0, 0), (7, 1, 0), (21, 1, 2), (33, 2, 1), (4, 1, 2), (89, 0, 0), (2, 1, 0), (34, 1, 0), (23, 1, 2), (28, 2, 0), (85, 0, 1), (76, 0, 1), (48, 0, 0), (27, 2, 0), (44, 1, 2), (45, 0, 0), (42, 0, 0), (20, 2, 0), (64, 1, 0), (63, 0, 0), (23, 2, 1), (81, 0, 1), (54, 0, 0), (54, 1, 0), (64, 0, 2), (38, 1, 0), (59, 0, 1), (30, 0, 0), (82, 0, 0), (13, 2, 0), (80, 0, 0), (74, 0, 2), (44, 1, 0), (62, 0, 0), (6, 3, 0), (89, 0, 0), (23, 2, 0), (10, 3, 1), (4, 0, 0), (2, 2, 0), (86, 0, 0), (46, 1, 1), (39, 0, 2), (49, 0, 1), (47, 1, 0), (1, 2, 0), (20, 2, 0), (4, 1, 2), (29, 0, 1), (52, 0, 0), (45, 0, 0), (22, 1, 0), (57, 0, 2), (20, 0, 0), (7, 1, 3), (19, 2, 1), (24, 1, 1), (13, 3, 1), (16, 1, 0), (4, 2, 2), (33, 2, 2), (56, 0, 2), (77, 1, 1), (35, 2, 1), (89, 1, 2), (8, 3, 1), (30, 1, 1), (2, 4, 0), (16, 2, 1), (35, 0, 0), (15, 1, 2), (56, 0, 2), (3, 4, 0), (83, 0, 1), (28, 2, 3), (25, 1, 0), (41, 0, 0), (69, 0, 0), (49, 0, 0), (3, 0, 0), (74, 0, 0), (73, 1, 1), (11, 2, 0), (3, 4, 0), (1, 3, 0), (49, 0, 0), (79, 0, 0), (25, 0, 0), (85, 0, 1), (39, 0, 0), (5, 1, 1), (30, 2, 0), (3, 0, 0), (42, 0, 2), (19, 2, 1), (37, 1, 0), (48, 1, 0), (10, 2, 0), (23, 2, 3), (47, 0, 0), (32, 0, 2), (30, 1, 1), (23, 2, 1), (47, 1, 0), (16, 2, 0), (0, 2, 1), (65, 0, 3), (8, 2, 0), (27, 1, 2), (27, 1, 1), (25, 2, 0), (28, 1, 2), (47, 0, 0), (11, 0, 0), (15, 2, 1), (49, 0, 1), (20, 2, 1), (18, 2, 0), (45, 0, 2), (21, 0, 3), (27, 2, 0), (45, 1, 2), (26, 2, 1), (66, 1, 3), (43, 1, 2), (67, 1, 1), (28, 0, 0), (77, 1, 1), (42, 0, 0), (11, 0, 2), (25, 1, 1), (14, 2, 1), (25, 1, 0), (23, 1, 0), (3, 0, 0), (71, 1, 1), (94, 0, 0), (52, 1, 0), (33, 1, 0), (8, 2, 0), (44, 0, 1), (40, 0, 0), (5, 3, 0), (12, 2, 0), (26, 0, 0), (23, 3, 1), (8, 1, 0), (51, 1, 0), (29, 1, 2), (1, 4, 2), (77, 1, 1), (0, 0, 0), (33, 0, 2), (89, 1, 3), (22, 0, 2), (55, 0, 2), (30, 0, 1), (28, 0, 3), (68, 1, 2), (48, 0, 0), (30, 1, 2), (21, 1, 1), (32, 2, 1), (7, 2, 0), (45, 0, 2), (10, 4, 0), (46, 1, 0), (44, 1, 0), (2, 3, 1), (27, 1, 0), (55, 1, 1), (39, 0, 0), (19, 0, 2), (27, 1, 1), (78, 0, 0), (80, 0, 0), (22, 2, 2), (27, 2, 0), (53, 0, 3), (42, 0, 2), (41, 1, 0), (4, 3, 0), (29, 0, 1), (59, 0, 1), (3, 0, 2), (7, 2, 1), (13, 1, 1), (10, 4, 0), (17, 3, 0), (1, 4, 0), (26, 1, 2), (87, 0, 0), (23, 0, 1), (45, 0, 0), (26, 2, 0), (26, 1, 0), (54, 0, 0), (43, 0, 0), (25, 0, 0), (16, 1, 1), (21, 2, 2), (40, 0, 1), (81, 0, 0), (16, 1, 1), (19, 2, 1), (83, 0, 0), (4, 0, 0), (19, 1, 0), (21, 1, 0), (7, 1, 0), (44, 0, 1), (8, 2, 0), (40, 0, 0), (47, 0, 0), (17, 2, 0), (20, 0, 2), (32, 2, 1), (10, 1, 2), (19, 1, 0), (14, 0, 3), (23, 0, 0), (66, 1, 1), (73, 1, 2), (48, 1, 0), (62, 1, 1), (9, 1, 0), (22, 0, 0), (87, 0, 0), (15, 2, 0), (21, 2, 0), (48, 1, 0), (11, 0, 0), (17, 2, 0), (3, 4, 1), (19, 0, 0), (62, 1, 2), (35, 0, 0), (8, 3, 0), (16, 2, 0), (5, 0, 0), (35, 0, 0), (2, 3, 0), (9, 3, 2), (34, 0, 0), (10, 1, 0), (17, 2, 0), (14, 1, 0), (11, 2, 1), (6, 2, 2), (23, 0, 0), (22, 3, 2), (12, 2, 0), (19, 0, 1), (68, 0, 0), (22, 2, 1), (40, 1, 0), (29, 2, 2), (17, 2, 0), (40, 1, 1), (26, 1, 0), (38, 1, 1), (2, 2, 2), (9, 2, 2), (34, 0, 1), (56, 0, 0), (20, 3, 0), (2, 0, 0), (46, 0, 2), (38, 0, 0), (38, 1, 0), (29, 0, 0), (25, 0, 1), (79, 1, 1), (0, 4, 1), (72, 1, 0), (1, 0, 0), (37, 0, 0), (25, 1, 0), (47, 1, 1), (5, 1, 1), (29, 2, 2), (14, 2, 2), (26, 2, 0), (47, 1, 1), (21, 1, 1), (87, 0, 0), (31, 1, 0), (19, 1, 0), (25, 1, 1), (34, 1, 0), (12, 1, 1), (42, 1, 0), (7, 0, 2), (8, 2, 0), (89, 0, 3), (79, 0, 0), (14, 2, 0), (38, 0, 0), (42, 1, 0), (26, 2, 1), (45, 0, 0), (16, 1, 1), (60, 0, 0), (8, 1, 0), (4, 1, 0), (29, 1, 2), (1, 2, 0), (71, 1, 0), (60, 0, 1), (82, 0, 0), (39, 1, 1), (20, 2, 1), (29, 1, 2), (82, 1, 0), (34, 1, 3), (44, 1, 1), (24, 0, 0), (5, 0, 0), (0, 2, 1), (24, 1, 1), (7, 0, 2), (28, 2, 0), (46, 0, 0), (9, 0, 1), (45, 1, 1), (16, 0, 0), (12, 3, 1), (80, 0, 1), (19, 2, 1), (21, 2, 1), (43, 0, 1), (43, 0, 2), (83, 0, 1), (3, 2, 0), (39, 1, 1), (34, 1, 2), (7, 4, 1), (29, 0, 3), (74, 0, 1), (65, 0, 1), (37, 1, 3), (49, 0, 0), (38, 1, 2), (25, 1, 0), (25, 1, 0), (35, 2, 0), (34, 2, 0), (52, 0, 2), (19, 3, 0), (45, 1, 1), (21, 1, 0), (23, 2, 0), (17, 1, 0), (13, 1, 1), (24, 1, 0), (69, 1, 0), (0, 2, 0), (15, 0, 1), (49, 0, 1), (40, 1, 0), (1, 0, 0), (4, 4, 0), (16, 1, 0), (2, 4, 2), (6, 4, 1), (61, 0, 2), (27, 2, 0), (23, 2, 2), (44, 0, 2), (32, 1, 2), (1, 4, 0), (65, 0, 0), (20, 2, 0), (23, 0, 0), (28, 2, 0), (47, 1, 1), (36, 0, 0), (2, 0, 0), (48, 1, 3), (14, 1, 1), (21, 2, 0), (35, 0, 0), (28, 0, 0), (35, 2, 2), (11, 3, 1), (17, 0, 1), (25, 1, 0), (13, 0, 3), (0, 3, 2), (19, 2, 0), (43, 1, 0), (42, 0, 1), (58, 0, 1), (40, 1, 2), (37, 1, 1), (57, 0, 2), (27, 1, 0), (33, 1, 1), (22, 0, 0), (37, 0, 0), (39, 0, 2), (21, 1, 0), (49, 0, 0), (78, 0, 0), (77, 0, 0), (29, 0, 0), (2, 2, 0), (40, 0, 2), (1, 1, 1), (15, 3, 0), (69, 1, 1), (24, 0, 3), (29, 1, 1), (77, 0, 0), (30, 2, 1), (31, 0, 0), (45, 0, 0), (1, 0, 0), (40, 0, 0), (1, 0, 1), (35, 0, 0), (56, 1, 2), (88, 0, 0), (29, 2, 0), (34, 2, 1), (24, 0, 1), (47, 1, 2), (71, 0, 1), (11, 0, 1), (22, 2, 0), (9, 0, 0), (2, 0, 1), (15, 3, 1), (58, 0, 0), (16, 0, 0), (46, 1, 0), (11, 0, 2), (88, 0, 2), (20, 0, 1), (47, 1, 0), (19, 2, 1), (24, 1, 0), (31, 0, 2), (0, 4, 0), (46, 0, 2), (2, 3, 1), (33, 2, 0), (11, 4, 0), (42, 1, 1), (35, 2, 0), (23, 1, 1), (47, 0, 1), (75, 0, 3), (30, 2, 0), (12, 0, 2), (11, 1, 1), (32, 2, 0), (7, 3, 1), (41, 1, 1), (3, 1, 0), (36, 0, 0), (17, 3, 0), (16, 1, 0), (26, 1, 0), (8, 2, 0), (7, 2, 0), (19, 0, 1), (9, 2, 2), (22, 2, 0), (5, 0, 0), (15, 2, 2), (45, 0, 2), (39, 0, 0), (2, 3, 0), (43, 0, 0), (44, 0, 3), (20, 2, 0), (32, 2, 1), (43, 0, 0), (80, 1, 0), (47, 0, 1), (62, 0, 1), (0, 1, 0), (20, 0, 1), (28, 2, 0), (27, 1, 0), (24, 2, 0), (77, 1, 1), (23, 1, 3), (49, 1, 1), (47, 0, 2), (82, 0, 0), (72, 0, 2), (9, 0, 0), (52, 1, 0), (50, 3, 1), (15, 2, 0), (20, 3, 1), (11, 1, 0), (48, 0, 0), (0, 2, 1), (14, 2, 1), (20, 0, 2), (20, 2, 2), (70, 0, 0), (77, 0, 0), (89, 0, 0), (16, 2, 1), (30, 1, 1), (6, 1, 1), (26, 2, 1), (46, 0, 0), (48, 1, 1), (20, 2, 2), (13, 1, 1), (13, 1, 2), (6, 4, 2), (38, 1, 1), (5, 2, 0), (3, 3, 0), (32, 2, 0), (22, 3, 0), (71, 0, 0), (33, 0, 2), (48, 0, 0), (35, 0, 0), (32, 1, 0), (4, 3, 0), (37, 0, 0), (30, 1, 0), (78, 0, 0), (49, 0, 1), (0, 0, 1), (24, 2, 1), (48, 1, 1), (35, 0, 1), (6, 2, 0), (17, 0, 0), (42, 0, 0), (45, 0, 1), (70, 0, 0), (30, 0, 0), (42, 1, 0), (43, 0, 0), (46, 0, 1), (24, 1, 1), (3, 1, 0), (29, 1, 1), (14, 2, 0), (41, 0, 2), (80, 0, 1), (31, 2, 0), (20, 2, 0), (29, 0, 0), (4, 1, 2), (39, 1, 0), (17, 1, 0), (28, 2, 1), (83, 0, 1), (12, 2, 1), (27, 2, 0), (70, 0, 1), (28, 0, 1), (5, 2, 0), (45, 1, 3), (12, 1, 2), (40, 0, 1), (54, 2, 1), (0, 3, 0), (7, 1, 1), (49, 0, 0), (8, 3, 1), (23, 3, 1), (1, 2, 0), (54, 0, 2), (39, 0, 0), (4, 3, 1), (38, 1, 1), (23, 1, 0), (45, 1, 1), (23, 0, 0), (48, 1, 0), (49, 1, 0), (27, 2, 0), (45, 0, 0), (17, 0, 1), (10, 0, 0), (27, 1, 1), (37, 0, 0), (27, 0, 1), (84, 1, 3), (37, 0, 0), (43, 0, 0), (72, 0, 0), (3, 4, 0), (41, 0, 0), (24, 1, 0), (9, 1, 1), (48, 1, 2), (37, 1, 1), (27, 2, 0), (65, 1, 0), (18, 0, 1), (14, 1, 0), (28, 0, 0), (2, 3, 1), (43, 0, 1), (37, 1, 0), (34, 0, 1), (24, 0, 1), (15, 0, 2), (20, 1, 1), (41, 0, 1), (5, 0, 1), (31, 0, 2), (43, 0, 1), (1, 1, 2), (7, 2, 2), (62, 0, 0), (2, 0, 0), (24, 2, 0), (30, 0, 2), (22, 2, 0), (50, 0, 2), (11, 2, 3), (31, 2, 0), (8, 0, 2), (41, 0, 0), (42, 1, 0), (24, 1, 1), (19, 0, 2), (43, 0, 0), (81, 0, 1), (48, 1, 1), (10, 2, 0), (21, 2, 1), (35, 2, 1), (28, 1, 0), (37, 1, 0), (26, 1, 0), (9, 0, 2), (55, 0, 0), (31, 0, 0), (14, 2, 0), (32, 0, 0), (85, 0, 2), (46, 1, 0), (28, 0, 0), (52, 1, 0), (76, 0, 1), (9, 2, 0), (3, 4, 3), (39, 1, 1), (2, 4, 0), (33, 2, 0), (78, 1, 2), (58, 0, 1), (23, 3, 0), (34, 1, 1), (15, 0, 0), (48, 1, 0), (76, 1, 0), (28, 2, 0), (0, 2, 3), (33, 0, 0), (15, 2, 0), (3, 2, 0), (14, 1, 1), (29, 0, 0), (87, 0, 0), (9, 2, 1), (9, 1, 0), (44, 1, 1), (37, 1, 0), (17, 2, 1), (7, 0, 0), (9, 0, 0), (39, 0, 2), (39, 0, 0), (5, 3, 0), (45, 0, 0), (30, 0, 0), (19, 2, 0), (47, 0, 1), (32, 0, 2), (12, 3, 1), (33, 1, 1), (64, 0, 2), (45, 1, 2), (31, 2, 0), (18, 2, 0), (28, 1, 0), (39, 0, 0), (18, 2, 0), (9, 0, 0), (46, 0, 0), (11, 0, 2), (49, 0, 2), (16, 0, 0), (27, 0, 2), (47, 1, 1), (65, 0, 3), (36, 1, 0), (24, 2, 0), (41, 0, 1), (44, 1, 0), (33, 2, 0), (27, 1, 0), (14, 0, 2), (41, 0, 1), (62, 0, 0), (36, 0, 2), (21, 2, 0), (79, 0, 1), (11, 2, 0), (42, 0, 0), (4, 1, 0), (28, 2, 0), (20, 0, 1), (44, 1, 2), (36, 1, 2), (84, 0, 2), (41, 0, 1), (38, 1, 0), (34, 0, 0), (23, 2, 0), (23, 2, 0), (44, 1, 1), (2, 1, 1), (23, 1, 1), (55, 0, 2), (44, 1, 1), (43, 0, 1), (30, 2, 0), (43, 0, 0), (39, 0, 0), (82, 0, 0), (31, 1, 0), (14, 0, 0), (40, 0, 2), (35, 1, 0), (23, 0, 2), (2, 2, 0), (12, 1, 2), (77, 0, 2), (59, 0, 0), (28, 1, 0), (54, 0, 0), (41, 0, 0), (45, 1, 0), (28, 0, 1), (32, 1, 3), (27, 2, 2), (84, 1, 0), (49, 0, 3), (4, 3, 2), (44, 0, 2), (43, 0, 0), (12, 3, 1), (47, 0, 1), (40, 0, 0), (24, 1, 1), (0, 1, 2), (39, 4, 0), (17, 0, 0), (60, 0, 0), (32, 0, 1), (3, 0, 2), (6, 2, 1), (30, 0, 1), (26, 0, 1), (17, 3, 1), (58, 0, 0), (32, 0, 0), (13, 2, 1), (85, 1, 0), (34, 2, 0), (10, 1, 1), (82, 0, 0), (15, 0, 0), (78, 0, 1), (45, 0, 0), (25, 2, 3), (14, 0, 0), (40, 1, 1), (19, 1, 0), (5, 1, 1), (15, 2, 0), (9, 3, 0), (23, 2, 0), (22, 2, 0), (48, 1, 0), (0, 4, 0), (37, 1, 1), (45, 1, 0), (15, 0, 0), (42, 0, 1), (55, 0, 1), (43, 1, 1), (3, 2, 1), (32, 2, 0), (21, 2, 0), (82, 0, 0), (22, 1, 0), (79, 1, 0), (2, 4, 0), (88, 1, 1), (32, 1, 0), (32, 0, 2), (14, 2, 0), (6, 3, 2), (2, 2, 1), (49, 0, 1), (49, 0, 2), (17, 0, 2), (33, 1, 3), (23, 1, 1), (33, 0, 2), (15, 2, 0), (33, 2, 0), (34, 2, 0), (48, 1, 0), (46, 0, 0), (18, 2, 0), (28, 1, 0), (2, 2, 0), (32, 1, 0), (9, 0, 0), (70, 0, 0), (17, 2, 0), (32, 2, 2), (79, 1, 0), (78, 0, 0), (36, 0, 0), (40, 0, 1), (64, 1, 3), (25, 0, 0), (23, 3, 1), (65, 0, 3), (3, 2, 0), (21, 2, 1), (12, 1, 2), (12, 2, 0), (3, 1, 0), (34, 1, 0), (70, 1, 2), (30, 0, 0), (4, 2, 0), (23, 1, 3), (6, 4, 0), (4, 4, 0), (22, 3, 0), (9, 0, 0), (89, 0, 0), (25, 2, 1), (39, 1, 1), (46, 1, 1), (74, 1, 0), (12, 2, 0), (3, 0, 0), (24, 0, 0), (44, 0, 0), (7, 3, 3), (11, 1, 0), (27, 0, 0), (6, 4, 2), (71, 1, 1), (8, 0, 1), (33, 0, 0), (1, 2, 1), (49, 0, 2), (35, 2, 0), (39, 0, 1), (5, 2, 0), (25, 0, 0), (54, 0, 1), (35, 1, 1), (5, 1, 2), (46, 0, 0), (12, 2, 0), (25, 0, 0), (84, 0, 0), (9, 2, 3), (19, 1, 1), (24, 2, 2), (38, 0, 1), (15, 1, 2), (66, 0, 1), (14, 3, 1), (64, 0, 0), (8, 4, 0), (87, 0, 0), (2, 1, 1), (47, 1, 0), (33, 2, 2), (35, 0, 1), (45, 1, 3), (31, 1, 0), (46, 0, 0), (2, 3, 0), (36, 1, 1), (14, 3, 3), (79, 0, 0), (4, 4, 1), (29, 0, 2), (14, 2, 0), (49, 0, 0), (20, 1, 0), (14, 0, 0), (12, 2, 3), (47, 0, 0), (20, 3, 2), (36, 0, 3), (36, 0, 0), (41, 1, 0), (8, 4, 0), (39, 1, 1), (32, 0, 1), (3, 2, 2), (35, 1, 0), (13, 2, 0), (10, 0, 0), (35, 1, 0), (77, 0, 0), (48, 0, 1), (40, 0, 1), (32, 1, 0), (12, 2, 0), (43, 0, 0), (30, 1, 0), (20, 0, 1), (22, 1, 1), (1, 2, 1), (5, 1, 0), (36, 2, 0), (76, 0, 1), (8, 1, 0), (30, 2, 0), (9, 0, 1), (34, 2, 0), (13, 2, 1), (39, 0, 0), (26, 0, 0), (32, 0, 0), (27, 1, 1), (68, 0, 1), (6, 4, 0), (36, 0, 1), (16, 2, 0), (58, 0, 0), (40, 0, 1), (23, 0, 1), (16, 3, 0), (43, 0, 0), (39, 1, 1), (26, 0, 0), (48, 0, 2), (53, 0, 0), (37, 1, 1), (47, 0, 1), (34, 2, 2), (17, 0, 0), (25, 1, 3), (60, 0, 0), (42, 1, 0), (13, 2, 0), (32, 2, 3), (14, 3, 0), (31, 1, 1), (10, 2, 2), (75, 0, 0), (40, 0, 1), (33, 0, 1), (85, 1, 0), (30, 0, 2), (44, 1, 0), (34, 1, 1), (43, 1, 0), (14, 2, 0), (49, 1, 1), (53, 0, 0), (88, 1, 0), (30, 2, 1), (17, 0, 1), (5, 2, 1), (12, 2, 1), (24, 0, 1), (9, 1, 0), (44, 1, 0), (34, 0, 0), (33, 2, 3), (41, 0, 0), (8, 4, 0), (48, 1, 0), (82, 0, 0), (33, 0, 0), (8, 3, 0), (15, 1, 1), (23, 3, 0), (29, 0, 2), (35, 0, 1), (43, 1, 1), (29, 1, 2), (4, 2, 2), (1, 0, 1), (20, 3, 0), (53, 1, 0), (30, 2, 0), (81, 0, 2), (18, 1, 2), (27, 2, 2), (42, 1, 0), (60, 0, 0), (82, 0, 0), (37, 0, 0), (52, 0, 0), (30, 2, 1), (69, 1, 0), (30, 2, 1), (2, 4, 0), (60, 0, 0), (36, 1, 0), (55, 1, 1), (80, 1, 0), (14, 2, 2), (33, 2, 0), (35, 1, 0), (21, 2, 0), (8, 2, 0), (43, 1, 0), (19, 2, 1), (25, 1, 0), (30, 2, 1), (17, 2, 2), (24, 0, 0), (3, 2, 0), (20, 3, 1), (18, 0, 0), (10, 4, 0), (33, 0, 0), (26, 1, 0), (1, 1, 0), (40, 1, 2), (13, 1, 1), (0, 4, 0), (24, 0, 0), (34, 0, 0), (33, 1, 0), (33, 0, 2), (0, 2, 0), (54, 1, 0), (13, 2, 0), (24, 0, 1), (46, 0, 0), (45, 0, 0), (38, 1, 0), (26, 1, 0), (44, 0, 2), (9, 0, 0), (20, 0, 1), (64, 0, 0), (3, 2, 0), (17, 1, 2), (39, 1, 0), (13, 1, 3), (14, 1, 1), (46, 1, 0), (1, 1, 2), (33, 0, 0), (39, 0, 0), (41, 1, 0), (24, 2, 0), (38, 1, 2), (58, 1, 0), (9, 2, 3), (48, 1, 0), (63, 0, 0), (26, 2, 0), (48, 0, 1), (21, 1, 2), (10, 3, 3), (6, 0, 0), (33, 2, 0), (3, 0, 3), (0, 4, 0), (84, 0, 1), (19, 0, 0), (41, 1, 1), (21, 1, 1), (45, 0, 3), (12, 3, 0)]"
      ],
      "metadata": {
        "id": "QAKrSfyiMQQy"
      },
      "execution_count": null,
      "outputs": []
    },
    {
      "cell_type": "markdown",
      "source": [
        "#### Q-1: What are the dimensions of the array created using the list 'score'?\n",
        "\n",
        "-  1\n",
        "-  2\n",
        "-  3\n",
        "-  4"
      ],
      "metadata": {
        "id": "7rEbwAmBMS8u"
      }
    },
    {
      "cell_type": "code",
      "source": [
        "# correct solution\n",
        "dimensions = np.ndim(score_array)\n",
        "print(dimensions)"
      ],
      "metadata": {
        "colab": {
          "base_uri": "https://localhost:8080/"
        },
        "id": "rqGI-RCuR4jC",
        "outputId": "158f0c13-5f6f-46ec-c33f-5c32b772b864"
      },
      "execution_count": null,
      "outputs": [
        {
          "output_type": "stream",
          "name": "stdout",
          "text": [
            "2\n"
          ]
        }
      ]
    },
    {
      "cell_type": "code",
      "source": [
        "# my wrong solution:\n",
        "import numpy as np\n",
        "\n",
        "# Convert the list 'score' to a NumPy array\n",
        "score_array = np.array(score)\n",
        "\n",
        "# Get the dimensions of the array\n",
        "dimensions = score_array.shape\n",
        "\n",
        "# Print the dimensions\n",
        "print(\"Dimensions of the array:\", dimensions)\n"
      ],
      "metadata": {
        "colab": {
          "base_uri": "https://localhost:8080/"
        },
        "id": "icJQlDJmMSoj",
        "outputId": "eb298c08-4910-4092-e314-60f87754bf49"
      },
      "execution_count": null,
      "outputs": [
        {
          "output_type": "stream",
          "name": "stdout",
          "text": [
            "Dimensions of the array: (1502, 3)\n"
          ]
        }
      ]
    },
    {
      "cell_type": "markdown",
      "source": [
        "#### Q-2: How many players scored zero runs in their inning?\n",
        "\n",
        "-  20\n",
        "-  22\n",
        "-  24\n",
        "-  26\n"
      ],
      "metadata": {
        "id": "637yJCN4SYfs"
      }
    },
    {
      "cell_type": "code",
      "source": [
        "import numpy as np\n",
        "\n",
        "# Convert score list to numpy array\n",
        "score_array = np.array(score)\n",
        "\n",
        "# Count the number of players who scored zero runs\n",
        "zero_runs_count = np.sum(score_array[:, 0] == 0)\n",
        "\n",
        "# Count the number of players who scored zero runs using len and advanced indexing\n",
        "zero_runs_count1 = len(score_array[score_array[:, 0] == 0])\n",
        "\n",
        "print(zero_runs_count)\n",
        "print(zero_runs_count1)\n"
      ],
      "metadata": {
        "colab": {
          "base_uri": "https://localhost:8080/"
        },
        "id": "ax483bW5SmcT",
        "outputId": "9ddcda63-d487-4e4f-ece9-8f4ac6436622"
      },
      "execution_count": null,
      "outputs": [
        {
          "output_type": "stream",
          "name": "stdout",
          "text": [
            "26\n",
            "26\n"
          ]
        }
      ]
    },
    {
      "cell_type": "code",
      "source": [
        "# Convert the list 'score' to a NumPy array\n",
        "score_array = np.array(score)\n",
        "\n",
        "# Count the number of players who scored zero runs (first element of each tuple is zero)\n",
        "zero_runs_count = np.sum(score_array[:, 0] == 0)\n",
        "\n",
        "# Print the count\n",
        "print(\"Number of players who scored zero runs:\", zero_runs_count)\n"
      ],
      "metadata": {
        "colab": {
          "base_uri": "https://localhost:8080/"
        },
        "id": "Wo4dmHv2Me40",
        "outputId": "47c9980b-bc41-4e0d-b08f-b3e43db6f80c"
      },
      "execution_count": null,
      "outputs": [
        {
          "output_type": "stream",
          "name": "stdout",
          "text": [
            "Number of players who scored zero runs: 26\n"
          ]
        }
      ]
    },
    {
      "cell_type": "code",
      "source": [
        "# why this works, when we convert the tuple scores to a 2 dimensional np array, it looks like that:\n",
        "array = ([[15,  0,  0],\n",
        "       [19,  1,  0],\n",
        "       [ 0,  2,  3]])\n",
        "\n",
        "# so score_array[:, 0] selects the first column from all rows."
      ],
      "metadata": {
        "id": "YWpW-U3SPYkC"
      },
      "execution_count": null,
      "outputs": []
    },
    {
      "cell_type": "markdown",
      "source": [
        "#### Q-3: What is the maximum number of wickets taken by a player?\n",
        "\n",
        "-  4\n",
        "-  6\n",
        "-  3\n",
        "-  5"
      ],
      "metadata": {
        "id": "EQz4LRVqMV6R"
      }
    },
    {
      "cell_type": "code",
      "source": [
        "max = np.max(score_array[:, 1])\n",
        "print(max)"
      ],
      "metadata": {
        "colab": {
          "base_uri": "https://localhost:8080/"
        },
        "id": "zVXUz8FRVwNO",
        "outputId": "47caf62b-837b-4d51-b528-01e9afaec863"
      },
      "execution_count": null,
      "outputs": [
        {
          "output_type": "stream",
          "name": "stdout",
          "text": [
            "4\n"
          ]
        }
      ]
    },
    {
      "cell_type": "markdown",
      "source": [
        "#### Q-4: Find the ID of the player who scored the maximum runs in the innings\n",
        "\n",
        "\n",
        "-  193\n",
        "-  219\n",
        "-  548\n",
        "-  1021\n"
      ],
      "metadata": {
        "id": "qERsCWB0MfoI"
      }
    },
    {
      "cell_type": "code",
      "source": [
        "import numpy as np\n",
        "\n",
        "# Convert score list to numpy array\n",
        "score_array = np.array(score)\n",
        "\n",
        "# Find the index of the maximum runs scored\n",
        "max_runs_index = np.argmax(score_array[:, 0])\n",
        "\n",
        "# Find the player ID using the index\n",
        "max_scorer_id = player[max_runs_index]\n",
        "\n",
        "print(max_scorer_id)\n"
      ],
      "metadata": {
        "colab": {
          "base_uri": "https://localhost:8080/"
        },
        "id": "LTbgr6pSMm2H",
        "outputId": "60c21e08-9059-409b-e2dd-f644ef3c1cdc"
      },
      "execution_count": null,
      "outputs": [
        {
          "output_type": "stream",
          "name": "stdout",
          "text": [
            "548\n"
          ]
        }
      ]
    },
    {
      "cell_type": "markdown",
      "source": [
        "#### Q-5: You are asked to check for all-rounders within the given set of players. How many all-rounders are present in the provided list?\n",
        "An all-rounder is someone who is good in both, batting and bowling.\n",
        "Check if the individual has taken 2 or more wickets and scored more than 35 runs in their innings\n",
        "\n",
        "-  5\n",
        "-  6\n",
        "-  7\n",
        "-  8"
      ],
      "metadata": {
        "id": "w6xOiCSUMqEF"
      }
    },
    {
      "cell_type": "code",
      "source": [
        "# Find the number of all-rounders\n",
        "all_rounders = np.sum((score_array[:, 0] > 35) & (score_array[:, 1] >= 2))\n",
        "print(all_rounders)"
      ],
      "metadata": {
        "colab": {
          "base_uri": "https://localhost:8080/"
        },
        "id": "mAV7L0D6XLUW",
        "outputId": "c1f83aa6-9df4-4147-c5a8-4a14548bd9b7"
      },
      "execution_count": null,
      "outputs": [
        {
          "output_type": "stream",
          "name": "stdout",
          "text": [
            "6\n"
          ]
        }
      ]
    },
    {
      "cell_type": "code",
      "source": [
        "# solution using len\n",
        "all_rounders = len(score_array[(score_array[:, 0]>35) & (score_array[:, 1]>=2)])\n",
        "zero_runs_count1 = len(score_array[score_array[:, 0] == 0])\n",
        "print(all_rounders)"
      ],
      "metadata": {
        "colab": {
          "base_uri": "https://localhost:8080/"
        },
        "id": "JA3NGBvYYi6i",
        "outputId": "34232faa-4907-4f28-9a50-5d179116a24c"
      },
      "execution_count": null,
      "outputs": [
        {
          "output_type": "stream",
          "name": "stdout",
          "text": [
            "6\n"
          ]
        }
      ]
    },
    {
      "cell_type": "code",
      "source": [
        "# Solution without using NumPy\n",
        "all_rounders = len([s for s in score if s[0] > 35 and s[1] >= 2])\n",
        "print(all_rounders)\n"
      ],
      "metadata": {
        "colab": {
          "base_uri": "https://localhost:8080/"
        },
        "id": "deLU6Jd8a7cu",
        "outputId": "fdb780d4-8a21-40a6-89b0-d2a6a8f7fac0"
      },
      "execution_count": null,
      "outputs": [
        {
          "output_type": "stream",
          "name": "stdout",
          "text": [
            "6\n"
          ]
        }
      ]
    },
    {
      "cell_type": "markdown",
      "source": [
        "# Exercise Background\n",
        "\n",
        "This small application based coding exercise is ment to expose you to the use of the numpy library as well as give you a taste of tasks that you might be needed to perform during machine learning.\n",
        "\n",
        "Usually, machine learning involves working on large data sets. This notebook will walk you through normalising the data and then dividing the data set into smaller subsets. It is recommended that while attempting each of the tasks visit the NumPy library to find the most appropriate function which can help you achieve the desired result. More often than not you will find the functions which you require prewritten in the library. The **numpy library** can be found [here.](https://numpy.org/doc/stable/)\n",
        "\n",
        "Without further ado, the first task is to mean normalise a data set. Mean normalising is a data transformation done to reduce the variations in the data set. For example, consider a data set which has integers between 0 and 10000. That is a lot of variation, and it becomes difficult to build ML algorithms on this data. So mean normalisation is done on such data, after the transformation, the mean of the data will be zero, and standard deviation will be 1.  Even though the actual values of data will change a lot, but the overall variation is still kept intact. If the concept of normalisation feels a bit unclear dont worry all of this will be covered in the future sections of this program. For now, let’s concentrate on the tasks at hand.\n",
        "\n",
        "\n",
        "# Task 1: Mean Normalisation:\n",
        "\n",
        "**Question 1.1** Create a 2D of random integers between 0 and 10,000 (including both 0 and 10,000) with 25000 rows and 15 columns. This will be the dataset you will use in the notebook."
      ],
      "metadata": {
        "id": "CPKCD_YJbT-f"
      }
    },
    {
      "cell_type": "code",
      "source": [
        "import numpy as np\n",
        "\n",
        "# Create a 2D array of random integers between 0 and 10,000\n",
        "random_integers = np.random.randint(0, 10001, size=(25000, 15))"
      ],
      "metadata": {
        "id": "d5FUaKdhbQoK"
      },
      "execution_count": 11,
      "outputs": []
    },
    {
      "cell_type": "code",
      "source": [
        "# Import NumPy into Python\n",
        "import numpy as np\n",
        "\n",
        "# Create a 25000 x 15 ndarray with random integers in the interval [0, 10000]\n",
        "X = np.random.randint(0, 10001, size=(25000, 15))\n",
        "\n",
        "# Print the shape of X\n",
        "print(X.shape)\n"
      ],
      "metadata": {
        "colab": {
          "base_uri": "https://localhost:8080/"
        },
        "id": "DSjh2HaudI-2",
        "outputId": "b0cddd3d-b6d2-42e0-be9b-ff4207a204e6"
      },
      "execution_count": 12,
      "outputs": [
        {
          "output_type": "stream",
          "name": "stdout",
          "text": [
            "(25000, 15)\n"
          ]
        }
      ]
    },
    {
      "cell_type": "code",
      "source": [
        "# print the first row of X\n",
        "print(X[0, :])"
      ],
      "metadata": {
        "colab": {
          "base_uri": "https://localhost:8080/"
        },
        "id": "imcCs7B8eLgX",
        "outputId": "0428adee-9578-4ffb-bcc2-205af6ec09e9"
      },
      "execution_count": 13,
      "outputs": [
        {
          "output_type": "stream",
          "name": "stdout",
          "text": [
            "[1400 4543 1495 3792 6467 7204 6108 5923 2274 1332 2586 7375 7607 9399\n",
            " 5586]\n"
          ]
        }
      ]
    },
    {
      "cell_type": "code",
      "source": [
        "print(X)"
      ],
      "metadata": {
        "colab": {
          "base_uri": "https://localhost:8080/"
        },
        "id": "mmWGHwgpiXyN",
        "outputId": "53e7a052-90d6-420a-f713-bf880359bda4"
      },
      "execution_count": 14,
      "outputs": [
        {
          "output_type": "stream",
          "name": "stdout",
          "text": [
            "[[1400 4543 1495 ... 7607 9399 5586]\n",
            " [5984 7287 7797 ... 3305  904 3206]\n",
            " [4547 1009 7318 ... 7150 5132 5847]\n",
            " ...\n",
            " [8198  908 2004 ... 9416 6444 1323]\n",
            " [7968 5092 7762 ... 8975 4911 2101]\n",
            " [8734 8499 8608 ... 9343 6355 5045]]\n"
          ]
        }
      ]
    },
    {
      "cell_type": "markdown",
      "source": [
        "Now that you created the array we will mean normalize it. The equation for normalisaing the data is given below:\n",
        "\n",
        "$\\mbox{Norm_Col}_i = \\frac{\\mbox{Col}_i - \\mu_i}{\\sigma_i}$\n",
        "\n",
        "where $\\mbox{Col}_i$ is the $i$th column of $X$, $\\mu_i$ is average of the values in the $i$th column of $X$, and $\\sigma_i$ is the standard deviation of the values in the $i$th column of $X$. To put it simply, to find the new value of each element, you have to subtract the mean of respective column form that value and divide the result with the standard deviation of that columns. Now the question is, Why are these operations being done column-wise? That is because usually all the procedures in ML are done column-wise. So it will be beneficial for us to develop the habit of thinking about data column-wise.   "
      ],
      "metadata": {
        "id": "N7jEFvqTee8k"
      }
    },
    {
      "cell_type": "markdown",
      "source": [
        "**Question 1.2** Find the mean and the standard deviation of each of the columns in the dataset. The result will be two 1D arrays with 15 elements each, representing the mean and standard deviation for each of the columns in the dataset."
      ],
      "metadata": {
        "id": "nDyYeuxtepmB"
      }
    },
    {
      "cell_type": "code",
      "source": [
        "# Average of the values in each column of X\n",
        "ave_cols = np.average(X, axis = 0)\n",
        "\n",
        "# Calculate the mean of each column\n",
        "means = np.mean(X, axis=0) # in data science avg and mean are used interchangably, dont confuse mean with median\n",
        "\n",
        "# print ave_cols\n",
        "print (\"ave_cols: \\n\", ave_cols,\"\\n\")\n",
        "\n",
        "# Standard Deviation of the values in each column of X\n",
        "std_cols = np.std(X, axis = 0)\n",
        "\n",
        "# print std_cols\n",
        "print (\"std_cols: \\n\", std_cols,\"\\n\")"
      ],
      "metadata": {
        "colab": {
          "base_uri": "https://localhost:8080/"
        },
        "id": "-DS4X6Ajeo4W",
        "outputId": "d202af54-ddf6-4c29-a594-4c834a30ad34"
      },
      "execution_count": 15,
      "outputs": [
        {
          "output_type": "stream",
          "name": "stdout",
          "text": [
            "ave_cols: \n",
            " [4999.14884 5011.58576 5012.7086  4984.48816 5001.59084 5000.377\n",
            " 5008.7892  4989.0066  5007.45812 4994.66968 4994.61336 5003.7492\n",
            " 4966.84504 5003.5622  4979.57052] \n",
            "\n",
            "std_cols: \n",
            " [2878.95268261 2888.4105898  2891.56458278 2904.73719194 2881.75118154\n",
            " 2874.56152811 2882.87442742 2888.25039268 2881.3211795  2893.91095348\n",
            " 2892.5642982  2885.90982463 2875.78811107 2880.91468958 2891.08879376] \n",
            "\n"
          ]
        }
      ]
    },
    {
      "cell_type": "markdown",
      "source": [
        "**Question 1.3** Print the shape of each both the arrays, they should have 15 elements each."
      ],
      "metadata": {
        "id": "_0BFf7rRDJ4l"
      }
    },
    {
      "cell_type": "code",
      "source": [
        "# Print the shape of ave_cols\n",
        "print(ave_cols.shape)\n",
        "\n",
        "# Print the shape of std_cols\n",
        "print(std_cols.shape)"
      ],
      "metadata": {
        "colab": {
          "base_uri": "https://localhost:8080/"
        },
        "id": "p-lLNcKgqJ4u",
        "outputId": "01878a70-b429-4316-9830-4803afb58d2d"
      },
      "execution_count": 16,
      "outputs": [
        {
          "output_type": "stream",
          "name": "stdout",
          "text": [
            "(15,)\n",
            "(15,)\n"
          ]
        }
      ]
    },
    {
      "cell_type": "markdown",
      "source": [
        "**Question 1.4** Now that you have mean and standard deviation calculated, it is time to apply the transformation to the dataset.\n",
        "\n",
        "**HINT** The broadcast property of NumPy can make this a lot easier. You can read about it [here](https://numpy.org/doc/stable/user/basics.broadcasting.html).\n",
        "All you have to do is create one row of transformation values and repeat them through all the values."
      ],
      "metadata": {
        "id": "sYXsrUDPqZty"
      }
    },
    {
      "cell_type": "code",
      "source": [
        "# Mean normalize X\n",
        "X_norm = (X - ave_cols)/std_cols\n",
        "print(X_norm)"
      ],
      "metadata": {
        "id": "Kj7Hlb14qf4u",
        "colab": {
          "base_uri": "https://localhost:8080/"
        },
        "outputId": "8a2dd870-771c-48fc-81bc-a606d86c5f1f"
      },
      "execution_count": 17,
      "outputs": [
        {
          "output_type": "stream",
          "name": "stdout",
          "text": [
            "[[-1.25015908 -0.16222962 -1.2165416  ...  0.9180631   1.52570911\n",
            "   0.20975816]\n",
            " [ 0.34208661  0.78777382  0.96290134 ... -0.57787465 -1.42300715\n",
            "  -0.6134611 ]\n",
            " [-0.15705324 -1.38573989  0.79724707 ...  0.75915014  0.0445823\n",
            "   0.30003557]\n",
            " ...\n",
            " [ 1.11111627 -1.42070721 -1.04051233 ...  1.54710806  0.49999322\n",
            "  -1.26477282]\n",
            " [ 1.0312261   0.02784031  0.95079716 ...  1.39375879 -0.03212945\n",
            "  -0.99567005]\n",
            " [ 1.29729508  1.20738175  1.24337233 ...  1.52172371  0.46910025\n",
            "   0.02263143]]\n"
          ]
        }
      ]
    },
    {
      "cell_type": "markdown",
      "source": [
        "**Explanation of the solution:**\n",
        "\n",
        "The shape X is (25000, 15), and the shape of  ave_cols is (15,). If their shapes are different, then how is it possible that the operation can be executed? It is because of the property of broadcasting. Broadcasting repeats the smaller arrays over and over until it becomes the same size as the larger array. In this case, it is straightforward to figure out how the repetition would have worked. The ave_cols will be repeated 25000 times, and the operation is executed.\n",
        "\n",
        "But be careful broadcasting also has some limitations, you can read about them in the link above."
      ],
      "metadata": {
        "id": "YfagS8ZUqloB"
      }
    },
    {
      "cell_type": "markdown",
      "source": [
        "**Question 1.5** If the transformation has been performed correctly, the mean of elements in each column will be approximately 0. Also, the average of the **minimum** value in each column of X_norm and the average of the **maximum** value in each column of X_norm will have almost the same face value with opposite signs. Let’s confirm if the transformation has happened correctly."
      ],
      "metadata": {
        "id": "5zIOoLLNqnIJ"
      }
    },
    {
      "cell_type": "code",
      "source": [
        "# Print the average of all the values of X_norm\n",
        "print (np.average(X_norm))\n",
        "\n",
        "# Print the average of the minimum value in each column of X_norm\n",
        "print (np.average(X_norm.min(axis = 0)))\n",
        "\n",
        "# Print the average of the maximum value in each column of X_norm\n",
        "print (np.average(X_norm.max(axis = 0)))"
      ],
      "metadata": {
        "colab": {
          "base_uri": "https://localhost:8080/"
        },
        "id": "tP4PrJ3pq3hv",
        "outputId": "9ad6cde2-a5fb-46c3-ef44-0c56d3866b83"
      },
      "execution_count": 18,
      "outputs": [
        {
          "output_type": "stream",
          "name": "stdout",
          "text": [
            "-2.5295321393059565e-17\n",
            "-1.7313983422969224\n",
            "1.73335202210496\n"
          ]
        }
      ]
    },
    {
      "cell_type": "markdown",
      "source": [
        "Be mindful that the exact values might not match since the dataset was initialized using the random function.\n",
        "\n",
        "# Data Spliting\n",
        "\n",
        "After data processing, it is a regular practice in ML to split the dataset into three datasets.\n",
        "\n",
        "1. A Training Set\n",
        "2. A Cross Validation Set\n",
        "3. A Test Set\n",
        "\n",
        "The ratios in which the data is split varies a bit from case to case. But the accepted standard 6:2:2 for train, test, and validation respectively. That is 60% for training data and so on. Again why is the data split or what is the signification of these smaller data sets? These questions are better left unanswered for now.\n",
        "The tanks assigned to you is to split the data in the given proportions randomly.\n",
        "For instance, if the data set had ten elements, this is how you would do it."
      ],
      "metadata": {
        "id": "1jdxp9CLq9-h"
      }
    },
    {
      "cell_type": "code",
      "source": [
        "# We create a random permutation of integers 0 to 9, i.e. rearrange the nums in array in random order\n",
        "np.random.permutation(10)"
      ],
      "metadata": {
        "colab": {
          "base_uri": "https://localhost:8080/"
        },
        "id": "_2f3gGqbq_wA",
        "outputId": "5a69f5a0-895e-4c15-c3b4-3e498ff68e97"
      },
      "execution_count": 19,
      "outputs": [
        {
          "output_type": "execute_result",
          "data": {
            "text/plain": [
              "array([6, 2, 5, 7, 0, 3, 1, 4, 9, 8])"
            ]
          },
          "metadata": {},
          "execution_count": 19
        }
      ]
    },
    {
      "cell_type": "markdown",
      "source": [
        "1. training set = 8,3,7,5,2,6\n",
        "2. Cross Validation Set = 1,9\n",
        "3. Test Set = 0,4"
      ],
      "metadata": {
        "id": "-8eq6TtOnnAw"
      }
    },
    {
      "cell_type": "markdown",
      "source": [
        "Notice, the propostion of the split has stayed the same, and the data points are randomply seleccted and data points do not repeat in different sets."
      ],
      "metadata": {
        "id": "HOy7HmtDnoXy"
      }
    },
    {
      "cell_type": "markdown",
      "source": [
        "**Question 2.1** Similarly, create a 1D array representing the indexes of the rows in the dataset X_norm. U can use the   `np.random.permutation()` function for randomising the indexes."
      ],
      "metadata": {
        "id": "ncZvaYEvnrTF"
      }
    },
    {
      "cell_type": "code",
      "source": [
        "import numpy as np\n",
        "# Create a rank 1 ndarray that contains a random permutation of the row indices of `X_norm`\n",
        "row_indices = np.random.permutation(np.arange(0,25000))"
      ],
      "metadata": {
        "id": "wl120wkVns6C"
      },
      "execution_count": 2,
      "outputs": []
    },
    {
      "cell_type": "code",
      "source": [
        "# Print the shape of row_indices\n",
        "row_indices.shape"
      ],
      "metadata": {
        "colab": {
          "base_uri": "https://localhost:8080/"
        },
        "id": "AJfNbqXBnxX4",
        "outputId": "31cfd419-907f-49c5-e86d-ad960b07ec8d"
      },
      "execution_count": 3,
      "outputs": [
        {
          "output_type": "execute_result",
          "data": {
            "text/plain": [
              "(25000,)"
            ]
          },
          "metadata": {},
          "execution_count": 3
        }
      ]
    },
    {
      "cell_type": "markdown",
      "source": [
        "**Question 2.2** Split the row indexes in the needed proportions. You can use the slicing methods you have learnt in this session to make the job easier.  "
      ],
      "metadata": {
        "id": "w1ZCvFaouKBZ"
      }
    },
    {
      "cell_type": "code",
      "source": [
        "25000*0.6"
      ],
      "metadata": {
        "colab": {
          "base_uri": "https://localhost:8080/"
        },
        "id": "xAwwwS-_B8Ka",
        "outputId": "dd57f6a7-72cb-460b-be23-5facb1f12552"
      },
      "execution_count": 4,
      "outputs": [
        {
          "output_type": "execute_result",
          "data": {
            "text/plain": [
              "15000.0"
            ]
          },
          "metadata": {},
          "execution_count": 4
        }
      ]
    },
    {
      "cell_type": "code",
      "source": [
        "25000*0.2"
      ],
      "metadata": {
        "colab": {
          "base_uri": "https://localhost:8080/"
        },
        "id": "ySHGhNfxB9SK",
        "outputId": "e1bed428-71f1-44de-ae92-03bd0137eeff"
      },
      "execution_count": 5,
      "outputs": [
        {
          "output_type": "execute_result",
          "data": {
            "text/plain": [
              "5000.0"
            ]
          },
          "metadata": {},
          "execution_count": 5
        }
      ]
    },
    {
      "cell_type": "code",
      "source": [
        "# Make any necessary calculations.\n",
        "# You can save your calculations into variables to use later.\n",
        "train = row_indices[:15000]\n",
        "test = row_indices[15000:20000]\n",
        "val  = row_indices[20000:]"
      ],
      "metadata": {
        "id": "CGEHeZbkB-2J"
      },
      "execution_count": 6,
      "outputs": []
    },
    {
      "cell_type": "markdown",
      "source": [
        "Explanation:\n",
        "\n",
        "Goal\n",
        "We want to split the row indices into three separate sets:\n",
        "\n",
        "*   Training set (60% of the data)\n",
        "*   Test set (20% of the data)\n",
        "*   Validation set (20% of the data)\n",
        "\n",
        "\n",
        "Steps\n",
        "\n",
        "1. Understanding the Proportions:\n",
        "\n",
        "We need to split 25,000 rows into:\n",
        "\n",
        "*   Training set: 60%\n",
        "*   Test set: 20%\n",
        "*   Validation set: 20%\n",
        "\n",
        "First, we calculate the number of rows for each set:\n",
        "\n",
        "Training set:\n",
        "25000×0.6=15000\n",
        "25000×0.6=15000\n",
        "\n",
        "Test set:\n",
        "25000×0.2=5000\n",
        "25000×0.2=5000\n",
        "\n",
        "Validation set:\n",
        "25000×0.2=5000\n",
        "25000×0.2=5000\n",
        "\n",
        "2. Create Random Permutation of Row Indices:\n",
        "\n",
        "We already have a row_indices array that contains a random permutation of the row indices.\n",
        "\n",
        "```\n",
        "row_indices = np.random.permutation(np.arange(0, 25000)\n",
        "```\n",
        "\n",
        "3. Slicing the Row Indices:\n",
        "\n",
        "We will slice the row_indices array into three parts according to the calculated sizes:\n",
        "\n",
        "*   First 15,000 indices for the training set.\n",
        "*   Next 5,000 indices for the test set.\n",
        "*   Remaining 5,000 indices for the validation set\n",
        "\n",
        "\n",
        "```\n",
        "train = row_indices[:15000]\n",
        "test = row_indices[15000:20000]\n",
        "val = row_indices[20000:]\n",
        "```"
      ],
      "metadata": {
        "id": "Sanzuix7A0B0"
      }
    },
    {
      "cell_type": "markdown",
      "source": [
        "**Question 2.4** Now make use of the indexes that you made to split the data also similarly once the data is split print the shape of each of the smaller data sets. `X_train` should have 15000 rows and 15 columns. `X_test` should have 5000 rows and 15 columns. `X_val` should have 5000 rows and 15 columns."
      ],
      "metadata": {
        "id": "uUEdj_sYCP9z"
      }
    },
    {
      "cell_type": "code",
      "source": [
        "# Create a Training Set\n",
        "X_train = X_norm[train] # we calculated X_norm earlier X_norm = (X - ave_cols)/std_cols\n",
        "\n",
        "# Create a Cross Validation Set\n",
        "X_Val = X_norm[test]\n",
        "\n",
        "# Create a Test Set\n",
        "X_test = X_norm[val]"
      ],
      "metadata": {
        "id": "XS4PPz3ACb3r"
      },
      "execution_count": 20,
      "outputs": []
    },
    {
      "cell_type": "code",
      "source": [
        "# Print the shape of X_train\n",
        "print(X_train.shape)\n",
        "\n",
        "# Print the shape of X_crossVal\n",
        "print(X_Val.shape)\n",
        "\n",
        "# Print the shape of X_test\n",
        "print(X_test.shape)"
      ],
      "metadata": {
        "colab": {
          "base_uri": "https://localhost:8080/"
        },
        "id": "pgFPxPbHuJth",
        "outputId": "3e17c57a-37b2-4d25-b431-3c24c6028821"
      },
      "execution_count": 21,
      "outputs": [
        {
          "output_type": "stream",
          "name": "stdout",
          "text": [
            "(15000, 15)\n",
            "(5000, 15)\n",
            "(5000, 15)\n"
          ]
        }
      ]
    },
    {
      "cell_type": "markdown",
      "source": [
        "Further practice exercise:\n",
        "\n",
        "[Tic Tac Toe Draw](https://www.practicepython.org/exercise/2015/11/26/27-tic-tac-toe-draw.html)"
      ],
      "metadata": {
        "id": "JZ2mJMmcK-PY"
      }
    },
    {
      "cell_type": "markdown",
      "source": [
        "Summary"
      ],
      "metadata": {
        "id": "3v5_6ZKuM_O2"
      }
    },
    {
      "cell_type": "markdown",
      "source": [
        "Arrays: Basic Data Structure in NumPy"
      ],
      "metadata": {
        "id": "8wOJTmnPNRGT"
      }
    },
    {
      "cell_type": "code",
      "source": [
        "import numpy as np\n",
        "\n",
        "# Creating a 1D array from a list\n",
        "arr = np.array([1, 2, 3, 4, 5])\n",
        "print(arr)  # Output: [1 2 3 4 5]"
      ],
      "metadata": {
        "colab": {
          "base_uri": "https://localhost:8080/"
        },
        "id": "1NxMeR3bM_-1",
        "outputId": "d6b3be9f-ab02-4d07-9aab-38332f15ad8b"
      },
      "execution_count": 22,
      "outputs": [
        {
          "output_type": "stream",
          "name": "stdout",
          "text": [
            "[1 2 3 4 5]\n"
          ]
        }
      ]
    },
    {
      "cell_type": "markdown",
      "source": [
        "Creating NumPy Arrays from a List or a Tuple"
      ],
      "metadata": {
        "id": "r42gmwbfNPcS"
      }
    },
    {
      "cell_type": "code",
      "source": [
        "# From a list\n",
        "list_array = np.array([1, 2, 3, 4, 5])\n",
        "\n",
        "# From a tuple\n",
        "tuple_array = np.array((1, 2, 3, 4, 5))\n",
        "print(list_array, tuple_array)"
      ],
      "metadata": {
        "colab": {
          "base_uri": "https://localhost:8080/"
        },
        "id": "deqycs-eNG3P",
        "outputId": "27cd454b-2302-4763-b2dc-7b0855cd5e13"
      },
      "execution_count": 23,
      "outputs": [
        {
          "output_type": "stream",
          "name": "stdout",
          "text": [
            "[1 2 3 4 5] [1 2 3 4 5]\n"
          ]
        }
      ]
    },
    {
      "cell_type": "markdown",
      "source": [
        "Creating Randomly Large Arrays Using arange"
      ],
      "metadata": {
        "id": "gyKj_zKbNNp-"
      }
    },
    {
      "cell_type": "code",
      "source": [
        "# Creating an array with values from 0 to 9999\n",
        "large_array = np.arange(10000)\n",
        "print(large_array)"
      ],
      "metadata": {
        "colab": {
          "base_uri": "https://localhost:8080/"
        },
        "id": "LPPwc9hyNM5L",
        "outputId": "ccb8d734-48d1-4d8a-99ef-e405627ebafb"
      },
      "execution_count": 24,
      "outputs": [
        {
          "output_type": "stream",
          "name": "stdout",
          "text": [
            "[   0    1    2 ... 9997 9998 9999]\n"
          ]
        }
      ]
    },
    {
      "cell_type": "markdown",
      "source": [
        "Analysing Shape and Dimension of an Array"
      ],
      "metadata": {
        "id": "58DSMC1JNXlo"
      }
    },
    {
      "cell_type": "code",
      "source": [
        "# Array shape\n",
        "print(large_array.shape)  # Output: (10000,)\n",
        "\n",
        "# Array dimension\n",
        "print(large_array.ndim)  # Output: 1"
      ],
      "metadata": {
        "id": "8Yppy53TNY1r"
      },
      "execution_count": null,
      "outputs": []
    },
    {
      "cell_type": "markdown",
      "source": [
        "Indexing, Slicing and Subsetting an Array"
      ],
      "metadata": {
        "id": "Vp8MGg_hNesQ"
      }
    },
    {
      "cell_type": "code",
      "source": [
        "# Indexing\n",
        "print(arr[0])  # Output: 1\n",
        "\n",
        "# Slicing\n",
        "print(arr[1:4])  # Output: [2 3 4]\n",
        "\n",
        "# Subsetting with conditions\n",
        "subset = arr[arr > 2]\n",
        "print(subset)  # Output: [3 4 5]"
      ],
      "metadata": {
        "colab": {
          "base_uri": "https://localhost:8080/"
        },
        "id": "WzJyoVvYNcx0",
        "outputId": "c49b55b9-74ea-49cb-aeb7-c86b32001d4c"
      },
      "execution_count": 25,
      "outputs": [
        {
          "output_type": "stream",
          "name": "stdout",
          "text": [
            "1\n",
            "[2 3 4]\n",
            "[3 4 5]\n"
          ]
        }
      ]
    },
    {
      "cell_type": "markdown",
      "source": [
        "Working on Multidimensional Arrays"
      ],
      "metadata": {
        "id": "d_l2nTNYNiQp"
      }
    },
    {
      "cell_type": "code",
      "source": [
        "# Creating a 2D array\n",
        "matrix = np.array([[1, 2, 3], [4, 5, 6]])\n",
        "\n",
        "# Accessing elements\n",
        "print(matrix[0, 1])  # Output: 2"
      ],
      "metadata": {
        "colab": {
          "base_uri": "https://localhost:8080/"
        },
        "id": "WQIbyt4FNj2T",
        "outputId": "9e9b85cb-21ae-4f0f-9890-50a0435c0a1b"
      },
      "execution_count": 26,
      "outputs": [
        {
          "output_type": "stream",
          "name": "stdout",
          "text": [
            "2\n"
          ]
        }
      ]
    },
    {
      "cell_type": "markdown",
      "source": [
        "Manipulating Arrays Using reshape, hstack, and vstack"
      ],
      "metadata": {
        "id": "BCbzdYQaNo4X"
      }
    },
    {
      "cell_type": "code",
      "source": [
        "# Reshaping an array\n",
        "reshaped = large_array.reshape((100, 100))\n",
        "print(reshaped.shape)  # Output: (100, 100)\n",
        "\n",
        "# Horizontal stack\n",
        "hstacked = np.hstack((arr, arr))\n",
        "print(hstacked)  # Output: [1 2 3 4 5 1 2 3 4 5]\n",
        "\n",
        "# Vertical stack\n",
        "vstacked = np.vstack((arr, arr))\n",
        "print(vstacked)\n",
        "# Output:\n",
        "# [[1 2 3 4 5]\n",
        "#  [1 2 3 4 5]]"
      ],
      "metadata": {
        "id": "7wHqObsqNisp"
      },
      "execution_count": null,
      "outputs": []
    }
  ]
}